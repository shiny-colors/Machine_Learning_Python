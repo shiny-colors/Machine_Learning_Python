{
 "cells": [
  {
   "cell_type": "code",
   "execution_count": 1,
   "metadata": {},
   "outputs": [],
   "source": [
    "#####Semisupervised Attribute Estimation#####\n",
    "import numpy as np\n",
    "import pandas as pd\n",
    "import matplotlib.pyplot  as plt\n",
    "import numpy.matlib\n",
    "import scipy.linalg\n",
    "import itertools\n",
    "from scipy import sparse\n",
    "from scipy.stats import norm\n",
    "from pandas.tools.plotting import scatter_matrix\n",
    "from numpy.random import *\n",
    "from scipy import optimize\n",
    "\n",
    "#np.random.seed(98537)"
   ]
  },
  {
   "cell_type": "code",
   "execution_count": 2,
   "metadata": {},
   "outputs": [],
   "source": [
    "##多項分布の乱数を生成する関数\n",
    "def rmnom(pr, n, k, pattern):\n",
    "    if pattern==1:\n",
    "        z_id = np.array(np.argmax(np.cumsum(pr, axis=1) >= np.random.uniform(0, 1, n)[:, np.newaxis], axis=1), dtype=\"int\")\n",
    "        Z = np.diag(np.repeat(1, k))[z_id, ]\n",
    "        return z_id, Z\n",
    "    z_id = np.argmax((np.cumsum(pr, axis=1) >= np.random.uniform(0, 1, n)[:, np.newaxis]), axis=1)\n",
    "    return z_id"
   ]
  },
  {
   "cell_type": "code",
   "execution_count": 3,
   "metadata": {},
   "outputs": [],
   "source": [
    "####データの生成####\n",
    "##データの設定\n",
    "k1 = 12\n",
    "k2 = 12\n",
    "hh = 10000\n",
    "place= 2000\n",
    "Lambda = np.random.gamma(15, 1/0.15, hh)\n",
    "pt = np.random.poisson(Lambda, hh)\n",
    "hhpt = np.sum(pt)\n",
    "k_vec1 = np.repeat(1, k1)\n",
    "k_vec2 = np.repeat(1, k2)"
   ]
  },
  {
   "cell_type": "code",
   "execution_count": 4,
   "metadata": {},
   "outputs": [],
   "source": [
    "##IDとインデックスの設定\n",
    "#IDの設定\n",
    "d_id = np.repeat(np.arange(hh), pt)\n",
    "pt_id = np.array(list(itertools.chain(*[np.array(range(pt[i]), dtype=\"int\") for i in range(hh)])), dtype=\"int\")\n",
    "\n",
    "#インデックスの設定\n",
    "d_list = [i for i in range(hh)]\n",
    "for i in range(hh):\n",
    "    d_list[i] = np.array(np.where(d_id==i)[0], dtype=\"int\")"
   ]
  },
  {
   "cell_type": "code",
   "execution_count": 5,
   "metadata": {},
   "outputs": [],
   "source": [
    "##場所の割当を生成\n",
    "#トピック割当を生成\n",
    "topic = 25\n",
    "phi_place = np.random.dirichlet(np.repeat(0.1, place), topic)\n",
    "theta_place = np.random.dirichlet(np.repeat(0.25, topic), hh)\n",
    "z = np.array(rmnom(theta_place[d_id, ], hhpt, topic, 0), dtype=\"int16\")\n",
    "\n",
    "#多項分布から場所を生成\n",
    "place_id = np.zeros(hhpt, dtype=\"int\")\n",
    "for i in range(hh):\n",
    "    place_id[d_list[i]] = rmnom(phi_place[z[d_list[i]], ], pt[i], place, 0)\n",
    "place_dt = sparse.coo_matrix((np.repeat(1, hhpt), (place_id, range(hhpt))), shape=(place, hhpt)).tocsr()\n",
    "place_n = np.array(np.sum(place_dt, axis=1)).reshape(-1)\n",
    "\n",
    "#場所のインデックス\n",
    "place_list = [i for i in range(place)]\n",
    "for i in range(place):\n",
    "    place_list[i] = np.array(np.where(place_id==i)[0], dtype=\"int\")"
   ]
  },
  {
   "cell_type": "code",
   "execution_count": 6,
   "metadata": {},
   "outputs": [
    {
     "name": "stdout",
     "output_type": "stream",
     "text": [
      "1\n",
      "2\n",
      "3\n",
      "4\n",
      "5\n",
      "6\n",
      "7\n",
      "8\n",
      "9\n",
      "10\n",
      "11\n",
      "12\n",
      "13\n",
      "14\n",
      "15\n",
      "16\n",
      "17\n",
      "18\n",
      "19\n",
      "20\n",
      "21\n",
      "22\n",
      "23\n",
      "24\n",
      "25\n",
      "26\n",
      "27\n",
      "28\n",
      "29\n",
      "30\n",
      "31\n",
      "32\n",
      "33\n",
      "34\n",
      "35\n",
      "36\n",
      "37\n",
      "38\n",
      "39\n",
      "40\n",
      "41\n",
      "42\n",
      "43\n",
      "44\n",
      "45\n",
      "46\n",
      "47\n",
      "48\n",
      "49\n",
      "50\n",
      "51\n",
      "52\n",
      "53\n",
      "54\n",
      "55\n",
      "56\n",
      "57\n"
     ]
    }
   ],
   "source": [
    "####応答変数を生成####\n",
    "rp = 0\n",
    "while True:\n",
    "    rp = rp + 1\n",
    "    print(rp)\n",
    "\n",
    "    ##パラメータの生成\n",
    "    #パラメータの事前分布\n",
    "    alpha01 = 0.25; beta01 = 0.8\n",
    "    alpha02 = 0.2; beta02 = 0.7\n",
    "    alpha03 = 0.15; beta03 = 0.75\n",
    "    s1 = 9.5\n",
    "    v1 = 10.0\n",
    "\n",
    "    #モデルパラメータの生成\n",
    "    gamma = np.random.beta(9.5, 10.0, place)\n",
    "    theta_u = np.random.gamma(alpha01, 1/beta01, hh*k1).reshape(hh, k1)\n",
    "    theta_v1 = np.random.gamma(alpha02, 1/beta02, place*k2).reshape(place, k2)\n",
    "    theta_v2 = np.random.gamma(alpha02, 1/beta02, place*k2).reshape(place, k2)\n",
    "    omega = np.random.gamma(alpha03, 1/beta03, k1*k2).reshape(k1, k2)\n",
    "    gammat = gamma.copy()\n",
    "    thetat_u = theta_u.copy(); thetat_v1 = theta_v1.copy(); thetat_v2 = theta_v2.copy(); omegat = omega.copy()\n",
    "\n",
    "    #ポアソン分布からデータを生成\n",
    "    gamma_vec = gamma[place_id]\n",
    "    ar = np.dot(theta_u, omega)[d_id, ]\n",
    "    Lambda1 = np.dot(gamma_vec[:, np.newaxis] * ar * theta_v1[place_id, ], k_vec2)\n",
    "    Lambda2 = np.dot((1-gamma_vec[:, np.newaxis]) * ar * theta_v2[place_id, ], k_vec2)\n",
    "    Lambda = Lambda1 + Lambda2\n",
    "    y = np.random.poisson(Lambda, hhpt)\n",
    "\n",
    "    #break条件\n",
    "    if (np.max(y) < 200) & (np.max(y) > 75) & (np.sum(y==0) > 25000) & (np.sum(y==0) < 200000):\n",
    "        break"
   ]
  },
  {
   "cell_type": "code",
   "execution_count": 190,
   "metadata": {},
   "outputs": [],
   "source": [
    "#観測された属性比率を生成\n",
    "Pr = np.array([0.3])\n",
    "flag = np.random.binomial(1, Pr, place)\n",
    "index_flag1 = np.array(np.where(flag==1)[0], dtype=\"int\")\n",
    "index_flag0 = np.array(np.where(flag==0)[0], dtype=\"int\")"
   ]
  },
  {
   "cell_type": "code",
   "execution_count": 191,
   "metadata": {},
   "outputs": [],
   "source": [
    "####マルコフ連鎖モンテカルロ法で半教師属性推定モデルを推定####\n",
    "##アルゴリズムの設定\n",
    "R = 2000\n",
    "keep = 2\n",
    "burnin = int(500/keep)\n",
    "iters = 0\n",
    "disp = 10"
   ]
  },
  {
   "cell_type": "code",
   "execution_count": 192,
   "metadata": {},
   "outputs": [],
   "source": [
    "#パラメータの事前分布\n",
    "alpha01 = 0.25; beta01 = 0.8\n",
    "alpha02 = 0.25; beta02 = 0.8\n",
    "alpha03 = 0.15; beta03 = 0.75\n",
    "s1 = 9.5\n",
    "v1 = 10.0"
   ]
  },
  {
   "cell_type": "code",
   "execution_count": 193,
   "metadata": {},
   "outputs": [],
   "source": [
    "##パラメータの真値\n",
    "#モデルパラメータの真値\n",
    "gamma = np.repeat(0.5, place)\n",
    "gamma[index_flag1] = gammat[index_flag1]\n",
    "theta_u = thetat_u.copy()\n",
    "theta_v1 = thetat_v1.copy()\n",
    "theta_v2 = thetat_v2.copy()\n",
    "omega = omegat.copy()\n",
    "\n",
    "#期待値の真値\n",
    "gamma_vec = gamma[place_id]\n",
    "ar = np.dot(theta_u, omega)[d_id, ]\n",
    "Lambda1 = np.dot(gamma_vec[:, np.newaxis] * ar * theta_v1[place_id, ], k_vec2)\n",
    "Lambda2 = np.dot((1-gamma_vec[:, np.newaxis]) * ar * theta_v2[place_id, ], k_vec2)\n",
    "Lambda = Lambda1 + Lambda2"
   ]
  },
  {
   "cell_type": "code",
   "execution_count": 205,
   "metadata": {},
   "outputs": [
    {
     "data": {
      "text/plain": [
       "-1404.7543825426683"
      ]
     },
     "execution_count": 205,
     "metadata": {},
     "output_type": "execute_result"
    }
   ],
   "source": [
    "\n",
    "\n",
    "####ギブスサンプリングでパラメータをサンプリング####\n",
    "\n",
    "##MH法で属性比率をサンプリング\n",
    "i = 10\n",
    "j = index_flag0[i]\n",
    "index = place_list[j]\n",
    "np.sum(scipy.stats.poisson.logpmf(y[index], Lambda[index]))"
   ]
  },
  {
   "cell_type": "code",
   "execution_count": 206,
   "metadata": {},
   "outputs": [
    {
     "data": {
      "text/plain": [
       "-1393.751319633987"
      ]
     },
     "execution_count": 206,
     "metadata": {},
     "output_type": "execute_result"
    }
   ],
   "source": [
    "Lambda_new1 = np.dot(gammat[j] * ar[index, ] * theta_v1[j, ], k_vec2)\n",
    "Lambda_new2 = np.dot((1-gammat[j]) * ar[index, ] * theta_v2[j, ], k_vec2)\n",
    "Lambda_new = Lambda_new1 + Lambda_new2\n",
    "np.sum(scipy.stats.poisson.logpmf(y[index], Lambda_new))"
   ]
  },
  {
   "cell_type": "code",
   "execution_count": 207,
   "metadata": {},
   "outputs": [
    {
     "name": "stdout",
     "output_type": "stream",
     "text": [
      "0.9420150960801877\n",
      "1.0032961104811535\n"
     ]
    }
   ],
   "source": [
    "i = 5\n",
    "print(Lambda_new[i])\n",
    "print(Lambda[index][i])"
   ]
  },
  {
   "cell_type": "code",
   "execution_count": 208,
   "metadata": {},
   "outputs": [
    {
     "data": {
      "text/plain": [
       "0.5508645116342759"
      ]
     },
     "execution_count": 208,
     "metadata": {},
     "output_type": "execute_result"
    }
   ],
   "source": [
    "gammat[j]"
   ]
  },
  {
   "cell_type": "code",
   "execution_count": 175,
   "metadata": {},
   "outputs": [
    {
     "data": {
      "text/plain": [
       "array([[0.32447142, 1.53932952, 0.28916842, ..., 0.08058726, 0.08568389,\n",
       "        0.35326907],\n",
       "       [7.60470531, 1.11440237, 0.70883764, ..., 1.88226858, 0.23800483,\n",
       "        2.44149563],\n",
       "       [0.47059416, 0.86534633, 0.22934645, ..., 0.16315301, 0.20120113,\n",
       "        0.85858266],\n",
       "       ...,\n",
       "       [1.34975245, 0.40099885, 1.32253339, ..., 1.67257465, 0.40682703,\n",
       "        2.62942084],\n",
       "       [1.11984582, 0.88675651, 0.24021765, ..., 1.05470734, 0.19879013,\n",
       "        0.46704477],\n",
       "       [0.29897382, 0.34251878, 0.14120143, ..., 0.24244109, 0.16000365,\n",
       "        0.10938484]])"
      ]
     },
     "execution_count": 175,
     "metadata": {},
     "output_type": "execute_result"
    }
   ],
   "source": []
  },
  {
   "cell_type": "code",
   "execution_count": 97,
   "metadata": {},
   "outputs": [
    {
     "data": {
      "text/plain": [
       "array([0.5       , 0.5       , 0.47475315, ..., 0.5       , 0.5       ,\n",
       "       0.44324396])"
      ]
     },
     "execution_count": 97,
     "metadata": {},
     "output_type": "execute_result"
    }
   ],
   "source": []
  },
  {
   "cell_type": "code",
   "execution_count": null,
   "metadata": {},
   "outputs": [],
   "source": []
  }
 ],
 "metadata": {
  "kernelspec": {
   "display_name": "Python 3",
   "language": "python",
   "name": "python3"
  },
  "language_info": {
   "codemirror_mode": {
    "name": "ipython",
    "version": 3
   },
   "file_extension": ".py",
   "mimetype": "text/x-python",
   "name": "python",
   "nbconvert_exporter": "python",
   "pygments_lexer": "ipython3",
   "version": "3.6.5"
  }
 },
 "nbformat": 4,
 "nbformat_minor": 2
}
