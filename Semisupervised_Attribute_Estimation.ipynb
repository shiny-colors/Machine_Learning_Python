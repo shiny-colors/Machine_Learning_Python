{
 "cells": [
  {
   "cell_type": "code",
   "execution_count": 96,
   "metadata": {},
   "outputs": [],
   "source": [
    "#####Semisupervised Attribute Estimation#####\n",
    "import numpy as np\n",
    "import pandas as pd\n",
    "import matplotlib.pyplot  as plt\n",
    "import numpy.matlib\n",
    "import scipy.linalg\n",
    "import itertools\n",
    "from scipy import sparse\n",
    "from scipy.stats import norm\n",
    "from pandas.tools.plotting import scatter_matrix\n",
    "from numpy.random import *\n",
    "from scipy import optimize\n",
    "\n",
    "#np.random.seed(98537)"
   ]
  },
  {
   "cell_type": "code",
   "execution_count": 97,
   "metadata": {},
   "outputs": [],
   "source": [
    "##多項分布の乱数を生成する関数\n",
    "def rmnom(pr, n, k, pattern):\n",
    "    if pattern==1:\n",
    "        z_id = np.array(np.argmax(np.cumsum(pr, axis=1) >= np.random.uniform(0, 1, n)[:, np.newaxis], axis=1), dtype=\"int\")\n",
    "        Z = np.diag(np.repeat(1, k))[z_id, ]\n",
    "        return z_id, Z\n",
    "    z_id = np.argmax((np.cumsum(pr, axis=1) >= np.random.uniform(0, 1, n)[:, np.newaxis]), axis=1)\n",
    "    return z_id"
   ]
  },
  {
   "cell_type": "code",
   "execution_count": 98,
   "metadata": {},
   "outputs": [],
   "source": [
    "####データの生成####\n",
    "##データの設定\n",
    "k1 = 12\n",
    "k2 = 12\n",
    "hh = 10000\n",
    "place= 2000\n",
    "Lambda = np.random.gamma(15, 1/0.15, hh)\n",
    "pt = np.random.poisson(Lambda, hh)\n",
    "hhpt = np.sum(pt)\n",
    "k_vec1 = np.repeat(1, k1)\n",
    "k_vec2 = np.repeat(1, k2)"
   ]
  },
  {
   "cell_type": "code",
   "execution_count": 99,
   "metadata": {},
   "outputs": [],
   "source": [
    "##IDとインデックスの設定\n",
    "#IDの設定\n",
    "d_id = np.repeat(np.arange(hh), pt)\n",
    "pt_id = np.array(list(itertools.chain(*[np.array(range(pt[i]), dtype=\"int\") for i in range(hh)])), dtype=\"int\")\n",
    "\n",
    "#インデックスの設定\n",
    "d_list = [i for i in range(hh)]\n",
    "for i in range(hh):\n",
    "    d_list[i] = np.array(np.where(d_id==i)[0], dtype=\"int\")"
   ]
  },
  {
   "cell_type": "code",
   "execution_count": 100,
   "metadata": {},
   "outputs": [],
   "source": [
    "##場所の割当を生成\n",
    "#トピック割当を生成\n",
    "topic = 25\n",
    "phi_place = np.random.dirichlet(np.repeat(0.1, place), topic)\n",
    "theta_place = np.random.dirichlet(np.repeat(0.25, topic), hh)\n",
    "z = np.array(rmnom(theta_place[d_id, ], hhpt, topic, 0), dtype=\"int16\")\n",
    "\n",
    "#多項分布から場所を生成\n",
    "place_id = np.zeros(hhpt, dtype=\"int\")\n",
    "for i in range(hh):\n",
    "    place_id[d_list[i]] = rmnom(phi_place[z[d_list[i]], ], pt[i], place, 0)\n",
    "place_dt = sparse.coo_matrix((np.repeat(1, hhpt), (place_id, range(hhpt))), shape=(place, hhpt)).tocsr()\n",
    "place_n = np.array(np.sum(place_dt, axis=1)).reshape(-1)\n",
    "\n",
    "#場所のインデックス\n",
    "place_list = [i for i in range(place)]\n",
    "for i in range(place):\n",
    "    place_list[i] = np.array(np.where(place_id==i)[0], dtype=\"int\")"
   ]
  },
  {
   "cell_type": "code",
   "execution_count": 157,
   "metadata": {},
   "outputs": [
    {
     "name": "stdout",
     "output_type": "stream",
     "text": [
      "1\n",
      "2\n",
      "3\n",
      "4\n",
      "5\n",
      "6\n",
      "7\n",
      "8\n",
      "9\n",
      "10\n",
      "11\n",
      "12\n",
      "13\n",
      "14\n",
      "15\n",
      "16\n",
      "17\n",
      "18\n",
      "19\n",
      "20\n",
      "21\n",
      "22\n",
      "23\n",
      "24\n"
     ]
    }
   ],
   "source": [
    "####応答変数を生成####\n",
    "rp = 0\n",
    "while True:\n",
    "    rp = rp + 1\n",
    "    print(rp)\n",
    "\n",
    "    ##パラメータの生成\n",
    "    #パラメータの事前分布\n",
    "    alpha01 = 0.25; beta01 = 0.8\n",
    "    alpha02 = 0.2; beta02 = 0.7\n",
    "    alpha03 = 0.15; beta03 = 0.75\n",
    "    s1 = 9.5\n",
    "    v1 = 10.0\n",
    "\n",
    "    #モデルパラメータの生成\n",
    "    gamma = np.random.beta(9.5, 10.0, place)\n",
    "    theta_u = np.random.gamma(alpha01, 1/beta01, hh*k1).reshape(hh, k1)\n",
    "    theta_v1 = np.random.gamma(alpha02, 1/beta02, place*k2).reshape(place, k2)\n",
    "    theta_v2 = np.random.gamma(alpha02, 1/beta02, place*k2).reshape(place, k2)\n",
    "    omega = np.random.gamma(alpha03, 1/beta03, k1*k2).reshape(k1, k2)\n",
    "    gammat = gamma.copy()\n",
    "    thetat_u = theta_u.copy(); thetat_v1 = theta_v1.copy(); thetat_v2 = theta_v2.copy(); omegat = omega.copy()\n",
    "\n",
    "    #ポアソン分布からデータを生成\n",
    "    gamma_vec = gamma[place_id]\n",
    "    ar = np.dot(theta_u, omega)[d_id, ]\n",
    "    mu1 = gamma_vec * np.dot(ar * theta_v1[place_id, ], k_vec2)\n",
    "    mu2 = (1-gamma_vec) * np.dot(ar * theta_v2[place_id, ], k_vec2)\n",
    "    mu = mu1 + mu2\n",
    "    y = np.random.poisson(mu, hhpt)\n",
    "\n",
    "    #break条件\n",
    "    if (np.max(y) < 200) & (np.max(y) > 75) & (np.sum(y==0) > 25000) & (np.sum(y==0) < 200000):\n",
    "        break"
   ]
  },
  {
   "cell_type": "code",
   "execution_count": 158,
   "metadata": {},
   "outputs": [],
   "source": [
    "#観測された属性比率を生成\n",
    "Pr = np.array([0.3])\n",
    "flag = np.random.binomial(1, Pr, place)\n",
    "index_flag1 = np.array(np.where(flag==1)[0], dtype=\"int\")\n",
    "index_flag0 = np.array(np.where(flag==0)[0], dtype=\"int\")\n",
    "m1 = index_flag1.shape[0]\n",
    "m0 = index_flag0.shape[0]"
   ]
  },
  {
   "cell_type": "code",
   "execution_count": 159,
   "metadata": {},
   "outputs": [],
   "source": [
    "####マルコフ連鎖モンテカルロ法で半教師属性推定モデルを推定####\n",
    "#ロジスティック関数\n",
    "def logit(theta):\n",
    "    mu = np.exp(theta)\n",
    "    Prob = mu / (1 + mu)\n",
    "    return Prob"
   ]
  },
  {
   "cell_type": "code",
   "execution_count": 160,
   "metadata": {},
   "outputs": [],
   "source": [
    "##アルゴリズムの設定\n",
    "R = 2000\n",
    "keep = 2\n",
    "burnin = int(500/keep)\n",
    "iters = 0\n",
    "disp = 10"
   ]
  },
  {
   "cell_type": "code",
   "execution_count": 161,
   "metadata": {},
   "outputs": [],
   "source": [
    "#パラメータの事前分布\n",
    "epsilon = 0.025\n",
    "alpha01 = 0.25; beta01 = 0.8\n",
    "alpha02 = 0.25; beta02 = 0.8\n",
    "alpha03 = 0.15; beta03 = 0.75\n",
    "s1 = 25.0\n",
    "v1 = 25.0"
   ]
  },
  {
   "cell_type": "code",
   "execution_count": 162,
   "metadata": {},
   "outputs": [],
   "source": [
    "##パラメータの真値\n",
    "#モデルパラメータの真値\n",
    "gamma = np.repeat(0.5, place)\n",
    "gamma[index_flag1] = gammat[index_flag1]\n",
    "gamma = gammat.copy()\n",
    "theta_u = thetat_u.copy()\n",
    "theta_v1 = thetat_v1.copy()\n",
    "theta_v2 = thetat_v2.copy()\n",
    "omega = omegat.copy()\n",
    "\n",
    "#期待値の真値\n",
    "gamma_vec = gamma[place_id]\n",
    "ar = np.dot(theta_u, omega)[d_id, ]\n",
    "mu1 = np.dot(gamma_vec[:, np.newaxis] * ar * theta_v1[place_id, ], k_vec2)\n",
    "mu2 = np.dot((1-gamma_vec[:, np.newaxis]) * ar * theta_v2[place_id, ], k_vec2)\n",
    "mu = mu1 + mu2"
   ]
  },
  {
   "cell_type": "code",
   "execution_count": 153,
   "metadata": {},
   "outputs": [],
   "source": [
    "####ギブスサンプリングでパラメータをサンプリング####\n",
    "\n",
    "##MH法で属性比率をサンプリング\n",
    "#新しいパラメータをサンプリング\n",
    "gammad = gamma.copy(); gamman = gamma.copy()\n",
    "gamman[index_flag0] = logit(np.log(gammad[index_flag0]/(1-gammad[index_flag0])) + np.random.normal(0, epsilon, m0))\n",
    "\n",
    "#新しい期待値を計算\n",
    "mu_old = mu.copy()\n",
    "mu_new1 = gamman[place_id] * np.dot(ar * theta_v1[place_id, ], k_vec2)\n",
    "mu_new2 = (1-gamman[place_id]) * np.dot(ar * theta_v2[place_id, ], k_vec2)\n",
    "mu_new = mu_new1 + mu_new2\n",
    "\n",
    "#対数尤度と対数事前分布の計算\n",
    "lognew = scipy.stats.poisson.logpmf(y, mu_new)\n",
    "logold = scipy.stats.poisson.logpmf(y, mu_old)\n",
    "logpnew = scipy.stats.beta.logpdf(gamman, s1, v1)\n",
    "logpold = scipy.stats.beta.logpdf(gammad, s1, v1)\n",
    "\n",
    "#パラメータの採択率を定義\n",
    "alpha = np.repeat(0.0, m0)\n",
    "for i in range(m0):\n",
    "    j = index_flag0[i]\n",
    "    index = place_list[j]\n",
    "    alpha[i] = np.exp(np.sum(lognew[index]) + logpnew[j] - np.sum(logold[index]) - logpold[j])   \n",
    "alpha[alpha > 1.0] = 1.0\n",
    "\n",
    "#採択率に基づき新しいパラメータを採択\n",
    "rand = np.random.uniform(0, 1, m0)\n",
    "accept = np.array(alpha > rand, dtype=\"int\")\n",
    "gamma[index_flag0] = accept*gamman[index_flag0] + (1-accept)*gammad[index_flag0]\n",
    "accept_prob = np.mean(accept)"
   ]
  },
  {
   "cell_type": "code",
   "execution_count": 154,
   "metadata": {},
   "outputs": [],
   "source": [
    "##ユーザー特徴行列をサンプリング\n",
    "#期待値を更新\n",
    "#期待値の真値\n",
    "gamma_vec = gamma[place_id]\n",
    "ar = np.dot(theta_u, omega)[d_id, ]\n",
    "mu1 = np.dot(gamma_vec[:, np.newaxis] * ar * theta_v1[place_id, ], k_vec2)\n",
    "mu2 = np.dot((1-gamma_vec[:, np.newaxis]) * ar * theta_v2[place_id, ], k_vec2)\n",
    "Lambda = Lambda1 + Lambda2\n",
    "\n",
    "#補助変数lambdaを更新\n"
   ]
  },
  {
   "cell_type": "code",
   "execution_count": null,
   "metadata": {},
   "outputs": [],
   "source": []
  },
  {
   "cell_type": "code",
   "execution_count": null,
   "metadata": {},
   "outputs": [],
   "source": [
    "##ガンマ分布よりユーザーパラメータをサンプリング\n",
    "#補助変数lambdaを更新\n",
    "uv_deploy = np.hstack((beta_u[:, np.newaxis], theta_u * theta_v))\n",
    "Lambda = uv_deploy / mu1[:, np.newaxis]\n",
    "\n",
    "#事後分布のパラメータ\n",
    "lambda_y = Lambda * y_new[:, np.newaxis]\n",
    "lambda_h = np.hstack((np.repeat(1, f)[:, np.newaxis], theta_v))\n",
    "W1 = np.zeros((d, k+1)); W2 = np.zeros((d, k+1))\n",
    "for i in range(d):\n",
    "    W1[i, ] = np.sum(lambda_y[d_list[i], ], axis=0)\n",
    "    W2[i, ] = np.sum(lambda_h[d_list[i], ], axis=0)\n",
    "W1 = W1 + alpha11; W2 = W2 + alpha12\n",
    "\n",
    "#パラメータをサンプリング\n",
    "result = np.random.gamma(W1.reshape(-1), 1/W2.reshape(-1), d*(k+1)).reshape(d, k+1)\n",
    "beta1 = result[:, 0]\n",
    "W = result[:, 1:]\n"
   ]
  },
  {
   "cell_type": "code",
   "execution_count": null,
   "metadata": {},
   "outputs": [],
   "source": []
  },
  {
   "cell_type": "code",
   "execution_count": null,
   "metadata": {},
   "outputs": [],
   "source": []
  },
  {
   "cell_type": "code",
   "execution_count": null,
   "metadata": {},
   "outputs": [],
   "source": []
  }
 ],
 "metadata": {
  "kernelspec": {
   "display_name": "Python 3",
   "language": "python",
   "name": "python3"
  },
  "language_info": {
   "codemirror_mode": {
    "name": "ipython",
    "version": 3
   },
   "file_extension": ".py",
   "mimetype": "text/x-python",
   "name": "python",
   "nbconvert_exporter": "python",
   "pygments_lexer": "ipython3",
   "version": "3.6.5"
  }
 },
 "nbformat": 4,
 "nbformat_minor": 2
}
