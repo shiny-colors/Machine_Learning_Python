{
 "cells": [
  {
   "cell_type": "code",
   "execution_count": 1,
   "metadata": {},
   "outputs": [],
   "source": [
    "#####可変基底非負値テンソル分解#####\n",
    "import numpy as np\n",
    "import pandas as pd\n",
    "import matplotlib.pyplot  as plt\n",
    "import numpy.matlib\n",
    "import scipy.linalg\n",
    "import itertools\n",
    "import seaborn as sns\n",
    "import gc\n",
    "from scipy import sparse\n",
    "from scipy.stats import norm\n",
    "from pandas.tools.plotting import scatter_matrix\n",
    "from numpy.random import *\n",
    "from scipy import optimize\n",
    "\n",
    "#np.random.seed(98537)"
   ]
  },
  {
   "cell_type": "code",
   "execution_count": 76,
   "metadata": {},
   "outputs": [],
   "source": [
    "####データの生成####\n",
    "##データと日付idの設定\n",
    "#データの設定\n",
    "k = 10\n",
    "m = 3\n",
    "hh = 3000\n",
    "location = 1500\n",
    "week = 7\n",
    "month = 31\n",
    "year = 12\n",
    "max_week = 5\n",
    "month_days = np.array([31, 28, 31, 30, 31, 30, 31, 31, 30, 31, 30, 31])\n",
    "year_days = np.sum(month_days)\n",
    "\n",
    "#日付IDを設定\n",
    "day_id = np.tile(np.arange(week), int((year_days*m)/week))[:m*year_days]\n",
    "week_id = np.tile(np.array(list(itertools.chain(*[np.repeat(np.arange(max_week), week)[:month_days[j]] for j in range(year)]))), m)\n",
    "month_id = np.tile(np.repeat(np.arange(year), month_days), m)\n",
    "date_n = np.array([week, max_week, year])"
   ]
  },
  {
   "cell_type": "code",
   "execution_count": 83,
   "metadata": {},
   "outputs": [],
   "source": [
    "##パラメータの生成\n",
    "#事前分布の設定\n",
    "gamma = np.array([3.0, 1.0, 0.25, 0.5])\n",
    "alpha = np.array([0.3])\n",
    "beta = np.array([0.75])\n",
    "\n",
    "#モデルパラメータの生成\n",
    "omega = np.random.dirichlet(gamma, hh)\n",
    "theta_u = np.random.gamma(alpha, 1/beta, hh*k).reshape(hh, k)\n",
    "theta_v = np.random.gamma(alpha, 1/beta, location*k).reshape(location, k)\n",
    "theta_d = [j for j in range(m+1)]\n",
    "for j in range(m):\n",
    "    theta_d[j] = np.random.gamma(alpha, 1/beta, date_n[j]*k).reshape(date_n[j], k)\n",
    "theta_d[m] = np.repeat(1.0, k)"
   ]
  },
  {
   "cell_type": "code",
   "execution_count": 82,
   "metadata": {},
   "outputs": [],
   "source": []
  },
  {
   "cell_type": "code",
   "execution_count": 81,
   "metadata": {},
   "outputs": [
    {
     "data": {
      "text/plain": [
       "3"
      ]
     },
     "execution_count": 81,
     "metadata": {},
     "output_type": "execute_result"
    }
   ],
   "source": [
    "theta_d[m]"
   ]
  },
  {
   "cell_type": "code",
   "execution_count": null,
   "metadata": {},
   "outputs": [],
   "source": []
  }
 ],
 "metadata": {
  "kernelspec": {
   "display_name": "Python 3",
   "language": "python",
   "name": "python3"
  },
  "language_info": {
   "codemirror_mode": {
    "name": "ipython",
    "version": 3
   },
   "file_extension": ".py",
   "mimetype": "text/x-python",
   "name": "python",
   "nbconvert_exporter": "python",
   "pygments_lexer": "ipython3",
   "version": "3.6.5"
  }
 },
 "nbformat": 4,
 "nbformat_minor": 2
}
