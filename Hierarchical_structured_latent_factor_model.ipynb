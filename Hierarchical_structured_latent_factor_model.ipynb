{
 "cells": [
  {
   "cell_type": "code",
   "execution_count": 1,
   "metadata": {},
   "outputs": [],
   "source": [
    "#####Hierarchical structured latent factor model#####\n",
    "import numpy as np\n",
    "import pandas as pd\n",
    "import matplotlib.pyplot  as plt\n",
    "import numpy.matlib\n",
    "import scipy.linalg\n",
    "import itertools\n",
    "import seaborn as sns\n",
    "import gc\n",
    "from scipy import sparse\n",
    "from scipy.stats import norm\n",
    "from pandas.tools.plotting import scatter_matrix\n",
    "from numpy.random import *\n",
    "from scipy import optimize\n",
    "\n",
    "#np.random.seed(98537)"
   ]
  },
  {
   "cell_type": "code",
   "execution_count": 2,
   "metadata": {},
   "outputs": [],
   "source": [
    "##多項分布の乱数を生成する関数\n",
    "def rmnom(pr, n, k, no, pattern):\n",
    "    z_id = np.argmax((np.cumsum(pr, axis=1) >= np.random.uniform(0, 1, n)[:, np.newaxis]), axis=1)\n",
    "    return z_id\n",
    "    if pattern==1:\n",
    "        Z = sparse.coo_matrix((np.repeat(1, n), (no, np.array(z_id))), shape=(n, k))   #スパース行列の設定\n",
    "        return z_id, Z"
   ]
  },
  {
   "cell_type": "code",
   "execution_count": 3,
   "metadata": {},
   "outputs": [],
   "source": [
    "####データの発生####\n",
    "##データの設定\n",
    "#要素ごとのユニーク数を設定\n",
    "k = 10\n",
    "hh = 3000\n",
    "item = 20000\n",
    "tag = 300\n",
    "category = 150\n",
    "max_m = 20\n",
    "k_vec = np.repeat(1, k)\n",
    "m_vec = np.repeat(1, max_m)\n",
    "\n",
    "#要素ごとの頻度を生成\n",
    "pt = np.random.poisson(np.random.gamma(25.0, 1/0.2, hh))\n",
    "N = np.sum(pt)\n",
    "m = np.random.poisson(5.5, N)\n",
    "m[m==0] = 1; m[m >= max_m] = max_m\n",
    "max_m = np.max(m)\n",
    "M = np.sum(m)"
   ]
  },
  {
   "cell_type": "code",
   "execution_count": 4,
   "metadata": {},
   "outputs": [],
   "source": [
    "##idとインデックスの設定\n",
    "#idの設定\n",
    "d_id = np.repeat(np.arange(hh), pt)\n",
    "pt_id = np.array(list(itertools.chain(*[np.array(range(pt[i]), dtype=\"int\") for i in range(hh)])))\n",
    "m_id = np.repeat(np.arange(N), m)\n",
    "\n",
    "#インデックスの設定\n",
    "freq_m = np.repeat(0, hh)\n",
    "d_index = [i for i in range(hh)]\n",
    "m_index = [i for i in range(N)]\n",
    "for i in range(hh):\n",
    "    d_index[i] = np.array(np.where(d_id==i)[0], dtype=\"int\")\n",
    "    freq_m[i] = np.sum(m[d_index[i]])\n",
    "for i in range(N):\n",
    "    if i==0:\n",
    "        m_index[i] = np.arange(m[0])\n",
    "    else:\n",
    "        m_index[i] = np.max(m_index[i-1]) + np.arange(m[i]) + 1\n",
    "freq_id = np.repeat(np.arange(hh), freq_m)"
   ]
  },
  {
   "cell_type": "code",
   "execution_count": 5,
   "metadata": {
    "scrolled": true
   },
   "outputs": [
    {
     "name": "stdout",
     "output_type": "stream",
     "text": [
      "0\n",
      "100000\n",
      "200000\n",
      "300000\n"
     ]
    }
   ],
   "source": [
    "##アイテムの生成\n",
    "#多項分布からトピックを生成\n",
    "topic = 30\n",
    "theta_topic = np.random.dirichlet(np.repeat(0.2, topic), hh)\n",
    "phi_topic = np.random.dirichlet(np.repeat(0.5, item), topic)\n",
    "z = np.array(rmnom(theta_topic[np.repeat(d_id, m), ], M, topic, np.arange(M), 0), dtype=\"int\")\n",
    "\n",
    "#トピックからアイテムを生成\n",
    "item_id = np.repeat(0, M)\n",
    "item_dt = np.full((N, np.max(m)), item, dtype=\"int16\")\n",
    "for i in range(N):\n",
    "    if i%100000==0:\n",
    "        print(i)\n",
    "    index = m_index[i]\n",
    "    target_z = z[index]\n",
    "    while True:\n",
    "        temp_id = np.array(rmnom(phi_topic[target_z, ], m[i], item, np.arange(m[i]), 0), dtype=\"int16\")\n",
    "        if np.unique(temp_id).shape[0]==m[i]:\n",
    "            item_id[index] = temp_id\n",
    "            item_dt[i, np.arange(m[i])] = temp_id\n",
    "            break"
   ]
  },
  {
   "cell_type": "code",
   "execution_count": 6,
   "metadata": {},
   "outputs": [],
   "source": [
    "##アイテムにカテゴリを割り当て\n",
    "#多項分布からトピックを生成\n",
    "topic = 20\n",
    "phi_tag = np.random.dirichlet(np.repeat(0.5, tag), topic)\n",
    "phi_category = np.random.dirichlet(np.repeat(0.5, category), topic)\n",
    "z = np.dot(np.random.multinomial(1, np.random.dirichlet(np.repeat(1.0, topic)), item), np.arange(topic))\n",
    "\n",
    "#トピックからカテゴリを割り当て\n",
    "tag_id = np.array(rmnom(phi_tag[z, ], item, tag, np.arange(item), 0), dtype=\"int16\")\n",
    "category_id = np.array(rmnom(phi_category[z, ], item, category, np.arange(item), 0), dtype=\"int16\")"
   ]
  },
  {
   "cell_type": "code",
   "execution_count": 7,
   "metadata": {},
   "outputs": [],
   "source": [
    "##インデックスを設定\n",
    "#変数割当のインデックス\n",
    "allocation_index = [j for j in range(max_m)]\n",
    "for j in range(max_m):\n",
    "    allocation_index[j] = np.array(np.where(item_dt[:, j]!=item)[0], dtype=\"int\")\n",
    "\n",
    "#アイテムのインデックス\n",
    "item_index = [i for i in range(item)]\n",
    "item_n = np.repeat(0, item)\n",
    "for i in range(item):\n",
    "    item_index[j] = np.array(np.where(np.sum(item_dt==i, axis=1)==1)[0], dtype=\"int\")\n",
    "    item_n[j] = item_index[j].shape[0]\n",
    "    \n",
    "#タグとカテゴリーのインデックス\n",
    "tag_index = [j for j in range(tag)]\n",
    "category_index = [j for j in range(category)]\n",
    "tag_n = np.repeat(0, tag)\n",
    "category_n = np.repeat(0, category)\n",
    "for j in range(tag):\n",
    "    tag_index[j] = np.array(np.where(tag_id==j)[0], dtype=\"int\")\n",
    "    tag_n[j] = tag_index[j].shape[0]\n",
    "for j in range(category):\n",
    "    category_index[j] = np.array(np.where(category_id==j)[0], dtype=\"int\")\n",
    "    category_n[j] = category_index[j].shape[0]"
   ]
  },
  {
   "cell_type": "code",
   "execution_count": 8,
   "metadata": {},
   "outputs": [
    {
     "name": "stdout",
     "output_type": "stream",
     "text": [
      "[1, 0.356]\n"
     ]
    }
   ],
   "source": [
    "##応答変数を生成\n",
    "rp = 0\n",
    "while True:\n",
    "    rp = rp + 1\n",
    "    \n",
    "    #タグとカテゴリーの階層モデルのパラメータを生成\n",
    "    alpha_g = np.repeat(0, k)\n",
    "    alpha_c = np.repeat(0, k)\n",
    "    tau_g = np.diag(np.repeat(0.2, k))\n",
    "    tau_c = np.diag(np.repeat(0.2, k))\n",
    "    alphat_g = alpha_g.copy(); alphat_c = alpha_c.copy()\n",
    "    taut_g = tau_g.copy(); taut_c = tau_c.copy()\n",
    "\n",
    "    #ユーザーとアイテムの階層モデルのパラメータを生成\n",
    "    alpha_u = np.repeat(0, k)\n",
    "    alpha_v = np.random.normal(0, 0.5, k*k).reshape(k, k)\n",
    "    theta_g = np.random.multivariate_normal(alpha_g, tau_g, tag)\n",
    "    theta_c = np.random.multivariate_normal(alpha_c, tau_c, category)\n",
    "    theta_gc = np.dot(theta_g[tag_id, ] * theta_c[category_id], alpha_v)\n",
    "    tau_u = np.array([0.4])\n",
    "    Cov_u = np.diag(np.repeat(0.5, k))\n",
    "    Cov_v = np.diag(np.repeat(0.2, k))\n",
    "    alphat_u = alpha_u.copy(); alphat_v = alpha_v.copy(); thetat_g = theta_g.copy(); thetat_c = theta_c.copy()\n",
    "    taut_u = tau_u.copy(); Covt_u = Cov_u.copy(); Covt_v = Cov_v\n",
    "\n",
    "    #モデルパラメータを生成\n",
    "    Sigma = np.array([1.0])\n",
    "    beta = np.array([-1.0])\n",
    "    beta_u = np.random.normal(0, tau_u, hh)\n",
    "    theta_u = np.random.multivariate_normal(alpha_u, Cov_u, hh)\n",
    "    theta_v = np.zeros((item, k))\n",
    "    for i in range(item):\n",
    "        theta_v[i, ] = np.random.multivariate_normal(theta_gc[i, ], Cov_v, 1)\n",
    "\n",
    "    #モデルの期待値\n",
    "    theta_item = np.zeros((N, k))\n",
    "    for j in range(max_m):\n",
    "        index = allocation_index[j]\n",
    "        theta_item[index, ] += theta_v[item_dt[index, j], ]\n",
    "    theta_mu = np.sum(theta_u[d_id, ] * theta_item, axis=1)\n",
    "    mu = beta + beta_u[d_id] + theta_mu\n",
    "\n",
    "    #潜在効用から二値変数を生成\n",
    "    U = np.random.normal(mu, Sigma, N)\n",
    "    y = np.array(U > 0, dtype=\"int\")\n",
    "\n",
    "    #break条件\n",
    "    print([rp, np.round(np.mean(y), 3)])\n",
    "    if (np.mean(y) >0.2) & (np.mean(y) < 0.4):\n",
    "        break"
   ]
  },
  {
   "cell_type": "code",
   "execution_count": 117,
   "metadata": {},
   "outputs": [
    {
     "data": {
      "text/plain": [
       "(array([1.00000e+00, 2.60000e+01, 1.62000e+02, 2.91900e+03, 8.01000e+04,\n",
       "        2.75487e+05, 1.59580e+04, 7.68000e+02, 5.40000e+01, 6.00000e+00]),\n",
       " array([-23.99099781, -19.4342625 , -14.87752718, -10.32079186,\n",
       "         -5.76405654,  -1.20732122,   3.3494141 ,   7.90614942,\n",
       "         12.46288473,  17.01962005,  21.57635537]),\n",
       " <a list of 10 Patch objects>)"
      ]
     },
     "execution_count": 117,
     "metadata": {},
     "output_type": "execute_result"
    },
    {
     "data": {
      "image/png": "[encoded data removed]",
      "text/plain": [
       "<Figure size 432x288 with 1 Axes>"
      ]
     },
     "metadata": {},
     "output_type": "display_data"
    }
   ],
   "source": []
  },
  {
   "cell_type": "code",
   "execution_count": 113,
   "metadata": {},
   "outputs": [
    {
     "data": {
      "text/plain": [
       "array([ 1.43392036, -1.03061066,  0.74397906, ...,  0.64958682,\n",
       "       -1.89617369, -2.73037774])"
      ]
     },
     "execution_count": 113,
     "metadata": {},
     "output_type": "execute_result"
    }
   ],
   "source": [
    "np.sum(theta_mu, axis=1)"
   ]
  },
  {
   "cell_type": "code",
   "execution_count": null,
   "metadata": {},
   "outputs": [],
   "source": []
  }
 ],
 "metadata": {
  "kernelspec": {
   "display_name": "Python 3",
   "language": "python",
   "name": "python3"
  },
  "language_info": {
   "codemirror_mode": {
    "name": "ipython",
    "version": 3
   },
   "file_extension": ".py",
   "mimetype": "text/x-python",
   "name": "python",
   "nbconvert_exporter": "python",
   "pygments_lexer": "ipython3",
   "version": "3.6.5"
  }
 },
 "nbformat": 4,
 "nbformat_minor": 2
}
