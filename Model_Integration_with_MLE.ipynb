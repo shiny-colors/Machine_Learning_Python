{
 "cells": [
  {
   "cell_type": "code",
   "execution_count": 352,
   "metadata": {},
   "outputs": [],
   "source": [
    "#####Model integration with Maximum likelihood estimation#####\n",
    "import numpy as np\n",
    "import pandas as pd\n",
    "import matplotlib.pyplot  as plt\n",
    "import numpy.matlib\n",
    "import scipy.linalg\n",
    "import itertools\n",
    "from scipy import sparse\n",
    "from scipy.stats import norm\n",
    "from pandas.tools.plotting import scatter_matrix\n",
    "from numpy.random import *\n",
    "from scipy import optimize\n",
    "\n",
    "#np.random.seed(98537)"
   ]
  },
  {
   "cell_type": "code",
   "execution_count": 353,
   "metadata": {},
   "outputs": [],
   "source": [
    "##多項分布の乱数を生成する関数\n",
    "def rmnom(pr, n, k, pattern):\n",
    "    if pattern==1:\n",
    "        z_id = np.array(np.argmax(np.cumsum(pr, axis=1) >= np.random.uniform(0, 1, n)[:, np.newaxis], axis=1), dtype=\"int\")\n",
    "        Z = np.diag(np.repeat(1, k))[z_id, ]\n",
    "        return z_id, Z\n",
    "    z_id = np.argmax((np.cumsum(pr, axis=1) >= np.random.uniform(0, 1, n)[:, np.newaxis]), axis=1)\n",
    "    return z_id"
   ]
  },
  {
   "cell_type": "code",
   "execution_count": 354,
   "metadata": {},
   "outputs": [],
   "source": [
    "#切断正規分布の乱数を発生させる関数\n",
    "def rtnorm(mu, sigma, a, b, n):\n",
    "    FA = norm.cdf(a, mu, sigma)\n",
    "    FB = norm.cdf(b, mu, sigma)\n",
    "    return norm.ppf(np.random.uniform(0, 1, n)*(FB-FA)+FA, mu, sigma)"
   ]
  },
  {
   "cell_type": "code",
   "execution_count": 355,
   "metadata": {},
   "outputs": [],
   "source": [
    "##データの生成\n",
    "#データの設定\n",
    "lower = 0.1\n",
    "upper = 0.9\n",
    "models = 4\n",
    "n = 10000"
   ]
  },
  {
   "cell_type": "code",
   "execution_count": 356,
   "metadata": {},
   "outputs": [],
   "source": [
    "#入力変数の生成\n",
    "tau = 0.3\n",
    "alpha = np.random.normal(-0.2, 0.5, n)\n",
    "gamma = np.random.normal(np.repeat(alpha, models), tau, models*n)\n",
    "x1 = (np.exp(gamma) / (1 + np.exp(gamma))).reshape(n, models)\n",
    "x2 = np.log(x1 / (1-x1))"
   ]
  },
  {
   "cell_type": "code",
   "execution_count": 357,
   "metadata": {},
   "outputs": [],
   "source": [
    "#パラメータを生成\n",
    "Sigma = np.array(0.05)\n",
    "beta = np.random.dirichlet(np.repeat(1.0, models), 1).reshape(-1)\n",
    "Sigmat = Sigma.copy(); betat = beta.copy()\n",
    "\n",
    "#応答変数を生成\n",
    "mu = np.dot(x2, beta)\n",
    "logit = mu + np.random.normal(0, Sigma, n)\n",
    "y = np.exp(logit) / (1 + np.exp(logit))"
   ]
  },
  {
   "cell_type": "code",
   "execution_count": 358,
   "metadata": {},
   "outputs": [],
   "source": [
    "##最尤法でパラメータを推定\n",
    "#二乗誤差和を計算する関数\n",
    "def loglike(theta, logit, x, models):\n",
    "    new_theta = np.append(theta, 1.0)\n",
    "    beta = np.exp(new_theta) / np.sum(np.exp(new_theta))   #確率に変換\n",
    "    mu = np.dot(x, beta)\n",
    "    sq = np.sum(np.power(logit - mu, 2))\n",
    "    return sq"
   ]
  },
  {
   "cell_type": "code",
   "execution_count": 359,
   "metadata": {},
   "outputs": [],
   "source": [
    "#勾配ベクトルを計算する関数\n",
    "def dloglike(theta, logit, x, models):\n",
    "    #パラメータの設定\n",
    "    new_theta = np.append(theta, 1.0)\n",
    "    beta = np.exp(new_theta) / np.sum(np.exp(new_theta))   #確率に変換\n",
    "\n",
    "    #勾配ベクトルの計算\n",
    "    beta_dt1 = np.repeat(beta, models).reshape(models, models) \n",
    "    beta_dt2 = np.repeat(beta, models).reshape(models, models, order=\"F\")\n",
    "    beta_dt = -beta_dt1 * beta_dt2\n",
    "    dll1 = beta_dt - np.diag(np.diag(beta_dt)) + np.diag(beta * (1-beta))\n",
    "    dll2 = -2*np.dot(x.T, logit) + 2*np.dot(np.dot(x.T, x), beta)\n",
    "    dll = np.array([np.sum(dll1[j, ] * dll2) for j in range(models-1)])\n",
    "    return dll"
   ]
  },
  {
   "cell_type": "code",
   "execution_count": 360,
   "metadata": {},
   "outputs": [
    {
     "name": "stdout",
     "output_type": "stream",
     "text": [
      "Optimization terminated successfully.\n",
      "         Current function value: 25.057675\n",
      "         Iterations: 15\n",
      "         Function evaluations: 18\n",
      "         Gradient evaluations: 18\n"
     ]
    }
   ],
   "source": [
    "#準ニュートン法でパラメータを推定\n",
    "theta = np.repeat(1.0, models-1)\n",
    "res = optimize.minimize(loglike, theta, jac=dloglike, method=\"BFGS\", args=(logit, x2, models), options={\"disp\": True})"
   ]
  },
  {
   "cell_type": "code",
   "execution_count": 361,
   "metadata": {},
   "outputs": [
    {
     "name": "stdout",
     "output_type": "stream",
     "text": [
      "[[0.609 0.148 0.162 0.082]\n",
      " [0.607 0.147 0.163 0.083]]\n",
      "[25.058 25.063]\n"
     ]
    }
   ],
   "source": [
    "#パラメータの推定結果の要約\n",
    "theta = np.append(res.x, 1.0)\n",
    "beta = np.exp(theta) / np.sum(np.exp(theta))\n",
    "print(np.round(np.hstack((beta, betat)).reshape(2, models), 3))\n",
    "print(np.round(np.append(np.sum(np.power(logit - np.dot(x2, beta), 2)), np.sum(np.power(logit - np.dot(x2, betat), 2))), 3))"
   ]
  },
  {
   "cell_type": "code",
   "execution_count": null,
   "metadata": {},
   "outputs": [],
   "source": []
  },
  {
   "cell_type": "code",
   "execution_count": null,
   "metadata": {},
   "outputs": [],
   "source": []
  }
 ],
 "metadata": {
  "kernelspec": {
   "display_name": "Python 3",
   "language": "python",
   "name": "python3"
  },
  "language_info": {
   "codemirror_mode": {
    "name": "ipython",
    "version": 3
   },
   "file_extension": ".py",
   "mimetype": "text/x-python",
   "name": "python",
   "nbconvert_exporter": "python",
   "pygments_lexer": "ipython3",
   "version": "3.6.5"
  }
 },
 "nbformat": 4,
 "nbformat_minor": 2
}
