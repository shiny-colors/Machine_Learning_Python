{
 "cells": [
  {
   "cell_type": "code",
   "execution_count": 573,
   "metadata": {},
   "outputs": [],
   "source": [
    "# Bernoulli-Poisson link CP decomposition\n",
    "import numpy as np\n",
    "import pandas as pd\n",
    "import matplotlib.pyplot  as plt\n",
    "import numpy.matlib\n",
    "import scipy.linalg\n",
    "import itertools\n",
    "from scipy import sparse\n",
    "from scipy.stats import norm\n",
    "from numpy.random import *\n",
    "from scipy import optimize"
   ]
  },
  {
   "cell_type": "code",
   "execution_count": 574,
   "metadata": {},
   "outputs": [],
   "source": [
    "# 連続した日付を取得する関数\n",
    "def daterange(_start, _end):\n",
    "    for n in range((_end - _start).days):\n",
    "        yield _start + timedelta(n)\n",
    "        \n",
    "# 切断ポアソン分布を生成する関数\n",
    "def rtpois(mu, a, b, n):\n",
    "    FA = scipy.stats.poisson.cdf(a, mu)\n",
    "    FB = scipy.stats.poisson.cdf(b, mu)\n",
    "    return np.array(scipy.stats.poisson.ppf(np.random.uniform(0, 1, n)*(FB-FA)+FA, mu), dtype=\"int\")\n",
    "\n",
    "# 多項分布の乱数を生成する関数\n",
    "def rmnom(pr, n, k, pattern):\n",
    "    if pattern==1:\n",
    "        z_id = np.array(np.argmax(np.cumsum(pr, axis=1) >= np.random.uniform(0, 1, n)[:, np.newaxis], axis=1), dtype=\"int\")\n",
    "        Z = np.diag(np.repeat(1, k))[z_id, ]\n",
    "        return z_id, Z\n",
    "    z_id = np.array(np.argmax((np.cumsum(pr, axis=1) >= np.random.uniform(0, 1, n)[:, np.newaxis]), axis=1), dtype=\"int\")\n",
    "    return z_id"
   ]
  },
  {
   "cell_type": "code",
   "execution_count": 575,
   "metadata": {},
   "outputs": [],
   "source": [
    "# データの定義\n",
    "k = 10\n",
    "hh = 3000\n",
    "item = 2500\n",
    "element = 500\n",
    "Lambda = np.random.gamma(50.0, 1/0.25, hh)\n",
    "pt1 = np.random.poisson(Lambda, hh)\n",
    "hhpt = np.sum(pt1)\n",
    "k_vec = np.repeat(1.0, k)"
   ]
  },
  {
   "cell_type": "code",
   "execution_count": 576,
   "metadata": {},
   "outputs": [],
   "source": [
    "# idとインデックスを定義\n",
    "# idの定義\n",
    "d_id1 = np.repeat(np.arange(hh), pt1)\n",
    "pt_id1 = np.array(list(itertools.chain(*[np.array(range(pt1[i]), dtype=\"int\") for i in range(hh)])))\n",
    "\n",
    "#インデックスを定義\n",
    "d_list1 = [i for i in range(hh)]\n",
    "d_vec1 = [i for i in range(hh)]\n",
    "for i in range(hh):\n",
    "    d_list1[i] = np.array(np.where(d_id1==i)[0], dtype=\"int\")\n",
    "    d_vec1[i] = np.repeat(1.0, d_list1[i].shape[0])"
   ]
  },
  {
   "cell_type": "code",
   "execution_count": 577,
   "metadata": {},
   "outputs": [],
   "source": [
    "# itemとelementを選択\n",
    "#トピックを生成\n",
    "topic = 30\n",
    "theta_topic = np.random.dirichlet(np.repeat(0.2, topic), hh)\n",
    "phi_item = np.random.dirichlet(np.repeat(0.1, item), topic)\n",
    "phi_element = np.random.dirichlet(np.repeat(0.1, element), topic)\n",
    "z = np.array(rmnom(theta_topic[d_id1, ], hhpt, topic, 0), dtype=\"int16\")\n",
    "\n",
    "# 多項分布からplaceを生成\n",
    "item_id1 = np.repeat(0, hhpt)\n",
    "element_id1 = np.repeat(0, hhpt)\n",
    "for i in range(hh):\n",
    "    index = d_list1[i]\n",
    "    item_id1[index] = rmnom(phi_item[z[index], ], pt1[i], item, 0)\n",
    "    element_id1[index] = rmnom(phi_element[z[index], ], pt1[i], element, 0)\n",
    "    \n",
    "# インデックスを定義\n",
    "item_list1 = [i for i in range(item)]\n",
    "element_list1 = [i for i in range(element)]\n",
    "item_vec1 = [i for i in range(item)]\n",
    "element_vec1 = [i for i in range(element)]\n",
    "item_n1 = np.repeat(0, item)\n",
    "element_n1 = np.repeat(0, element)\n",
    "for i in range(item):\n",
    "    item_list1[i] = np.array(np.where(item_id1==i)[0], dtype=\"int\")\n",
    "    item_vec1[i] = np.repeat(1.0, item_list1[i].shape[0])\n",
    "    item_n1[i] = item_list1[i].shape[0]\n",
    "for i in range(element):\n",
    "    element_list1[i] = np.array(np.where(element_id1==i)[0], dtype=\"int\")\n",
    "    element_vec1[i] = np.repeat(1.0, element_list1[i].shape[0])\n",
    "    element_n1[i] = element_list1[i].shape[0]"
   ]
  },
  {
   "cell_type": "code",
   "execution_count": 608,
   "metadata": {},
   "outputs": [],
   "source": [
    "# 応答変数を生成\n",
    "# パラメータを生成\n",
    "theta_u = np.random.gamma(1.0, 1/1.75, k*hh).reshape(hh, k)\n",
    "theta_v = np.random.gamma(1.0, 1/1.75, k*item).reshape(item, k)\n",
    "theta_e = np.random.gamma(0.75, 1/2.0, k*element).reshape(element, k)\n",
    "thetat_u = theta_u.copy(); thetat_v = theta_v.copy(); thetat_e = theta_e.copy()\n",
    "\n",
    "# Bernoulli Poisson linkからbinaryデータを生成\n",
    "mu = np.dot(theta_u[d_id1, ] * theta_v[item_id1, ] * theta_e[element_id1, ], k_vec)\n",
    "freq = np.random.poisson(mu, hhpt)\n",
    "x = np.array(freq > 0, dtype=\"int\")\n",
    "index_x = np.array(np.where(x==1)[0], dtype=\"int\")\n",
    "N = index_x.shape[0]"
   ]
  },
  {
   "cell_type": "code",
   "execution_count": 609,
   "metadata": {},
   "outputs": [],
   "source": [
    "# 新しいidとインデックスを定義\n",
    "# idを定義\n",
    "d_id2 = d_id1[index_x]\n",
    "item_id2 = item_id1[index_x]\n",
    "element_id2 = element_id1[index_x]\n",
    "\n",
    "# インデックスを定義\n",
    "d_list2 = [i for i in range(hh)]\n",
    "item_list2 = [i for i in range(item)]\n",
    "element_list2 = [i for i in range(element)]\n",
    "d_vec2 = [i for i in range(hh)]\n",
    "item_vec2 = [i for i in range(item)]\n",
    "element_vec2 = [i for i in range(element)]\n",
    "pt2 = np.repeat(0, hh)\n",
    "item_n2 = np.repeat(0, item)\n",
    "element_n2 = np.repeat(0, element)\n",
    "\n",
    "for i in range(hh):\n",
    "    d_list2[i] = np.array(np.where(d_id2==i)[0], dtype=\"int\")\n",
    "    d_vec2[i] = np.repeat(1.0, d_list2[i].shape[0])\n",
    "    pt2[i] = d_list2[i].shape[0]\n",
    "pt_id2 = np.array(list(itertools.chain(*[np.array(range(pt2[i]), dtype=\"int\") for i in range(hh)])))\n",
    "for i in range(item):\n",
    "    item_list2[i] = np.array(np.where(item_id2==i)[0], dtype=\"int\")\n",
    "    item_vec2[i] = np.repeat(1.0, item_list2[i].shape[0])\n",
    "    item_n2[i] = item_list2[i].shape[0]\n",
    "for i in range(element):\n",
    "    element_list2[i] = np.array(np.where(element_id2==i)[0], dtype=\"int\")\n",
    "    element_vec2[i] = np.repeat(1.0, element_list2[i].shape[0])\n",
    "    element_n2[i] = element_list2[i].shape[0]"
   ]
  },
  {
   "cell_type": "code",
   "execution_count": 630,
   "metadata": {},
   "outputs": [],
   "source": [
    "# Bernoulli-Poisson link CP decompositionのパラメータを推定\n",
    "# MCMCの設定\n",
    "R = 1000\n",
    "keep = 2\n",
    "burnin = int(500/keep)\n",
    "iter = 0\n",
    "disp = 10\n",
    "freq_y = freq[index_x]\n",
    "\n",
    "# 事前分布の定義\n",
    "alpha1 = 0.1; beta1 = 0.1\n",
    "alpha2 = 0.1; beta2 = 0.1\n",
    "alpha3 = 0.1; beta3 = 0.1\n",
    "s0 = 0.5; v0 = 0.001"
   ]
  },
  {
   "cell_type": "code",
   "execution_count": 631,
   "metadata": {},
   "outputs": [],
   "source": [
    "# パラメータの真値\n",
    "# モデルパラメータの定義\n",
    "theta_u = thetat_u.copy()\n",
    "theta_v = thetat_v.copy()\n",
    "theta_e = thetat_e.copy()\n",
    "\n",
    "# 期待値の真値\n",
    "mu_deploy = theta_u[d_id1, ] * theta_v[item_id1, ] * theta_e[element_id1, ]\n",
    "mu = np.dot(mu_deploy, k_vec)"
   ]
  },
  {
   "cell_type": "code",
   "execution_count": 632,
   "metadata": {},
   "outputs": [],
   "source": [
    "# パラメータの初期値\n",
    "# パラメータを生成\n",
    "theta_u = np.random.gamma(1.0, 1/3.0, k*hh).reshape(hh, k)\n",
    "theta_v = np.random.gamma(1.0, 1/3.0, k*item).reshape(item, k)\n",
    "theta_e = np.random.gamma(1.0, 1/3.0, k*element).reshape(element, k)\n",
    "\n",
    "# 期待値の初期値\n",
    "mu_deploy = theta_u[d_id1, ] * theta_v[item_id1, ] * theta_e[element_id1, ]\n",
    "mu = np.dot(mu_deploy, k_vec)"
   ]
  },
  {
   "cell_type": "code",
   "execution_count": 633,
   "metadata": {},
   "outputs": [],
   "source": [
    "# パラメータの格納用配列\n",
    "THETA_U = np.zeros((hh, k, int(R/keep)))\n",
    "THETA_V = np.zeros((item, k, int(R/keep)))\n",
    "THETA_E = np.zeros((element, k, int(R/keep)))"
   ]
  },
  {
   "cell_type": "code",
   "execution_count": 634,
   "metadata": {},
   "outputs": [
    {
     "name": "stdout",
     "output_type": "stream",
     "text": [
      "-975629.5927440615\n",
      "-756541.9646464376\n"
     ]
    }
   ],
   "source": [
    "# 対数尤度の基準値\n",
    "# 1パラメータモデルの対数尤度\n",
    "LLst = np.sum(scipy.stats.poisson.logpmf(freq, np.mean(freq)))\n",
    "print(LLst)\n",
    "\n",
    "# 真値での対数尤度\n",
    "mu_deploy = thetat_u[d_id1, ] * thetat_v[item_id1, ] * thetat_e[element_id1, ]\n",
    "mut = np.dot(mu_deploy, k_vec)\n",
    "LLbest = np.sum(scipy.stats.poisson.logpmf(freq, mut))\n",
    "print(LLbest)"
   ]
  },
  {
   "cell_type": "code",
   "execution_count": 635,
   "metadata": {
    "scrolled": true
   },
   "outputs": [
    {
     "name": "stdout",
     "output_type": "stream",
     "text": [
      "0\n",
      "[130522.90802979896, 728542]\n",
      "[-1760748.4  -975629.6  -756542. ]\n",
      "10\n",
      "[13626.846825047456, 728542]\n",
      "[-4924565.8  -975629.6  -756542. ]\n"
     ]
    },
    {
     "ename": "ValueError",
     "evalue": "shape < 0",
     "output_type": "error",
     "traceback": [
      "\u001b[1;31m---------------------------------------------------------------------------\u001b[0m",
      "\u001b[1;31mValueError\u001b[0m                                Traceback (most recent call last)",
      "\u001b[1;32m<ipython-input-635-efd46976a1a1>\u001b[0m in \u001b[0;36m<module>\u001b[1;34m\u001b[0m\n\u001b[0;32m     29\u001b[0m \u001b[1;33m\u001b[0m\u001b[0m\n\u001b[0;32m     30\u001b[0m     \u001b[1;31m# ガンマ分布よりパラメータをサンプリング\u001b[0m\u001b[1;33m\u001b[0m\u001b[1;33m\u001b[0m\u001b[1;33m\u001b[0m\u001b[0m\n\u001b[1;32m---> 31\u001b[1;33m     \u001b[0mtheta_u\u001b[0m \u001b[1;33m=\u001b[0m \u001b[0mnp\u001b[0m\u001b[1;33m.\u001b[0m\u001b[0mrandom\u001b[0m\u001b[1;33m.\u001b[0m\u001b[0mgamma\u001b[0m\u001b[1;33m(\u001b[0m\u001b[0mw1\u001b[0m\u001b[1;33m,\u001b[0m \u001b[1;36m1\u001b[0m\u001b[1;33m/\u001b[0m\u001b[0mw2\u001b[0m\u001b[1;33m)\u001b[0m\u001b[1;33m\u001b[0m\u001b[1;33m\u001b[0m\u001b[0m\n\u001b[0m\u001b[0;32m     32\u001b[0m     \u001b[0mmu_deploy\u001b[0m \u001b[1;33m=\u001b[0m \u001b[0mtheta_u\u001b[0m\u001b[1;33m[\u001b[0m\u001b[0md_id2\u001b[0m\u001b[1;33m,\u001b[0m \u001b[1;33m]\u001b[0m \u001b[1;33m*\u001b[0m \u001b[0mtheta_v\u001b[0m\u001b[1;33m[\u001b[0m\u001b[0mitem_id2\u001b[0m\u001b[1;33m,\u001b[0m \u001b[1;33m]\u001b[0m \u001b[1;33m*\u001b[0m \u001b[0mtheta_e\u001b[0m\u001b[1;33m[\u001b[0m\u001b[0melement_id2\u001b[0m\u001b[1;33m,\u001b[0m \u001b[1;33m]\u001b[0m\u001b[1;33m\u001b[0m\u001b[1;33m\u001b[0m\u001b[0m\n\u001b[0;32m     33\u001b[0m     \u001b[0mmu\u001b[0m \u001b[1;33m=\u001b[0m \u001b[0mnp\u001b[0m\u001b[1;33m.\u001b[0m\u001b[0mdot\u001b[0m\u001b[1;33m(\u001b[0m\u001b[0mmu_deploy\u001b[0m\u001b[1;33m,\u001b[0m \u001b[0mk_vec\u001b[0m\u001b[1;33m)\u001b[0m\u001b[1;33m\u001b[0m\u001b[1;33m\u001b[0m\u001b[0m\n",
      "\u001b[1;32mmtrand.pyx\u001b[0m in \u001b[0;36mmtrand.RandomState.gamma\u001b[1;34m()\u001b[0m\n",
      "\u001b[1;31mValueError\u001b[0m: shape < 0"
     ]
    }
   ],
   "source": [
    "# ギブスサンプリングでパラメータをサンプリング\n",
    "for rp in range(R):\n",
    "    \n",
    "    # Bernoulli-Poisson linkで潜在頻度を生成\n",
    "    # 期待値を定義\n",
    "    mu_deploy = theta_u[d_id2, ] * theta_v[item_id2, ] * theta_e[element_id2, ]\n",
    "    mu = np.dot(mu_deploy, k_vec)\n",
    "\n",
    "    # 切断ポアソン分布から潜在頻度を生成\n",
    "    xy = np.repeat(0, hhpt)\n",
    "    y = Prob * rtpois(mu, 0, np.inf, N)\n",
    "    xy[index_x] = y\n",
    "    \n",
    "    \n",
    "    # ユーザーの特徴行列を更新\n",
    "    # 補助変数を定義\n",
    "    Lambda = mu_deploy / mu[:, np.newaxis]\n",
    "    lambda_y = y[:, np.newaxis] * Lambda\n",
    "    lambda_h = theta_v[item_id1, ] * theta_e[element_id1, ]\n",
    "    \n",
    "    # 事後分布のパラメータ\n",
    "    w1 = np.zeros((hh, k))\n",
    "    w2 = np.zeros((hh, k))\n",
    "    for i in range(hh):\n",
    "        index1 = d_list1[i]; index2 = d_list2[i]\n",
    "        w1[i, ] = np.dot(d_vec2[i].T, lambda_y[index2, ]) + alpha1\n",
    "        w2[i, ] = np.dot(d_vec1[i].T, lambda_h[index1, ]) + beta1\n",
    "    \n",
    "    # ガンマ分布よりパラメータをサンプリング\n",
    "    theta_u = np.random.gamma(w1, 1/w2)\n",
    "    mu_deploy = theta_u[d_id2, ] * theta_v[item_id2, ] * theta_e[element_id2, ]\n",
    "    mu = np.dot(mu_deploy, k_vec)\n",
    "\n",
    "    # itemの特徴行列を更新\n",
    "    # 補助変数を定義\n",
    "    Lambda = mu_deploy / mu[:, np.newaxis]\n",
    "    lambda_y = y[:, np.newaxis] * Lambda\n",
    "    lambda_h = theta_u[d_id1, ] * theta_e[element_id1, ]\n",
    "    \n",
    "    # 事後分布のパラメータ\n",
    "    w1 = np.zeros((item, k))\n",
    "    w2 = np.zeros((item, k))\n",
    "    for i in range(item):\n",
    "        index1 = item_list1[i]; index2 = item_list2[i]\n",
    "        w1[i, ] = np.dot(item_vec2[i].T, lambda_y[index2, ]) + alpha2\n",
    "        w2[i, ] = np.dot(item_vec1[i].T, lambda_h[index1, ]) + beta2\n",
    "    \n",
    "    # ガンマ分布よりパラメータをサンプリング\n",
    "    theta_v = np.random.gamma(w1, 1/w2)\n",
    "    mu_deploy = theta_u[d_id2, ] * theta_v[item_id2, ] * theta_e[element_id2, ]\n",
    "    mu = np.dot(mu_deploy, k_vec)\n",
    "    \n",
    "    # itemの特徴行列を更新\n",
    "    # 補助変数を定義\n",
    "    Lambda = mu_deploy / mu[:, np.newaxis]\n",
    "    lambda_y = y[:, np.newaxis] * Lambda\n",
    "    lambda_h = theta_u[d_id1, ] * theta_v[item_id1, ]\n",
    "    \n",
    "    # 事後分布のパラメータ\n",
    "    w1 = np.zeros((element, k))\n",
    "    w2 = np.zeros((element, k))\n",
    "    for i in range(element):\n",
    "        index1 = element_list1[i]; index2 = element_list2[i]\n",
    "        w1[i, ] = np.dot(element_vec2[i].T, lambda_y[index2, ]) + alpha3\n",
    "        w2[i, ] = np.dot(element_vec1[i].T, lambda_h[index1, ]) + beta3\n",
    "    \n",
    "    # ガンマ分布よりパラメータをサンプリング\n",
    "    theta_e = np.random.gamma(w1, 1/w2)\n",
    "    mu_deploy = theta_u[d_id2, ] * theta_v[item_id2, ] * theta_e[element_id2, ]\n",
    "    mu = np.dot(mu_deploy, k_vec)\n",
    "    \n",
    "    \n",
    "    if rp%disp==0:\n",
    "        # 対数尤度を更新\n",
    "        mu_deploy = theta_u[d_id1, ] * theta_v[item_id1, ] * theta_e[element_id1, ]\n",
    "        mu = np.dot(mu_deploy, k_vec)\n",
    "        LL = np.sum(scipy.stats.poisson.logpmf(freq, mu))\n",
    "\n",
    "        print(rp)\n",
    "        print([np.sum(y), np.sum(freq)])\n",
    "        print(np.round([LL, LLst, LLbest], 1))"
   ]
  },
  {
   "cell_type": "code",
   "execution_count": null,
   "metadata": {},
   "outputs": [],
   "source": []
  },
  {
   "cell_type": "code",
   "execution_count": null,
   "metadata": {},
   "outputs": [],
   "source": []
  }
 ],
 "metadata": {
  "kernelspec": {
   "display_name": "Python 3",
   "language": "python",
   "name": "python3"
  },
  "language_info": {
   "codemirror_mode": {
    "name": "ipython",
    "version": 3
   },
   "file_extension": ".py",
   "mimetype": "text/x-python",
   "name": "python",
   "nbconvert_exporter": "python",
   "pygments_lexer": "ipython3",
   "version": "3.7.3"
  }
 },
 "nbformat": 4,
 "nbformat_minor": 2
}
