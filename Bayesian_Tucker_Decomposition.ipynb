{
 "cells": [
  {
   "cell_type": "code",
   "execution_count": 1,
   "metadata": {},
   "outputs": [],
   "source": [
    "#####Bayesian Tucker Decomposition#####\n",
    "import numpy as np\n",
    "import pandas as pd\n",
    "import matplotlib.pyplot  as plt\n",
    "import numpy.matlib\n",
    "import scipy.linalg\n",
    "import itertools\n",
    "import seaborn as sns\n",
    "import gc\n",
    "from scipy import sparse\n",
    "from scipy.stats import norm\n",
    "from pandas.tools.plotting import scatter_matrix\n",
    "from numpy.random import *\n",
    "from scipy import optimize\n",
    "\n",
    "#np.random.seed(98537)"
   ]
  },
  {
   "cell_type": "code",
   "execution_count": 2,
   "metadata": {},
   "outputs": [],
   "source": [
    "##多項分布の乱数を生成する関数\n",
    "def rmnom(pr, n, k, no, pattern):\n",
    "    z_id = np.argmax((np.cumsum(pr, axis=1) >= np.random.uniform(0, 1, n)[:, np.newaxis]), axis=1)\n",
    "    return z_id\n",
    "    if pattern==1:\n",
    "        Z = sparse.coo_matrix((np.repeat(1, n), (no, np.array(z_id))), shape=(n, k))   #スパース行列の設定\n",
    "        return z_id, Z"
   ]
  },
  {
   "cell_type": "code",
   "execution_count": 3,
   "metadata": {},
   "outputs": [],
   "source": [
    "####データの発生####\n",
    "##データの設定\n",
    "type_n = 3\n",
    "k1 = 12\n",
    "k2 = 10\n",
    "k3 = 7\n",
    "hh = 5000   #ユーザー数\n",
    "item = 3000   #アイテム数\n",
    "context = 100   #コンテキスト数\n",
    "Lambda = np.random.gamma(35.0, 1/0.2, hh)\n",
    "pt = np.random.poisson(Lambda, hh)   #ユーザーあたりのレコード数\n",
    "hhpt = np.sum(pt)\n",
    "vec_k1 = np.repeat(1, k1); vec_k2 = np.repeat(1, k2); vec_k3 = np.repeat(1, k3)"
   ]
  },
  {
   "cell_type": "code",
   "execution_count": 4,
   "metadata": {},
   "outputs": [],
   "source": [
    "##IDとインデックスを作成\n",
    "#IDの作成\n",
    "user_id = np.repeat(np.arange(hh), pt)\n",
    "pt_id = np.array(list(itertools.chain(*[np.array(range(pt[i]), dtype=\"int\") for i in range(hh)])))\n",
    "\n",
    "#インデックスの設定\n",
    "index = np.array(range(hhpt))\n",
    "user_list = [i for i in range(hh)]\n",
    "for i in range(hh):\n",
    "    user_list[i] = index[user_id==i]\n",
    "user_dt = sparse.coo_matrix((np.repeat(1, hhpt), (user_id, range(hhpt))), shape=(hh, hhpt)).tocsr()   #スパース行列の設定"
   ]
  },
  {
   "cell_type": "code",
   "execution_count": 5,
   "metadata": {},
   "outputs": [
    {
     "name": "stdout",
     "output_type": "stream",
     "text": [
      "0\n",
      "1000\n",
      "2000\n",
      "3000\n",
      "4000\n"
     ]
    }
   ],
   "source": [
    "##アイテムの割当を生成\n",
    "#トピック割当を生成\n",
    "topic = 25\n",
    "phi_item = np.random.dirichlet(np.repeat(0.5, item), topic)\n",
    "theta_item = np.random.dirichlet(np.repeat(0.5, topic), hh)\n",
    "z = np.dot(np.array([np.random.multinomial(1, theta_item[i, :], 1) for i in range(hh)]).reshape(hh, topic), range(topic))\n",
    "\n",
    "#多項分布からアイテムを生成\n",
    "item_id = np.zeros(hhpt, dtype='int')\n",
    "for i in range(hh):\n",
    "    if i%1000==0:\n",
    "        print(i)\n",
    "    item_id[user_list[i]] = np.dot(np.random.multinomial(1, phi_item[z[i], :], pt[i]), range(item))\n",
    "item_dt = sparse.coo_matrix((np.repeat(1, hhpt), (item_id, range(hhpt))), shape=(item, hhpt)).tocsr()   #スパース行列の設定\n",
    "item_n = np.array(np.sum(item_dt, axis=1)).reshape(-1)\n",
    "\n",
    "#アイテムのインデックス\n",
    "item_list = [i for i in range(item)]\n",
    "for i in range(item):\n",
    "    item_list[i] = np.array(np.where(item_id==i)[0], dtype=\"int\")"
   ]
  },
  {
   "cell_type": "code",
   "execution_count": 6,
   "metadata": {},
   "outputs": [
    {
     "name": "stdout",
     "output_type": "stream",
     "text": [
      "0\n",
      "1000\n",
      "2000\n",
      "3000\n",
      "4000\n"
     ]
    }
   ],
   "source": [
    "##コンテキストの割当を生成\n",
    "#トピック割当を生成\n",
    "topic = 15\n",
    "phi_context = np.random.dirichlet(np.repeat(0.25, context), topic)\n",
    "theta_context = np.random.dirichlet(np.repeat(0.25, topic), hh)\n",
    "z = np.dot(np.array([np.random.multinomial(1, theta_context[i, :], 1) for i in range(hh)]).reshape(hh, topic), range(topic))\n",
    "\n",
    "#多項分布からアイテムを生成\n",
    "context_id = np.zeros(hhpt, dtype='int')\n",
    "for i in range(hh):\n",
    "    if i%1000==0:\n",
    "        print(i)\n",
    "    context_id[user_list[i]] = np.dot(np.random.multinomial(1, phi_context[z[i], :], pt[i]), range(context))\n",
    "context_dt = sparse.coo_matrix((np.repeat(1, hhpt), (context_id, range(hhpt))), shape=(context, hhpt)).tocsr()   #スパース行列の設定\n",
    "context_n = np.array(np.sum(context_dt, axis=1)).reshape(-1)\n",
    "\n",
    "#コンテキストのインデックス\n",
    "context_list = [i for i in range(context)]\n",
    "for i in range(context):\n",
    "    context_list[i] = np.array(np.where(context_id==i)[0], dtype=\"int\")"
   ]
  },
  {
   "cell_type": "code",
   "execution_count": 7,
   "metadata": {},
   "outputs": [],
   "source": [
    "##階層モデルの説明変数を生成\n",
    "#ユーザーの説明変数を生成\n",
    "k11 = 3; k12 = 5; k13 = 5\n",
    "u1 = np.array(np.random.random(hh*k11)).reshape((hh, k11))\n",
    "u2 = np.zeros((hh, k12))\n",
    "for j in range(k12):\n",
    "    prob = np.random.uniform(0.25, 0.55, 1)\n",
    "    u2[:, j] = np.random.binomial(1, prob, hh)\n",
    "u3 = np.random.multinomial(1, np.random.dirichlet(np.repeat(3.0, k13), 1).reshape(k13), hh)\n",
    "u3 = np.delete(u3, np.argmin(np.sum(u3, axis=0)), axis=1)   #冗長な変数の削除\n",
    "u = np.concatenate((np.repeat(1, hh)[:, np.newaxis], u1, u2, u3), axis=1)\n",
    "col_u = u.shape[1]\n",
    "\n",
    "#アイテムの説明変数を生成\n",
    "k21 = 4; k22 = 5; k23 = 4\n",
    "v1 = np.array(np.random.random(item*k21)).reshape((item, k21))\n",
    "v2 = np.zeros((item, k22))\n",
    "for j in range(k22):\n",
    "    prob = np.random.uniform(0.25, 0.55, 1)\n",
    "    v2[:, j] = np.random.binomial(1, prob, item)\n",
    "v3 = np.random.multinomial(1, np.random.dirichlet(np.repeat(3.0, k23), 1).reshape(k23), item)\n",
    "v3 = np.delete(v3, np.argmin(np.sum(v3, axis=0)), axis=1)   #冗長な変数の削除\n",
    "v = np.concatenate((np.repeat(1, item)[:, np.newaxis], v1, v2, v3), axis=1)\n",
    "col_v = v.shape[1]"
   ]
  },
  {
   "cell_type": "code",
   "execution_count": 8,
   "metadata": {
    "scrolled": true
   },
   "outputs": [
    {
     "name": "stdout",
     "output_type": "stream",
     "text": [
      "[1, 57725, 12224, 0.266]\n",
      "[2, 36255, 16811, 0.394]\n",
      "[3, 78700, 23929, 0.326]\n",
      "[4, 6308, 1994, 0.323]\n"
     ]
    }
   ],
   "source": [
    "##応答変数を生成\n",
    "per_min = 75; per_max = 75\n",
    "rp = 0\n",
    "while True:\n",
    "    rp = rp + 1\n",
    "\n",
    "    ##パラメータを生成\n",
    "    #階層モデルの回帰係数を生成\n",
    "    alpha1 = np.random.normal(0, 0.4, col_u)\n",
    "    alpha2 = np.random.normal(0, 0.4, col_v)\n",
    "    alpha_u = np.random.normal(0, 0.35, col_u*k1).reshape(col_u, k1)\n",
    "    alpha_v = np.random.normal(0, 0.35, col_u*k2).reshape(col_v, k2)\n",
    "    alphat1 = alpha1.copy(); alphat2 = alpha2.copy(); alphat_u = alpha_u.copy(); alphat_v = alpha_v.copy()\n",
    "\n",
    "    #階層モデルの分散を生成\n",
    "    tau1 = np.array([0.5])\n",
    "    tau2 = np.array([0.5])\n",
    "    Cov_u = np.diag(np.repeat(0.15, k1))\n",
    "    Cov_v = np.diag(np.repeat(0.15, k2))\n",
    "    taut1 = tau1.copy(); taut2 = tau2.copy(); Covt_u = Cov_u.copy(); Covt_v = Cov_v.copy()\n",
    "\n",
    "    #モデルパラメータを生成\n",
    "    Sigma = np.array([1.0])\n",
    "    beta = np.array([-1.0])\n",
    "    beta1 = np.dot(u, alpha1) + np.random.normal(0, tau1, hh)\n",
    "    beta2 = np.dot(v, alpha2) + np.random.normal(0, tau2, item)\n",
    "    theta_u = np.dot(u, alpha_u) + np.random.multivariate_normal(np.repeat(0, k1), Cov_u, hh)\n",
    "    theta_v = np.dot(v, alpha_v) + np.random.multivariate_normal(np.repeat(0, k2), Cov_v, item)\n",
    "    theta_c = np.random.multivariate_normal(np.repeat(0, k3), np.diag(np.repeat(0.2, k3)), context)\n",
    "    omega = np.random.normal(0, 0.3, k1*k2*k3).reshape(k1, k2, k3)\n",
    "    betat= beta.copy(); betat1 = beta1.copy(); betat2 = beta2.copy()\n",
    "    thetat_u = theta_u.copy(); thetat_v = theta_v.copy(); thetat_c = theta_c.copy(); omegat = omega.copy()\n",
    "\n",
    "    ##正規分布から応答変数を生成\n",
    "    #タッカー分解の期待値\n",
    "    uv = np.repeat(0.0, hhpt)\n",
    "    theta_vec2 = theta_v[item_id, ]\n",
    "    theta_vec3 = theta_c[context_id, ]\n",
    "    for j in range(k3):\n",
    "        uv += np.dot(np.dot(theta_u, omega[:, :, j])[user_id, ] * theta_vec2 * theta_vec3[:, j][:, np.newaxis], vec_k2)\n",
    "    mu = beta + beta1[user_id] + beta2[item_id] + uv\n",
    "\n",
    "    #潜在効用から二値変数を生成\n",
    "    U = np.random.normal(mu, Sigma, hhpt); UT = U.copy()\n",
    "    y = (U >= 0)*1 + (U < 0)*0   #購買有無に変換\n",
    "    Prob = norm.cdf(mu, 0, Sigma)\n",
    "    Prob[Prob==1.0] = 0.9999999999; Prob[Prob==0] = np.power(10.0, -100)\n",
    "\n",
    "    #break条件\n",
    "    print([rp, np.sum(U < -7.5), np.sum(U > 7.5), np.round(np.mean(y), 3)])\n",
    "    if (np.mean(y) > 0.2) & (np.mean(y) < 0.4) & (np.sum(U <= -7.5) < hhpt/per_min) & (np.sum(U > 7.5) < hhpt/per_max):\n",
    "        break"
   ]
  },
  {
   "cell_type": "code",
   "execution_count": 9,
   "metadata": {},
   "outputs": [
    {
     "data": {
      "image/png": "[encoded data removed]",
      "text/plain": [
       "<Figure size 864x432 with 5 Axes>"
      ]
     },
     "metadata": {},
     "output_type": "display_data"
    }
   ],
   "source": [
    "#潜在変数ごとのヒストグラム\n",
    "dt = [U, Prob, beta1, beta2, uv]\n",
    "fig_range = np.append(np.array([np.min(U), 0, np.min(beta1), np.min(beta2), np.min(uv)]), \n",
    "                      np.array([np.max(U), 1.0, np.max(beta1), np.max(beta2), np.max(uv)])).reshape(2, len(dt))\n",
    "colorlist = [\"r\", \"g\", \"b\", \"c\", \"m\", \"y\", \"k\", \"w\"]\n",
    "legend = [\"潜在効用の分布\", \"応答確率の分布\", \"ユーザーランダム効果の分布\", \"アイテムランダム効果の分布\", \"uvの分布\"]\n",
    "fig = plt.figure(figsize=(12.0, 6.0))\n",
    "for j in range(len(dt)):\n",
    "    ax = fig.add_subplot(2, 3, j+1)\n",
    "    ax.hist(dt[j],  bins=25, range=(fig_range[0, j], fig_range[1, j]), color=colorlist[j])\n",
    "    plt.title(legend[j], fontsize=12.5)\n",
    "fig.tight_layout()\n",
    "plt.show()"
   ]
  },
  {
   "cell_type": "code",
   "execution_count": 10,
   "metadata": {},
   "outputs": [],
   "source": [
    "####テストデータを生成####\n",
    "##データの設定\n",
    "division = 2\n",
    "pt0 = np.random.poisson(Lambda / division, hh)\n",
    "pt0[pt0 < 5] = 5\n",
    "N = np.sum(pt0)"
   ]
  },
  {
   "cell_type": "code",
   "execution_count": 11,
   "metadata": {},
   "outputs": [],
   "source": [
    "##IDとインデックスを作成\n",
    "#IDの作成\n",
    "user_id0 = np.repeat(np.arange(hh), pt0)\n",
    "pt_id0 = np.array(list(itertools.chain(*[np.array(range(pt0[i]), dtype=\"int\") for i in range(hh)])))\n",
    "\n",
    "#インデックスの設定\n",
    "index = np.array(range(N))\n",
    "user_list0 = [i for i in range(hh)]\n",
    "for i in range(hh):\n",
    "    user_list0[i] = index[user_id0==i]\n",
    "user_dt0 = sparse.coo_matrix((np.repeat(1, N), (user_id0, range(N))), shape=(hh, N)).tocsr()   #スパース行列の設定"
   ]
  },
  {
   "cell_type": "code",
   "execution_count": 12,
   "metadata": {},
   "outputs": [
    {
     "name": "stdout",
     "output_type": "stream",
     "text": [
      "0\n",
      "1000\n",
      "2000\n",
      "3000\n",
      "4000\n"
     ]
    }
   ],
   "source": [
    "##アイテムの割当を生成\n",
    "#トピック割当を生成\n",
    "topic = 25\n",
    "z = np.dot(np.array([np.random.multinomial(1, theta_item[i, :], 1) for i in range(hh)]).reshape(hh, topic), range(topic))\n",
    "\n",
    "#多項分布からアイテムを生成\n",
    "item_id0 = np.zeros(N, dtype='int')\n",
    "for i in range(hh):\n",
    "    if i%1000==0:\n",
    "        print(i)\n",
    "    item_id0[user_list0[i]] = np.dot(np.random.multinomial(1, phi_item[z[i], :], pt0[i]), range(item))\n",
    "item_dt0 = sparse.coo_matrix((np.repeat(1, N), (item_id0, range(N))), shape=(item, N)).tocsr()   #スパース行列の設定\n",
    "item_n0 = np.array(np.sum(item_dt0, axis=1)).reshape(-1)"
   ]
  },
  {
   "cell_type": "code",
   "execution_count": 13,
   "metadata": {},
   "outputs": [
    {
     "name": "stdout",
     "output_type": "stream",
     "text": [
      "0\n",
      "1000\n",
      "2000\n",
      "3000\n",
      "4000\n"
     ]
    }
   ],
   "source": [
    "##コンテキストの割当を生成\n",
    "#トピック割当を生成\n",
    "topic = 15\n",
    "z = np.dot(np.array([np.random.multinomial(1, theta_context[i, :], 1) for i in range(hh)]).reshape(hh, topic), range(topic))\n",
    "\n",
    "#多項分布からアイテムを生成\n",
    "context_id0 = np.zeros(N, dtype='int')\n",
    "for i in range(hh):\n",
    "    if i%1000==0:\n",
    "        print(i)\n",
    "    context_id0[user_list0[i]] = np.dot(np.random.multinomial(1, phi_context[z[i], :], pt0[i]), range(context))\n",
    "context_dt0 = sparse.coo_matrix((np.repeat(1, N), (context_id0, range(N))), shape=(context, N)).tocsr()   #スパース行列の設定\n",
    "context_n0 = np.array(np.sum(context_dt0, axis=1)).reshape(-1)"
   ]
  },
  {
   "cell_type": "code",
   "execution_count": 14,
   "metadata": {},
   "outputs": [],
   "source": [
    "##正規分布から応答変数を生成\n",
    "#タッカー分解の期待値\n",
    "uv0 = np.repeat(0.0, N)\n",
    "theta_vec2 = theta_v[item_id0, ]\n",
    "theta_vec3 = theta_c[context_id0, ]\n",
    "for j in range(k3):\n",
    "    uv0 += np.dot(np.dot(theta_u, omega[:, :, j])[user_id0, ] * theta_vec2 * theta_vec3[:, j][:, np.newaxis], vec_k2)\n",
    "mu0 = beta + beta1[user_id0] + beta2[item_id0] + uv0\n",
    "\n",
    "#潜在効用から二値変数を生成\n",
    "U0 = np.random.normal(mu0, Sigma, N); UT0 = U0.copy()\n",
    "y0 = (U0 >= 0)*1 + (U0 < 0)*0   #購買有無に変換"
   ]
  },
  {
   "cell_type": "code",
   "execution_count": 15,
   "metadata": {},
   "outputs": [],
   "source": [
    "####Bayesian Tucker Decompositionを推定####\n",
    "##切断正規分布の乱数を発生させる関数\n",
    "def rtnorm(mu, sigma, a, b, n):\n",
    "    FA = norm.cdf(a, mu, sigma)\n",
    "    FB = norm.cdf(b, mu, sigma)\n",
    "    return norm.ppf(np.random.uniform(0, 1, n)*(FB-FA)+FA, mu, sigma)"
   ]
  },
  {
   "cell_type": "code",
   "execution_count": 16,
   "metadata": {},
   "outputs": [],
   "source": [
    "##ベイジアン多変量回帰モデルをギブスサンプリングする関数\n",
    "def rmultireg(Y, X, inv_XXV, XY, Cov, ADelta, Deltabar, V, nu, n, col, k):\n",
    "    #事後分布のパラメータを設定\n",
    "    beta_mu = np.dot(inv_XXV, XY + np.dot(ADelta, Deltabar)).T.reshape(-1)   #平均ベクトル\n",
    "    sigma = np.kron(Cov, inv_XXV)   #分散共分散行列\n",
    "\n",
    "    #パラメータをサンプリング\n",
    "    beta_vec = np.random.multivariate_normal(beta_mu, sigma, 1)\n",
    "    beta = beta_vec.reshape(col, k, order='F')   #回帰行列に変換\n",
    "\n",
    "    \n",
    "    ##逆ウィシャート分布から分散共分散行列をサンプリング\n",
    "    #モデル誤差を設定\n",
    "    mu = np.dot(X, beta)\n",
    "    er = Y - mu\n",
    "\n",
    "    #逆ウィシャート分布のパラメータ\n",
    "    IW_R = np.dot(er.T, er) + V\n",
    "    Sn = n + nu\n",
    "\n",
    "    #パラメータをサンプリング\n",
    "    Cov = scipy.stats.invwishart.rvs(Sn, IW_R, 1)\n",
    "    return beta, Cov"
   ]
  },
  {
   "cell_type": "code",
   "execution_count": 17,
   "metadata": {},
   "outputs": [],
   "source": [
    "##アルゴリズムの設定\n",
    "k = 10\n",
    "R = 2000\n",
    "keep = 10\n",
    "burnin = int(100/keep)\n",
    "iter = 0\n",
    "disp = 10"
   ]
  },
  {
   "cell_type": "code",
   "execution_count": 18,
   "metadata": {},
   "outputs": [],
   "source": [
    "##事前分布の設定\n",
    "#階層モデルの事前分布\n",
    "delta = np.repeat(0, k)\n",
    "ADelta = np.diag(np.repeat(0.1, k))\n",
    "Deltabar = np.full((k, k), 0.0)\n",
    "nu = 1\n",
    "V = 0.1 * np.diag(np.ones(k))\n",
    "s01 = 0.1\n",
    "s01 = 0.1\n",
    "\n",
    "#モデルパラメータの事前分布\n",
    "tau = 100 \n",
    "s02 = 1.0\n",
    "v02 = 1.0"
   ]
  },
  {
   "cell_type": "code",
   "execution_count": 19,
   "metadata": {},
   "outputs": [],
   "source": [
    "##パラメータの真値\n",
    "#階層モデルの回帰係数の真値\n",
    "alpha1 = alphat1.copy()\n",
    "alpha2 = alphat2.copy()\n",
    "alpha_u = alphat_u.copy()\n",
    "alpha_v = alphat_v.copy()\n",
    "\n",
    "#階層モデルの分散の真値\n",
    "tau1 = taut1.copy()\n",
    "tau2 = taut2.copy()\n",
    "Cov_u = Covt_u.copy()\n",
    "Cov_v = Covt_v.copy()\n",
    "\n",
    "#モデルパラメータの真値\n",
    "Sigma = np.array([1.0])\n",
    "beta = betat.copy()\n",
    "beta1 = betat1.copy()\n",
    "beta2 = betat2.copy()\n",
    "theta_u = thetat_u.copy()\n",
    "theta_v = thetat_v.copy()\n",
    "theta_c = thetat_c.copy()\n",
    "omega = omegat.copy()\n",
    "\n",
    "#タッカー分解の期待値\n",
    "uv = np.repeat(0.0, hhpt)\n",
    "beta_vec1 = beta1[user_id]; beta_vec2 = beta2[item_id]\n",
    "theta_vec2 = theta_v[item_id, ]; theta_vec3 = theta_c[context_id, ]\n",
    "for j in range(k3):\n",
    "    uv += np.dot(np.dot(theta_u, omega[:, :, j])[user_id, ] * theta_vec2 * theta_vec3[:, j][:, np.newaxis], vec_k2)\n",
    "mu = beta + beta_vec1 + beta_vec2 + uv"
   ]
  },
  {
   "cell_type": "code",
   "execution_count": 20,
   "metadata": {},
   "outputs": [],
   "source": [
    "#切断領域を定義\n",
    "rho = 100.0\n",
    "a = (1-y)*(-rho) + y*0\n",
    "b = y*rho + (1-y)*0"
   ]
  },
  {
   "cell_type": "code",
   "execution_count": 80,
   "metadata": {},
   "outputs": [],
   "source": [
    "####ギブスサンプリングでパラメータをサンプリング####\n",
    "\n",
    "##切断正規分布から潜在効用を生成\n",
    "#モデルの期待値\n",
    "beta_vec1 = beta1[user_id]; beta_vec2 = beta2[item_id]\n",
    "theta_vec2 = theta_v[item_id, ]; theta_vec3 = theta_c[context_id, ]\n",
    "for j in range(k3):\n",
    "    uv += np.dot(np.dot(theta_u, omega[:, :, j])[user_id, ] * theta_vec2 * theta_vec3[:, j][:, np.newaxis], vec_k2)\n",
    "mu = beta + beta_vec1 + beta_vec2 + uv\n",
    "\n",
    "#潜在効用を生成\n",
    "U = rtnorm(mu, Sigma, a, b, hhpt)"
   ]
  },
  {
   "cell_type": "code",
   "execution_count": 81,
   "metadata": {},
   "outputs": [],
   "source": [
    "##モデルの期待値パラメータをサンプリング\n",
    "#データの設定\n",
    "Sigma_sq = np.power(Sigma, 2)\n",
    "er_y = U - beta_vec1 - beta_vec2 - uv\n",
    "\n",
    "#正規分布から期待値をサンプリング\n",
    "weights = np.power(tau, 2) / (Sigma_sq/hhpt + np.power(tau, 2))\n",
    "mu_par = weights * np.mean(er_y)\n",
    "beta = np.random.normal(mu_par, weights*Sigma_sq/hhpt, 1)    "
   ]
  },
  {
   "cell_type": "code",
   "execution_count": 92,
   "metadata": {},
   "outputs": [
    {
     "ename": "NameError",
     "evalue": "name 'item_list' is not defined",
     "output_type": "error",
     "traceback": [
      "\u001b[1;31m---------------------------------------------------------------------------\u001b[0m",
      "\u001b[1;31mNameError\u001b[0m                                 Traceback (most recent call last)",
      "\u001b[1;32m<ipython-input-92-bd2786b72b8b>\u001b[0m in \u001b[0;36m<module>\u001b[1;34m()\u001b[0m\n\u001b[0;32m     21\u001b[0m \u001b[0mmu_par\u001b[0m \u001b[1;33m=\u001b[0m \u001b[0mnp\u001b[0m\u001b[1;33m.\u001b[0m\u001b[0mrepeat\u001b[0m\u001b[1;33m(\u001b[0m\u001b[1;36m0.0\u001b[0m\u001b[1;33m,\u001b[0m \u001b[0mitem\u001b[0m\u001b[1;33m)\u001b[0m\u001b[1;33m\u001b[0m\u001b[0m\n\u001b[0;32m     22\u001b[0m \u001b[1;32mfor\u001b[0m \u001b[0mi\u001b[0m \u001b[1;32min\u001b[0m \u001b[0mrange\u001b[0m\u001b[1;33m(\u001b[0m\u001b[0mitem\u001b[0m\u001b[1;33m)\u001b[0m\u001b[1;33m:\u001b[0m\u001b[1;33m\u001b[0m\u001b[0m\n\u001b[1;32m---> 23\u001b[1;33m     \u001b[0mindex\u001b[0m \u001b[1;33m=\u001b[0m \u001b[0mitem_list\u001b[0m\u001b[1;33m[\u001b[0m\u001b[0mi\u001b[0m\u001b[1;33m]\u001b[0m\u001b[1;33m\u001b[0m\u001b[0m\n\u001b[0m\u001b[0;32m     24\u001b[0m     \u001b[0mweights\u001b[0m\u001b[1;33m[\u001b[0m\u001b[0mi\u001b[0m\u001b[1;33m]\u001b[0m \u001b[1;33m=\u001b[0m \u001b[0mnp\u001b[0m\u001b[1;33m.\u001b[0m\u001b[0mpower\u001b[0m\u001b[1;33m(\u001b[0m\u001b[0mtau2\u001b[0m\u001b[1;33m,\u001b[0m \u001b[1;36m2\u001b[0m\u001b[1;33m)\u001b[0m \u001b[1;33m/\u001b[0m \u001b[1;33m(\u001b[0m\u001b[0mSigma_sq\u001b[0m\u001b[1;33m/\u001b[0m\u001b[0mitem_n\u001b[0m\u001b[1;33m[\u001b[0m\u001b[0mi\u001b[0m\u001b[1;33m]\u001b[0m \u001b[1;33m+\u001b[0m \u001b[0mnp\u001b[0m\u001b[1;33m.\u001b[0m\u001b[0mpower\u001b[0m\u001b[1;33m(\u001b[0m\u001b[0mtau2\u001b[0m\u001b[1;33m,\u001b[0m \u001b[1;36m2\u001b[0m\u001b[1;33m)\u001b[0m\u001b[1;33m)\u001b[0m\u001b[1;33m\u001b[0m\u001b[0m\n\u001b[0;32m     25\u001b[0m     \u001b[0mmu_par\u001b[0m\u001b[1;33m[\u001b[0m\u001b[0mi\u001b[0m\u001b[1;33m]\u001b[0m \u001b[1;33m=\u001b[0m \u001b[0mweights\u001b[0m\u001b[1;33m[\u001b[0m\u001b[0mi\u001b[0m\u001b[1;33m]\u001b[0m \u001b[1;33m*\u001b[0m \u001b[0mnp\u001b[0m\u001b[1;33m.\u001b[0m\u001b[0mmean\u001b[0m\u001b[1;33m(\u001b[0m\u001b[0mer_y\u001b[0m\u001b[1;33m[\u001b[0m\u001b[0mindex\u001b[0m\u001b[1;33m]\u001b[0m\u001b[1;33m)\u001b[0m\u001b[1;33m\u001b[0m\u001b[0m\n",
      "\u001b[1;31mNameError\u001b[0m: name 'item_list' is not defined"
     ]
    }
   ],
   "source": [
    "##ユーザーのランダム効果をサンプリング\n",
    "#モデル誤差を定義\n",
    "er_y = U - beta - beta_vec2 - uv\n",
    "\n",
    "#正規分布から事後分布をサンプリング\n",
    "weights = np.repeat(0.0, hh)\n",
    "mu_par = np.repeat(0.0, hh)\n",
    "for i in range(hh):\n",
    "    index = user_list[i]\n",
    "    weights[i] = np.power(tau1, 2) / (Sigma_sq/pt[i] + np.power(tau1, 2))\n",
    "    mu_par[i] = weights[i] * np.mean(er_y[index]) \n",
    "beta1 = np.random.normal(mu_par, weights*Sigma_sq/pt)\n",
    "beta_vec1 = beta1[user_id]\n",
    "\n",
    "##アイテムのランダム効果をサンプリング\n",
    "#モデル誤差を定義\n",
    "er_y = U - beta - beta_vec1 - uv\n",
    "\n",
    "#正規分布から事後分布をサンプリング\n",
    "weights = np.repeat(0.0, item)\n",
    "mu_par = np.repeat(0.0, item)\n",
    "for i in range(item):\n",
    "    index = item_list[i]\n",
    "    weights[i] = np.power(tau2, 2) / (Sigma_sq/item_n[i] + np.power(tau2, 2))\n",
    "    mu_par[i] = weights[i] * np.mean(er_y[index]) \n",
    "beta2 = np.random.normal(mu_par, weights*Sigma_sq/pt)\n",
    "beta_vec2 = beta2[item_id]"
   ]
  },
  {
   "cell_type": "code",
   "execution_count": 86,
   "metadata": {},
   "outputs": [
    {
     "data": {
      "text/plain": [
       "array([0.5])"
      ]
     },
     "execution_count": 86,
     "metadata": {},
     "output_type": "execute_result"
    }
   ],
   "source": [
    "item_"
   ]
  },
  {
   "cell_type": "code",
   "execution_count": 91,
   "metadata": {},
   "outputs": [
    {
     "data": {
      "text/plain": [
       "array([253, 251, 215, ..., 181, 217, 347])"
      ]
     },
     "execution_count": 91,
     "metadata": {},
     "output_type": "execute_result"
    }
   ],
   "source": [
    "item_n"
   ]
  },
  {
   "cell_type": "code",
   "execution_count": 90,
   "metadata": {},
   "outputs": [
    {
     "data": {
      "text/plain": [
       "array([ 0.28621902, -0.9619673 , -0.33616586, ..., -1.27244922,\n",
       "       -2.07973676,  0.66820286])"
      ]
     },
     "execution_count": 90,
     "metadata": {},
     "output_type": "execute_result"
    }
   ],
   "source": [
    "betat1"
   ]
  },
  {
   "cell_type": "code",
   "execution_count": null,
   "metadata": {},
   "outputs": [],
   "source": []
  }
 ],
 "metadata": {
  "kernelspec": {
   "display_name": "Python 3",
   "language": "python",
   "name": "python3"
  },
  "language_info": {
   "codemirror_mode": {
    "name": "ipython",
    "version": 3
   },
   "file_extension": ".py",
   "mimetype": "text/x-python",
   "name": "python",
   "nbconvert_exporter": "python",
   "pygments_lexer": "ipython3",
   "version": "3.6.5"
  }
 },
 "nbformat": 4,
 "nbformat_minor": 2
}
