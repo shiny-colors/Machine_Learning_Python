{
 "cells": [
  {
   "cell_type": "code",
   "execution_count": 88,
   "metadata": {},
   "outputs": [],
   "source": [
    "####Duration time separation model####\n",
    "import numpy as np\n",
    "import pandas as pd\n",
    "import matplotlib.pyplot  as plt\n",
    "import numpy.matlib\n",
    "import scipy.linalg\n",
    "import itertools\n",
    "import math\n",
    "from scipy import sparse\n",
    "from scipy.stats import norm\n",
    "from pandas.tools.plotting import scatter_matrix\n",
    "from numpy.random import *\n",
    "from scipy import optimize\n",
    "\n",
    "#np.random.seed(98537)"
   ]
  },
  {
   "cell_type": "code",
   "execution_count": 89,
   "metadata": {},
   "outputs": [],
   "source": [
    "####データの生成####\n",
    "##データの設定\n",
    "s = 2\n",
    "unit = 5\n",
    "hh = 10000"
   ]
  },
  {
   "cell_type": "code",
   "execution_count": 90,
   "metadata": {},
   "outputs": [],
   "source": [
    "##パラメータの生成\n",
    "#セグメント割当の生成\n",
    "pi = np.array([0.6])\n",
    "z = np.random.binomial(1, pi, hh)\n",
    "index_z1 = np.array(np.where(z==1)[0], dtype=\"int\")\n",
    "index_z2 = np.array(np.where(z==0)[0], dtype=\"int\")\n",
    "hh1 = index_z1.shape[0]\n",
    "hh2 = index_z2.shape[0]\n",
    "\n",
    "#モデルパラメータの生成\n",
    "kappa = np.array([4.0, 1.0])\n",
    "theta = np.array([1.0, 2.0])\n",
    "phi = np.array([0.7, 0.2]) "
   ]
  },
  {
   "cell_type": "code",
   "execution_count": 91,
   "metadata": {},
   "outputs": [],
   "source": [
    "##応答変数の生成\n",
    "#継続時間の生成\n",
    "y1 = np.repeat(0.0, hh)\n",
    "y1[index_z1] = np.random.gamma(kappa[0], 1/theta[0], hh1)\n",
    "y1[index_z2] = np.random.gamma(kappa[1], 1/theta[1], hh2)\n",
    "\n",
    "#ユニット接触回数の生成\n",
    "y2 = np.repeat(0, hh)\n",
    "y2[index_z1] = np.random.binomial(unit, phi[0], hh1)\n",
    "y2[index_z2] = np.random.binomial(unit, phi[1], hh2)\n",
    "y2[y2==0] = 1"
   ]
  },
  {
   "cell_type": "code",
   "execution_count": 92,
   "metadata": {},
   "outputs": [
    {
     "data": {
      "text/plain": [
       "(array([3.167e+03, 1.090e+03, 8.910e+02, 9.460e+02, 9.620e+02, 8.740e+02,\n",
       "        6.760e+02, 4.720e+02, 3.050e+02, 2.200e+02, 1.460e+02, 1.020e+02,\n",
       "        6.400e+01, 3.600e+01, 2.100e+01, 1.100e+01, 8.000e+00, 1.000e+00,\n",
       "        3.000e+00, 1.000e+00, 1.000e+00, 0.000e+00, 0.000e+00, 1.000e+00,\n",
       "        2.000e+00]),\n",
       " array([ 0.        ,  0.748299  ,  1.496598  ,  2.24489699,  2.99319599,\n",
       "         3.74149499,  4.48979399,  5.23809299,  5.98639199,  6.73469098,\n",
       "         7.48298998,  8.23128898,  8.97958798,  9.72788698, 10.47618598,\n",
       "        11.22448497, 11.97278397, 12.72108297, 13.46938197, 14.21768097,\n",
       "        14.96597997, 15.71427896, 16.46257796, 17.21087696, 17.95917596,\n",
       "        18.70747496]),\n",
       " <a list of 25 Patch objects>)"
      ]
     },
     "execution_count": 92,
     "metadata": {},
     "output_type": "execute_result"
    },
    {
     "data": {
      "image/png": "[encoded data removed]",
      "text/plain": [
       "<Figure size 972x288 with 2 Axes>"
      ]
     },
     "metadata": {},
     "output_type": "display_data"
    }
   ],
   "source": [
    "#応答変数の可視化\n",
    "fig = plt.figure(figsize=(13.5, 4.0))\n",
    "ax1 = fig.add_subplot(1, 2, 1); ax2 = fig.add_subplot(1, 2, 2)\n",
    "ax1.hist(y1[index_z1], bins=25, range=[0.0, np.max(y1)])\n",
    "ax1.hist(y1[index_z2], bins=25, range=[0.0, np.max(y1)])\n",
    "ax2.hist(y1, bins=25, range=[0.0, np.max(y1)])"
   ]
  },
  {
   "cell_type": "code",
   "execution_count": 93,
   "metadata": {},
   "outputs": [],
   "source": [
    "####EMアルゴリズムでパラメータを推定####\n",
    "##パラメータを推定するための関数\n",
    "#観測データの尤度と潜在変数zを計算する関数\n",
    "def ollz(kappa, theta, phi, pi, y1, y2, value):\n",
    "    #モデルごとの尤度を定義\n",
    "    Lho11 = scipy.stats.gamma.pdf(y1, kappa[0], scale=1/theta[0])\n",
    "    Lho12 = scipy.stats.gamma.pdf(y1, kappa[1], scale=1/theta[1])\n",
    "    Lho21 = scipy.stats.binom.pmf(y2, unit, phi[0])\n",
    "    Lho22 = scipy.stats.binom.pmf(y2, unit, phi[1])\n",
    "    Lho11[Lho11==0.0] = value; Lho12[Lho12==0.0] = value\n",
    "\n",
    "    #観測データの対数尤度\n",
    "    Lho = np.hstack(((pi*Lho11*Lho21)[:, np.newaxis], (1-pi)*(Lho12*Lho22)[:, np.newaxis]))\n",
    "    LLobz = np.sum(np.log(np.sum(Lho, axis=1)))\n",
    "\n",
    "    #潜在変数zの定義\n",
    "    z = Lho / np.sum(Lho, axis=1)[:, np.newaxis]\n",
    "    return LLobz, z\n",
    "\n",
    "#完全データの対数尤度関数\n",
    "def cll(theta, z, y):\n",
    "    #パラメータの定義\n",
    "    alpha = np.exp(theta[:s])\n",
    "    beta = np.exp(theta[s:])\n",
    "\n",
    "    #重み付き対数尤度の和\n",
    "    y_vec = y[:, np.newaxis]\n",
    "    LL = np.sum(z * (alpha*np.log(beta) - scipy.special.loggamma(alpha) + (alpha-1)*np.log(y_vec) - beta*y_vec))\n",
    "    return -LL \n",
    "\n",
    "#完全データの対数微分関数\n",
    "def dll(theta, z, y):\n",
    "    #パラメータの定義\n",
    "    alpha = np.exp(theta[:s])\n",
    "    beta = np.exp(theta[s:])\n",
    "\n",
    "    #勾配ベクトル\n",
    "    y_vec = y[:, np.newaxis]\n",
    "    sc1 = np.sum(z * (np.log(beta) - scipy.special.digamma(alpha) + np.log(y_vec)), axis=0)\n",
    "    sc2 = np.sum(z * (alpha*(1/beta) - y_vec), axis=0)\n",
    "    return -np.append(sc1, sc2)"
   ]
  },
  {
   "cell_type": "code",
   "execution_count": 94,
   "metadata": {},
   "outputs": [],
   "source": [
    "##EMアルゴリズムの設定\n",
    "iters = 0\n",
    "rp = 200   #最大繰り返し数\n",
    "LL = -1000000000   #対数尤度の初期値\n",
    "dl = 100   #EMアルゴリズムの対数尤度の差の初期値\n",
    "tol = 0.1\n",
    "value = np.power(10.0, -200)\n",
    "maxit = 20   #準ニュートン法のステップ数"
   ]
  },
  {
   "cell_type": "code",
   "execution_count": 95,
   "metadata": {},
   "outputs": [],
   "source": [
    "##EMアルゴリズムの初期値\n",
    "#混合率と潜在変数の初期値\n",
    "pi = np.array([1/s])\n",
    "zpt = np.repeat(pi, hh)\n",
    "\n",
    "#パラメータの初期値\n",
    "kappa = np.random.uniform(0.5, 3.0, s)\n",
    "theta = np.random.uniform(0.5, 2.0, s)\n",
    "phi = np.random.beta(25.0, 25.0, s)"
   ]
  },
  {
   "cell_type": "code",
   "execution_count": 96,
   "metadata": {},
   "outputs": [],
   "source": [
    "#観測データの対数尤度と潜在変数\n",
    "oll = ollz(kappa, theta, phi, pi, y1, y2, value)\n",
    "zpt = oll[1]\n",
    "LL1 = oll[0]"
   ]
  },
  {
   "cell_type": "code",
   "execution_count": 97,
   "metadata": {
    "scrolled": true
   },
   "outputs": [
    {
     "name": "stdout",
     "output_type": "stream",
     "text": [
      "-36987.92972368733\n",
      "-35939.65317464653\n",
      "-34425.71076694069\n",
      "-33510.25921530997\n",
      "-32953.52172395944\n",
      "-32678.4458486933\n",
      "-32593.191057347656\n",
      "-32546.646980255402\n",
      "-32512.508299089815\n",
      "-32473.89268803243\n",
      "-32451.66868065518\n",
      "-32432.87364748295\n",
      "-32419.42007099949\n",
      "-32403.254778335948\n",
      "-32392.52307747033\n",
      "-32384.39965983826\n",
      "-32378.632173829687\n",
      "-32370.824014612692\n",
      "-32366.75015279527\n",
      "-32361.972369666186\n",
      "-32358.366814521873\n",
      "-32355.58365636531\n",
      "-32353.328738076754\n",
      "-32351.45209012276\n",
      "-32349.869755627416\n",
      "-32348.52793752\n",
      "-32347.38761052629\n",
      "-32346.431815177086\n",
      "-32345.646543159877\n",
      "-32344.9607554178\n",
      "-32344.344658658854\n",
      "-32343.85427480745\n",
      "-32343.43459109999\n",
      "-32343.06375723784\n",
      "-32342.768028198465\n",
      "-32342.515664956623\n",
      "-32342.293279059828\n",
      "-32342.119007320056\n",
      "-32341.973670828604\n",
      "-32341.8537699351\n",
      "-32341.75522825013\n"
     ]
    }
   ],
   "source": [
    "##EMアルゴリズムでパラメータを推定\n",
    "while abs(dl) >= tol:\n",
    "    #Mステップで完全データ対数尤度を最大化\n",
    "    res = optimize.minimize(cll, np.log(np.append(kappa, theta)), jac=dll, method=\"BFGS\", args=(zpt, y1), options={\"disp\": False})\n",
    "    kappa = np.exp(res.x[:s])\n",
    "    theta = np.exp(res.x[s:])\n",
    "    phi = np.sum(zpt*y2[:, np.newaxis], axis=0) / np.sum(unit*zpt, axis=0)\n",
    "\n",
    "    #混合率を更新\n",
    "    pi = np.sum(zpt[:, 0]) / hh\n",
    "\n",
    "    #Eステップで観測データの対数尤度と潜在変数zを更新\n",
    "    oll = ollz(kappa, theta, phi, pi, y1, y2, value)\n",
    "    zpt = oll[1]\n",
    "    LL = oll[0]\n",
    "\n",
    "    #EMアルゴリズムのパラメータを更新\n",
    "    iters = iters + 1\n",
    "    dl = LL - LL1\n",
    "    LL1 = LL\n",
    "    print(LL)"
   ]
  },
  {
   "cell_type": "code",
   "execution_count": 98,
   "metadata": {
    "scrolled": true
   },
   "outputs": [],
   "source": [
    "#推定結果のパラメータから乱数を生成\n",
    "y11 = np.random.gamma(kappa[0], 1/theta[0], int(hh*pi))\n",
    "y12 = np.random.gamma(kappa[1], 1/theta[1], int(hh*(1-pi)))\n",
    "result_y1 = np.append(y11, y12)\n",
    "index_z1 = np.arange(y11.shape[0])\n",
    "index_z2 = np.max(index_z1) + np.arange(y12.shape[0]) + 1"
   ]
  },
  {
   "cell_type": "code",
   "execution_count": 99,
   "metadata": {},
   "outputs": [
    {
     "data": {
      "image/png": "[encoded data removed]",
      "text/plain": [
       "<Figure size 864x504 with 3 Axes>"
      ]
     },
     "metadata": {},
     "output_type": "display_data"
    }
   ],
   "source": [
    "#推定結果と元データを可視化\n",
    "fig = plt.figure(figsize=(12.0, 7.0))\n",
    "legend = [\"応答変数の分布\", \n",
    "          \"推定結果から生成したデータのセグメントごとの分布\", \"推定結果から生成したデータの分布\"]\n",
    "ax1 = fig.add_subplot(2, 2, 1); ax2 = fig.add_subplot(2, 2, 2)\n",
    "ax3 = fig.add_subplot(2, 2, 3)\n",
    "ax1.hist(y1, bins=25, range=[0.0, np.max(y1)])\n",
    "ax1.set_title(legend[0], fontsize=12.5)\n",
    "ax2.hist(result_y1[index_z1], bins=25, range=[0.0, np.max(y1)])\n",
    "ax2.hist(result_y1[index_z2], bins=25, range=[0.0, np.max(y1)])\n",
    "ax2.set_title(legend[1], fontsize=12.5)\n",
    "ax3.hist(np.append(y11, y12), bins=25, range=[0.0, np.max(y1)])\n",
    "ax3.set_title(legend[2], fontsize=12.5)\n",
    "fig.tight_layout()"
   ]
  },
  {
   "cell_type": "code",
   "execution_count": null,
   "metadata": {},
   "outputs": [],
   "source": []
  },
  {
   "cell_type": "code",
   "execution_count": null,
   "metadata": {},
   "outputs": [],
   "source": []
  },
  {
   "cell_type": "code",
   "execution_count": null,
   "metadata": {},
   "outputs": [],
   "source": []
  },
  {
   "cell_type": "code",
   "execution_count": null,
   "metadata": {},
   "outputs": [],
   "source": []
  }
 ],
 "metadata": {
  "kernelspec": {
   "display_name": "Python 3",
   "language": "python",
   "name": "python3"
  },
  "language_info": {
   "codemirror_mode": {
    "name": "ipython",
    "version": 3
   },
   "file_extension": ".py",
   "mimetype": "text/x-python",
   "name": "python",
   "nbconvert_exporter": "python",
   "pygments_lexer": "ipython3",
   "version": "3.6.5"
  }
 },
 "nbformat": 4,
 "nbformat_minor": 2
}
