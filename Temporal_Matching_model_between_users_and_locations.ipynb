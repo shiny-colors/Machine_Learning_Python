{
 "cells": [
  {
   "cell_type": "code",
   "execution_count": 70,
   "metadata": {},
   "outputs": [],
   "source": [
    "# Temporal Aatching model between Users and Locations\n",
    "import numpy as np\n",
    "import pandas as pd\n",
    "import matplotlib.pyplot  as plt\n",
    "import numpy.matlib\n",
    "import scipy.linalg\n",
    "import itertools\n",
    "import calendar\n",
    "from datetime import datetime\n",
    "from datetime import timedelta\n",
    "from scipy import sparse\n",
    "from scipy.stats import norm\n",
    "from numpy.random import *\n",
    "from scipy import optimize"
   ]
  },
  {
   "cell_type": "code",
   "execution_count": 71,
   "metadata": {},
   "outputs": [],
   "source": [
    "# 連続した日付を取得する関数\n",
    "def daterange(_start, _end):\n",
    "    for n in range((_end - _start).days):\n",
    "        yield _start + timedelta(n)\n",
    "        \n",
    "# 切断ポアソン分布を生成する関数\n",
    "def rtpois(mu, a, b, n):\n",
    "    FA = scipy.stats.poisson.cdf(a, mu)\n",
    "    FB = scipy.stats.poisson.cdf(b, mu)\n",
    "    return np.array(scipy.stats.poisson.ppf(np.random.uniform(0, 1, n)*(FB-FA)+FA, mu), dtype=\"int\")\n",
    "\n",
    "# 多項分布の乱数を生成する関数\n",
    "def rmnom(pr, n, k, pattern):\n",
    "    if pattern==1:\n",
    "        z_id = np.array(np.argmax(np.cumsum(pr, axis=1) >= np.random.uniform(0, 1, n)[:, np.newaxis], axis=1), dtype=\"int\")\n",
    "        Z = np.diag(np.repeat(1, k))[z_id, ]\n",
    "        return z_id, Z\n",
    "    z_id = np.array(np.argmax((np.cumsum(pr, axis=1) >= np.random.uniform(0, 1, n)[:, np.newaxis]), axis=1), dtype=\"int\")\n",
    "    return z_id"
   ]
  },
  {
   "cell_type": "code",
   "execution_count": 72,
   "metadata": {},
   "outputs": [],
   "source": [
    "# シミュレーションデータを生成\n",
    "# 日付データを作成\n",
    "# 対象期間の日付と曜日情報を出力\n",
    "start = datetime.strptime('2014-01-01', '%Y-%m-%d')\n",
    "end   = datetime.strptime('2019-09-30', '%Y-%m-%d')\n",
    "get_date = np.array([])\n",
    "day_of_week = np.array([], dtype=\"int\")\n",
    "for day in daterange(start, end):\n",
    "    get_date = np.append(get_date, day)\n",
    "    day_of_week = np.append(day_of_week, day.weekday())\n",
    "    \n",
    "#日付を定義\n",
    "index_week = np.array(np.where(day_of_week < 5)[0], dtype=\"int\")\n",
    "Timestamp = pd.Series(get_date).iloc[index_week]\n",
    "date = pd.DataFrame({\"date\": Timestamp.astype(\"U\")})\n",
    "date_df = pd.merge(date, pd.DataFrame({\"date\": np.unique(date), \"date_id\": np.arange(date.shape[0])}), on=\"date\", how=\"inner\")\n",
    "year = pd.DataFrame({\"year\": Timestamp.astype(\"U\").str[:4]})\n",
    "unique_year = np.unique(year)\n",
    "year_df = pd.merge(year, pd.DataFrame({\"year\": unique_year, \"year_id\": np.arange(unique_year.shape[0])}), on=\"year\", how=\"inner\")\n",
    "month = pd.DataFrame({\"month\": Timestamp.astype(\"U\").str[5:7]})\n",
    "unique_month = np.unique(month)\n",
    "month_df = pd.merge(month, pd.DataFrame({\"month\": unique_month, \"month_id\": np.arange(unique_month.shape[0])}), on=\"month\", how=\"inner\")\n",
    "\n",
    "#週を定義\n",
    "new_week = day_of_week[index_week]\n",
    "index = np.array(np.where((new_week-4)==0)[0], dtype=\"int\")\n",
    "week_n = index.shape[0]\n",
    "week = np.repeat(0, new_week.shape[0])\n",
    "for i in range(week_n):\n",
    "    if i==0:\n",
    "        get = np.arange(0, index[i]+1)\n",
    "        week[get] = np.repeat(i, get.shape[0])\n",
    "    else:\n",
    "        get = np.arange(index[i-1]+1, index[i]+1)\n",
    "        week[get] = np.repeat(i, get.shape[0])\n",
    "        \n",
    "#データフレームを作成\n",
    "calendar_df = pd.concat((date_df, year_df, month_df, pd.DataFrame({\"week_id\": week})), axis=1)\n",
    "date = np.array(calendar_df[\"date_id\"], dtype=\"int\")\n",
    "year = np.array(calendar_df[\"year_id\"], dtype=\"int\")\n",
    "month = np.array(calendar_df[\"month_id\"], dtype=\"int\")\n",
    "week = np.array(calendar_df[\"week_id\"], dtype=\"int\")"
   ]
  },
  {
   "cell_type": "code",
   "execution_count": 73,
   "metadata": {},
   "outputs": [],
   "source": [
    "# データの定義\n",
    "k = 10\n",
    "hh = 5000\n",
    "place = 3000\n",
    "category = 50\n",
    "area = 25\n",
    "Lambda = np.random.gamma(40.0, 1/0.3, hh)\n",
    "pt = np.random.poisson(Lambda, hh)\n",
    "hhpt = np.sum(pt)\n",
    "k_vec = np.repeat(1.0, k)"
   ]
  },
  {
   "cell_type": "code",
   "execution_count": 74,
   "metadata": {},
   "outputs": [],
   "source": [
    "# idとインデックスを定義\n",
    "# idの定義\n",
    "d_id = np.repeat(np.arange(hh), pt)\n",
    "pt_id = np.array(list(itertools.chain(*[np.array(range(pt[i]), dtype=\"int\") for i in range(hh)])))\n",
    "\n",
    "#インデックスを定義\n",
    "d_list = [i for i in range(hh)]\n",
    "for i in range(hh):\n",
    "    d_list[i] = np.array(np.where(d_id==i)[0], dtype=\"int\")"
   ]
  },
  {
   "cell_type": "code",
   "execution_count": 43,
   "metadata": {},
   "outputs": [],
   "source": [
    "# placeを選択\n",
    "#トピックを生成\n",
    "topic = 30 \n",
    "theta_topic = np.random.dirichlet(np.repeat(0.2, topic), hh)\n",
    "phi_place = np.random.dirichlet(np.repeat(0.2, place), topic)\n",
    "z = np.array(rmnom(theta_topic[d_id, ], hhpt, topic, 0), dtype=\"int16\")\n",
    "\n",
    "# 多項分布からplaceを生成\n",
    "place_id = np.repeat(0, hhpt)\n",
    "for i in range(hh):\n",
    "    index = d_list[i]\n",
    "    place_id[index] = rmnom(phi_place[z[index], ], pt[i], place, 0)\n",
    "    \n",
    "# インデックスを定義\n",
    "place_list = [i for i in range(place)]\n",
    "place_n = np.repeat(0, place)\n",
    "for i in range(place):\n",
    "    place_list[i] = np.array(np.where(place_id==i)[0], dtype=\"int\")\n",
    "    place_n[i] = place_list[i].shape[0]"
   ]
  },
  {
   "cell_type": "code",
   "execution_count": 81,
   "metadata": {},
   "outputs": [],
   "source": [
    "# areaとcategoryを選択\n",
    "# トピックを生成\n",
    "theta_place = np.random.dirichlet(np.repeat(0.3, topic), 1).reshape(-1)\n",
    "phi_area = np.random.dirichlet(np.repeat(0.2, area), topic)\n",
    "phi_category = np.random.dirichlet(np.repeat(0.2, category), place)\n",
    "s = np.array(np.argmax(np.random.multinomial(1, theta_place, place), axis=1), dtype=\"int\")\n",
    "\n",
    "# 多項分布からareaとcategoryを生成\n",
    "area_id = rmnom(phi_area[s, ], place, area, 0)[place_id]\n",
    "category_id = rmnom(phi_category[s, ], place, category, 0)[place_id]\n",
    "\n",
    "# インデックスを定義\n",
    "area_list = [i for i in range(place)]\n",
    "category_list = [i for i in range(category)]\n",
    "area_n = np.repeat(0, area)\n",
    "category_n = np.repeat(0, category)\n",
    "for i in range(area):\n",
    "    area_list[i] = np.array(np.where(area_id==i)[0], dtype=\"int\")\n",
    "    area_n[i] = area_list[i].shape[0]\n",
    "for i in range(category):\n",
    "    category_list[i] = np.array(np.where(category_id==i)[0], dtype=\"int\")\n",
    "    category_n[i] = category_list[i].shape[0]"
   ]
  },
  {
   "cell_type": "code",
   "execution_count": 54,
   "metadata": {},
   "outputs": [],
   "source": [
    "# 日付と時間を割り当て\n",
    "# トピックを生成\n",
    "weekday = 2\n",
    "hours = 24\n",
    "phi_weekday = np.random.beta(3.0, 5.0, place)\n",
    "phi_hours = np.random.dirichlet(np.repeat(0.1, hours), place)\n",
    "z = np.array(rmnom(theta_topic[d_id, ], hhpt, topic, 0), dtype=\"int16\")\n",
    "\n",
    "# 多項分布から日付と時間を生成\n",
    "day_id = np.repeat(0, hhpt)\n",
    "hours_id = np.repeat(0, hhpt)\n",
    "for i in range(hh):\n",
    "    index = d_list[i]\n",
    "    day_id[index] = np.random.binomial(1, phi_weekday[z[index]], pt[i])\n",
    "    hours_id[index] = rmnom(phi_hours[z[index], ], pt[i], hours, 0)"
   ]
  },
  {
   "cell_type": "code",
   "execution_count": 56,
   "metadata": {},
   "outputs": [
    {
     "data": {
      "text/plain": [
       "array([ 3,  1, 18, ..., 18, 18, 16])"
      ]
     },
     "execution_count": 56,
     "metadata": {},
     "output_type": "execute_result"
    }
   ],
   "source": [
    "hours_id"
   ]
  },
  {
   "cell_type": "code",
   "execution_count": null,
   "metadata": {},
   "outputs": [],
   "source": []
  },
  {
   "cell_type": "code",
   "execution_count": null,
   "metadata": {},
   "outputs": [],
   "source": []
  },
  {
   "cell_type": "code",
   "execution_count": null,
   "metadata": {},
   "outputs": [],
   "source": []
  }
 ],
 "metadata": {
  "kernelspec": {
   "display_name": "Python 3",
   "language": "python",
   "name": "python3"
  },
  "language_info": {
   "codemirror_mode": {
    "name": "ipython",
    "version": 3
   },
   "file_extension": ".py",
   "mimetype": "text/x-python",
   "name": "python",
   "nbconvert_exporter": "python",
   "pygments_lexer": "ipython3",
   "version": "3.7.3"
  }
 },
 "nbformat": 4,
 "nbformat_minor": 2
}
