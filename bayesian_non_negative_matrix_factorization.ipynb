{
 "cells": [
  {
   "cell_type": "code",
   "execution_count": null,
   "metadata": {},
   "outputs": [],
   "source": [
    "# ベイジアン非負値行列因子分解\n",
    "# ライブラリを読み込み\n",
    "import numpy as np\n",
    "import pandas as pd\n",
    "import matplotlib.pyplot  as plt\n",
    "import numpy.matlib\n",
    "import scipy\n",
    "import scipy.stats as ss\n",
    "from numpy.random import *\n",
    "from scipy import optimize\n",
    "from scipy.stats import norm"
   ]
  },
  {
   "cell_type": "code",
   "execution_count": null,
   "metadata": {},
   "outputs": [],
   "source": [
    "# データの発生\n",
    "# データの設定\n",
    "hh = 3000   #ユーザー数\n",
    "item = 500   #アイテム数\n",
    "k = 10   #基底数"
   ]
  },
  {
   "cell_type": "code",
   "execution_count": null,
   "metadata": {},
   "outputs": [],
   "source": [
    "# 非負値行列因子分解の仮定に基づきデータを生成\n",
    "# ガンマ分布よりパラメータを生成\n",
    "alpha01 = 0.2; beta01 = 1.0\n",
    "alpha02 = 0.15; beta02 = 0.8\n",
    "W0 = numpy.random.gamma(alpha01, int(1/beta01), hh*k).reshape(hh, k)\n",
    "H0 = numpy.random.gamma(alpha02, int(1/beta02), item*k).reshape(k, item)\n",
    "WH = np.dot(W0, H0)"
   ]
  },
  {
   "cell_type": "code",
   "execution_count": null,
   "metadata": {
    "scrolled": true
   },
   "outputs": [],
   "source": [
    "# ポアソン分布よりデータを生成\n",
    "Data = np.zeros((hh, item))\n",
    "for j in range(item):\n",
    "    Data[:, j] = numpy.random.poisson(WH[:, j], hh)\n",
    "\n",
    "# 購買数を確認\n",
    "print(np.round(np.sum(Data, axis=0), 0))\n",
    "print(np.round(np.sum(Data, axis=1), 0))\n",
    "\n",
    "# ベストな対数尤度\n",
    "LLbest = np.sum(scipy.stats.poisson.logpmf(Data, WH))\n",
    "print(LLbest)"
   ]
  },
  {
   "cell_type": "code",
   "execution_count": null,
   "metadata": {},
   "outputs": [],
   "source": [
    "# マルコフ連鎖モンテカルロ法で非負値行列因子分解を推定\n",
    "# アルゴリズムの設定\n",
    "R = 5000\n",
    "keep = 2\n",
    "disp = 100\n",
    "burnin = int(1000/keep)\n",
    "\n",
    "# 事前分布の設定\n",
    "alpha1 = 0.01; beta1 = 0.01\n",
    "alpha2 = 0.01; beta2 = 0.01\n",
    "\n",
    "# 初期値の設定\n",
    "W = numpy.random.gamma(0.1, 1/0.1, hh*k).reshape(hh, k)\n",
    "H = numpy.random.gamma(0.1, 1/0.1, item*k).reshape(k, item)\n",
    "\n",
    "# サンプリング結果の保存用配列\n",
    "W_array = np.zeros((hh, k, int(R/keep)))\n",
    "H_array = np.zeros((k, item, int(R/keep)))\n",
    "LAMBDA = np.zeros((hh, item))"
   ]
  },
  {
   "cell_type": "code",
   "execution_count": null,
   "metadata": {
    "scrolled": true
   },
   "outputs": [],
   "source": [
    "# ギブスサンプリングでパラメータをサンプリング\n",
    "for rp in range(R):\n",
    "    \n",
    "    # ガンマ分布からWをサンプリング\n",
    "    WH = np.dot(W, H)\n",
    "    Lambda = np.zeros((hh, item, k))\n",
    "    # 補助変数lambdaを更新\n",
    "    for j in range(k):\n",
    "        Lambda[:, :, j] = np.dot(W[:, j].reshape(hh, 1), H[j, :].reshape(1, item)) / WH\n",
    "\n",
    "    # ガンマ分布からパラメータを生成\n",
    "    for j in range(k):\n",
    "        w1 = alpha1 + np.sum(Lambda[:, :, j] * Data, axis=1)\n",
    "        w2 = beta1 + sum(H[j, :])\n",
    "        W[:, j] = numpy.random.gamma(w1, 1/w2, hh) \n",
    "\n",
    "    # 各列ベクトルの要素を正規化\n",
    "    W = W / np.sum(W, axis=0).repeat(hh).reshape(k, hh).T * hh/5\n",
    "\n",
    "\n",
    "    # ガンマ分布よりHをサンプリング\n",
    "    WH = np.dot(W, H)\n",
    "    Lambda = np.zeros((hh, item, k))\n",
    "    # 補助変数lambdaを更新\n",
    "    for j in range(k):\n",
    "        Lambda[:, :, j] = np.dot(W[:, j].reshape(hh, 1), H[j, :].reshape(1, item)) / WH\n",
    "\n",
    "    # ガンマ分布からパラメータを生成\n",
    "    for j in range(k):\n",
    "        h1 = alpha1 + np.sum(Lambda[:, :, j] * Data, axis=0)\n",
    "        h2 = beta1 + sum(W[:, j])\n",
    "        H[j, :] = numpy.random.gamma(h1, 1/h2, item) \n",
    "\n",
    "\n",
    "    # サンプリング結果の格納と表示\n",
    "    if rp%keep==0:\n",
    "        mkeep = int(rp/keep)\n",
    "        W_array[:, :, mkeep] = W\n",
    "        H_array[:, :, mkeep] = H\n",
    "\n",
    "    if rp%disp==0:\n",
    "        LL = np.sum(scipy.stats.poisson.logpmf(Data, WH))   # 非負値行列因子分解の対数尤度\n",
    "        print(rp)\n",
    "        print(np.round(np.array((LL, LLbest)), 1))"
   ]
  },
  {
   "cell_type": "code",
   "execution_count": null,
   "metadata": {},
   "outputs": [],
   "source": []
  },
  {
   "cell_type": "code",
   "execution_count": null,
   "metadata": {},
   "outputs": [],
   "source": []
  },
  {
   "cell_type": "code",
   "execution_count": null,
   "metadata": {},
   "outputs": [],
   "source": []
  }
 ],
 "metadata": {
  "kernelspec": {
   "display_name": "Python 3",
   "language": "python",
   "name": "python3"
  },
  "language_info": {
   "codemirror_mode": {
    "name": "ipython",
    "version": 3
   },
   "file_extension": ".py",
   "mimetype": "text/x-python",
   "name": "python",
   "nbconvert_exporter": "python",
   "pygments_lexer": "ipython3",
   "version": "3.7.3"
  }
 },
 "nbformat": 4,
 "nbformat_minor": 2
}
