{
 "cells": [
  {
   "cell_type": "code",
   "execution_count": 1,
   "metadata": {
    "collapsed": true
   },
   "outputs": [],
   "source": [
    "#####ベイジアン非負値行列因子分解#####\n",
    "##ライブラリを読み込み\n",
    "import numpy as np\n",
    "import pandas as pd\n",
    "import matplotlib.pyplot  as plt\n",
    "import numpy.matlib\n",
    "import scipy\n",
    "import scipy.stats as ss\n",
    "from numpy.random import *\n",
    "from scipy import optimize\n",
    "from scipy.stats import norm"
   ]
  },
  {
   "cell_type": "code",
   "execution_count": 2,
   "metadata": {
    "collapsed": true
   },
   "outputs": [],
   "source": [
    "####データの発生####\n",
    "#np.random.seed(8742)   #シードを設定\n",
    "\n",
    "#データの設定\n",
    "hh = 3000   #ユーザー数\n",
    "item = 500   #アイテム数\n",
    "k = 10   #基底数"
   ]
  },
  {
   "cell_type": "code",
   "execution_count": 3,
   "metadata": {
    "collapsed": true
   },
   "outputs": [],
   "source": [
    "##非負値行列因子分解の仮定に基づきデータを生成\n",
    "#ガンマ分布よりパラメータを生成\n",
    "alpha01 = 0.2; beta01 = 1.0\n",
    "alpha02 = 0.15; beta02 = 0.8\n",
    "W0 = numpy.random.gamma(alpha01, int(1/beta01), hh*k).reshape(hh, k)\n",
    "H0 = numpy.random.gamma(alpha02, int(1/beta02), item*k).reshape(k, item)\n",
    "WH = np.dot(W0, H0)"
   ]
  },
  {
   "cell_type": "code",
   "execution_count": 4,
   "metadata": {},
   "outputs": [
    {
     "name": "stdout",
     "output_type": "stream",
     "text": [
      "[   75.   519.  1498.   884.   787.  2218.  3678.   239.   898.   127.\n",
      "  2599.  1086.   323.   272.   433.   429.   581.    64.   434.   112.\n",
      "   618.   548.  1508.  1412.   164.   181.   819.   957.   245.  2003.\n",
      "   214.   860.  1588.   639.   244.   780.  1744.   464.  1245.   545.\n",
      "   631.   853.  1676.  1983.   551.    70.   247.  2518.   108.  2126.\n",
      "   360.   617.  1933.  1387.   713.   549.   966.  1045.   445.  2727.\n",
      "   951.  1466.  1548.   803.   470.   277.   755.  1377.  1092.   755.\n",
      "    22.   864.   165.  2261.   439.   440.    83.   675.  1578.   223.\n",
      "    53.   780.   229.  1513.  1001.   490.   172.   168.   780.   837.\n",
      "  1128.   731.   456.   389.   459.   533.   741.  1338.   196.  1188.\n",
      "   172.  2056.  1161.  1613.  1032.  1448.  1192.   497.  1154.   176.\n",
      "   329.   607.   388.   494.    88.   324.   459.   505.   569.   533.\n",
      "   415.    62.  1163.  1619.  2476.   899.   256.  1384.   239.   722.\n",
      "   563.   995.    77.   196.   732.   533.   409.   340.   346.  1546.\n",
      "  1218.   592.   640.  1599.   595.   574.   605.  1796.    30.   377.\n",
      "   771.   328.  1297.  1186.   219.  1682.   721.  1208.   576.  1071.\n",
      "   706.   717.   825.   735.   137.   243.    34.  1237.   685.   367.\n",
      "  2164.  1386.   310.  1871.   481.   522.   181.   445.   523.    49.\n",
      "    88.  1562.   156.   306.    51.  1959.   296.   321.   480.  2462.\n",
      "   482.   373.   339.  1762.  1045.   675.   374.   749.   220.   466.\n",
      "  1015.  2798.  3812.   123.   572.   899.   157.   822.   161.   939.\n",
      "  2972.  3083.  1950.   535.   456.  1483.  2830.  1852.  1500.   833.\n",
      "  1167.   175.    57.   323.   686.  2280.  1209.  1673.   305.   562.\n",
      "   754.   203.  1056.   802.  1118.  3302.  1405.   438.   370.   183.\n",
      "   700.   466.   932.   285.  2472.   105.  2006.  1514.   149.   236.\n",
      "   796.  3426.   815.     5.   355.  1963.    76.   680.  1207.    84.\n",
      "  1104.   465.   328.   321.  1516.   469.   267.   895.   345.    69.\n",
      "   496.  1121.   698.   523.   651.   821.   321.   565.   681.   289.\n",
      "   339.  2446.   184.  2247.   384.  1230.   859.   795.   478.   522.\n",
      "   904.   307.  2371.   266.   449.  3034.   901.  2044.    99.  1603.\n",
      "   979.  1683.   290.  1225.  1214.   676.   423.  2039.    99.  1057.\n",
      "   824.  1931.   657.   690.   863.   315.   695.   143.   104.  1036.\n",
      "  1194.   476.  1161.   294.  1338.   481.   539.  1294.  1129.   730.\n",
      "   336.   523.   651.  3428.   317.   826.   991.   970.   697.   262.\n",
      "   619.   919.  2315.    63.  1740.   450.  1543.  1249.   378.   176.\n",
      "     9.   942.   160.   407.   421.  2011.   283.   632.   547.  3171.\n",
      "   448.  1300.   676.  1716.   624.   429.  2638.   647.   389.  1850.\n",
      "   250.   140.  1173.   273.   924.   654.  1749.   305.  1366.   358.\n",
      "   496.   153.   992.  1393.   310.   990.  1812.   462.  2390.   597.\n",
      "   781.   548.   831.   440.  1430.   858.   564.  1108.   333.  2248.\n",
      "   716.  1779.   372.   510.  1609.   531.   711.  2646.   242.   770.\n",
      "   762.  1721.   566.  1090.    61.    91.   402.   267.    65.   133.\n",
      "  1288.   762.   433.  1158.   640.   239.    63.  1381.   543.  1397.\n",
      "   327.  1392.  1879.   422.   732.   468.  2753.   995.   499.   856.\n",
      "   129.  3418.    44.  2222.    67.   527.    67.   901.  1156.   939.\n",
      "   318.   448.   184.  1181.  1074.  1116.   574.   306.  1029.   223.\n",
      "  1881.  1906.    14.    58.  1919.   753.  1487.   350.  2810.   846.\n",
      "   940.   289.  2838.  1152.  2676.   478.   447.   553.   140.   746.\n",
      "   953.   969.   244.  2118.  1896.   208.   519.   101.   496.   747.\n",
      "   708.   264.  1290.   898.    86.    56.  1942.   988.  2507.   119.]\n",
      "[ 102.  128.   77. ...,  212.  254.   18.]\n",
      "-689462.167257\n"
     ]
    }
   ],
   "source": [
    "#ポアソン分布よりデータを生成\n",
    "Data = np.zeros((hh, item))\n",
    "for j in range(item):\n",
    "    Data[:, j] = numpy.random.poisson(WH[:, j], hh)\n",
    "\n",
    "#購買数を確認\n",
    "print(np.round(np.sum(Data, axis=0), 0))\n",
    "print(np.round(np.sum(Data, axis=1), 0))\n",
    "\n",
    "#ベストな対数尤度\n",
    "LLbest = np.sum(scipy.stats.poisson.logpmf(Data, WH))\n",
    "print(LLbest)"
   ]
  },
  {
   "cell_type": "code",
   "execution_count": 269,
   "metadata": {
    "collapsed": true
   },
   "outputs": [],
   "source": [
    "####マルコフ連鎖モンテカルロ法で非負値行列因子分解を推定####\n",
    "##アルゴリズムの設定\n",
    "R = 5000\n",
    "keep = 2\n",
    "disp = 10\n",
    "burnin = int(1000/keep)\n",
    "\n",
    "##事前分布の設定\n",
    "alpha1 = 0.01; beta1 = 0.01\n",
    "alpha2 = 0.01; beta2 = 0.01\n",
    "\n",
    "##初期値の設定\n",
    "W = numpy.random.gamma(0.1, 1/0.1, hh*k).reshape(hh, k)\n",
    "H = numpy.random.gamma(0.1, 1/0.1, item*k).reshape(k, item)\n",
    "\n",
    "##サンプリング結果の保存用配列\n",
    "W_array = np.zeros((hh, k, int(R/keep)))\n",
    "H_array = np.zeros((k, item, int(R/keep)))\n",
    "LAMBDA = np.zeros((hh, item))"
   ]
  },
  {
   "cell_type": "code",
   "execution_count": 270,
   "metadata": {},
   "outputs": [
    {
     "name": "stdout",
     "output_type": "stream",
     "text": [
      "0\n",
      "[-3227650.3  -708663. ]\n",
      "10\n",
      "[-902066.8 -708663. ]\n",
      "20\n",
      "[-873010.6 -708663. ]\n",
      "30\n",
      "[-856824.6 -708663. ]\n",
      "40\n",
      "[-842073.3 -708663. ]\n",
      "50\n",
      "[-827563.5 -708663. ]\n",
      "60\n",
      "[-812227.7 -708663. ]\n",
      "70\n",
      "[-799664.4 -708663. ]\n"
     ]
    },
    {
     "ename": "KeyboardInterrupt",
     "evalue": "",
     "output_type": "error",
     "traceback": [
      "\u001b[1;31m---------------------------------------------------------------------------\u001b[0m",
      "\u001b[1;31mKeyboardInterrupt\u001b[0m                         Traceback (most recent call last)",
      "\u001b[1;32m<ipython-input-270-63351bf6c275>\u001b[0m in \u001b[0;36m<module>\u001b[1;34m()\u001b[0m\n\u001b[0;32m     11\u001b[0m     \u001b[1;31m#ガンマ分布からパラメータを生成\u001b[0m\u001b[1;33m\u001b[0m\u001b[1;33m\u001b[0m\u001b[0m\n\u001b[0;32m     12\u001b[0m     \u001b[1;32mfor\u001b[0m \u001b[0mj\u001b[0m \u001b[1;32min\u001b[0m \u001b[0mrange\u001b[0m\u001b[1;33m(\u001b[0m\u001b[0mk\u001b[0m\u001b[1;33m)\u001b[0m\u001b[1;33m:\u001b[0m\u001b[1;33m\u001b[0m\u001b[0m\n\u001b[1;32m---> 13\u001b[1;33m         \u001b[0mw1\u001b[0m \u001b[1;33m=\u001b[0m \u001b[0malpha1\u001b[0m \u001b[1;33m+\u001b[0m \u001b[0mnp\u001b[0m\u001b[1;33m.\u001b[0m\u001b[0msum\u001b[0m\u001b[1;33m(\u001b[0m\u001b[0mLambda\u001b[0m\u001b[1;33m[\u001b[0m\u001b[1;33m:\u001b[0m\u001b[1;33m,\u001b[0m \u001b[1;33m:\u001b[0m\u001b[1;33m,\u001b[0m \u001b[0mj\u001b[0m\u001b[1;33m]\u001b[0m \u001b[1;33m*\u001b[0m \u001b[0mData\u001b[0m\u001b[1;33m,\u001b[0m \u001b[0maxis\u001b[0m\u001b[1;33m=\u001b[0m\u001b[1;36m1\u001b[0m\u001b[1;33m)\u001b[0m\u001b[1;33m\u001b[0m\u001b[0m\n\u001b[0m\u001b[0;32m     14\u001b[0m         \u001b[0mw2\u001b[0m \u001b[1;33m=\u001b[0m \u001b[0mbeta1\u001b[0m \u001b[1;33m+\u001b[0m \u001b[0msum\u001b[0m\u001b[1;33m(\u001b[0m\u001b[0mH\u001b[0m\u001b[1;33m[\u001b[0m\u001b[0mj\u001b[0m\u001b[1;33m,\u001b[0m \u001b[1;33m:\u001b[0m\u001b[1;33m]\u001b[0m\u001b[1;33m)\u001b[0m\u001b[1;33m\u001b[0m\u001b[0m\n\u001b[0;32m     15\u001b[0m         \u001b[0mW\u001b[0m\u001b[1;33m[\u001b[0m\u001b[1;33m:\u001b[0m\u001b[1;33m,\u001b[0m \u001b[0mj\u001b[0m\u001b[1;33m]\u001b[0m \u001b[1;33m=\u001b[0m \u001b[0mnumpy\u001b[0m\u001b[1;33m.\u001b[0m\u001b[0mrandom\u001b[0m\u001b[1;33m.\u001b[0m\u001b[0mgamma\u001b[0m\u001b[1;33m(\u001b[0m\u001b[0mw1\u001b[0m\u001b[1;33m,\u001b[0m \u001b[1;36m1\u001b[0m\u001b[1;33m/\u001b[0m\u001b[0mw2\u001b[0m\u001b[1;33m,\u001b[0m \u001b[0mhh\u001b[0m\u001b[1;33m)\u001b[0m\u001b[1;33m\u001b[0m\u001b[0m\n",
      "\u001b[1;31mKeyboardInterrupt\u001b[0m: "
     ]
    }
   ],
   "source": [
    "####ギブスサンプリングでパラメータをサンプリング####\n",
    "for rp in range(R):\n",
    "    \n",
    "    ##ガンマ分布からWをサンプリング\n",
    "    WH = np.dot(W, H)\n",
    "    Lambda = np.zeros((hh, item, k))\n",
    "    #補助変数lambdaを更新\n",
    "    for j in range(k):\n",
    "        Lambda[:, :, j] = np.dot(W[:, j].reshape(hh, 1), H[j, :].reshape(1, item)) / WH\n",
    "\n",
    "    #ガンマ分布からパラメータを生成\n",
    "    for j in range(k):\n",
    "        w1 = alpha1 + np.sum(Lambda[:, :, j] * Data, axis=1)\n",
    "        w2 = beta1 + sum(H[j, :])\n",
    "        W[:, j] = numpy.random.gamma(w1, 1/w2, hh) \n",
    "\n",
    "    #各列ベクトルの要素を正規化\n",
    "    W = W / np.sum(W, axis=0).repeat(hh).reshape(k, hh).T * hh/5\n",
    "\n",
    "\n",
    "    ##ガンマ分布よりHをサンプリング\n",
    "    WH = np.dot(W, H)\n",
    "    Lambda = np.zeros((hh, item, k))\n",
    "    #補助変数lambdaを更新\n",
    "    for j in range(k):\n",
    "        Lambda[:, :, j] = np.dot(W[:, j].reshape(hh, 1), H[j, :].reshape(1, item)) / WH\n",
    "\n",
    "    #ガンマ分布からパラメータを生成\n",
    "    for j in range(k):\n",
    "        h1 = alpha1 + np.sum(Lambda[:, :, j] * Data, axis=0)\n",
    "        h2 = beta1 + sum(W[:, j])\n",
    "        H[j, :] = numpy.random.gamma(h1, 1/h2, item) \n",
    "\n",
    "\n",
    "    ##サンプリング結果の格納と表示\n",
    "    if rp%keep==0:\n",
    "        mkeep = int(rp/keep)\n",
    "        W_array[:, :, mkeep] = W\n",
    "        H_array[:, :, mkeep] = H\n",
    "\n",
    "    if rp%disp==0:\n",
    "        LL = np.sum(scipy.stats.poisson.logpmf(Data, WH))   #非負値行列因子分解の対数尤度\n",
    "        print(rp)\n",
    "        print(np.round(np.array((LL, LLbest)), 1))"
   ]
  },
  {
   "cell_type": "code",
   "execution_count": 263,
   "metadata": {},
   "outputs": [
    {
     "data": {
      "text/plain": [
       "array([-886611.3, -709941.4])"
      ]
     },
     "execution_count": 263,
     "metadata": {},
     "output_type": "execute_result"
    }
   ],
   "source": []
  },
  {
   "cell_type": "code",
   "execution_count": 258,
   "metadata": {},
   "outputs": [
    {
     "data": {
      "text/plain": [
       "array([[-0.0233711 , -0.29913695, -0.04385204, ..., -2.3449761 ,\n",
       "        -0.12098072, -0.21637346],\n",
       "       [-1.08195989, -0.71632631, -0.09320898, ..., -0.21105694,\n",
       "        -1.30729323, -1.71476141],\n",
       "       [-0.0407584 , -0.38928373, -0.01054559, ..., -0.02768325,\n",
       "        -0.07608852, -1.11797549],\n",
       "       ..., \n",
       "       [-0.04508845, -0.70308476, -0.13833732, ..., -0.18364243,\n",
       "        -0.63322439, -1.09316311],\n",
       "       [-0.05620867, -2.5570406 , -0.02323603, ..., -0.0597573 ,\n",
       "        -0.16449201, -2.1906021 ],\n",
       "       [-0.0609607 , -0.47437417, -0.03582721, ..., -0.10243519,\n",
       "        -0.1641441 , -0.22614619]])"
      ]
     },
     "execution_count": 258,
     "metadata": {},
     "output_type": "execute_result"
    }
   ],
   "source": []
  },
  {
   "cell_type": "code",
   "execution_count": null,
   "metadata": {
    "collapsed": true
   },
   "outputs": [],
   "source": []
  }
 ],
 "metadata": {
  "kernelspec": {
   "display_name": "Python 3",
   "language": "python",
   "name": "python3"
  },
  "language_info": {
   "codemirror_mode": {
    "name": "ipython",
    "version": 3
   },
   "file_extension": ".py",
   "mimetype": "text/x-python",
   "name": "python",
   "nbconvert_exporter": "python",
   "pygments_lexer": "ipython3",
   "version": "3.7.3"
  }
 },
 "nbformat": 4,
 "nbformat_minor": 2
}
