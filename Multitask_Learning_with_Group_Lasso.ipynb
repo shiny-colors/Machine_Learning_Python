{
 "cells": [
  {
   "cell_type": "code",
   "execution_count": 144,
   "metadata": {},
   "outputs": [],
   "source": [
    "#####Group Lassoによるマルチタスク学習#####\n",
    "import numpy as np\n",
    "import pandas as pd\n",
    "import matplotlib.pyplot  as plt\n",
    "import numpy.matlib\n",
    "import scipy.linalg\n",
    "import itertools\n",
    "import seaborn as sns\n",
    "from scipy import sparse\n",
    "from scipy.stats import norm\n",
    "from pandas.tools.plotting import scatter_matrix\n",
    "from numpy.random import *\n",
    "from scipy import optimize\n",
    "\n",
    "#np.random.seed(98537)"
   ]
  },
  {
   "cell_type": "code",
   "execution_count": 154,
   "metadata": {},
   "outputs": [],
   "source": [
    "####データの生成####\n",
    "##データの設定\n",
    "g = 15   #グループ数\n",
    "T = 50   #タスク数\n",
    "n1 = np.random.poisson(np.random.gamma(7.5, 1/0.005, T))   \n",
    "n2 = np.random.poisson(np.random.gamma(5.0, 1/0.005, T))   \n",
    "N1 = np.sum(n1)\n",
    "N2 = np.sum(n2)"
   ]
  },
  {
   "cell_type": "code",
   "execution_count": 155,
   "metadata": {},
   "outputs": [],
   "source": [
    "##入力変数と応答変数を生成\n",
    "#トピック分布の設定\n",
    "k = 1000\n",
    "topic = 30\n",
    "theta = np.random.dirichlet(np.repeat(0.2, topic), T)\n",
    "phi = np.random.dirichlet(np.repeat(0.2, k), topic)\n",
    "\n",
    "#パラメータを生成\n",
    "beta = np.vstack((np.random.normal(10.0, 1.5, T), np.random.multivariate_normal(np.repeat(0, T), np.diag(np.repeat(0.5, T)), k)))\n",
    "beta[1:, ] = beta[1:, ] * np.random.binomial(1, 0.4, k)[:, np.newaxis]\n",
    "beta[1:, ] = beta[1:, ] * np.random.binomial(1, 0.25, k*T).reshape(k, T)\n",
    "Sigma = np.sqrt(1/np.random.gamma(10/2, 1/10, T))\n",
    "betat = beta.copy(); Sigmat = Sigma.copy()\n",
    "\n",
    "#タスクごとにデータを生成\n",
    "x1_list = [i for i in range(T)]\n",
    "x2_list = [i for i in range(T)]\n",
    "y1_list = [i for i in range(T)]\n",
    "y2_list = [i for i in range(T)]\n",
    "\n",
    "for i in range(T):\n",
    "    #トピックを生成\n",
    "    z1 = np.dot(np.random.multinomial(1, theta[i, ], n1[i]), np.arange(topic))\n",
    "    z2 = np.dot(np.random.multinomial(1, theta[i, ], n2[i]), np.arange(topic))\n",
    "\n",
    "    #データを生成\n",
    "    pt1 = np.random.poisson(np.random.gamma(12.5, 1/0.15, n1[i]))\n",
    "    pt2 = np.random.poisson(np.random.gamma(12.5, 1/0.15, n2[i]))\n",
    "    x1 = np.zeros((n1[i], k), dtype=\"int\")\n",
    "    x2 = np.zeros((n2[i], k), dtype=\"int\")\n",
    "\n",
    "    #学習データを生成\n",
    "    for j in range(n1[i]):\n",
    "        x1[j, ] = np.random.multinomial(pt1[j], phi[z1[j], ], 1).reshape(-1)\n",
    "    x1_list[i] = np.hstack((np.repeat(1, n1[i])[:, np.newaxis], x1))\n",
    "    y1_list[i] = np.dot(x1_list[i], beta[:, i]) + np.random.normal(0, Sigma[i], n1[i])\n",
    "\n",
    "    #テストデータを生成\n",
    "    for j in range(n2[i]):\n",
    "        x2[j, ] = np.random.multinomial(pt2[j], phi[z2[j], ], 1).reshape(-1)\n",
    "    x2_list[i] = np.hstack((np.repeat(1, n2[i])[:, np.newaxis], x2))\n",
    "    y2_list[i] = np.dot(x2_list[i], beta[:, i]) + np.random.normal(0, Sigma[i], n2[i])"
   ]
  },
  {
   "cell_type": "code",
   "execution_count": 156,
   "metadata": {
    "scrolled": true
   },
   "outputs": [
    {
     "name": "stdout",
     "output_type": "stream",
     "text": [
      "0\n",
      "100\n",
      "200\n",
      "300\n",
      "400\n",
      "500\n",
      "600\n",
      "700\n",
      "800\n",
      "900\n",
      "1000\n"
     ]
    }
   ],
   "source": [
    "####交互方向乗数法による推定####\n",
    "##データの定数を定義\n",
    "#データの格納用配列\n",
    "xx1_list = [i for i in range(k+1)]\n",
    "xx2_list = [i for i in range(k+1)]\n",
    "xy_list = [i for i in range(k+1)]\n",
    "\n",
    "#変数のターゲット\n",
    "index_target = np.zeros((k+1, k), dtype=\"int\")\n",
    "for j in range(k+1):\n",
    "    index_target[j, ] = np.delete(np.arange(k+1), j)\n",
    "\n",
    "#変数ごとに定数を定義\n",
    "for i in range(k+1):\n",
    "    if i%100==0:\n",
    "        print(i)\n",
    "    xx1 = np.zeros((T, T))\n",
    "    xx2 = np.zeros((T, k))\n",
    "    xy = np.repeat(0, T)\n",
    "    for j in range(T):\n",
    "        x = x1_list[j]; y = y1_list[j]\n",
    "        xx1[j, j] = np.dot(x[:, i].T, x[:, i])\n",
    "        xx2[j, ] = np.dot(x[:, i].T, x[:, index_target[i, ]])\n",
    "        xy[j] = np.dot(x[:, i].T, y)\n",
    "\n",
    "    #リストに格納\n",
    "    xx1_list[i] = xx1\n",
    "    xx2_list[i] = xx2\n",
    "    xy_list[i] = xy"
   ]
  },
  {
   "cell_type": "code",
   "execution_count": 359,
   "metadata": {},
   "outputs": [],
   "source": [
    "#初期値の設定\n",
    "Lambda1 = 0.1\n",
    "Lambda2 = Lambda1 * np.sqrt(T)\n",
    "rho = 0.25\n",
    "beta[0, ] = np.array([np.mean(y1_list[j]) for j in range(T)])\n",
    "beta[1:, ] = np.random.multivariate_normal(np.repeat(0, T), np.diag(np.repeat(0.25, T)), k)\n",
    "gamma = beta + np.random.multivariate_normal(np.repeat(0, T), np.diag(np.repeat(0.1, T)))\n",
    "u = beta + np.random.multivariate_normal(np.repeat(0, T), np.diag(np.repeat(0.1, T)))\n",
    "Sigma = np.repeat(1, T)\n",
    "gamma_sums1 = np.sum(np.abs(gamma))"
   ]
  },
  {
   "cell_type": "code",
   "execution_count": 360,
   "metadata": {},
   "outputs": [],
   "source": [
    "beta = betat.copy()\n",
    "i = 0 \n",
    "xx1 = xx1_list[i]; xx2 = xx2_list[i]; xy = xy_list[i]\n",
    "inv_xxv = np.linalg.inv(xx1 + np.diag(n1))\n",
    "beta[i, ] = np.dot(inv_xxv, xy - np.diag(np.dot(xx2, beta[index_target[i, ]])))"
   ]
  },
  {
   "cell_type": "code",
   "execution_count": 361,
   "metadata": {},
   "outputs": [
    {
     "name": "stdout",
     "output_type": "stream",
     "text": [
      "647334.2029775688\n",
      "1380.406388634396\n",
      "1016.8226180152919\n",
      "937.0080818724576\n",
      "942.5523891013247\n",
      "838.7106519706533\n",
      "976.6885991186966\n",
      "835.412783091328\n",
      "934.1069612058955\n",
      "902.044759215754\n",
      "932.9157858787236\n",
      "835.2107763863053\n",
      "1021.0327589964348\n",
      "853.0708284437568\n",
      "899.7261793361654\n",
      "919.2190764304241\n",
      "948.7790300265397\n",
      "838.5532071107713\n",
      "972.217197544958\n",
      "847.2140410463128\n",
      "954.772626591549\n",
      "925.4747854159825\n",
      "904.9999209793244\n",
      "813.2318945932914\n",
      "1029.1774379610924\n",
      "897.8845654431188\n",
      "896.9422852370845\n"
     ]
    },
    {
     "ename": "KeyboardInterrupt",
     "evalue": "",
     "output_type": "error",
     "traceback": [
      "\u001b[1;31m---------------------------------------------------------------------------\u001b[0m",
      "\u001b[1;31mKeyboardInterrupt\u001b[0m                         Traceback (most recent call last)",
      "\u001b[1;32m<ipython-input-361-8de906851178>\u001b[0m in \u001b[0;36m<module>\u001b[1;34m()\u001b[0m\n\u001b[0;32m     18\u001b[0m     \u001b[1;32mfor\u001b[0m \u001b[0mi\u001b[0m \u001b[1;32min\u001b[0m \u001b[0mrange\u001b[0m\u001b[1;33m(\u001b[0m\u001b[0mT\u001b[0m\u001b[1;33m)\u001b[0m\u001b[1;33m:\u001b[0m\u001b[1;33m\u001b[0m\u001b[0m\n\u001b[0;32m     19\u001b[0m         \u001b[0mx\u001b[0m \u001b[1;33m=\u001b[0m \u001b[0mx1_list\u001b[0m\u001b[1;33m[\u001b[0m\u001b[0mi\u001b[0m\u001b[1;33m]\u001b[0m\u001b[1;33m;\u001b[0m \u001b[0my\u001b[0m \u001b[1;33m=\u001b[0m \u001b[0my1_list\u001b[0m\u001b[1;33m[\u001b[0m\u001b[0mi\u001b[0m\u001b[1;33m]\u001b[0m\u001b[1;33m\u001b[0m\u001b[0m\n\u001b[1;32m---> 20\u001b[1;33m         \u001b[0mmu\u001b[0m \u001b[1;33m=\u001b[0m \u001b[0mnp\u001b[0m\u001b[1;33m.\u001b[0m\u001b[0mdot\u001b[0m\u001b[1;33m(\u001b[0m\u001b[0mx\u001b[0m\u001b[1;33m,\u001b[0m \u001b[0mgamma\u001b[0m\u001b[1;33m[\u001b[0m\u001b[1;33m:\u001b[0m\u001b[1;33m,\u001b[0m \u001b[0mi\u001b[0m\u001b[1;33m]\u001b[0m\u001b[1;33m)\u001b[0m\u001b[1;33m\u001b[0m\u001b[0m\n\u001b[0m\u001b[0;32m     21\u001b[0m         \u001b[0mLLt\u001b[0m\u001b[1;33m[\u001b[0m\u001b[0mi\u001b[0m\u001b[1;33m]\u001b[0m \u001b[1;33m=\u001b[0m \u001b[0mnp\u001b[0m\u001b[1;33m.\u001b[0m\u001b[0msum\u001b[0m\u001b[1;33m(\u001b[0m\u001b[0mnp\u001b[0m\u001b[1;33m.\u001b[0m\u001b[0mpower\u001b[0m\u001b[1;33m(\u001b[0m\u001b[0my\u001b[0m \u001b[1;33m-\u001b[0m \u001b[0mmu\u001b[0m\u001b[1;33m,\u001b[0m \u001b[1;36m2\u001b[0m\u001b[1;33m)\u001b[0m\u001b[1;33m)\u001b[0m \u001b[1;33m/\u001b[0m \u001b[0mn1\u001b[0m\u001b[1;33m[\u001b[0m\u001b[0mi\u001b[0m\u001b[1;33m]\u001b[0m\u001b[1;33m\u001b[0m\u001b[0m\n\u001b[0;32m     22\u001b[0m     \u001b[0mLL\u001b[0m \u001b[1;33m=\u001b[0m \u001b[0mnp\u001b[0m\u001b[1;33m.\u001b[0m\u001b[0msum\u001b[0m\u001b[1;33m(\u001b[0m\u001b[0mLLt\u001b[0m\u001b[1;33m)\u001b[0m \u001b[1;33m+\u001b[0m \u001b[0mLambda1\u001b[0m\u001b[1;33m*\u001b[0m\u001b[0mnp\u001b[0m\u001b[1;33m.\u001b[0m\u001b[0msum\u001b[0m\u001b[1;33m(\u001b[0m\u001b[0mnp\u001b[0m\u001b[1;33m.\u001b[0m\u001b[0msqrt\u001b[0m\u001b[1;33m(\u001b[0m\u001b[0mT\u001b[0m\u001b[1;33m)\u001b[0m\u001b[1;33m*\u001b[0m\u001b[0mnp\u001b[0m\u001b[1;33m.\u001b[0m\u001b[0msqrt\u001b[0m\u001b[1;33m(\u001b[0m\u001b[0mnp\u001b[0m\u001b[1;33m.\u001b[0m\u001b[0mdiag\u001b[0m\u001b[1;33m(\u001b[0m\u001b[0mnp\u001b[0m\u001b[1;33m.\u001b[0m\u001b[0mdot\u001b[0m\u001b[1;33m(\u001b[0m\u001b[0mgamma\u001b[0m\u001b[1;33m.\u001b[0m\u001b[0mT\u001b[0m\u001b[1;33m,\u001b[0m \u001b[0mgamma\u001b[0m\u001b[1;33m)\u001b[0m\u001b[1;33m)\u001b[0m\u001b[1;33m)\u001b[0m\u001b[1;33m)\u001b[0m\u001b[1;33m\u001b[0m\u001b[0m\n",
      "\u001b[1;31mKeyboardInterrupt\u001b[0m: "
     ]
    }
   ],
   "source": [
    "for rp in range(100):\n",
    "    #betaを更新\n",
    "    for i in range(T):\n",
    "        xx1 = xx1_list[i]; xx2 = xx2_list[i]; xy = xy_list[i]\n",
    "        inv_xxv = np.linalg.inv(xx1 + rho*np.diag(n1))\n",
    "        beta[i, ] = np.dot(inv_xxv, xy - np.diag(np.dot(xx2, beta[index_target[i, ]])) + n1*rho*(gamma[i, ] - (1/rho)*u[i, ]))\n",
    "\n",
    "    #軟閾値作用素によりgammaを更新\n",
    "    gamma = beta + u/rho\n",
    "    z = np.sign(gamma)\n",
    "    gamma = ((gamma - z*Lambda1) * np.array(np.abs(gamma - z*Lambda2) > Lambda2, dtype=\"int\"))\n",
    "\n",
    "    #uを更新\n",
    "    u = u + rho*(beta - gamma)\n",
    "\n",
    "    #平均二乗誤差和を更新\n",
    "    LLt = np.repeat(0.0, T)\n",
    "    for i in range(T):\n",
    "        x = x1_list[i]; y = y1_list[i]\n",
    "        mu = np.dot(x, gamma[:, i])\n",
    "        LLt[i] = np.sum(np.power(y - mu, 2)) / n1[i]\n",
    "    LL = np.sum(LLt) + Lambda1*np.sum(np.sqrt(T)*np.sqrt(np.diag(np.dot(gamma.T, gamma))))\n",
    "    print(LL)"
   ]
  },
  {
   "cell_type": "code",
   "execution_count": 376,
   "metadata": {},
   "outputs": [
    {
     "name": "stdout",
     "output_type": "stream",
     "text": [
      "[ 0.  0.  0. -0.  0.  0. -0. -0. -0. -0.  0.  0.  0.  0.  0.  0.  0.  0.\n",
      " -0.  0. -0.  0. -0. -0.  0.  0.  0. -0.  0. -0. -0.  0.  0.  0.  0.  0.\n",
      " -0.  0. -0. -0.  0. -0. -0. -0. -0.  0.  0.  0. -0.  0.]\n",
      "[ 0.  0.  0. -0. -0. -0. -0. -0. -0.  0. -0. -0. -0.  0. -0.  0.  0. -0.\n",
      " -0.  0.  0. -0. -0.  0.  0.  0. -0.  0. -0. -0. -0. -0. -0.  0. -0.  0.\n",
      " -0.  0.  0. -0. -0.  0.  0. -0. -0. -0. -0. -0.  0.  0.]\n"
     ]
    }
   ],
   "source": [
    "i = 7\n",
    "print(gamma[i, ])\n",
    "print(betat[i, ])"
   ]
  },
  {
   "cell_type": "code",
   "execution_count": 377,
   "metadata": {},
   "outputs": [
    {
     "data": {
      "text/plain": [
       "array([[10.57757148, 12.19962336, 10.07324333, ..., 10.49617708,\n",
       "         7.72347675,  9.95409896],\n",
       "       [ 0.        , -0.        , -0.        , ...,  0.        ,\n",
       "        -0.        , -0.        ],\n",
       "       [ 0.        , -0.        , -0.        , ...,  0.        ,\n",
       "        -0.        , -0.        ],\n",
       "       ...,\n",
       "       [-0.        ,  0.        , -0.        , ...,  0.        ,\n",
       "         0.        , -0.        ],\n",
       "       [-0.        , -0.        ,  0.        , ..., -0.        ,\n",
       "        -1.80487394, -0.        ],\n",
       "       [ 0.        , -0.        ,  0.        , ..., -0.        ,\n",
       "        -0.        , -0.        ]])"
      ]
     },
     "execution_count": 377,
     "metadata": {},
     "output_type": "execute_result"
    }
   ],
   "source": [
    "gamma"
   ]
  },
  {
   "cell_type": "code",
   "execution_count": 258,
   "metadata": {},
   "outputs": [
    {
     "data": {
      "text/plain": [
       "20574.815409111918"
      ]
     },
     "execution_count": 258,
     "metadata": {},
     "output_type": "execute_result"
    }
   ],
   "source": [
    "gamma_sums"
   ]
  },
  {
   "cell_type": "code",
   "execution_count": 260,
   "metadata": {},
   "outputs": [
    {
     "data": {
      "text/plain": [
       "24462.654994735407"
      ]
     },
     "execution_count": 260,
     "metadata": {},
     "output_type": "execute_result"
    }
   ],
   "source": []
  },
  {
   "cell_type": "code",
   "execution_count": 120,
   "metadata": {},
   "outputs": [],
   "source": [
    "i = 1\n",
    "j = 0\n",
    "b = np.repeat(0.0, T)\n",
    "for j in range(T):\n",
    "    x = x1_list[j]; y = y1_list[j]\n",
    "    x1 = x[:, i]\n",
    "    x2 = x[:, index_target[i, ]]\n",
    "    beta_target = beta[index_target[i,], j]\n",
    "    er_y = y - np.dot(x2, beta_target)\n",
    "    b[j] = np.dot(er_y, x1) / n1[j]"
   ]
  },
  {
   "cell_type": "code",
   "execution_count": 125,
   "metadata": {},
   "outputs": [
    {
     "data": {
      "text/plain": [
       "array([0.96071394, 0.99241794, 0.99902468, 0.98846513, 0.97913602,\n",
       "       0.99757698, 0.9987417 , 0.99878674, 0.9936527 , 0.99074908,\n",
       "       0.99842057, 0.9986379 , 0.97261704, 0.99591465, 0.99563903,\n",
       "       0.99628673, 0.99628649, 0.99525764, 0.99124077, 0.9921314 ,\n",
       "       0.99682234, 0.99727353, 0.98901611, 0.9934912 , 0.98825055,\n",
       "       0.99904567, 0.98468766, 0.98981052, 0.98451333, 0.99330006,\n",
       "       0.9873775 , 0.99992027, 0.99182028, 0.99880589, 0.98791264,\n",
       "       0.99099412, 0.99887385, 0.97365691, 0.99902426, 0.99419288,\n",
       "       0.99247971, 0.99915752, 0.99781236, 0.98617359, 0.97270765,\n",
       "       0.99277895, 0.9979184 , 0.99182532, 0.97005212, 0.99541826,\n",
       "       0.99653041, 0.99893189, 0.98658035, 0.99805112, 0.99812589,\n",
       "       0.98622936, 0.98651728, 0.99938825, 0.98311241, 0.99760657,\n",
       "       0.9985575 , 0.99872517, 0.96632635, 0.9896115 , 0.99170338,\n",
       "       0.99459624, 0.99999187, 0.9805385 , 0.98861949, 0.99415174,\n",
       "       0.99898757, 0.99775301, 0.99081667, 0.99569988, 0.96394285,\n",
       "       0.99157421, 0.99458236, 0.9919702 , 0.99579917, 0.99304648,\n",
       "       0.9921059 , 0.99131081, 0.99743313, 0.99297338, 0.9928624 ,\n",
       "       0.98857111, 0.99800342, 0.99611409, 0.99380918, 0.99001502,\n",
       "       0.99705493, 0.98769011, 0.99612051, 0.99781469, 0.96900563,\n",
       "       0.99700652, 0.9974428 , 0.98779434, 0.99318585, 0.99714291])"
      ]
     },
     "execution_count": 125,
     "metadata": {},
     "output_type": "execute_result"
    }
   ],
   "source": [
    "z = np.sign(b)\n",
    "np.abs(b - z*Lambda2)  "
   ]
  },
  {
   "cell_type": "code",
   "execution_count": 66,
   "metadata": {},
   "outputs": [
    {
     "data": {
      "text/plain": [
       "-0.0"
      ]
     },
     "execution_count": 66,
     "metadata": {},
     "output_type": "execute_result"
    }
   ],
   "source": [
    "\n",
    "\n",
    "\n",
    "z = np.sign(b)\n",
    "b * np.array(np.abs(b - z*Lambda) > Lambda, dtype=\"int\")"
   ]
  },
  {
   "cell_type": "code",
   "execution_count": 68,
   "metadata": {},
   "outputs": [
    {
     "data": {
      "text/plain": [
       "array([[10.20123751,  9.11631827,  8.31429717, ..., 10.86326689,\n",
       "        10.53206037,  9.84469279],\n",
       "       [ 0.05132926, -0.06632402,  0.4024639 , ..., -0.49786756,\n",
       "         0.23132907,  0.06516642],\n",
       "       [-0.65985498,  0.38733991, -0.51967357, ...,  0.02462773,\n",
       "        -0.15548003,  0.38731719],\n",
       "       ...,\n",
       "       [-0.24424392, -0.67262604, -0.47692225, ...,  0.73802663,\n",
       "        -0.07706822, -0.23223432],\n",
       "       [-0.8196179 , -0.54582875,  0.73158199, ...,  0.13091347,\n",
       "        -0.02622204,  0.2585272 ],\n",
       "       [-0.54729017,  0.11243547, -0.48848592, ..., -0.56552892,\n",
       "        -0.15626555,  0.32250439]])"
      ]
     },
     "execution_count": 68,
     "metadata": {},
     "output_type": "execute_result"
    }
   ],
   "source": [
    "beta_target"
   ]
  },
  {
   "cell_type": "code",
   "execution_count": 61,
   "metadata": {},
   "outputs": [
    {
     "data": {
      "text/plain": [
       "-1.0"
      ]
     },
     "execution_count": 61,
     "metadata": {},
     "output_type": "execute_result"
    }
   ],
   "source": []
  },
  {
   "cell_type": "code",
   "execution_count": null,
   "metadata": {},
   "outputs": [],
   "source": []
  }
 ],
 "metadata": {
  "kernelspec": {
   "display_name": "Python 3",
   "language": "python",
   "name": "python3"
  },
  "language_info": {
   "codemirror_mode": {
    "name": "ipython",
    "version": 3
   },
   "file_extension": ".py",
   "mimetype": "text/x-python",
   "name": "python",
   "nbconvert_exporter": "python",
   "pygments_lexer": "ipython3",
   "version": "3.6.5"
  }
 },
 "nbformat": 4,
 "nbformat_minor": 2
}
