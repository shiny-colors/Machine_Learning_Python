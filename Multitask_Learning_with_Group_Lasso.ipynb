{
 "cells": [
  {
   "cell_type": "code",
   "execution_count": 5,
   "metadata": {},
   "outputs": [],
   "source": [
    "#####Group Lassoによるマルチタスク学習#####\n",
    "import numpy as np\n",
    "import pandas as pd\n",
    "import matplotlib.pyplot  as plt\n",
    "import numpy.matlib\n",
    "import scipy.linalg\n",
    "import itertools\n",
    "import seaborn as sns\n",
    "from scipy import sparse\n",
    "from scipy.stats import norm\n",
    "from pandas.tools.plotting import scatter_matrix\n",
    "from numpy.random import *\n",
    "from scipy import optimize\n",
    "\n",
    "#np.random.seed(98537)"
   ]
  },
  {
   "cell_type": "code",
   "execution_count": 6,
   "metadata": {},
   "outputs": [],
   "source": [
    "####データの生成####\n",
    "##データの設定\n",
    "g = 15   #グループ数\n",
    "T = 30   #タスク数\n",
    "n1 = np.random.poisson(np.random.gamma(7.5, 1/0.005, T))   \n",
    "n2 = np.random.poisson(np.random.gamma(5.0, 1/0.005, T))   \n",
    "N1 = np.sum(n1)\n",
    "N2 = np.sum(n2)"
   ]
  },
  {
   "cell_type": "code",
   "execution_count": 7,
   "metadata": {},
   "outputs": [],
   "source": [
    "##入力変数と応答変数を生成\n",
    "#トピック分布の設定\n",
    "k = 1000\n",
    "topic = 30\n",
    "theta = np.random.dirichlet(np.repeat(0.2, topic), T)\n",
    "phi = np.random.dirichlet(np.repeat(0.2, k), topic)\n",
    "\n",
    "#パラメータを生成\n",
    "beta = np.vstack((np.random.normal(10.0, 1.5, T), np.random.multivariate_normal(np.repeat(0, T), np.diag(np.repeat(0.5, T)), k)))\n",
    "beta[1:, ] = beta[1:, ] * np.random.binomial(1, 0.4, k)[:, np.newaxis]\n",
    "beta[1:, ] = beta[1:, ] * np.random.binomial(1, 0.25, k*T).reshape(k, T)\n",
    "Sigma = np.sqrt(1/np.random.gamma(10/2, 1/10, T))\n",
    "betat = beta.copy(); Sigmat = Sigma.copy()\n",
    "\n",
    "#タスクごとにデータを生成\n",
    "x1_list = [i for i in range(T)]\n",
    "x2_list = [i for i in range(T)]\n",
    "y1_list = [i for i in range(T)]\n",
    "y2_list = [i for i in range(T)]\n",
    "\n",
    "for i in range(T):\n",
    "    #トピックを生成\n",
    "    z1 = np.dot(np.random.multinomial(1, theta[i, ], n1[i]), np.arange(topic))\n",
    "    z2 = np.dot(np.random.multinomial(1, theta[i, ], n2[i]), np.arange(topic))\n",
    "\n",
    "    #データを生成\n",
    "    pt1 = np.random.poisson(np.random.gamma(12.5, 1/0.15, n1[i]))\n",
    "    pt2 = np.random.poisson(np.random.gamma(12.5, 1/0.15, n2[i]))\n",
    "    x1 = np.zeros((n1[i], k), dtype=\"int\")\n",
    "    x2 = np.zeros((n2[i], k), dtype=\"int\")\n",
    "\n",
    "    #学習データを生成\n",
    "    for j in range(n1[i]):\n",
    "        x1[j, ] = np.random.multinomial(pt1[j], phi[z1[j], ], 1).reshape(-1)\n",
    "    x1_list[i] = np.hstack((np.repeat(1, n1[i])[:, np.newaxis], x1))\n",
    "    y1_list[i] = np.dot(x1_list[i], beta[:, i]) + np.random.normal(0, Sigma[i], n1[i])\n",
    "\n",
    "    #テストデータを生成\n",
    "    for j in range(n2[i]):\n",
    "        x2[j, ] = np.random.multinomial(pt2[j], phi[z2[j], ], 1).reshape(-1)\n",
    "    x2_list[i] = np.hstack((np.repeat(1, n2[i])[:, np.newaxis], x2))\n",
    "    y2_list[i] = np.dot(x2_list[i], beta[:, i]) + np.random.normal(0, Sigma[i], n2[i])"
   ]
  },
  {
   "cell_type": "code",
   "execution_count": 9,
   "metadata": {
    "scrolled": true
   },
   "outputs": [
    {
     "name": "stdout",
     "output_type": "stream",
     "text": [
      "0\n",
      "100\n",
      "200\n",
      "300\n",
      "400\n",
      "500\n",
      "600\n",
      "700\n",
      "800\n",
      "900\n",
      "1000\n"
     ]
    }
   ],
   "source": [
    "####Multitask Learning with Group Lassoを推定####\n",
    "##データの定数を定義\n",
    "#変数のターゲット\n",
    "index_sort = np.array([np.sort(np.arange(k+1)), np.sort(np.arange(k+1))[::-1]])\n",
    "index_target = np.zeros((k+1, k), dtype=\"int\")\n",
    "for j in range(k+1):\n",
    "    index_target[j, ] = np.delete(np.arange(k+1), j)\n",
    "\n",
    "#データの格納用配列\n",
    "xx1_list = [i for i in range(k+1)]\n",
    "xx2_list = [i for i in range(k+1)]\n",
    "xy_list = [i for i in range(k+1)]\n",
    "\n",
    "#変数ごとに定数を定義\n",
    "for i in range(k+1):\n",
    "    if i%100==0:\n",
    "        print(i)\n",
    "    xx1 = np.zeros((T, T))\n",
    "    xx2 = np.zeros((T, k))\n",
    "    xy = np.repeat(0, T)\n",
    "    for j in range(T):\n",
    "        x = x1_list[j]; y = y1_list[j]\n",
    "        xx1[j, j] = np.dot(x[:, i].T, x[:, i])\n",
    "        xx2[j, ] = np.dot(x[:, i].T, x[:, index_target[i, ]])\n",
    "        xy[j] = np.dot(x[:, i].T, y)\n",
    "\n",
    "    #リストに格納\n",
    "    xx1_list[i] = xx1\n",
    "    xx2_list[i] = xx2\n",
    "    xy_list[i] = xy"
   ]
  },
  {
   "cell_type": "code",
   "execution_count": 10,
   "metadata": {},
   "outputs": [],
   "source": [
    "#変数をスパース変換\n",
    "sparse_x1 = [i for i in range(T)]\n",
    "sparse_y1 = [i for i in range(T)]\n",
    "for i in range(T):\n",
    "    sparse_x1[i] = sparse.csr_matrix(x1_list[i])\n",
    "    sparse_y1[i] = sparse.csr_matrix(y1_list[i])"
   ]
  },
  {
   "cell_type": "code",
   "execution_count": 12,
   "metadata": {},
   "outputs": [],
   "source": [
    "#初期値の設定\n",
    "Lambda1 = 0.1\n",
    "Lambda2 = Lambda1 * np.sqrt(T)\n",
    "beta = np.zeros((k+1, T)); Sigma = np.repeat(0.0, T)\n",
    "for j in range(T):\n",
    "    x = x1_list[j]; y = y1_list[j]\n",
    "    xy = np.dot(x.T, y)\n",
    "    inv_xxv = np.linalg.inv(np.dot(x.T, x) + np.diag(np.repeat(2.5, k+1)))\n",
    "    beta[:, j] = np.dot(inv_xxv, xy)\n",
    "    Sigma[j] = np.sqrt(np.sum(np.power(y - np.dot(x, beta[:, j]), 2)) / n1[j])\n",
    "sparse_beta = sparse.csr_matrix(beta) "
   ]
  },
  {
   "cell_type": "code",
   "execution_count": null,
   "metadata": {},
   "outputs": [],
   "source": [
    "##座標降下法による推定\n",
    "for rp in range(index_sort.shape[0]):\n",
    "    for i in index_sort[rp]:\n",
    "        #データを抽出\n",
    "        index = index_target[i, ]\n",
    "        beta_target = sparse_beta[index, ]\n",
    "\n",
    "        #回帰パラメータを更新\n",
    "        gamma = np.repeat(0.0, T)\n",
    "        for j in range(T):\n",
    "            x11 = sparse_x1[j]; y11 = sparse_y1[j]\n",
    "            x12 = x1_list[j]; y12 = y1_list[j]\n",
    "            er_y = np.array((y11.T - np.dot(x11[:, index], beta_target[:, j])).todense()).reshape(-1)\n",
    "            gamma[j] = np.dot(x12[:, i], er_y) / n1[j]\n",
    "\n",
    "        #軟閾値作用素により回帰パラメータを縮小\n",
    "        z = np.sign(gamma)\n",
    "        sparse_beta[i, ] = (gamma - z*Lambda2) * np.array(np.abs(gamma - z*Lambda2) > Lambda2, dtype=\"int\")\n",
    "\n",
    "    #平均二乗誤差和を更新\n",
    "    beta = np.array(sparse_beta.todense())\n",
    "    LL = np.repeat(0.0, T)\n",
    "    for i in range(T):\n",
    "        x = x1_list[i]; y = y1_list[i]\n",
    "        mu = np.dot(x, beta[:, i])\n",
    "        LL[i] = np.sum(np.power(y - mu, 2)) / n2[i]\n",
    "    print(np.sum(LL) + Lambda2 * np.sum(np.power(np.diag(np.dot(beta.T, beta)), 1/2)))"
   ]
  },
  {
   "cell_type": "code",
   "execution_count": null,
   "metadata": {},
   "outputs": [],
   "source": [
    "#初期値の設定\n",
    "Lambda1 = 0.1\n",
    "Lambda2 = Lambda1 * np.sqrt(T)\n",
    "rho = 0.25\n",
    "beta[0, ] = np.array([np.mean(y1_list[j]) for j in range(T)])\n",
    "beta[1:, ] = np.random.multivariate_normal(np.repeat(0, T), np.diag(np.repeat(0.25, T)), k)\n",
    "gamma = beta + np.random.multivariate_normal(np.repeat(0, T), np.diag(np.repeat(0.1, T)), k+1)\n",
    "u = beta + np.random.multivariate_normal(np.repeat(0, T), np.diag(np.repeat(0.1, T)), k+1)\n",
    "sparse_beta = sparse.csr_matrix(beta)\n",
    "Sigma = np.repeat(1, T)"
   ]
  },
  {
   "cell_type": "code",
   "execution_count": null,
   "metadata": {
    "scrolled": true
   },
   "outputs": [],
   "source": [
    "##交互方向乗数法による推定\n",
    "for rp in range(100):\n",
    "    #betaを更新\n",
    "    for i in range(T):\n",
    "        xx1 = xx1_list[i]; xx2 = xx2_list[i]; xy = xy_list[i]\n",
    "        inv_xxv = np.linalg.inv(xx1 + rho*np.diag(n1))\n",
    "        beta[i, ] = np.dot(inv_xxv, xy - np.diag(np.dot(xx2, beta[index_target[i, ]])) + n1*rho*(gamma[i, ] - (1/rho)*u[i, ]))\n",
    "        \n",
    "    #軟閾値作用素によりgammaを更新\n",
    "    gamma = beta + u/rho\n",
    "    z = np.sign(gamma)\n",
    "    gamma = ((gamma - z*Lambda2) * np.array(np.abs(gamma - z*Lambda2) > Lambda2, dtype=\"int\"))\n",
    "\n",
    "    #uを更新\n",
    "    u = u + rho*(beta - gamma)\n",
    "\n",
    "    #平均二乗誤差和を更新\n",
    "    LL = np.repeat(0.0, T)\n",
    "    for i in range(T):\n",
    "        x = x1_list[i]; y = y1_list[i]\n",
    "        mu = np.dot(x, gamma[:, i])\n",
    "        LL[i] = np.sum(np.power(y - mu, 2)) / n1[i]\n",
    "    print(np.sum(LL) + Lambda2 * np.sum(np.power(np.diag(np.dot(beta.T, beta)), 1/2)))"
   ]
  },
  {
   "cell_type": "code",
   "execution_count": null,
   "metadata": {},
   "outputs": [],
   "source": []
  }
 ],
 "metadata": {
  "kernelspec": {
   "display_name": "Python 3",
   "language": "python",
   "name": "python3"
  },
  "language_info": {
   "codemirror_mode": {
    "name": "ipython",
    "version": 3
   },
   "file_extension": ".py",
   "mimetype": "text/x-python",
   "name": "python",
   "nbconvert_exporter": "python",
   "pygments_lexer": "ipython3",
   "version": "3.6.5"
  }
 },
 "nbformat": 4,
 "nbformat_minor": 2
}
