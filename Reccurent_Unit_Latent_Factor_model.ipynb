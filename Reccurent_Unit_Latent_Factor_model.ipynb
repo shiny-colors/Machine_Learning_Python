{
 "cells": [
  {
   "cell_type": "code",
   "execution_count": 1,
   "metadata": {},
   "outputs": [],
   "source": [
    "#####Reccurent Unit Latent Factor model#####\n",
    "import numpy as np\n",
    "import pandas as pd\n",
    "import matplotlib.pyplot  as plt\n",
    "import numpy.matlib\n",
    "import scipy.linalg\n",
    "import itertools\n",
    "import seaborn as sns\n",
    "import gc\n",
    "from scipy import sparse\n",
    "from scipy.stats import norm\n",
    "from pandas.tools.plotting import scatter_matrix\n",
    "from numpy.random import *\n",
    "from scipy import optimize\n",
    "\n",
    "#np.random.seed(98537)"
   ]
  },
  {
   "cell_type": "code",
   "execution_count": 2,
   "metadata": {},
   "outputs": [],
   "source": [
    "##多項分布の乱数を生成する関数\n",
    "def rmnom(pr, n, k, no, pattern):\n",
    "    z_id = np.argmax((np.cumsum(pr, axis=1) >= np.random.uniform(0, 1, n)[:, np.newaxis]), axis=1)\n",
    "    return z_id\n",
    "    if pattern==1:\n",
    "        Z = sparse.coo_matrix((np.repeat(1, n), (no, np.array(z_id))), shape=(n, k))   #スパース行列の設定\n",
    "        return z_id, Z"
   ]
  },
  {
   "cell_type": "code",
   "execution_count": 3,
   "metadata": {},
   "outputs": [],
   "source": [
    "####データの生成####\n",
    "##データの設定\n",
    "k = 10\n",
    "hh = 5000   \n",
    "item = 3000\n",
    "pt = np.random.poisson(np.random.gamma(20, 1/0.225, hh))\n",
    "N = np.sum(pt)\n",
    "m = np.random.poisson(np.random.gamma(10, 1/0.3, N)); m[m <= 2] = 2\n",
    "M = np.sum(m)"
   ]
  },
  {
   "cell_type": "code",
   "execution_count": 4,
   "metadata": {},
   "outputs": [],
   "source": [
    "##idとインデックスの設定\n",
    "#idの設定\n",
    "d_id = np.repeat(np.arange(hh), pt)\n",
    "pt_id = np.array(list(itertools.chain(*[np.array(range(pt[i]), dtype=\"int\") for i in range(hh)])))\n",
    "m_id = np.repeat(np.arange(N), m)\n",
    "\n",
    "#インデックスの設定\n",
    "freq_m = np.repeat(0, hh)\n",
    "d_index = [i for i in range(hh)]\n",
    "m_index = [i for i in range(N)]\n",
    "for i in range(hh):\n",
    "    d_index[i] = np.array(np.where(d_id==i)[0], dtype=\"int\")\n",
    "    freq_m[i] = np.sum(m[d_index[i]])\n",
    "for i in range(N):\n",
    "    if i==0:\n",
    "        m_index[i] = np.arange(m[0])\n",
    "    else:\n",
    "        m_index[i] = np.max(m_index[i-1]) + np.arange(m[i]) + 1\n",
    "freq_id = np.repeat(np.arange(hh), freq_m)"
   ]
  },
  {
   "cell_type": "code",
   "execution_count": 5,
   "metadata": {
    "scrolled": true
   },
   "outputs": [
    {
     "name": "stdout",
     "output_type": "stream",
     "text": [
      "0\n",
      "10000\n",
      "20000\n",
      "30000\n",
      "40000\n",
      "50000\n",
      "60000\n",
      "70000\n",
      "80000\n",
      "90000\n",
      "100000\n",
      "110000\n",
      "120000\n",
      "130000\n",
      "140000\n",
      "150000\n",
      "160000\n",
      "170000\n",
      "180000\n",
      "190000\n",
      "200000\n",
      "210000\n",
      "220000\n",
      "230000\n",
      "240000\n",
      "250000\n",
      "260000\n",
      "270000\n",
      "280000\n",
      "290000\n",
      "300000\n",
      "310000\n",
      "320000\n",
      "330000\n",
      "340000\n",
      "350000\n",
      "360000\n",
      "370000\n",
      "380000\n",
      "390000\n",
      "400000\n",
      "410000\n",
      "420000\n",
      "430000\n",
      "440000\n"
     ]
    }
   ],
   "source": [
    "##アイテムの生成\n",
    "#多項分布からトピックを生成\n",
    "topic = 25\n",
    "theta_topic = np.random.dirichlet(np.repeat(0.2, topic), hh)\n",
    "phi_topic = np.random.dirichlet(np.repeat(0.2, item), topic)\n",
    "z = np.array(rmnom(theta_topic[np.repeat(d_id, m), ], M, topic, np.arange(M), 0), dtype=\"int\")\n",
    "\n",
    "#トピックからアイテムを生成\n",
    "item_id = np.repeat(0, M)\n",
    "item_dt = np.full((N, np.max(m)), item, dtype=\"int16\")\n",
    "for i in range(N):\n",
    "    if i%10000==0:\n",
    "        print(i)\n",
    "    index = m_index[i]\n",
    "    target_z = z[index]\n",
    "    temp_id = np.array(rmnom(phi_topic[target_z, ], m[i], item, np.arange(m[i]), 0), dtype=\"int16\")\n",
    "    item_id[index] = temp_id\n",
    "    item_dt[i, np.arange(m[i])] = temp_id"
   ]
  },
  {
   "cell_type": "code",
   "execution_count": 119,
   "metadata": {},
   "outputs": [
    {
     "data": {
      "text/plain": [
       "array([[2646, 2391,  887, ..., 3000, 3000, 3000],\n",
       "       [1389,  160, 1169, ..., 3000, 3000, 3000],\n",
       "       [1275,  334,  855, ..., 3000, 3000, 3000],\n",
       "       ...,\n",
       "       [2675, 1655,  579, ..., 3000, 3000, 3000],\n",
       "       [ 695, 1495, 1703, ..., 3000, 3000, 3000],\n",
       "       [ 443, 2478,   11, ..., 3000, 3000, 3000]], dtype=int16)"
      ]
     },
     "execution_count": 119,
     "metadata": {},
     "output_type": "execute_result"
    }
   ],
   "source": [
    "##応答変数を生成\n",
    "#階層モデルのパラメータを生成\n"
   ]
  },
  {
   "cell_type": "code",
   "execution_count": null,
   "metadata": {},
   "outputs": [],
   "source": []
  }
 ],
 "metadata": {
  "kernelspec": {
   "display_name": "Python 3",
   "language": "python",
   "name": "python3"
  },
  "language_info": {
   "codemirror_mode": {
    "name": "ipython",
    "version": 3
   },
   "file_extension": ".py",
   "mimetype": "text/x-python",
   "name": "python",
   "nbconvert_exporter": "python",
   "pygments_lexer": "ipython3",
   "version": "3.6.5"
  }
 },
 "nbformat": 4,
 "nbformat_minor": 2
}
