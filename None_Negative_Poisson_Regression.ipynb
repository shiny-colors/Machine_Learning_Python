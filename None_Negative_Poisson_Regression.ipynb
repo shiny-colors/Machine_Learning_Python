{
 "cells": [
  {
   "cell_type": "code",
   "execution_count": 2,
   "metadata": {},
   "outputs": [],
   "source": [
    "####None Negative Poisson Regression####\n",
    "import numpy as np\n",
    "import pandas as pd\n",
    "import matplotlib.pyplot  as plt\n",
    "import numpy.matlib\n",
    "import scipy.linalg\n",
    "import itertools\n",
    "import calendar\n",
    "from datetime import datetime\n",
    "from datetime import timedelta\n",
    "from scipy import sparse\n",
    "from scipy.stats import norm\n",
    "from pandas.tools.plotting import scatter_matrix\n",
    "from numpy.random import *\n",
    "from scipy import optimize"
   ]
  },
  {
   "cell_type": "code",
   "execution_count": 13,
   "metadata": {},
   "outputs": [
    {
     "data": {
      "text/plain": [
       "(array([2.480e+02, 5.140e+02, 8.200e+02, 2.194e+03, 1.083e+03, 9.990e+02,\n",
       "        9.490e+02, 1.338e+03, 4.300e+02, 3.510e+02, 4.940e+02, 1.540e+02,\n",
       "        1.280e+02, 7.800e+01, 9.400e+01, 4.000e+01, 2.500e+01, 2.700e+01,\n",
       "        8.000e+00, 6.000e+00, 6.000e+00, 6.000e+00, 2.000e+00, 2.000e+00,\n",
       "        4.000e+00]),\n",
       " array([ 0.  ,  1.28,  2.56,  3.84,  5.12,  6.4 ,  7.68,  8.96, 10.24,\n",
       "        11.52, 12.8 , 14.08, 15.36, 16.64, 17.92, 19.2 , 20.48, 21.76,\n",
       "        23.04, 24.32, 25.6 , 26.88, 28.16, 29.44, 30.72, 32.  ]),\n",
       " <a list of 25 Patch objects>)"
      ]
     },
     "execution_count": 13,
     "metadata": {},
     "output_type": "execute_result"
    },
    {
     "data": {
      "image/png": "[encoded data removed]",
      "text/plain": [
       "<Figure size 432x288 with 1 Axes>"
      ]
     },
     "metadata": {},
     "output_type": "display_data"
    }
   ],
   "source": [
    "##データの生成\n",
    "#データの設定\n",
    "N = 10000\n",
    "k = 10\n",
    "\n",
    "#説明変数の生成\n",
    "k1 = 3; k2 = 5; k3 = 5\n",
    "x1 = np.random.gamma(0.5, 1/0.5, N*k1).reshape(N, k1)\n",
    "x2 = np.zeros((N, k2))\n",
    "for j in range(k2):\n",
    "    prob = np.random.uniform(0.25, 0.55, 1)\n",
    "    x2[:, j] = np.random.binomial(1, prob, N)\n",
    "x3 = np.random.multinomial(1, np.random.dirichlet(np.repeat(3.0, k3), 1).reshape(k3), N)\n",
    "x3 = np.delete(x3, np.argmin(np.sum(x3, axis=0)), axis=1)   #冗長な変数の削除\n",
    "x = np.concatenate((np.repeat(1, N)[:, np.newaxis], x1, x2, x3), axis=1)\n",
    "k = x.shape[1]\n",
    "\n",
    "#応答変数の生成\n",
    "beta = np.append(1.5, np.exp(np.random.normal(-0.25, 0.3, k-1)))\n",
    "betat = beta.copy()\n",
    "Lambda = np.dot(x, beta)\n",
    "y = np.random.poisson(Lambda, N)\n",
    "y_factorial = scipy.special.gammaln(y+1)\n",
    "plt.hist(y, bins=25)"
   ]
  },
  {
   "cell_type": "code",
   "execution_count": 40,
   "metadata": {},
   "outputs": [],
   "source": [
    "##最尤法でパラメータを推定\n",
    "#モデルの対数尤度\n",
    "def loglike(beta, y, y_factorial, x):\n",
    "    #ポアソンモデルの対数尤度関数\n",
    "    mu = np.dot(x, np.exp(beta))\n",
    "    LL = np.sum(y * np.log(mu) - mu - y_factorial)\n",
    "    return -LL\n",
    "\n",
    "#モデルの対数尤度の勾配ベクトル\n",
    "def dloglike(beta, y, y_factorial, x):\n",
    "    #ポアソンモデルの勾配ベクトル\n",
    "    mu = np.dot(x, np.exp(beta))\n",
    "    LLd = np.sum(y[:, np.newaxis] * (x * np.exp(beta) / mu[:, np.newaxis]) - x*np.exp(beta), axis=0)\n",
    "    return -LLd "
   ]
  },
  {
   "cell_type": "code",
   "execution_count": 45,
   "metadata": {},
   "outputs": [
    {
     "name": "stdout",
     "output_type": "stream",
     "text": [
      "Warning: Desired error not necessarily achieved due to precision loss.\n",
      "         Current function value: 23514.176013\n",
      "         Iterations: 42\n",
      "         Function evaluations: 56\n",
      "         Gradient evaluations: 55\n",
      "23514.2\n",
      "[1.646 1.683 0.888 0.897 0.781 0.968 0.582 0.763 0.836 0.605 0.278 0.809\n",
      " 0.551]\n",
      "[1.5   1.676 0.878 0.916 0.749 0.988 0.59  0.825 0.796 0.784 0.484 0.89\n",
      " 0.615]\n"
     ]
    }
   ],
   "source": [
    "#準ニュートン法で対数尤度を最大化\n",
    "beta = np.append(0.0, np.random.normal(-0.25, 0.25, k-1))\n",
    "res = optimize.minimize(loglike, beta, jac=dloglike, method=\"BFGS\", args=(y, y_factorial, x), options={\"disp\": True})\n",
    "print(np.round(res.fun, 1))\n",
    "print(np.round(np.exp(res.x), 3))\n",
    "print(np.round(betat, 3))"
   ]
  },
  {
   "cell_type": "code",
   "execution_count": null,
   "metadata": {},
   "outputs": [],
   "source": []
  }
 ],
 "metadata": {
  "kernelspec": {
   "display_name": "Python 3",
   "language": "python",
   "name": "python3"
  },
  "language_info": {
   "codemirror_mode": {
    "name": "ipython",
    "version": 3
   },
   "file_extension": ".py",
   "mimetype": "text/x-python",
   "name": "python",
   "nbconvert_exporter": "python",
   "pygments_lexer": "ipython3",
   "version": "3.6.5"
  }
 },
 "nbformat": 4,
 "nbformat_minor": 2
}
