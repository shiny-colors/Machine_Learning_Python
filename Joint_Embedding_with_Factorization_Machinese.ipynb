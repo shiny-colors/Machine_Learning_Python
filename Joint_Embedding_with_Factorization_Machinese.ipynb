{
 "cells": [
  {
   "cell_type": "code",
   "execution_count": 1,
   "metadata": {},
   "outputs": [],
   "source": [
    "#####Joint Embedding with Factorization Machinese#####\n",
    "import numpy as np\n",
    "import pandas as pd\n",
    "import matplotlib.pyplot  as plt\n",
    "import numpy.matlib\n",
    "import scipy.linalg\n",
    "import itertools\n",
    "from scipy import sparse\n",
    "from scipy.stats import norm\n",
    "from pandas.tools.plotting import scatter_matrix\n",
    "from numpy.random import *\n",
    "from scipy import optimize\n",
    "\n",
    "#np.random.seed(98537)"
   ]
  },
  {
   "cell_type": "code",
   "execution_count": 2,
   "metadata": {},
   "outputs": [],
   "source": [
    "##多項分布の乱数を生成する関数\n",
    "def rmnom(pr, n, k, pattern):\n",
    "    if pattern==1:\n",
    "        z_id = np.array(np.argmax(np.cumsum(pr, axis=1) >= np.random.uniform(0, 1, n)[:, np.newaxis], axis=1), dtype=\"int\")\n",
    "        Z = np.diag(np.repeat(1, k))[z_id, ]\n",
    "        return z_id, Z\n",
    "    z_id = np.argmax((np.cumsum(pr, axis=1) >= np.random.uniform(0, 1, n)[:, np.newaxis]), axis=1)\n",
    "    return z_id"
   ]
  },
  {
   "cell_type": "code",
   "execution_count": 3,
   "metadata": {},
   "outputs": [],
   "source": [
    "###データの生成####\n",
    "##データの設定\n",
    "s = 3\n",
    "k1 = 10\n",
    "k2 = 10\n",
    "k3 = 7\n",
    "hh = 3500\n",
    "item = 5000\n",
    "element = 500\n",
    "pt1 = np.random.poisson(30.0, hh)\n",
    "pt2 = np.random.poisson(20.0, hh)\n",
    "hhpt1 = np.sum(pt1)\n",
    "hhpt2 = np.sum(pt2)\n",
    "k_vec1 = np.repeat(1, k1)\n",
    "k_vec2 = np.repeat(1, k2)\n",
    "k_vec3 = np.repeat(1, k3)"
   ]
  },
  {
   "cell_type": "code",
   "execution_count": 4,
   "metadata": {},
   "outputs": [],
   "source": [
    "##IDとインデックスの設定\n",
    "#IDの設定\n",
    "d_id1 = np.array(np.repeat(np.arange(hh), pt1), dtype=\"int16\")\n",
    "d_id2 = np.array(np.repeat(np.arange(hh), pt2), dtype=\"int16\")\n",
    "pt_id1 = np.array(list(itertools.chain(*[np.array(range(pt1[i]), dtype=\"int\") for i in range(hh)])), dtype=\"int16\")\n",
    "pt_id2 = np.array(list(itertools.chain(*[np.array(range(pt2[i]), dtype=\"int\") for i in range(hh)])), dtype=\"int16\")\n",
    "\n",
    "#インデックスの設定\n",
    "d_list1 = [i for i in range(hh)]\n",
    "d_list2 = [i for i in range(hh)]\n",
    "for i in range(hh):\n",
    "    d_list1[i] = np.array(np.where(d_id1==i)[0], dtype=\"int\")\n",
    "    d_list2[i] = np.array(np.where(d_id2==i)[0], dtype=\"int\")"
   ]
  },
  {
   "cell_type": "code",
   "execution_count": 8,
   "metadata": {},
   "outputs": [],
   "source": [
    "##レコードごとの要因とidをを生成\n",
    "#レコードごとの頻度を生成\n",
    "gamma0 = np.random.gamma(3.0, 1/0.5, hh)[d_id1]\n",
    "freq = np.random.poisson(gamma0, hhpt1)\n",
    "freq[freq < 1] = 1\n",
    "N = np.sum(freq)\n",
    "\n",
    "#greaterとlesserのインデックスを生成\n",
    "flag1 = np.random.binomial(1, 0.5, N)\n",
    "index_greater1 = np.array(np.where(flag1==1)[0], dtype=\"int\")\n",
    "index_lesser1 = np.array(np.where(flag1==0)[0], dtype=\"int\")\n",
    "\n",
    "#要因の長さに応じたidを生成\n",
    "record_id = np.repeat(np.arange(hhpt1), freq)\n",
    "record_id1 = record_id[index_greater1]\n",
    "record_id2 = record_id[index_lesser1]\n",
    "d_long = np.repeat(d_id1, freq)\n",
    "d_long1 = d_long[index_greater1]\n",
    "d_long2 = d_long[index_lesser1]"
   ]
  },
  {
   "cell_type": "code",
   "execution_count": 7,
   "metadata": {},
   "outputs": [],
   "source": [
    "####シナリオを生成####\n",
    "\n"
   ]
  },
  {
   "cell_type": "code",
   "execution_count": null,
   "metadata": {},
   "outputs": [],
   "source": []
  },
  {
   "cell_type": "code",
   "execution_count": 5,
   "metadata": {},
   "outputs": [],
   "source": [
    "\n",
    "\n",
    "\n",
    "\n",
    "#トピックとアイテムの格納用配列\n",
    "z11 = np.full((hhpt1, max_freq1), topic, dtype=\"int16\")\n",
    "z12 = np.full((hhpt1, max_freq2), topic, dtype=\"int16\")\n",
    "item_id11 = np.full((hhpt1, max_freq1), item, dtype=\"int16\")\n",
    "item_id12 = np.full((hhpt1, max_freq2), item, dtype=\"int16\")\n",
    "item_id2 = np.array(np.repeat(0, hhpt2), dtype=\"int16\")\n",
    "\n",
    "#多項分布からアイテムを生成\n",
    "for i in range(hhpt1):\n",
    "    index1 = np.arange(freq1[i])\n",
    "    index2 = np.arange(freq2[i])\n",
    "    z11[i, index1] = np.array(rmnom(theta0[d_id1[np.repeat(i, freq1[i])], ], freq1[i], topic, 0), dtype=\"int16\")\n",
    "    z12[i, index2] = np.array(rmnom(theta0[d_id1[np.repeat(i, freq2[i])], ], freq2[i], topic, 0), dtype=\"int16\")\n",
    "    item_id11[i, index1] = np.array(rmnom(phi_item[z11[i, index1], ], freq1[i], item, 0), dtype=\"int16\")\n",
    "    item_id12[i, index2] = np.array(rmnom(phi_item[z12[i, index2], ], freq2[i], item, 0), dtype=\"int16\")\n",
    "    \n",
    "for i in range(hh):\n",
    "    item_id2[d_list2[i]] = np.array(rmnom(phi_item[z2[d_list2[i]], ], pt2[i], item, 0), dtype=\"int16\")"
   ]
  },
  {
   "cell_type": "code",
   "execution_count": 7,
   "metadata": {},
   "outputs": [],
   "source": [
    "##エレメントを生成\n",
    "#エレメントの格納用配列\n",
    "element_id11 = np.full((hhpt1, max_freq1), item, dtype=\"int16\")\n",
    "element_id12 = np.full((hhpt1, max_freq2), item, dtype=\"int16\")\n",
    "element_id2 = np.array(np.repeat(0, hhpt2), dtype=\"int16\")\n",
    "\n",
    "#多項分布からエレメントを生成\n",
    "for i in range(hhpt1):\n",
    "    index1 = np.arange(freq1[i])\n",
    "    index2 = np.arange(freq2[i])\n",
    "    element_id11[i, index1] = np.array(rmnom(phi_element[z11[i, index1], ], freq1[i], element, 0), dtype=\"int16\")\n",
    "    element_id12[i, index2] = np.array(rmnom(phi_element[z12[i, index2], ], freq2[i], element, 0), dtype=\"int16\")\n",
    "    \n",
    "for i in range(hh):\n",
    "    element_id2[d_list2[i]] = np.array(rmnom(phi_element[z2[d_list2[i]], ], pt2[i], element, 0), dtype=\"int16\")"
   ]
  },
  {
   "cell_type": "code",
   "execution_count": null,
   "metadata": {},
   "outputs": [],
   "source": [
    "##レコード単位に拡張したidとインデックスを作成\n",
    "#レコード単位のidを作成\n",
    "N1 = np.sum(freq1)\n",
    "N2 = np.sum(freq2)\n",
    "N = N1 + N2\n",
    "record_id1 = np.repeat(np.arange(hhpt1), freq1)\n",
    "record_id2 = np.repeat(np.arange(hhpt1), freq2)\n",
    "\n",
    "\n",
    "#拡張したidを作成\n",
    "d_long1 = np.repeat(d_id1, freq1); d_long2 = np.repeat(d_id1, freq2)\n",
    "item_long1 = item_id11[item_id11 < item]; item_long2 = item_id12[item_id12 < item]\n",
    "element_long1 = element_id11[element_id11 < element]; element_long2 = element_id12[element_id12 < element]\n",
    "\n",
    "#idのフラッグを作成\n",
    "Zi1 = sparse.coo_matrix((np.repeat(1, N1), (np.arange(N1), record_id1)), shape=(N1, hhpt1)).tocsr()\n",
    "Zi2 = sparse.coo_matrix((np.repeat(1, N2), (np.arange(N2), record_id2)), shape=(N2, hhpt1)).tocsr()\n",
    "\n",
    "#レコードのインデックスを作成\n",
    "record_list1 = [i for i in range(hhpt1)]\n",
    "record_list2 = [i for i in range(hhpt1)]\n",
    "record_index1 = [i for i in range(hhpt1)]\n",
    "record_index2 = [i for i in range(hhpt1)]\n",
    "for i in range(hhpt1):\n",
    "    record_list1[i] = np.array(np.where(record_id1==i)[0], dtype=\"int\")\n",
    "    record_list2[i] = np.array(np.where(record_id2==i)[0], dtype=\"int\")\n",
    "    record_index1[i] = np.array(np.arange(freq1[i]), dtype=\"int8\")\n",
    "    record_index2[i] = np.array(np.arange(freq2[i]), dtype=\"int8\")"
   ]
  }
 ],
 "metadata": {
  "kernelspec": {
   "display_name": "Python 3",
   "language": "python",
   "name": "python3"
  },
  "language_info": {
   "codemirror_mode": {
    "name": "ipython",
    "version": 3
   },
   "file_extension": ".py",
   "mimetype": "text/x-python",
   "name": "python",
   "nbconvert_exporter": "python",
   "pygments_lexer": "ipython3",
   "version": "3.6.5"
  }
 },
 "nbformat": 4,
 "nbformat_minor": 2
}
