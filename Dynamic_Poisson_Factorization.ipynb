{
 "cells": [
  {
   "cell_type": "code",
   "execution_count": 224,
   "metadata": {},
   "outputs": [],
   "source": [
    "#####Dynamic Poisson Factrization#####\n",
    "import numpy as np\n",
    "import pandas as pd\n",
    "import matplotlib.pyplot  as plt\n",
    "import numpy.matlib\n",
    "import scipy.linalg\n",
    "import itertools\n",
    "import calendar\n",
    "from datetime import datetime\n",
    "from datetime import timedelta\n",
    "from scipy import sparse\n",
    "from scipy.stats import norm\n",
    "from pandas.tools.plotting import scatter_matrix\n",
    "from numpy.random import *\n",
    "from scipy import optimize"
   ]
  },
  {
   "cell_type": "code",
   "execution_count": 225,
   "metadata": {},
   "outputs": [],
   "source": [
    "#連続した日付を取得する関数\n",
    "def daterange(_start, _end):\n",
    "    for n in range((_end - _start).days):\n",
    "        yield _start + timedelta(n)\n",
    "        \n",
    "#切断ポアソン分布を生成する関数\n",
    "def rtpois(mu, a, b, n):\n",
    "    FA = scipy.stats.poisson.cdf(a, mu)\n",
    "    FB = scipy.stats.poisson.cdf(b, mu)\n",
    "    return np.array(scipy.stats.poisson.ppf(np.random.uniform(0, 1, n)*(FB-FA)+FA, mu), dtype=\"int\")\n",
    "\n",
    "##多項分布の乱数を生成する関数\n",
    "def rmnom(pr, n, k, pattern):\n",
    "    if pattern==1:\n",
    "        z_id = np.array(np.argmax(np.cumsum(pr, axis=1) >= np.random.uniform(0, 1, n)[:, np.newaxis], axis=1), dtype=\"int\")\n",
    "        Z = np.diag(np.repeat(1, k))[z_id, ]\n",
    "        return z_id, Z\n",
    "    z_id = np.array(np.argmax((np.cumsum(pr, axis=1) >= np.random.uniform(0, 1, n)[:, np.newaxis]), axis=1), dtype=\"int\")\n",
    "    return z_id"
   ]
  },
  {
   "cell_type": "code",
   "execution_count": 226,
   "metadata": {},
   "outputs": [],
   "source": [
    "####シミュレーションデータを作成####\n",
    "##日付データを作成\n",
    "#対象期間の日付と曜日情報を出力\n",
    "start = datetime.strptime('2014-01-01', '%Y-%m-%d')\n",
    "end   = datetime.strptime('2018-12-31', '%Y-%m-%d')\n",
    "get_date = np.array([])\n",
    "day_of_week = np.array([], dtype=\"int\")\n",
    "for day in daterange(start, end):\n",
    "    get_date = np.append(get_date, day)\n",
    "    day_of_week = np.append(day_of_week, day.weekday())\n",
    "    \n",
    "#日付を定義\n",
    "index_week = np.array(np.where(day_of_week < 5)[0], dtype=\"int\")\n",
    "Timestamp = pd.Series(get_date).iloc[index_week]\n",
    "date = pd.DataFrame({\"date\": Timestamp.astype(\"U\")})\n",
    "date_df = pd.merge(date, pd.DataFrame({\"date\": np.unique(date), \"date_id\": np.arange(date.shape[0])}), on=\"date\", how=\"inner\")\n",
    "year = pd.DataFrame({\"year\": Timestamp.astype(\"U\").str[:4]})\n",
    "unique_year = np.unique(year)\n",
    "year_df = pd.merge(year, pd.DataFrame({\"year\": unique_year, \"year_id\": np.arange(unique_year.shape[0])}), on=\"year\", how=\"inner\")\n",
    "month = pd.DataFrame({\"month\": Timestamp.astype(\"U\").str[5:7]})\n",
    "unique_month = np.unique(month)\n",
    "month_df = pd.merge(month, pd.DataFrame({\"month\": unique_month, \"month_id\": np.arange(unique_month.shape[0])}), on=\"month\", how=\"inner\")\n",
    "\n",
    "#週を定義\n",
    "new_week = day_of_week[index_week]\n",
    "index = np.array(np.where((new_week-4)==0)[0], dtype=\"int\")\n",
    "week_n = index.shape[0]\n",
    "week = np.repeat(0, new_week.shape[0])\n",
    "for i in range(week_n):\n",
    "    if i==0:\n",
    "        get = np.arange(0, index[i]+1)\n",
    "        week[get] = np.repeat(i, get.shape[0])\n",
    "    else:\n",
    "        get = np.arange(index[i-1]+1, index[i]+1)\n",
    "        week[get] = np.repeat(i, get.shape[0])\n",
    "        \n",
    "#データフレームを作成\n",
    "calendar_df = pd.concat((date_df, year_df, month_df, pd.DataFrame({\"week_id\": week})), axis=1)\n",
    "date = np.array(calendar_df[\"date_id\"], dtype=\"int\")\n",
    "year = np.array(calendar_df[\"year_id\"], dtype=\"int\")\n",
    "month = np.array(calendar_df[\"month_id\"], dtype=\"int\")\n",
    "week = np.array(calendar_df[\"week_id\"], dtype=\"int\")"
   ]
  },
  {
   "cell_type": "code",
   "execution_count": 227,
   "metadata": {},
   "outputs": [],
   "source": [
    "##ニュースデータの生成\n",
    "#データの定義\n",
    "k = 10   \n",
    "item = 300\n",
    "element = 250\n",
    "trend = 5\n",
    "days = np.unique(date).shape[0]\n",
    "years = np.unique(year).shape[0]\n",
    "months = np.unique(month).shape[0]\n",
    "weeks = np.unique(week).shape[0]\n",
    "Lambda = np.random.gamma(50.0, 1/0.5, days)\n",
    "n = np.random.poisson(Lambda, days)\n",
    "N = np.sum(n)\n",
    "k_vec = np.repeat(1.0, k)"
   ]
  },
  {
   "cell_type": "code",
   "execution_count": 228,
   "metadata": {},
   "outputs": [],
   "source": [
    "##idとインデックスを定義\n",
    "#idの定義\n",
    "date_id = np.repeat(date, n)\n",
    "year_id = np.repeat(year, n)\n",
    "month_id = np.repeat(month, n)\n",
    "week_id = np.repeat(week, n)\n",
    "\n",
    "#インデックスを定義\n",
    "date_list = [i for i in range(days)]\n",
    "year_list = [i for i in range(years)]\n",
    "month_list = [i for i in range(months)]\n",
    "week_list = [i for i in range(weeks)]\n",
    "for i in range(days):\n",
    "    date_list[i] = np.array(np.where(date_id==i)[0], dtype=\"int\")\n",
    "for i in range(years):\n",
    "    year_list[i] = np.array(np.where(year_id==i)[0], dtype=\"int\")\n",
    "for i in range(months):\n",
    "    month_list[i] = np.array(np.where(month_id==i)[0], dtype=\"int\")\n",
    "for i in range(weeks):\n",
    "    week_list[i] = np.array(np.where(week_id==i)[0], dtype=\"int\")"
   ]
  },
  {
   "cell_type": "code",
   "execution_count": 229,
   "metadata": {},
   "outputs": [],
   "source": [
    "##センチメントの状態の推移を生成\n",
    "#モデルパラメータの定義\n",
    "state = 5\n",
    "S1 = np.array([0.05, 0.15, 0.6, 0.15, 0.05])\n",
    "S2 = np.array([[0.8389, 0.15, 0.01, 0.001, 0.0001],\n",
    "               [0.15, 0.8089, 0.03, 0.001, 0.0001],\n",
    "               [0.01, 0.02, 0.95, 0.02, 0.01],\n",
    "               [0.0001, 0.001, 0.03, 0.8089, 0.15],\n",
    "               [0.0001, 0.001, 0.01, 0.15, 0.8389]])\n",
    "\n",
    "#状態推移を生成\n",
    "s = np.repeat(0, weeks)\n",
    "for i in range(weeks):\n",
    "    if i==0:\n",
    "        s[i] = np.argmax(np.random.multinomial(1, S1, 1))\n",
    "    else:\n",
    "        s[i] = np.argmax(np.random.multinomial(1, S2[s[i-1], ], 1))\n",
    "\n",
    "#回帰行列を生成\n",
    "scale = 1.5\n",
    "beta_positive = np.abs(np.random.normal(0.0, 0.5, k))\n",
    "beta_neutral = np.abs(np.random.normal(0.0, 0.25, k))\n",
    "beta_negative = np.abs(np.random.normal(0.0, 0.5, k))\n",
    "beta = np.vstack((scale*beta_positive, beta_positive, beta_neutral, beta_negative, scale*beta_negative))\n",
    "        \n",
    "#ニュースのtrendを生成\n",
    "Pi = np.array([[0.3, 0.15, 0.3, 0.15, 0.1],\n",
    "               [0.25, 0.15, 0.25, 0.15, 0.2],\n",
    "               [0.2, 0.2, 0.2, 0.2, 0.2],\n",
    "               [0.15, 0.25, 0.15, 0.25, 0.2],\n",
    "               [0.15, 0.3, 0.15, 0.3, 0.1]])\n",
    "trend_id = rmnom(Pi[s[week_id], ], N, state, 0)\n",
    "\n",
    "#インデックスを定義\n",
    "trend_list1 = [i for i in range(trend)]\n",
    "trend_list2 = [i for i in range(trend)]\n",
    "for i in range(trend):\n",
    "    temp_list = [j for j in range(weeks)]\n",
    "    trend_list1[i] = np.array(np.where(trend_id==i)[0], dtype=\"int\")\n",
    "    for j in range(weeks):\n",
    "        temp_list[j] = np.array(np.where((week_id==j) & (trend_id==i))[0], dtype=\"int\")\n",
    "    trend_list2[i] = temp_list"
   ]
  },
  {
   "cell_type": "code",
   "execution_count": 230,
   "metadata": {},
   "outputs": [],
   "source": [
    "##アイテムとエレメントの割当を生成\n",
    "#トピック割当を生成\n",
    "topic = 30\n",
    "phi_item = np.random.dirichlet(np.repeat(0.1, item+1), topic)\n",
    "phi_element = np.random.dirichlet(np.repeat(0.1, element+1), topic)\n",
    "theta_topic = np.random.dirichlet(np.repeat(0.2, topic), days)\n",
    "z = np.array(rmnom(theta_topic[date_id, ], N, topic, 0), dtype=\"int16\")\n",
    "\n",
    "#多項分布からアイテムおよびエレメントを生成\n",
    "item_id = np.repeat(0, N)\n",
    "element_id = np.repeat(0, N)\n",
    "for i in range(days):\n",
    "    item_id[date_list[i]] = rmnom(phi_item[z[date_list[i]], ], n[i], item, 0)\n",
    "    element_id[date_list[i]] = rmnom(phi_element[z[date_list[i]], ], n[i], element, 0)\n",
    "    \n",
    "#アイテムのインデックス\n",
    "item_list = [i for i in range(item+1)]\n",
    "item_n = np.repeat(0, item+1)\n",
    "for i in range(item+1):\n",
    "    item_list[i] = np.array(np.where(item_id==i)[0], dtype=\"int\")\n",
    "    item_n[i] = item_list[i].shape[0]\n",
    "    \n",
    "#エレメントのインデックス\n",
    "element_list = [i for i in range(element+1)]\n",
    "element_n = np.repeat(0, element+1)\n",
    "for i in range(element+1):\n",
    "    element_list[i] = np.array(np.where(element_id==i)[0], dtype=\"int\")\n",
    "    element_n[i] = element_list[i].shape[0]"
   ]
  },
  {
   "cell_type": "code",
   "execution_count": 231,
   "metadata": {
    "scrolled": true
   },
   "outputs": [],
   "source": [
    "##応答変数を生成\n",
    "while True:\n",
    "    #事前分布の設定\n",
    "    alpha = np.repeat(-0.5, k)\n",
    "    tau1 = np.diag(np.repeat(0.1, k))\n",
    "    tau2 = np.diag(np.repeat(0.005, k))\n",
    "\n",
    "    #モデルパラメータの生成\n",
    "    beta_u = np.random.gamma(0.3, 1/1.0, days)\n",
    "    beta_v = np.random.gamma(0.25, 1/1.0, item+1)\n",
    "    theta_u = np.random.gamma(0.7, 1/1.0, k*days).reshape(days, k)\n",
    "    theta_v = np.vstack((np.random.gamma(0.4, 1/0.75, k*item).reshape(item, k), np.repeat(1.0, k)))\n",
    "    theta_e = np.vstack((np.random.gamma(0.75, 1/1.5, k*element).reshape(element, k), np.repeat(1.0, k)))\n",
    "    theta_g = [i for i in range(trend)]\n",
    "    for i in range(trend):\n",
    "        theta = np.zeros((weeks, k))\n",
    "        for j in range(weeks):\n",
    "            if j==0:\n",
    "                theta[j, ] = np.random.multivariate_normal(alpha, tau1, 1)\n",
    "            else:\n",
    "                theta[j, ] = np.random.multivariate_normal(theta[j-1, ], tau2, 1)\n",
    "        theta_g[i] = theta\n",
    "\n",
    "    #生成したパラメータをコピー\n",
    "    betat_u = beta_u.copy(); betat_v = beta_v.copy()\n",
    "    thetat_u = theta_u.copy(); thetat_v = theta_v.copy(); thetat_e = theta_e.copy(); thetat_g = theta_g.copy()\n",
    "\n",
    "    #ポアソン分布から頻度を生成\n",
    "    uv = np.repeat(0.0, N)\n",
    "    uv_neutral = theta_u[date_id, ] * theta_v[item_id, ] * theta_e[element_id, ]\n",
    "    for i in range(trend):\n",
    "        index = trend_list1[i]\n",
    "        uv[index, ] += np.dot(uv_neutral[index, ] * np.exp(theta_g[i])[week_id[index], ], k_vec)\n",
    "    mu = beta_u[date_id] + beta_v[item_id] + uv\n",
    "    y = rtpois(mu, 0, 1000, N)\n",
    "    y_factorial = scipy.special.gammaln(y+1)\n",
    "\n",
    "    #break条件\n",
    "    if np.max(y) < 100:\n",
    "        break"
   ]
  },
  {
   "cell_type": "code",
   "execution_count": 232,
   "metadata": {},
   "outputs": [
    {
     "data": {
      "image/png": "[encoded data removed]",
      "text/plain": [
       "<Figure size 900x432 with 4 Axes>"
      ]
     },
     "metadata": {},
     "output_type": "display_data"
    }
   ],
   "source": [
    "#生成したデータのヒストグラム\n",
    "dt = [beta_u, beta_v, uv, y]\n",
    "fig_range = np.append(np.array([np.min(beta_u), np.min(beta_v), np.min(uv), 0.0]), \n",
    "                      np.array([np.max(beta_u), np.max(beta_v), np.max(y), np.max(y)])).reshape(2, len(dt))\n",
    "colorlist = [\"r\", \"g\", \"b\", \"c\", \"m\", \"y\", \"k\", \"w\"]\n",
    "legend = [\"日付ランダム効果の分布\", \"ニュースランダム効果の分布\", \"uvの分布\", \"ニュース頻度\"]\n",
    "fig = plt.figure(figsize=(12.5, 6.0))\n",
    "for j in range(len(dt)):\n",
    "    ax = fig.add_subplot(2, 2, j+1)\n",
    "    ax.hist(dt[j],  bins=25, range=(fig_range[0, j], fig_range[1, j]), color=colorlist[j])\n",
    "    plt.title(legend[j], fontsize=12.5)\n",
    "fig.tight_layout()\n",
    "plt.show()"
   ]
  },
  {
   "cell_type": "code",
   "execution_count": 233,
   "metadata": {},
   "outputs": [],
   "source": [
    "####Dynamic Poisson Factorizationを推定####\n",
    "##アルゴリズムの設定\n",
    "R = 1000\n",
    "keep = 2\n",
    "burnin = int(500/keep)\n",
    "iter = 0\n",
    "disp = 10\n",
    "intercept = np.repeat(1.0, N)[:, np.newaxis]"
   ]
  },
  {
   "cell_type": "code",
   "execution_count": 412,
   "metadata": {},
   "outputs": [],
   "source": [
    "##パラメータの初期値\n",
    "#事前分布の設定\n",
    "alpha1 = 0.1; beta1 = 0.1\n",
    "alpha2 = 0.1; beta2 = 0.1\n",
    "alpha3 = 0.1; beta3 = 0.1\n",
    "tau1 = np.diag(np.repeat(0.25, k))\n",
    "tau2 = [np.diag(np.repeat(0.1, k)) for j in range(trend)]\n",
    "inv_tau1 = np.linalg.inv(tau1)\n",
    "inv_tau2 = [np.linalg.inv(tau2[j]) for j in range(trend)]\n",
    "\n",
    "#モデルパラメータの初期値\n",
    "beta_u = np.random.gamma(0.25, 1/1.0, days)\n",
    "beta_v = np.random.gamma(0.25, 1/1.0, item+1)\n",
    "theta_u = np.random.gamma(1.0, 1/1.0, k*days).reshape(days, k)\n",
    "theta_v = np.vstack((np.random.gamma(0.5, 1/1.0, k*item).reshape(item, k), np.repeat(1.0, k)))\n",
    "theta_e = np.vstack((np.random.gamma(0.5, 1/1.0, k*element).reshape(element, k), np.repeat(1.0, k)))\n",
    "theta_g = [np.random.multivariate_normal(np.repeat(-0.5, k), np.diag(np.repeat(0.2, k)), weeks) for j in range(trend)]\n",
    "\n",
    "#パラメータの更新\n",
    "beta_date = beta_u[date_id]\n",
    "beta_item = beta_v[item_id]\n",
    "theta_date = theta_u[date_id, ] \n",
    "theta_item = theta_v[item_id, ] \n",
    "theta_element = theta_e[element_id, ]\n",
    "theta_trend = [np.exp(theta_g[j])[week_id[trend_list1[j]], ] for j in range(trend)]\n",
    "\n",
    "#期待値の真値\n",
    "uv = np.repeat(0.0, N)\n",
    "uv_deploy = np.zeros((N, k))\n",
    "uv_neutral = theta_date * theta_item * theta_element\n",
    "for i in range(trend):\n",
    "    index = trend_list1[i]\n",
    "    uv_deploy[index, ] += uv_neutral[index, ] * theta_trend[i]\n",
    "    uv[index, ] += np.dot(uv_deploy[index, ], k_vec)\n",
    "mu = beta_date + beta_item + uv"
   ]
  },
  {
   "cell_type": "code",
   "execution_count": 418,
   "metadata": {},
   "outputs": [],
   "source": [
    "##パラメータの真値\n",
    "#事前分布の設定\n",
    "alpha1 = 0.1; beta1 = 0.1\n",
    "alpha2 = 0.1; beta2 = 0.1\n",
    "alpha3 = 0.1; beta3 = 0.1\n",
    "tau1 = np.diag(np.repeat(0.25, k))\n",
    "tau2 = [np.diag(np.repeat(0.1, k)) for j in range(trend)]\n",
    "inv_tau1 = np.linalg.inv(tau1)\n",
    "inv_tau2 = [np.linalg.inv(tau2[j]) for j in range(trend)]\n",
    "\n",
    "#モデルパラメータの真値\n",
    "beta_u = betat_u.copy()\n",
    "beta_v = betat_v.copy()\n",
    "theta_u = thetat_u.copy()\n",
    "theta_v = thetat_v.copy()\n",
    "theta_e = thetat_e.copy()\n",
    "theta_g = thetat_g.copy()\n",
    "\n",
    "#パラメータの更新\n",
    "beta_date = beta_u[date_id]\n",
    "beta_item = beta_v[item_id]\n",
    "theta_date = theta_u[date_id, ] \n",
    "theta_item = theta_v[item_id, ] \n",
    "theta_element = theta_e[element_id, ]\n",
    "theta_trend = [np.exp(theta_g[j])[week_id[trend_list1[j]], ] for j in range(trend)]\n",
    "\n",
    "#期待値の真値\n",
    "uv = np.repeat(0.0, N)\n",
    "uv_deploy = np.zeros((N, k))\n",
    "uv_neutral = theta_date * theta_item * theta_element\n",
    "for i in range(trend):\n",
    "    index = trend_list1[i]\n",
    "    uv_deploy[index, ] += uv_neutral[index, ] * theta_trend[i]\n",
    "    uv[index, ] += np.dot(uv_deploy[index, ], k_vec)\n",
    "mu = beta_date + beta_item + uv"
   ]
  },
  {
   "cell_type": "code",
   "execution_count": null,
   "metadata": {},
   "outputs": [],
   "source": []
  },
  {
   "cell_type": "code",
   "execution_count": 399,
   "metadata": {},
   "outputs": [],
   "source": [
    "####ギブスサンプリングでパラメータをサンプリング####\n",
    "##潜在変数zをサンプリング\n",
    "#潜在変数zの割当確率\n",
    "uv = np.repeat(0.0, N)\n",
    "uv_deploy = np.zeros((N, k))\n",
    "uv_neutral = theta_date * theta_item * theta_element\n",
    "for i in range(trend):\n",
    "    index = trend_list1[i]\n",
    "    uv_deploy[index, ] += uv_neutral[index, ] * theta_trend[i]\n",
    "    uv[index, ] += np.dot(uv_deploy[index, ], k_vec)\n",
    "mu = beta_date + beta_item + uv\n",
    "Prob = 1 - np.exp(-mu)\n",
    "\n",
    "#潜在変数zから新しい変数を作成\n",
    "z = np.random.binomial(1, Prob, N)\n",
    "y_new = z * y"
   ]
  },
  {
   "cell_type": "code",
   "execution_count": 237,
   "metadata": {},
   "outputs": [],
   "source": [
    "##経済状況ベクトルをサンプリング\n",
    "#補助変数lambdaを更新\n",
    "date_deploy = np.hstack((beta_date[:, np.newaxis], uv_deploy))\n",
    "Lambda = date_deploy / mu[:, np.newaxis]\n",
    "\n",
    "#事後分布のパラメータ\n",
    "lambda_y = Lambda * y_new[:, np.newaxis]\n",
    "lambda_h = np.hstack((intercept, uv_deploy / theta_date))\n",
    "w1 = np.repeat(0.0, days); w2 = np.repeat(0.0, days)\n",
    "W1 = np.zeros((days, k)); W2 = np.zeros((days, k))\n",
    "for i in range(days):\n",
    "    w1[i] = np.sum(lambda_y[date_list[i], 0]); w2[i] = np.sum(lambda_h[date_list[i], 0])\n",
    "    W1[i, ] = np.sum(lambda_y[date_list[i], 1:], axis=0)\n",
    "    W2[i, ] = np.sum(lambda_h[date_list[i], 1:], axis=0)\n",
    "w1 = w1 + alpha1; w2 = w2 + beta1; W1 = W1 + alpha1; W2 = W2 + beta1\n",
    "\n",
    "#ガンマ分布からパラメータをサンプリング\n",
    "beta_u = np.random.gamma(w1, 1/w2, days)\n",
    "theta_u = np.random.gamma(W1, 1/W2)\n",
    "beta_date = beta_u[date_id]\n",
    "theta_date = theta_u[date_id, ] \n",
    "\n",
    "#期待値の更新\n",
    "uv = np.repeat(0.0, N)\n",
    "uv_deploy = np.zeros((N, k))\n",
    "uv_neutral = theta_date * theta_item * theta_element\n",
    "for i in range(trend):\n",
    "    index = trend_list1[i]\n",
    "    uv_deploy[index, ] += uv_neutral[index, ] * theta_trend[i]\n",
    "    uv[index, ] += np.dot(uv_deploy[index, ], k_vec)\n",
    "mu = beta_date + beta_item + uv\n",
    "\n",
    "\n",
    "##アイテムベクトルをサンプリング\n",
    "#補助変数lambdaを更新\n",
    "item_deploy = np.hstack((beta_item[:, np.newaxis], uv_deploy))\n",
    "Lambda = item_deploy / mu[:, np.newaxis]\n",
    "\n",
    "#事後分布のパラメータ\n",
    "lambda_y = Lambda * y_new[:, np.newaxis]\n",
    "lambda_h = np.hstack((intercept, uv_deploy / theta_item))\n",
    "w1 = np.repeat(0.0, item+1); w2 = np.repeat(0.0, item+1)\n",
    "W1 = np.zeros((item, k)); W2 = np.zeros((item, k))\n",
    "for i in range(item):\n",
    "    w1[i] = np.sum(lambda_y[item_list[i], 0]); w2[i] = np.sum(lambda_h[item_list[i], 0])\n",
    "    W1[i, ] = np.sum(lambda_y[item_list[i], 1:], axis=0)\n",
    "    W2[i, ] = np.sum(lambda_h[item_list[i], 1:], axis=0)\n",
    "w1[item] = np.sum(lambda_y[item_list[item], 0]); w2[item] = np.sum(lambda_h[item_list[item], 0])\n",
    "w1 = w1 + alpha2; w2 = w2 + beta2; W1 = W1 + alpha2; W2 = W2 + beta2\n",
    "\n",
    "#ガンマ分布からパラメータをサンプリング\n",
    "beta_v = np.random.gamma(w1, 1/w2, item+1)\n",
    "theta_v = np.vstack((np.random.gamma(W1, 1/W2), np.repeat(1.0, k)))\n",
    "beta_item = beta_v[item_id]\n",
    "theta_item = theta_v[item_id, ] \n",
    "\n",
    "#期待値の更新\n",
    "uv = np.repeat(0.0, N)\n",
    "uv_deploy = np.zeros((N, k))\n",
    "uv_neutral = theta_date * theta_item * theta_element\n",
    "for i in range(trend):\n",
    "    index = trend_list1[i]\n",
    "    uv_deploy[index, ] += uv_neutral[index, ] * theta_trend[i]\n",
    "    uv[index, ] += np.dot(uv_deploy[index, ], k_vec)\n",
    "mu = beta_date + beta_item + uv\n",
    "\n",
    "\n",
    "##エレメントベクトルをサンプリング\n",
    "#補助変数lambdaを更新\n",
    "Lambda = uv_deploy / mu[:, np.newaxis]\n",
    "\n",
    "#事後分布のパラメータ\n",
    "lambda_y = Lambda * y_new[:, np.newaxis]\n",
    "lambda_h = uv_deploy / theta_element\n",
    "W1 = np.zeros((element, k)); W2 = np.zeros((element, k))\n",
    "for i in range(element):\n",
    "    W1[i, ] = np.sum(lambda_y[element_list[i], ], axis=0)\n",
    "    W2[i, ] = np.sum(lambda_h[element_list[i], ], axis=0)\n",
    "w1 = w1 + alpha3; w2 = w2 + beta3; W1 = W1 + alpha3; W2 = W2 + beta3\n",
    "\n",
    "#ガンマ分布からパラメータをサンプリング\n",
    "theta_e = np.vstack((np.random.gamma(W1, 1/W2), np.repeat(1.0, k)))\n",
    "theta_element = theta_e[element_id, ] \n",
    "\n",
    "#期待値の更新\n",
    "uv = np.repeat(0.0, N)\n",
    "uv_deploy = np.zeros((N, k))\n",
    "uv_neutral = theta_date * theta_item * theta_element\n",
    "for i in range(trend):\n",
    "    index = trend_list1[i]\n",
    "    uv_deploy[index, ] += uv_neutral[index, ] * theta_trend[i]\n",
    "    uv[index, ] += np.dot(uv_deploy[index, ], k_vec)\n",
    "mu = beta_date + beta_item + uv"
   ]
  },
  {
   "cell_type": "code",
   "execution_count": 240,
   "metadata": {},
   "outputs": [
    {
     "data": {
      "text/plain": [
       "array([0.69314718, 0.69314718, 0.69314718, ..., 1.79175947, 1.79175947,\n",
       "       0.        ])"
      ]
     },
     "execution_count": 240,
     "metadata": {},
     "output_type": "execute_result"
    }
   ],
   "source": [
    "##trendベクトルをサンプリング\n"
   ]
  },
  {
   "cell_type": "code",
   "execution_count": 414,
   "metadata": {},
   "outputs": [],
   "source": [
    "#モデルの対数事後分布を計算する関数\n",
    "def loglike(theta_g, inv_tau1, inv_tau2, mu, y, y_factorial, weeks, trend, k, k_vec, trend_list2):\n",
    "    \n",
    "    #ポアソンモデルの対数尤度関数\n",
    "    LLi = y * np.log(mu) - mu - y_factorial\n",
    "\n",
    "    #多変量正規分布の対数事前分布\n",
    "    Prior = [np.repeat(0.0, weeks) for j in range(trend)]\n",
    "    for j in range(trend):\n",
    "        er = theta_g[j] - np.vstack((np.repeat(0.0, k), theta_g[j][:weeks-1, ]))\n",
    "        Prior[j][0] = -1/2 * np.dot(np.dot(er[0, ], inv_tau1), er[0, ])\n",
    "        Prior[j][1:] = -1/2 * np.dot(np.dot(er[1:, ], inv_tau2[j]) * er[1:, ], k_vec)\n",
    "\n",
    "    #対数事後分布の和を計算\n",
    "    Posterior = np.zeros((weeks, trend))\n",
    "    for i in range(trend):\n",
    "        for j in range(weeks):\n",
    "            Posterior[j, i] = np.sum(LLi[trend_list2[i][j]]) + Prior[i][j]\n",
    "    return Posterior"
   ]
  },
  {
   "cell_type": "code",
   "execution_count": 415,
   "metadata": {},
   "outputs": [
    {
     "data": {
      "text/plain": [
       "array([ -6.06942909,  15.12134328,   0.46021487, -11.3632543 ,\n",
       "         2.56533244,  -5.04921401,   5.46494524,   4.06192607,\n",
       "         2.3261659 ,  34.59732513])"
      ]
     },
     "execution_count": 415,
     "metadata": {},
     "output_type": "execute_result"
    }
   ],
   "source": [
    "#対数事後分布の勾配を計算する関数\n",
    "\n",
    "#モデルの期待値\n",
    "uv = np.repeat(0.0, N)\n",
    "uv_deploy = np.zeros((N, k))\n",
    "uv_neutral = theta_date * theta_item * theta_element\n",
    "for i in range(trend):\n",
    "    index = trend_list1[i]\n",
    "    uv_deploy[index, ] += uv_neutral[index, ] * theta_trend[i]\n",
    "    uv[index, ] += np.dot(uv_deploy[index, ], k_vec)\n",
    "mu = beta_date + beta_item + uv\n",
    "\n",
    "#対数尤度の勾配ベクトルを定義\n",
    "LLd = np.zeros((N, k))\n",
    "for i in range(trend):\n",
    "    index = trend_list1[i]\n",
    "    x = uv_neutral[index, ]\n",
    "    LLd[index, ] = y_new[index, np.newaxis] * (x * theta_trend[i] / mu[index, np.newaxis]) - x*theta_trend[i]\n"
   ]
  },
  {
   "cell_type": "code",
   "execution_count": 416,
   "metadata": {},
   "outputs": [
    {
     "data": {
      "text/plain": [
       "array([1.1840778 , 0.48922821, 0.15032888, 3.21447502, 0.23443547,\n",
       "       1.6063465 , 0.42532074, 0.5209419 , 0.46417202, 0.11071189])"
      ]
     },
     "execution_count": 416,
     "metadata": {},
     "output_type": "execute_result"
    }
   ],
   "source": [
    "np.sum(LLd[trend_list2[i][j], ], axis=0)"
   ]
  },
  {
   "cell_type": "code",
   "execution_count": 417,
   "metadata": {},
   "outputs": [
    {
     "data": {
      "text/plain": [
       "array([0.56178915, 0.67271966, 0.54453641, 0.63396842, 0.70065101,\n",
       "       0.34602685, 0.50771722, 0.41120222, 0.63331033, 0.96704537])"
      ]
     },
     "execution_count": 417,
     "metadata": {},
     "output_type": "execute_result"
    }
   ],
   "source": [
    "np.exp(thetat_g[i])[j, ]"
   ]
  },
  {
   "cell_type": "code",
   "execution_count": 222,
   "metadata": {},
   "outputs": [
    {
     "data": {
      "text/plain": [
       "array([[1.45836472e-01, 2.73820166e-01, 5.84715623e-01, ...,\n",
       "        3.11136632e-01, 8.58364696e-02, 2.35710855e+00],\n",
       "       [3.72435923e-01, 2.82656317e-01, 7.73837535e-04, ...,\n",
       "        4.29566454e-01, 7.82987982e-01, 1.12216558e+00],\n",
       "       [1.48039766e-02, 5.21350117e-01, 1.30788607e+00, ...,\n",
       "        3.14050467e-01, 1.58079408e-01, 1.52356375e-02],\n",
       "       ...,\n",
       "       [2.35249324e-01, 1.16915166e+00, 4.58202685e-01, ...,\n",
       "        1.26146558e-01, 5.67793603e-01, 6.51566109e-02],\n",
       "       [4.77181728e-01, 3.86090571e-01, 4.87498152e-01, ...,\n",
       "        3.42186825e-01, 4.45370587e-02, 2.63845019e-03],\n",
       "       [1.00000000e+00, 1.00000000e+00, 1.00000000e+00, ...,\n",
       "        1.00000000e+00, 1.00000000e+00, 1.00000000e+00]])"
      ]
     },
     "execution_count": 222,
     "metadata": {},
     "output_type": "execute_result"
    }
   ],
   "source": [
    "def fr(beta, x, y, y_factorial):\n",
    "    Lambda = np.exp(np.dot(x, beta))\n",
    "    LL = np.sum(y*np.log(Lambda) - Lambda - y_factorial)\n",
    "    return -LL\n",
    "\n",
    "#勾配ベクトルを定義\n",
    "def gradient(beta, x, y, y_factorial):\n",
    "    Lambda = np.exp(np.dot(x, beta))\n",
    "    LLd = np.sum(y[:, np.newaxis]*x - x*Lambda[:, np.newaxis], axis=0)\n",
    "    return -LLd\n"
   ]
  },
  {
   "cell_type": "code",
   "execution_count": 223,
   "metadata": {},
   "outputs": [
    {
     "data": {
      "text/plain": [
       "array([[8.64155830e-02, 3.40559738e-01, 5.32634949e-01, ...,\n",
       "        2.99598647e-01, 5.68211558e-02, 2.31603621e+00],\n",
       "       [3.51840061e-01, 1.96052022e-01, 1.35659957e-03, ...,\n",
       "        4.67366526e-01, 7.17542252e-01, 1.06651871e+00],\n",
       "       [3.31315109e-02, 5.01415452e-01, 1.26898670e+00, ...,\n",
       "        2.72918735e-01, 1.18820807e-01, 1.27768829e-02],\n",
       "       ...,\n",
       "       [2.08492934e-01, 1.23085081e+00, 5.10978412e-01, ...,\n",
       "        8.81377408e-02, 6.47151795e-01, 5.17751697e-02],\n",
       "       [5.05092506e-01, 3.72306291e-01, 4.29847474e-01, ...,\n",
       "        3.67566498e-01, 7.14191532e-02, 6.59283146e-03],\n",
       "       [1.00000000e+00, 1.00000000e+00, 1.00000000e+00, ...,\n",
       "        1.00000000e+00, 1.00000000e+00, 1.00000000e+00]])"
      ]
     },
     "execution_count": 223,
     "metadata": {},
     "output_type": "execute_result"
    }
   ],
   "source": [
    "thetat_e"
   ]
  },
  {
   "cell_type": "code",
   "execution_count": null,
   "metadata": {},
   "outputs": [],
   "source": []
  }
 ],
 "metadata": {
  "kernelspec": {
   "display_name": "Python 3",
   "language": "python",
   "name": "python3"
  },
  "language_info": {
   "codemirror_mode": {
    "name": "ipython",
    "version": 3
   },
   "file_extension": ".py",
   "mimetype": "text/x-python",
   "name": "python",
   "nbconvert_exporter": "python",
   "pygments_lexer": "ipython3",
   "version": "3.6.5"
  }
 },
 "nbformat": 4,
 "nbformat_minor": 2
}
