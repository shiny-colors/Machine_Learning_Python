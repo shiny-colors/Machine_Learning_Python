{
 "cells": [
  {
   "cell_type": "code",
   "execution_count": 74,
   "metadata": {},
   "outputs": [],
   "source": [
    "#####Modelling Reciprocating Relationships with Hawkes Processes#####\n",
    "import numpy as np\n",
    "import pandas as pd\n",
    "import matplotlib.pyplot  as plt\n",
    "import numpy.matlib\n",
    "import scipy.linalg\n",
    "import itertools\n",
    "import seaborn as sns\n",
    "from scipy import sparse\n",
    "from scipy.stats import norm\n",
    "from pandas.tools.plotting import scatter_matrix\n",
    "from numpy.random import *\n",
    "from scipy import optimize\n",
    "\n",
    "#np.random.seed(98537)"
   ]
  },
  {
   "cell_type": "code",
   "execution_count": 75,
   "metadata": {},
   "outputs": [],
   "source": [
    "##多項分布の乱数を生成する関数\n",
    "def rmnom(pr, n, k, no, pattern):\n",
    "    z_id = np.argmax((np.cumsum(pr, axis=1) >= np.random.uniform(0, 1, n)[:, np.newaxis]), axis=1)\n",
    "    return z_id\n",
    "    if pattern==1:\n",
    "        Z = sparse.coo_matrix((np.repeat(1, n), (no, np.array(z_id))), shape=(n, k))   #スパース行列の設定\n",
    "        return z_id, Z"
   ]
  },
  {
   "cell_type": "code",
   "execution_count": 76,
   "metadata": {},
   "outputs": [],
   "source": [
    "####データの発生####\n",
    "##データの設定\n",
    "k1 = 10\n",
    "k2 = 8\n",
    "hh = 5000\n",
    "item = 3000\n",
    "pt = np.random.poisson(np.random.gamma(10.0, 1/0.25, hh), hh); pt[pt <= 5] = 5\n",
    "hhpt = np.sum(pt)"
   ]
  },
  {
   "cell_type": "code",
   "execution_count": 77,
   "metadata": {},
   "outputs": [],
   "source": [
    "##IDとインデックスを設定\n",
    "#IDを設定\n",
    "d_id = np.repeat(range(hh), pt)\n",
    "pt_id = np.array(list(itertools.chain(*[np.array(range(pt[i]), dtype=\"int\") for i in range(hh)])))\n",
    "\n",
    "#インデックスを設定\n",
    "d_list = [i for i in range(hh)]\n",
    "d_vec = [i for i in range(hh)]\n",
    "pt_list = [j for j in range(np.max(pt))]\n",
    "pt_n = np.repeat(0, np.max(pt))\n",
    "for i in range(hh):\n",
    "    d_list[i] = np.array(np.where(d_id==i)[0], dtype=\"int\")\n",
    "    d_vec[i] = np.repeat(1, pt[i])\n",
    "for j in range(np.max(pt)):\n",
    "    pt_list[j] = np.array(np.where(pt_id==j)[0], dtype=\"int\")\n",
    "    pt_n[j] = pt_list[j].shape[0]\n",
    "max_index = np.array([np.max(d_list[i]) for i in range(hh)])"
   ]
  },
  {
   "cell_type": "code",
   "execution_count": 78,
   "metadata": {},
   "outputs": [
    {
     "name": "stdout",
     "output_type": "stream",
     "text": [
      "0\n",
      "1000\n",
      "2000\n",
      "3000\n",
      "4000\n"
     ]
    }
   ],
   "source": [
    "##アイテムの割当を生成\n",
    "#セグメント割当を生成\n",
    "topic = 25\n",
    "phi = np.random.dirichlet(np.repeat(0.5, item), topic)\n",
    "theta = np.random.dirichlet(np.repeat(2.5, topic), hh)\n",
    "z = np.dot(np.array([np.random.multinomial(1, theta[i, :], 1) for i in range(hh)]).reshape(hh, topic), range(topic))\n",
    "\n",
    "#多項分布からアイテムを生成\n",
    "item_id = np.zeros(hhpt, dtype='int')\n",
    "for i in range(hh):\n",
    "    if i%1000==0:\n",
    "        print(i)\n",
    "    item_id[d_list[i]] = np.dot(np.random.multinomial(1, phi[z[i], :], pt[i]), range(item))\n",
    "    \n",
    "#インデックスの設定\n",
    "item_list = [j for j in range(item)]\n",
    "item_vec = [j for j in range(item)]\n",
    "item_n = np.repeat(0, item)\n",
    "for j in range(item):\n",
    "    item_list[j] = np.array(np.where(item_id==j), dtype=\"int\")\n",
    "    item_vec[j] = np.repeat(1, len(item_list[j]))\n",
    "    item_n[j] = len(item_list[j])"
   ]
  },
  {
   "cell_type": "code",
   "execution_count": 79,
   "metadata": {},
   "outputs": [],
   "source": [
    "##アイテム購買履歴を設定\n",
    "#データの設定\n",
    "max_pt = np.max(pt)\n",
    "item_dt_list = [i for i in range(hh)]\n",
    "\n",
    "#アイテムごとに購買履歴を格納\n",
    "for i in range(hh):\n",
    "    temp_dt = np.zeros((pt[i], max_pt), dtype=\"int16\")\n",
    "    temp_id = item_id[d_list[i]] + 1\n",
    "    temp_index = np.arange(pt[i])\n",
    "    for j in range(pt[i]):\n",
    "        index = np.append(np.arange(j, pt[i]), np.arange(0, j))\n",
    "        temp_dt[j, temp_index] = temp_id[index] \n",
    "    temp_dt = np.tril(temp_dt)\n",
    "    item_dt_list[i] = temp_dt\n",
    "    \n",
    "#リストを変換\n",
    "item_dt = np.array(list(itertools.chain(*[item_dt_list[i] for i in range(hh)]))) - 1\n",
    "del item_dt_list\n",
    "\n",
    "#インデックスの設定\n",
    "dt_list = [j for j in range(max_pt)]\n",
    "dt_n = np.repeat(0, max_pt)\n",
    "for j in range(max_pt):\n",
    "    dt_list[j] = np.array(np.where(item_dt[:, j]!=-1)[0], dtype=\"int\")\n",
    "    dt_n[j] = dt_list[j].shape[0]"
   ]
  },
  {
   "cell_type": "code",
   "execution_count": 80,
   "metadata": {},
   "outputs": [
    {
     "name": "stdout",
     "output_type": "stream",
     "text": [
      "[1, 28809.451869991524, 0.0021197565991286902]\n",
      "[2, 16260.818961385245, 0.0009505289346337562]\n",
      "[3, 12251.176544424636, 0.0022427688785858274]\n",
      "[4, 10338.899846075794, 0.003328123673321297]\n",
      "[5, 6393.69803917076, 0.0017866716603445406]\n",
      "[6, 1454.535340763148, 0.0011565400885942994]\n",
      "[7, 205868.47564548458, 0.003333138852144348]\n",
      "[8, 232.41948617256415, 0.0008751212299953277]\n"
     ]
    }
   ],
   "source": [
    "##応答変数が妥当な値になるまで繰り返す\n",
    "rp = 0\n",
    "while True:\n",
    "    rp = rp + 1\n",
    "\n",
    "    ##パラメータを生成\n",
    "    #潜在変数を生成\n",
    "    theta1 = np.random.dirichlet(np.repeat(2.0, k1), 1).reshape(-1)\n",
    "    theta2 = np.random.dirichlet(np.repeat(2.0, k2), 1).reshape(-1)\n",
    "    Z1 = np.random.multinomial(1, theta1, hh)\n",
    "    Z2 = np.random.multinomial(1, theta2, item)\n",
    "    z1_vec = np.dot(Z1, np.arange(k1)); z2_vec = np.dot(Z2, np.arange(k2))\n",
    "\n",
    "    #ガンマ分布の事前分布のパラメータ\n",
    "    er1 = 3.0; er2 = 2.0; er3 = 0.3\n",
    "    alpha1 = np.full((k1, k2), er1); beta1 = 1.5\n",
    "    alpha2 = np.full((k1, k2), er2); beta2 = 2.0\n",
    "    alpha3 = np.full((k1, k2), er3); beta3 = 2.0\n",
    "\n",
    "    #モデルパラメータを生成\n",
    "    theta1 = np.random.gamma(alpha1, 1/beta1).reshape(k1, k2)\n",
    "    theta2 = np.random.gamma(alpha2, 1/beta2).reshape(k1, k2)\n",
    "    theta3 = np.random.gamma(alpha3, 1/beta3).reshape(k1, k2)\n",
    "    thetat1 = theta1.copy(); thetat2 = theta2.copy(); thetat3 = theta3.copy()\n",
    "    \n",
    "    ##応答変数を生成\n",
    "    #データの設定\n",
    "    trunc = 100\n",
    "    y = np.repeat(0.0, hhpt)\n",
    "    y_cumulative = np.repeat(0.0, hhpt)\n",
    "    y_dt_list1 = [i for i in range(hh)]\n",
    "    y_dt_list2 = [i for i in range(hh)]\n",
    "    \n",
    "    #ユーザーごとにデータを生成\n",
    "    for i in range(hh):\n",
    "        #データの格納用配列\n",
    "        index = d_list[i]\n",
    "        temp_index = np.arange(pt[i])\n",
    "        temp_z1 = z1_vec[d_id[temp_index]]\n",
    "        temp_z2 = Z2[item_id[temp_index], ]\n",
    "        temp_dt1 = np.zeros((pt[i], max_pt))\n",
    "        temp_dt2 = np.zeros((pt[i], max_pt))\n",
    "        temp_y1 = np.repeat(0.0, pt[i])\n",
    "        temp_y2 = np.repeat(0.0, pt[i])\n",
    "\n",
    "        for j in range(pt[i]):\n",
    "            if j==0:\n",
    "                #期待値を定義\n",
    "                Lambda = np.sum(theta1[temp_z1[j], ] * temp_z2[j, ])\n",
    "                \n",
    "                #指数分布から応答変数を生成\n",
    "                temp_y1[j] = np.random.exponential(Lambda, 1)\n",
    "                temp_y2[j] = temp_y1[j]\n",
    "            else:\n",
    "                #期待値を定義\n",
    "                Lambda1 = np.sum(theta1[temp_z1[j], ] * temp_z2[j, ])\n",
    "                Lambda2 = np.sum(theta2[temp_z1[j-1], ] * temp_z2[j-1, ])\n",
    "                Lambda3 = np.sum(theta3[temp_z1[1:j-1], ] * temp_z2[1:j-1, ], axis=1) * (temp_dt2[j, j] - temp_dt2[j, 1:j-1]) / trunc\n",
    "                Lambda = Lambda1 + Lambda2 + np.sum(Lambda3)\n",
    "                \n",
    "                #指数分布から応答変数を生成\n",
    "                temp_y1[j] = np.random.exponential(Lambda, 1)\n",
    "                temp_y2[j] = temp_y1[j]\n",
    "                temp_dt1[np.arange(j, pt[i]), j] = np.repeat(temp_y1[j-1], pt[i]-j)\n",
    "                temp_dt2 = np.cumsum(temp_dt1, axis=1)\n",
    "                \n",
    "        #データを格納\n",
    "        y[index] = temp_y1\n",
    "        y_cumulative[index] = temp_y2\n",
    "        y_dt_list1[i] = np.tril(temp_dt1)\n",
    "        y_dt_list2[i] = np.tril(temp_dt2)\n",
    "        \n",
    "    #break条件\n",
    "    print([rp, np.max(y_cumulative), np.min(y_cumulative[max_index])])\n",
    "    if (np.max(y_cumulative) < 500) & (np.max(y_cumulative) > 150):\n",
    "        break"
   ]
  },
  {
   "cell_type": "code",
   "execution_count": 83,
   "metadata": {},
   "outputs": [],
   "source": [
    "#リストを変換\n",
    "y_dt1 = np.array(list(itertools.chain(*[y_dt_list1[i] for i in range(hh)]))) \n",
    "y_dt2 = np.array(list(itertools.chain(*[y_dt_list2[i] for i in range(hh)]))) \n",
    "del y_dt_list1, y_dt_list2"
   ]
  },
  {
   "cell_type": "code",
   "execution_count": 84,
   "metadata": {},
   "outputs": [],
   "source": [
    "####マルコフ連鎖モンテカルロ法でパラメータを推定####\n",
    "##切断指数分布の乱数を生成する関数\n",
    "def rtexp(gamma, a, b):\n",
    "    #切断指数分布の乱数を生成\n",
    "    FA = scipy.stats.expon.cdf(a, scale=gamma)\n",
    "    FB = scipy.stats.expon.cdf(b, scale=gamma)\n",
    "    par = scipy.stats.expon.ppf(np.random.uniform(0, 1, a.shape[0])*(FB-FA)+FA, scale=gamma)\n",
    "    return par"
   ]
  },
  {
   "cell_type": "code",
   "execution_count": 85,
   "metadata": {},
   "outputs": [],
   "source": [
    "##データの設定\n",
    "R = 2000\n",
    "keep = 4\n",
    "burnin = int(500/keep)\n",
    "iter = 0\n",
    "disp = 10\n",
    "e1 = 0.001\n",
    "e2 = 0.0025\n",
    "L = 3"
   ]
  },
  {
   "cell_type": "code",
   "execution_count": 86,
   "metadata": {},
   "outputs": [],
   "source": [
    "##事前分布の設定\n",
    "alpha1 = 1.0; alpha2 = 1.0\n",
    "beta1 = 1.0; beta2 = 1.0"
   ]
  },
  {
   "cell_type": "code",
   "execution_count": 90,
   "metadata": {},
   "outputs": [],
   "source": [
    "##パラメータの真値\n",
    "#潜在変数の真値\n",
    "Zi1 = Z1.copy()\n",
    "Zi2 = Z2.copy()\n",
    "z1_vec = np.dot(Zi1, np.arange(k1))\n",
    "z2_vec = np.dot(Zi2, np.arange(k2))\n",
    "\n",
    "#モデルパラメータの真値\n",
    "theta1 = thetat1.copy()\n",
    "theta2 = thetat2.copy()"
   ]
  },
  {
   "cell_type": "code",
   "execution_count": 88,
   "metadata": {},
   "outputs": [],
   "source": [
    "##パラメータの初期値\n",
    "#潜在変数の初期値\n",
    "Zi1 = np.random.multinomial(1, np.repeat(1/k1, k1), hh)\n",
    "Zi2 = np.random.multinomial(1, np.repeat(1/k2, k2), item)\n",
    "z1_vec = np.dot(Zi1, np.arange(k1))\n",
    "z2_vec = np.dot(Zi2, np.arange(k2))\n",
    "\n",
    "#モデルパラメータの初期値\n",
    "theta1 = np.random.gamma(alpha1, 1/beta1, k1*k2).reshape(k1, k2)\n",
    "theta2 = np.random.gamma(alpha2, 1/beta2, k1*k2).reshape(k1, k2)"
   ]
  },
  {
   "cell_type": "code",
   "execution_count": 92,
   "metadata": {},
   "outputs": [
    {
     "data": {
      "text/plain": [
       "array([[ 0.        ,  0.        ,  0.        , ...,  0.        ,\n",
       "         0.        ,  0.        ],\n",
       "       [ 0.        ,  1.87412169,  0.        , ...,  0.        ,\n",
       "         0.        ,  0.        ],\n",
       "       [ 0.        ,  1.87412169,  5.06367023, ...,  0.        ,\n",
       "         0.        ,  0.        ],\n",
       "       ...,\n",
       "       [ 0.        ,  1.15749528, 13.23537734, ...,  0.        ,\n",
       "         0.        ,  0.        ],\n",
       "       [ 0.        ,  1.15749528, 13.23537734, ...,  0.        ,\n",
       "         0.        ,  0.        ],\n",
       "       [ 0.        ,  1.15749528, 13.23537734, ...,  0.        ,\n",
       "         0.        ,  0.        ]])"
      ]
     },
     "execution_count": 92,
     "metadata": {},
     "output_type": "execute_result"
    }
   ],
   "source": [
    "####ギブスサンプリングでパラメータをサンプリング####\n",
    "\n",
    "##潜在変数をサンプリング\n",
    "\n"
   ]
  },
  {
   "cell_type": "code",
   "execution_count": null,
   "metadata": {},
   "outputs": [],
   "source": []
  },
  {
   "cell_type": "code",
   "execution_count": null,
   "metadata": {},
   "outputs": [],
   "source": []
  }
 ],
 "metadata": {
  "kernelspec": {
   "display_name": "Python 3",
   "language": "python",
   "name": "python3"
  },
  "language_info": {
   "codemirror_mode": {
    "name": "ipython",
    "version": 3
   },
   "file_extension": ".py",
   "mimetype": "text/x-python",
   "name": "python",
   "nbconvert_exporter": "python",
   "pygments_lexer": "ipython3",
   "version": "3.6.5"
  }
 },
 "nbformat": 4,
 "nbformat_minor": 2
}
