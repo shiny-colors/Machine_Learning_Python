{
 "cells": [
  {
   "cell_type": "code",
   "execution_count": 27,
   "metadata": {},
   "outputs": [],
   "source": [
    "# ライブラリのインポート\n",
    "import numpy as np\n",
    "import pandas as pd\n",
    "import matplotlib.pyplot  as plt\n",
    "import numpy.matlib\n",
    "import scipy.linalg\n",
    "import itertools\n",
    "from scipy import sparse\n",
    "from scipy.stats import norm\n",
    "from numpy.random import *\n",
    "from scipy import optimize"
   ]
  },
  {
   "cell_type": "code",
   "execution_count": 28,
   "metadata": {},
   "outputs": [],
   "source": [
    "# 多項分布の乱数を生成する関数\n",
    "def rmnom(pr, n, k, pattern):\n",
    "    if pattern==1:\n",
    "        z_id = np.array(np.argmax(np.cumsum(pr, axis=1) >= np.random.uniform(0, 1, n)[:, np.newaxis], axis=1), dtype=\"int\")\n",
    "        Z = np.diag(np.repeat(1, k))[z_id, ]\n",
    "        return z_id, Z\n",
    "    z_id = np.array(np.argmax((np.cumsum(pr, axis=1) >= np.random.uniform(0, 1, n)[:, np.newaxis]), axis=1), dtype=\"int\")\n",
    "    return z_id"
   ]
  },
  {
   "cell_type": "code",
   "execution_count": 29,
   "metadata": {},
   "outputs": [],
   "source": [
    "# データの生成\n",
    "# 生成データの設定\n",
    "k = 10\n",
    "hh = 3000\n",
    "item = 2500\n",
    "Lambda = np.random.gamma(40.0, 1/0.3, hh)\n",
    "pt1 = np.random.poisson(Lambda, hh)\n",
    "N1 = np.sum(pt1)"
   ]
  },
  {
   "cell_type": "code",
   "execution_count": 30,
   "metadata": {},
   "outputs": [],
   "source": [
    "# idとインデックスを定義\n",
    "# idの定義\n",
    "d_id1 = np.repeat(np.arange(hh), pt1)\n",
    "pt_id1 = np.array(list(itertools.chain(*[np.array(range(pt1[i]), dtype=\"int\") for i in range(hh)])))\n",
    "\n",
    "#インデックスを定義\n",
    "d_list1 = [i for i in range(hh)]\n",
    "d_vec1 = [i for i in range(hh)]\n",
    "for i in range(hh):\n",
    "    d_list1[i] = np.array(np.where(d_id1==i)[0], dtype=\"int\")\n",
    "    d_vec1[i] = np.repeat(1.0, d_list1[i].shape[0])"
   ]
  },
  {
   "cell_type": "code",
   "execution_count": 32,
   "metadata": {},
   "outputs": [],
   "source": [
    "# アイテムを生成\n",
    "# トピックを生成\n",
    "topic = 30\n",
    "theta_topic = np.random.dirichlet(np.repeat(0.2, topic), hh)\n",
    "phi_item = np.random.dirichlet(np.repeat(0.1, item), topic)\n",
    "z = np.array(rmnom(theta_topic[d_id1, ], N1, topic, 0), dtype=\"int16\")\n",
    "\n",
    "# 多項分布からアイテムを生成\n",
    "item_id1 = np.repeat(0, N1)\n",
    "for i in range(hh):\n",
    "    index = d_list1[i]\n",
    "    item_id1[index] = rmnom(phi_item[z[index], ], pt1[i], item, 0)\n",
    "    \n",
    "# インデックスを定義\n",
    "item_list1 = [i for i in range(item)]\n",
    "item_vec1 = [i for i in range(item)]\n",
    "item_n1 = np.repeat(0, item)\n",
    "for i in range(item):\n",
    "    item_list1[i] = np.array(np.where(item_id1==i)[0], dtype=\"int\")\n",
    "    item_vec1[i] = np.repeat(1.0, item_list1[i].shape[0])\n",
    "    item_n1[i] = item_list1[i].shape[0]"
   ]
  },
  {
   "cell_type": "code",
   "execution_count": 35,
   "metadata": {},
   "outputs": [],
   "source": [
    "# 応答変数を生成\n",
    "# 事前分布の定義\n",
    "alpha = 0.0\n",
    "tau_u = 0.5\n",
    "tau_v = 0.7\n",
    "Cov = 0.5\n",
    "\n",
    "# モデルパラメータを生成\n",
    "beta = 5.5\n",
    "beta_u = np.random.normal(alpha, tau_u, hh)\n",
    "beta_v = np.random.normal(alpha, tau_v, item)\n",
    "theta = np.random.normal(0.0, Cov, k*item).reshape(item, k)\n",
    "\n",
    "# カーネル関数を定義\n"
   ]
  },
  {
   "cell_type": "code",
   "execution_count": 36,
   "metadata": {},
   "outputs": [
    {
     "data": {
      "text/plain": [
       "array([[-0.42804945, -0.28732711,  0.20868606, ..., -0.57506147,\n",
       "         0.52948704,  0.2723387 ],\n",
       "       [-0.2554572 , -0.34840497, -0.15378919, ..., -0.10682674,\n",
       "         0.63898072, -0.51625596],\n",
       "       [-0.56276223,  0.4010773 ,  0.05249848, ...,  0.41184902,\n",
       "         0.1272269 ,  0.71072769],\n",
       "       ...,\n",
       "       [-0.17994148,  0.747814  , -0.31657436, ..., -0.09909843,\n",
       "         0.19814394, -0.05296066],\n",
       "       [ 0.42290962, -0.39254673,  0.20961908, ..., -1.05890519,\n",
       "         0.97698028,  0.27733325],\n",
       "       [-0.16153421,  0.62062524,  0.07744808, ..., -0.40295766,\n",
       "         0.49919474, -0.53720347]])"
      ]
     },
     "execution_count": 36,
     "metadata": {},
     "output_type": "execute_result"
    }
   ],
   "source": [
    "i = 0\n",
    "theta[item_id1[d_list1[i]], ]"
   ]
  },
  {
   "cell_type": "code",
   "execution_count": 37,
   "metadata": {},
   "outputs": [
    {
     "data": {
      "text/plain": [
       "array([  0,   1,   2,   3,   4,   5,   6,   7,   8,   9,  10,  11,  12,\n",
       "        13,  14,  15,  16,  17,  18,  19,  20,  21,  22,  23,  24,  25,\n",
       "        26,  27,  28,  29,  30,  31,  32,  33,  34,  35,  36,  37,  38,\n",
       "        39,  40,  41,  42,  43,  44,  45,  46,  47,  48,  49,  50,  51,\n",
       "        52,  53,  54,  55,  56,  57,  58,  59,  60,  61,  62,  63,  64,\n",
       "        65,  66,  67,  68,  69,  70,  71,  72,  73,  74,  75,  76,  77,\n",
       "        78,  79,  80,  81,  82,  83,  84,  85,  86,  87,  88,  89,  90,\n",
       "        91,  92,  93,  94,  95,  96,  97,  98,  99, 100, 101, 102, 103,\n",
       "       104, 105, 106, 107, 108, 109, 110, 111, 112, 113, 114, 115, 116,\n",
       "       117, 118, 119, 120, 121, 122, 123, 124, 125])"
      ]
     },
     "execution_count": 37,
     "metadata": {},
     "output_type": "execute_result"
    }
   ],
   "source": [
    "d_list1[i]"
   ]
  },
  {
   "cell_type": "code",
   "execution_count": null,
   "metadata": {},
   "outputs": [],
   "source": []
  }
 ],
 "metadata": {
  "kernelspec": {
   "display_name": "Python 3",
   "language": "python",
   "name": "python3"
  },
  "language_info": {
   "codemirror_mode": {
    "name": "ipython",
    "version": 3
   },
   "file_extension": ".py",
   "mimetype": "text/x-python",
   "name": "python",
   "nbconvert_exporter": "python",
   "pygments_lexer": "ipython3",
   "version": "3.7.3"
  }
 },
 "nbformat": 4,
 "nbformat_minor": 2
}
