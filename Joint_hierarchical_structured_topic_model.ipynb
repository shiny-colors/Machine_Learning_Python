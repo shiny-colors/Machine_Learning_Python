{
 "cells": [
  {
   "cell_type": "code",
   "execution_count": 35,
   "metadata": {},
   "outputs": [],
   "source": [
    "#####Joint_hierarchical_structured_topic_model#####\n",
    "import numpy as np\n",
    "import pandas as pd\n",
    "import matplotlib.pyplot  as plt\n",
    "import numpy.matlib\n",
    "import scipy.linalg\n",
    "import itertools\n",
    "import seaborn as sns\n",
    "from scipy import sparse\n",
    "from scipy.stats import norm\n",
    "from pandas.tools.plotting import scatter_matrix\n",
    "from numpy.random import *\n",
    "from scipy import optimize\n",
    "from scipy.special import psi as psi\n",
    "\n",
    "#np.random.seed(98537)"
   ]
  },
  {
   "cell_type": "code",
   "execution_count": 2,
   "metadata": {},
   "outputs": [],
   "source": [
    "##多項分布の乱数を生成する関数\n",
    "def rmnom(pr, n, k, no, pattern):\n",
    "    z_id = np.argmax((np.cumsum(pr, axis=1) >= np.random.uniform(0, 1, n)[:, np.newaxis]), axis=1)\n",
    "    if pattern==1:\n",
    "        Z = sparse.coo_matrix((np.repeat(1, n), (no, np.array(z_id))), shape=(n, k))   #スパース行列の設定\n",
    "        return z_id, Z\n",
    "    return z_id"
   ]
  },
  {
   "cell_type": "code",
   "execution_count": 3,
   "metadata": {},
   "outputs": [],
   "source": [
    "####データの生成####\n",
    "##データの設定\n",
    "#データのパラメータ\n",
    "types = 2\n",
    "k = 15\n",
    "d = 5000 \n",
    "s = np.random.poisson(4.5, d); s[s < 2] = 2\n",
    "n = np.sum(s)\n",
    "v1 = 1000\n",
    "v2 = 500\n",
    "a = 500\n",
    "\n",
    "#文書idと単語頻度を生成\n",
    "s_id = np.repeat(np.arange(d), s)\n",
    "s_list = [i for i in range(d)]\n",
    "for i in range(d):\n",
    "    s_list[i] = np.array(np.where(s_id==i)[0], dtype=\"int\")\n",
    "w21 = np.random.poisson(np.random.gamma(20.0, 1/0.75, n))\n",
    "w22 = np.random.poisson(np.random.gamma(10.0, 1/0.75, n))\n",
    "w11 = np.array([np.sum(w21[s_list[i]]) for i in range(d)])\n",
    "w12 = np.array([np.sum(w22[s_list[i]]) for i in range(d)])\n",
    "f1 = np.sum(w11)\n",
    "f2 = np.sum(w12)\n",
    "\n",
    "#補助文書idを生成\n",
    "x = np.random.poisson(12.5, d); x[x < 2] = 2\n",
    "x_id = np.repeat(np.arange(d), x)\n",
    "g = np.sum(x)"
   ]
  },
  {
   "cell_type": "code",
   "execution_count": 4,
   "metadata": {},
   "outputs": [],
   "source": [
    "##単語idとインデックスの設定\n",
    "#単語idを設定\n",
    "d_id11 = np.repeat(np.arange(d), w11)\n",
    "d_id12 = np.repeat(np.arange(d), w12)\n",
    "d_id21 = np.repeat(np.arange(n), w21)\n",
    "d_id22 = np.repeat(np.arange(n), w22)\n",
    "\n",
    "#インデックスを作成\n",
    "d_list11 = [i for i in range(d)]; d_dt11 = [i for i in range(d)]\n",
    "d_list12 = [i for i in range(d)]; d_dt12 = [i for i in range(d)]\n",
    "d_list21 = [i for i in range(n)]; d_dt21 = [i for i in range(n)]\n",
    "d_list22 = [i for i in range(n)]; d_dt22 = [i for i in range(n)]\n",
    "for i in range(d):\n",
    "    d_list11[i] = np.array(np.where(d_id11==i)[0], dtype=\"int\")\n",
    "    d_list12[i] = np.array(np.where(d_id12==i)[0], dtype=\"int\")\n",
    "    d_dt11[i] = np.repeat(1, w11[i])\n",
    "    d_dt12[i] = np.repeat(1, w12[i])\n",
    "for i in range(n):\n",
    "    d_list21[i] = np.array(np.where(d_id21==i)[0], dtype=\"int\")\n",
    "    d_list22[i] = np.array(np.where(d_id22==i)[0], dtype=\"int\")\n",
    "    d_dt21[i] = np.repeat(1, w21[i])\n",
    "    d_dt22[i] = np.repeat(1, w22[i])\n",
    "    \n",
    "#タグidを設定\n",
    "a_id = np.repeat(np.arange(d), x)\n",
    "a_list = [i for i in range(d)]\n",
    "a_dt = [i for i in range(d)]\n",
    "for i in range(d):\n",
    "    a_list[i] = np.array(np.where(a_id==i), dtype=\"int\")\n",
    "    a_dt[i] = np.repeat(1, x[i])"
   ]
  },
  {
   "cell_type": "code",
   "execution_count": 5,
   "metadata": {},
   "outputs": [
    {
     "name": "stdout",
     "output_type": "stream",
     "text": [
      "1\n",
      "2\n",
      "3\n",
      "4\n",
      "5\n",
      "6\n",
      "7\n",
      "8\n",
      "9\n",
      "10\n",
      "11\n",
      "12\n"
     ]
    }
   ],
   "source": [
    "####応答変数を生成####\n",
    "rp = 0\n",
    "while True:\n",
    "    rp = rp + 1\n",
    "    print(rp)\n",
    "    \n",
    "    ##パラメータを生成\n",
    "    #トピック分布のパラメータを生成\n",
    "    weights = 3.0\n",
    "    theta = np.random.dirichlet(np.repeat(0.2, k), d)\n",
    "    theta1 = np.array([np.random.dirichlet(weights*theta[s_id[i], ], 1).reshape(-1) for i in range(n)])\n",
    "    theta2 = np.array([np.random.dirichlet(weights*theta[s_id[i], ], 1).reshape(-1) for i in range(n)])\n",
    "\n",
    "    #単語分布のパラメータを生成\n",
    "    phi1 = np.random.dirichlet(np.repeat(0.05, v1), k)\n",
    "    phi2 = np.random.dirichlet(np.repeat(0.05, v2), k)\n",
    "    omega = np.random.dirichlet(np.repeat(0.1, a), k)\n",
    "\n",
    "    #出現確率が低い単語を入れ替える\n",
    "    index = np.where(np.max(phi1, axis=0) <= (k*k)/f1)[0]\n",
    "    for j in range(index.shape[0]):\n",
    "        phi1[np.argmax(np.random.multinomial(1, np.repeat(1/k, k), 1)), index[j]] = (k*k)/f1\n",
    "    index = np.where(np.max(phi2, axis=0) <= (k*k)/f2)[0]\n",
    "    for j in range(index.shape[0]):\n",
    "        phi2[np.argmax(np.random.multinomial(1, np.repeat(1/k, k), 1)), index[j]] = (k*k)/f2\n",
    "\n",
    "    ##トピックから単語を生成\n",
    "    #多項分布からトピックを生成\n",
    "    Z1 = np.array(rmnom(theta1[d_id21, ], f1, k, np.arange(f1), 1)[1].todense(), dtype=\"int8\")\n",
    "    Z2 = np.array(rmnom(theta2[d_id22, ], f2, k, np.arange(f2), 1)[1].todense(), dtype=\"int8\")\n",
    "    z_vec1 = np.dot(Z1, np.arange(k))\n",
    "    z_vec2 = np.dot(Z2, np.arange(k))\n",
    "\n",
    "    #トピックから単語を生成\n",
    "    word_data1 = np.zeros((f1, v1), dtype=\"int8\")\n",
    "    word_data2 = np.zeros((f2, v2), dtype=\"int8\")\n",
    "    word1 = np.repeat(0, f1)\n",
    "    word2 = np.repeat(0, f2)\n",
    "    for i in range(n):\n",
    "        out1 = rmnom(phi1[z_vec1[d_list21[i]], ], w21[i], v1, np.arange(w21[i]), 1)\n",
    "        out2 = rmnom(phi2[z_vec2[d_list22[i]], ], w22[i], v2, np.arange(w22[i]), 1)\n",
    "        word_data1[d_list21[i], ] = np.array(out1[1].todense(), dtype=\"int8\")\n",
    "        word_data2[d_list22[i], ] = np.array(out2[1].todense(), dtype=\"int8\")\n",
    "        word1[d_list21[i]] = np.array(out1[0], dtype=\"int\")\n",
    "        word2[d_list22[i]] = np.array(out2[0], dtype=\"int\")\n",
    "\n",
    "    ##トピックからタグを生成\n",
    "    #多項分布からトピックを生成\n",
    "    gamma = np.array([np.sum(Z1[d_list11[i], ], axis=0) / w11[i] for i in range(d)])\n",
    "    S = np.array(rmnom(gamma[a_id, ], g, k, np.arange(g), 1)[1].todense(), dtype=\"int8\")\n",
    "    s_vec = np.dot(S, np.arange(k))\n",
    "\n",
    "    #トピックからタグを生成\n",
    "    out = rmnom(omega[s_vec, ], g, a, np.arange(g), 1)\n",
    "    tag_data = np.array(out[1].todense(), dtype=\"int8\")\n",
    "    tag = np.array(out[0], dtype=\"int\")\n",
    "\n",
    "    #break条件\n",
    "    freq1 = np.min(np.sum(word_data1, axis=0)) \n",
    "    freq2 = np.min(np.sum(word_data2, axis=0)) \n",
    "    freq3 = np.min(np.sum(tag_data, axis=0)) \n",
    "    if (freq1 > 0) & (freq2 > 0) & (freq3 > 0):\n",
    "        break"
   ]
  },
  {
   "cell_type": "code",
   "execution_count": 15,
   "metadata": {},
   "outputs": [
    {
     "data": {
      "image/png": "[encoded data removed]",
      "text/plain": [
       "<Figure size 900x468 with 6 Axes>"
      ]
     },
     "metadata": {},
     "output_type": "display_data"
    },
    {
     "data": {
      "text/plain": [
       "19988"
      ]
     },
     "execution_count": 15,
     "metadata": {},
     "output_type": "execute_result"
    }
   ],
   "source": [
    "##トピック分布間の関連性と単語分布の可視化\n",
    "#トピック分布間のtf-idfを計算\n",
    "normalize1 = np.sqrt(np.sum(np.power(theta[s_id, ], 2), axis=1)) * np.sqrt(np.sum(np.power(theta1, 2), axis=1))\n",
    "inner_prod1 = np.sum(theta[s_id, ] * theta1, axis=1)\n",
    "tf_idf1 = inner_prod1 / normalize1\n",
    "normalize2 = np.sqrt(np.sum(np.power(theta[s_id, ], 2), axis=1)) * np.sqrt(np.sum(np.power(theta2, 2), axis=1))\n",
    "inner_prod2 = np.sum(theta[s_id, ] * theta2, axis=1)\n",
    "tf_idf2 = inner_prod2 / normalize2\n",
    "normalize3 = np.sqrt(np.sum(np.power(theta1, 2), axis=1)) * np.sqrt(np.sum(np.power(theta2, 2), axis=1))\n",
    "inner_prod3 = np.sum(theta1 * theta2, axis=1)\n",
    "tf_idf3 = inner_prod3 / normalize3\n",
    "del normalize1; normalize2; normalize3, inner_prod1, inner_prod2, inner_prod3\n",
    "\n",
    "#tf-idfと単語分布を可視化\n",
    "dt = [tf_idf1, tf_idf2, tf_idf3, np.max(phi1, axis=0), np.max(phi2, axis=0), np.max(omega, axis=0)]\n",
    "fig_range = np.array([[0.0, 0.0, 0.0, 0.0, 0.0, 0.0], [1.0, 1.0, 1.0, np.max(phi1), np.max(phi2), np.max(omega)]])\n",
    "colorlist = [\"r\", \"g\", \"b\", \"c\", \"m\", \"y\", \"k\", \"w\"]\n",
    "legend = [\"グローバル分布と名詞分布のtf-idf分布\", \"グローバル分布と動詞分布のtf-idf分布\", \n",
    "          \"ローカル分布同士のtf-idf分布\", \"名詞分布のパラメータ\", \"動詞分布のパラメータ\", \"タグ分布のパラメータ\"]\n",
    "fig = plt.figure(figsize=(12.5, 6.5))\n",
    "for j in range(len(dt)):\n",
    "    ax = fig.add_subplot(2, 3, j+1)\n",
    "    ax.hist(dt[j],  bins=25, range=(fig_range[0, j], fig_range[1, j]), color=colorlist[j])\n",
    "    plt.title(legend[j], fontsize=12.5)\n",
    "fig.tight_layout()\n",
    "plt.show()\n",
    "gc.collect()"
   ]
  },
  {
   "cell_type": "code",
   "execution_count": 21,
   "metadata": {},
   "outputs": [],
   "source": [
    "####マルコフ連鎖モンテカルロ法でパラメータをサンプリング#####\n",
    "#トピック尤度と負担率を計算する関数\n",
    "def LLho(theta, phi, d_id, wd, f, k):\n",
    "    Lho = theta[d_id, ] * (phi.T)[wd, ]\n",
    "    topic_rate = Lho / np.sum(Lho, axis=1)[:, np.newaxis]\n",
    "    return Lho, topic_rate"
   ]
  },
  {
   "cell_type": "code",
   "execution_count": 22,
   "metadata": {},
   "outputs": [],
   "source": [
    "##アルゴリズムの設定\n",
    "R = 2000   #サンプリング回数\n",
    "keep = 2   #2回に1回の割合でサンプリング結果を格納\n",
    "disp = 10\n",
    "iter = 0\n",
    "burnin = int(500/keep)"
   ]
  },
  {
   "cell_type": "code",
   "execution_count": 370,
   "metadata": {},
   "outputs": [],
   "source": [
    "i = 0\n",
    "alpha1 = np.repeat(1.5, k)\n",
    "index1 = d_list21[i]\n",
    "q = 10\n",
    "z1 = np.sum(Z1[index1, ], axis=0)\n",
    "z1 = np.sum(np.random.multinomial(1, theta1[i, ], q), axis=0)"
   ]
  },
  {
   "cell_type": "code",
   "execution_count": 371,
   "metadata": {},
   "outputs": [
    {
     "name": "stdout",
     "output_type": "stream",
     "text": [
      "[1.29576865e-08 1.74878158e-01 7.49607197e-10 3.10568744e-04\n",
      " 2.07632246e-03 9.94555034e-05 4.63455784e-01 7.98861312e-01\n",
      " 5.60732053e-04 2.81631353e-03 7.72962361e-01 4.17464414e-01\n",
      " 1.34994966e-02 3.30106358e-09 8.05119922e-01]\n",
      "3.4521048559583813\n"
     ]
    }
   ],
   "source": [
    "new_alpha = alpha1 * (psi(theta[d_id11[i], ] + alpha1) - psi(alpha1)) / (psi(q+np.sum(alpha1)) - psi(np.sum(alpha1)))\n",
    "print(new_alpha)\n",
    "print(np.sum(new_alpha))"
   ]
  },
  {
   "cell_type": "code",
   "execution_count": 372,
   "metadata": {},
   "outputs": [
    {
     "data": {
      "text/plain": [
       "array([1.29576865e-08, 1.74878158e-01, 7.49607197e-10, 3.10568744e-04,\n",
       "       2.07632246e-03, 9.94555034e-05, 4.63455784e-01, 7.98861312e-01,\n",
       "       5.60732053e-04, 2.81631353e-03, 7.72962361e-01, 4.17464414e-01,\n",
       "       1.34994966e-02, 3.30106358e-09, 8.05119922e-01])"
      ]
     },
     "execution_count": 372,
     "metadata": {},
     "output_type": "execute_result"
    }
   ],
   "source": [
    "new_alpha"
   ]
  },
  {
   "cell_type": "code",
   "execution_count": 373,
   "metadata": {},
   "outputs": [
    {
     "data": {
      "text/plain": [
       "array([3.46210316e-09, 4.77073152e-02, 2.00284042e-10, 8.29824480e-05,\n",
       "       5.54899245e-04, 2.65733591e-05, 1.30903237e-01, 2.35091403e-01,\n",
       "       1.49829299e-04, 7.52728575e-04, 2.26744463e-01, 1.17257641e-01,\n",
       "       3.61264050e-03, 8.81995542e-10, 2.37116283e-01])"
      ]
     },
     "execution_count": 373,
     "metadata": {},
     "output_type": "execute_result"
    }
   ],
   "source": [
    "theta[d_id11[i], ]"
   ]
  },
  {
   "cell_type": "code",
   "execution_count": 224,
   "metadata": {},
   "outputs": [
    {
     "data": {
      "text/plain": [
       "-3.4288760398400675"
      ]
     },
     "execution_count": 224,
     "metadata": {},
     "output_type": "execute_result"
    }
   ],
   "source": [
    "np.sum(psi(z1+alpha1) - k*psi(alpha1)) / (psi(q+alpha1*k) - k*psi(alpha1*k))"
   ]
  },
  {
   "cell_type": "code",
   "execution_count": 159,
   "metadata": {},
   "outputs": [
    {
     "data": {
      "text/plain": [
       "-5.289039896592189"
      ]
     },
     "execution_count": 159,
     "metadata": {},
     "output_type": "execute_result"
    }
   ],
   "source": [
    "delta1 = np.sum((psi(z1+(alpha1*theta[d_id11[i],])) - psi(alpha1*theta[d_id11[i], ])))\n",
    "delta2 = psi(q+alpha1) - psi(alpha1)\n",
    "delta1 / delta2"
   ]
  },
  {
   "cell_type": "code",
   "execution_count": 233,
   "metadata": {},
   "outputs": [
    {
     "data": {
      "text/plain": [
       "5.366666666666666"
      ]
     },
     "execution_count": 233,
     "metadata": {},
     "output_type": "execute_result"
    }
   ],
   "source": [
    "np.sum(psi(z1+alpha1)) - k*psi(alpha1)"
   ]
  },
  {
   "cell_type": "code",
   "execution_count": 241,
   "metadata": {},
   "outputs": [
    {
     "data": {
      "text/plain": [
       "1.8322720498577425"
      ]
     },
     "execution_count": 241,
     "metadata": {},
     "output_type": "execute_result"
    }
   ],
   "source": [
    "np.sum(psi(z1+alpha1) - psi(alpha1)) / (psi(q+alpha1) - psi(alpha1))"
   ]
  },
  {
   "cell_type": "code",
   "execution_count": 237,
   "metadata": {},
   "outputs": [
    {
     "data": {
      "text/plain": [
       "2.6743466616607936"
      ]
     },
     "execution_count": 237,
     "metadata": {},
     "output_type": "execute_result"
    }
   ],
   "source": [
    "psi(alpha1*k)"
   ]
  },
  {
   "cell_type": "code",
   "execution_count": null,
   "metadata": {},
   "outputs": [],
   "source": []
  }
 ],
 "metadata": {
  "kernelspec": {
   "display_name": "Python 3",
   "language": "python",
   "name": "python3"
  },
  "language_info": {
   "codemirror_mode": {
    "name": "ipython",
    "version": 3
   },
   "file_extension": ".py",
   "mimetype": "text/x-python",
   "name": "python",
   "nbconvert_exporter": "python",
   "pygments_lexer": "ipython3",
   "version": "3.6.5"
  }
 },
 "nbformat": 4,
 "nbformat_minor": 2
}
