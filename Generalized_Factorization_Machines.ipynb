{
 "cells": [
  {
   "cell_type": "code",
   "execution_count": 1,
   "metadata": {},
   "outputs": [],
   "source": [
    "#####Generalized Factorization Machines#####\n",
    "import numpy as np\n",
    "import pandas as pd\n",
    "import matplotlib.pyplot  as plt\n",
    "import numpy.matlib\n",
    "import scipy.linalg\n",
    "import itertools\n",
    "from scipy import sparse\n",
    "from scipy.stats import norm\n",
    "from pandas.tools.plotting import scatter_matrix\n",
    "from numpy.random import *\n",
    "from scipy import optimize\n",
    "\n",
    "#np.random.seed(98537)"
   ]
  },
  {
   "cell_type": "code",
   "execution_count": 2,
   "metadata": {},
   "outputs": [],
   "source": [
    "##多項分布の乱数を生成する関数\n",
    "def rmnom(pr, n, k, pattern):\n",
    "    if pattern==1:\n",
    "        z_id = np.array(np.argmax(np.cumsum(pr, axis=1) >= np.random.uniform(0, 1, n)[:, np.newaxis], axis=1), dtype=\"int\")\n",
    "        Z = np.diag(np.repeat(1, k))[z_id, ]\n",
    "        return z_id, Z\n",
    "    z_id = np.argmax((np.cumsum(pr, axis=1) >= np.random.uniform(0, 1, n)[:, np.newaxis]), axis=1)\n",
    "    return z_id"
   ]
  },
  {
   "cell_type": "code",
   "execution_count": 3,
   "metadata": {},
   "outputs": [],
   "source": [
    "###データの生成####\n",
    "##データの設定\n",
    "s = 3\n",
    "k1 = 10\n",
    "k2 = 10\n",
    "k3 = 7\n",
    "hh = 3750\n",
    "item = 5000\n",
    "element = 200\n",
    "pt1 = np.random.poisson(37.5, hh)\n",
    "pt2 = np.random.poisson(20.0, hh)\n",
    "hhpt1 = np.sum(pt1)\n",
    "hhpt2 = np.sum(pt2)\n",
    "k_vec1 = np.repeat(1, k1)\n",
    "k_vec2 = np.repeat(1, k2)\n",
    "k_vec3 = np.repeat(1, k3)"
   ]
  },
  {
   "cell_type": "code",
   "execution_count": 4,
   "metadata": {},
   "outputs": [],
   "source": [
    "##IDとインデックスの設定\n",
    "#IDの設定\n",
    "d_id1 = np.array(np.repeat(np.arange(hh), pt1), dtype=\"int16\")\n",
    "d_id2 = np.array(np.repeat(np.arange(hh), pt2), dtype=\"int16\")\n",
    "pt_id1 = np.array(list(itertools.chain(*[np.array(range(pt1[i]), dtype=\"int\") for i in range(hh)])), dtype=\"int16\")\n",
    "pt_id2 = np.array(list(itertools.chain(*[np.array(range(pt2[i]), dtype=\"int\") for i in range(hh)])), dtype=\"int16\")\n",
    "\n",
    "#インデックスの設定\n",
    "d_list1 = [i for i in range(hh)]\n",
    "d_list2 = [i for i in range(hh)]\n",
    "for i in range(hh):\n",
    "    d_list1[i] = np.array(np.where(d_id1==i)[0], dtype=\"int\")\n",
    "    d_list2[i] = np.array(np.where(d_id2==i)[0], dtype=\"int\")"
   ]
  },
  {
   "cell_type": "code",
   "execution_count": 5,
   "metadata": {},
   "outputs": [],
   "source": [
    "##アイテムを生成\n",
    "#レコードごとの頻度を生成\n",
    "gamma01 = np.random.gamma(1.0, 1/0.25, hh)[d_id1]\n",
    "gamma02 = np.random.gamma(1.0, 1/0.25, hh)[d_id1]\n",
    "freq1 = np.random.poisson(gamma01, hhpt1)\n",
    "freq2 = np.random.poisson(gamma02, hhpt1)\n",
    "freq1[freq1 < 3] = 3; freq2[freq2 < 3] = 3\n",
    "max_freq1 = np.max(freq1)\n",
    "max_freq2 = np.max(freq2)\n",
    "\n",
    "#トピックのパラメータを生成\n",
    "topic = 25\n",
    "theta0 = np.random.dirichlet(np.repeat(0.5, topic), hh)\n",
    "phi_item = np.random.dirichlet(np.repeat(0.5, item), topic)\n",
    "phi_element = np.random.dirichlet(np.repeat(0.5, element), topic)\n",
    "z2 = np.array(rmnom(theta0[d_id2, ], hhpt2, topic, 0), dtype=\"int\")\n",
    "\n",
    "#トピックとアイテムの格納用配列\n",
    "z11 = np.full((hhpt1, max_freq1), topic, dtype=\"int16\")\n",
    "z12 = np.full((hhpt1, max_freq2), topic, dtype=\"int16\")\n",
    "item_id11 = np.full((hhpt1, max_freq1), item, dtype=\"int16\")\n",
    "item_id12 = np.full((hhpt1, max_freq2), item, dtype=\"int16\")\n",
    "item_id2 = np.array(np.repeat(0, hhpt2), dtype=\"int16\")\n",
    "\n",
    "#多項分布からアイテムを生成\n",
    "for i in range(hhpt1):\n",
    "    index1 = np.arange(freq1[i])\n",
    "    index2 = np.arange(freq2[i])\n",
    "    z11[i, index1] = np.array(rmnom(theta0[d_id1[np.repeat(i, freq1[i])], ], freq1[i], topic, 0), dtype=\"int16\")\n",
    "    z12[i, index2] = np.array(rmnom(theta0[d_id1[np.repeat(i, freq2[i])], ], freq2[i], topic, 0), dtype=\"int16\")\n",
    "    item_id11[i, index1] = np.array(rmnom(phi_item[z11[i, index1], ], freq1[i], item, 0), dtype=\"int16\")\n",
    "    item_id12[i, index2] = np.array(rmnom(phi_item[z12[i, index2], ], freq2[i], item, 0), dtype=\"int16\")\n",
    "    \n",
    "for i in range(hh):\n",
    "    item_id2[d_list2[i]] = np.array(rmnom(phi_item[z2[d_list2[i]], ], pt2[i], item, 0), dtype=\"int16\")"
   ]
  },
  {
   "cell_type": "code",
   "execution_count": 6,
   "metadata": {},
   "outputs": [],
   "source": [
    "##エレメントを生成\n",
    "#エレメントの格納用配列\n",
    "element_id11 = np.full((hhpt1, max_freq1), item, dtype=\"int16\")\n",
    "element_id12 = np.full((hhpt1, max_freq2), item, dtype=\"int16\")\n",
    "element_id2 = np.array(np.repeat(0, hhpt2), dtype=\"int16\")\n",
    "\n",
    "#多項分布からエレメントを生成\n",
    "for i in range(hhpt1):\n",
    "    index1 = np.arange(freq1[i])\n",
    "    index2 = np.arange(freq2[i])\n",
    "    element_id11[i, index1] = np.array(rmnom(phi_element[z11[i, index1], ], freq1[i], element, 0), dtype=\"int16\")\n",
    "    element_id12[i, index2] = np.array(rmnom(phi_element[z12[i, index2], ], freq2[i], element, 0), dtype=\"int16\")"
   ]
  },
  {
   "cell_type": "code",
   "execution_count": 7,
   "metadata": {},
   "outputs": [],
   "source": [
    "##レコード単位に拡張したidとインデックスを作成\n",
    "#レコード単位のidを作成\n",
    "N1 = np.sum(freq1)\n",
    "N2 = np.sum(freq2)\n",
    "record_id1 = np.repeat(np.arange(hhpt1), freq1)\n",
    "record_id2 = np.repeat(np.arange(hhpt1), freq2)\n",
    "\n",
    "#拡張したidを作成\n",
    "d_long1 = np.repeat(d_id1, freq1); d_long2 = np.repeat(d_id1, freq2)\n",
    "item_long1 = item_id11[item_id11 < item]; item_long2 = item_id12[item_id12 < item]\n",
    "element_long1 = element_id11[element_id11 < element]; element_long2 = element_id12[element_id12 < element]\n",
    "\n",
    "#idのフラッグを作成\n",
    "Zi1 = sparse.coo_matrix((np.repeat(1, N1), (np.arange(N1), record_id1)), shape=(N1, hhpt1))\n",
    "Zi2 = sparse.coo_matrix((np.repeat(1, N2), (np.arange(N2), record_id2)), shape=(N2, hhpt1))\n",
    "\n",
    "#レコードのインデックスを作成\n",
    "record_list1 = [i for i in range(hhpt1)]\n",
    "record_list2 = [i for i in range(hhpt1)]\n",
    "record_index1 = [i for i in range(hhpt1)]\n",
    "record_index2 = [i for i in range(hhpt1)]\n",
    "for i in range(hhpt1):\n",
    "    record_list1[i] = np.array(np.where(record_id1==i)[0], dtype=\"int\")\n",
    "    record_list2[i] = np.array(np.where(record_id2==i)[0], dtype=\"int\")\n",
    "    record_index1[i] = np.array(np.arange(freq1[i]), dtype=\"int8\")\n",
    "    record_index2[i] = np.array(np.arange(freq2[i]), dtype=\"int8\")"
   ]
  },
  {
   "cell_type": "code",
   "execution_count": 8,
   "metadata": {},
   "outputs": [],
   "source": [
    "####応答変数を生成####\n",
    "##パラメータを生成\n",
    "#事前分布を設定\n",
    "alpha1 = np.array([0])\n",
    "alpha21 = np.repeat(0.0, k1)\n",
    "alpha22 = np.repeat(0.0, k2)\n",
    "alpha23 = np.repeat(0.0, k3)\n",
    "tau_u = np.array([0.4, 0.4, 0.6])\n",
    "Cov_u = np.diag(np.repeat(0.25, k1))\n",
    "Cov_v = np.diag(np.repeat(0.25, k2))\n",
    "Cov_e = np.diag(np.repeat(0.2, k3))\n",
    "tau = np.array([0.3, 0.3, 0.5])\n",
    "taut_u = tau_u.copy(); taut = tau.copy()\n",
    "Covt_u = Cov_u.copy(); Covt_v = Cov_v.copy(); Covt_e = Cov_e.copy()\n",
    "\n",
    "#パラメータを生成\n",
    "Sigma = np.array([0.4, 0.4, 1.0])\n",
    "beta = np.array([-0.2, -0.2, 0.0])\n",
    "beta_u11 = np.random.normal(0, tau_u[0], hh)\n",
    "beta_u12 = np.random.normal(0, tau_u[1], hh)\n",
    "beta_u2 = np.random.normal(0, tau_u[2], hh)\n",
    "theta_u = np.random.multivariate_normal(alpha21, Cov_u, hh)\n",
    "theta_v = np.random.multivariate_normal(alpha22, Cov_v, item)\n",
    "theta_e = np.random.multivariate_normal(alpha23, Cov_e, element)\n",
    "omega11 = np.random.normal(0, tau[0], k1*k2*k3).reshape(k2, k3, k1)\n",
    "omega12 = np.random.normal(0, tau[1], k1*k2*k3).reshape(k2, k3, k1)\n",
    "omega2 = np.random.normal(0, tau[2], k1*k2*k3).reshape(k2, k3, k1)\n",
    "betat = beta.copy(); betat_u11 = beta_u11.copy(); betat_u12 = beta_u12.copy(); betat_u2 = beta_u2.copy()\n",
    "thetat_u = theta_u.copy(); thetat_v = theta_v.copy(); thetat_e = theta_e.copy()\n",
    "omegat11 = omega11.copy(); omegat12 = omega12.copy(); omegat2 = omega2.copy()\n",
    "Sigmat = Sigma.copy()\n",
    "\n",
    "##モデルの期待値を計算\n",
    "#特徴行列のパラメータを拡張\n",
    "theta_element11 = theta_e[element_long1, ]; theta_user11 = theta_u[d_long1, ]\n",
    "theta_element12 = theta_e[element_long2, ]; theta_user12 = theta_u[d_long2, ]\n",
    "theta_element2 = theta_e[element_id2, ]; theta_user2 = theta_u[d_id2, ]\n",
    "\n",
    "#タッカー分解の期待値\n",
    "uv_long11 = np.repeat(0.0, N1)\n",
    "uv_long12 = np.repeat(0.0, N2)\n",
    "uv2 = np.repeat(0.0, hhpt2)\n",
    "for j in range(k1):\n",
    "    uv_long11 += np.dot(np.dot(theta_v, omega11[:, :, j])[item_long1, ] * theta_element11 * theta_user11[:, j][:, np.newaxis], k_vec3)\n",
    "    uv_long12 += np.dot(np.dot(theta_v, omega12[:, :, j])[item_long2, ] * theta_element12 * theta_user12[:, j][:, np.newaxis], k_vec3)\n",
    "    uv2 += np.dot(np.dot(theta_v, omega2[:, :, j])[item_id2, ] * theta_element2 * theta_user2[:, j][:, np.newaxis], k_vec3)\n",
    "uv11 = np.array(np.dot(sparse.csr_matrix(uv_long11), Zi1).todense()).reshape(-1)\n",
    "uv12 = np.array(np.dot(sparse.csr_matrix(uv_long12), Zi2).todense()).reshape(-1)\n",
    "\n",
    "#期待値を計算\n",
    "mu1 = beta[0] + beta_u11[d_id1] + uv11\n",
    "mu2 = beta[1] + beta_u12[d_id1] + uv12\n",
    "mu3 = beta[2] + beta_u2[d_id2] + uv2 \n",
    "\n",
    "\n",
    "##正規分布から連続応答変数と二値応答変数を生成\n",
    "#連続応答変数を生成\n",
    "y1 = np.random.normal(mu1, Sigma[0], hhpt1)\n",
    "y2 = np.random.normal(mu2, Sigma[1], hhpt1)\n",
    "\n",
    "#潜在効用から二値応答変数を生成\n",
    "U = np.random.normal(mu3, Sigma[2], hhpt2); UT = U.copy()\n",
    "y3 = (U >= 0)*1 + (U < 0)*0   #購買有無に変換\n",
    "Prob = norm.cdf(mu3, 0, Sigma[2])"
   ]
  },
  {
   "cell_type": "code",
   "execution_count": 9,
   "metadata": {},
   "outputs": [
    {
     "data": {
      "image/png": "[encoded data removed]",
      "text/plain": [
       "<Figure size 936x468 with 6 Axes>"
      ]
     },
     "metadata": {},
     "output_type": "display_data"
    }
   ],
   "source": [
    "#生成したデータのヒストグラム\n",
    "dt = [y1, y2, Prob, uv11, uv12, uv2]\n",
    "fig_range = np.append(np.array([np.min(y1), np.min(y2), 0, np.min(uv11), np.min(uv12), np.min(uv2)]), \n",
    "                      np.array([np.max(y1), np.max(y2), 1, np.max(uv11), np.max(uv12), np.max(uv2)])).reshape(2, len(dt))\n",
    "colorlist = [\"r\", \"g\", \"b\", \"c\", \"m\", \"y\", \"k\", \"w\"]\n",
    "legend = [\"応答変数1の分布\", \"応答変数2の分布\", \"潜在確率の分布\", \"uv11の分布\", \"uv12の分布\", \"uv2の分布\"]\n",
    "fig = plt.figure(figsize=(13.0, 6.5))\n",
    "for j in range(len(dt)):\n",
    "    ax = fig.add_subplot(2, 3, j+1)\n",
    "    ax.hist(dt[j],  bins=25, range=(fig_range[0, j], fig_range[1, j]), color=colorlist[j])\n",
    "    plt.title(legend[j], fontsize=12.5)\n",
    "fig.tight_layout()\n",
    "plt.show()"
   ]
  },
  {
   "cell_type": "code",
   "execution_count": 10,
   "metadata": {},
   "outputs": [],
   "source": [
    "####マルコフ連鎖モンテカルロ法でGeneralized Factorization Machinesを推定####\n",
    "##切断正規分布の乱数を発生させる関数\n",
    "def rtnorm(mu, sigma, a, b, n):\n",
    "    FA = norm.cdf(a, mu, sigma)\n",
    "    FB = norm.cdf(b, mu, sigma)\n",
    "    return norm.ppf(np.random.uniform(0, 1, n)*(FB-FA)+FA, mu, sigma)"
   ]
  },
  {
   "cell_type": "code",
   "execution_count": 11,
   "metadata": {},
   "outputs": [],
   "source": [
    "##ベイジアン多変量回帰モデルをギブスサンプリングする関数\n",
    "def rmultireg(Y, X, inv_XXV, XY, Cov, ADelta, Deltabar, V, nu, n, col, k):\n",
    "    #事後分布のパラメータを設定\n",
    "    beta_mu = np.dot(inv_XXV, XY + np.dot(ADelta, Deltabar)).T.reshape(-1)   #平均ベクトル\n",
    "    sigma = np.kron(Cov, inv_XXV)   #分散共分散行列\n",
    "\n",
    "    #パラメータをサンプリング\n",
    "    beta_vec = np.random.multivariate_normal(beta_mu, sigma, 1)\n",
    "    beta = beta_vec.reshape(col, k, order='F')   #回帰行列に変換\n",
    "\n",
    "    \n",
    "    ##逆ウィシャート分布から分散共分散行列をサンプリング\n",
    "    #モデル誤差を設定\n",
    "    mu = np.dot(X, beta)\n",
    "    er = Y - mu\n",
    "\n",
    "    #逆ウィシャート分布のパラメータ\n",
    "    IW_R = np.dot(er.T, er) + V\n",
    "    Sn = n + nu\n",
    "\n",
    "    #パラメータをサンプリング\n",
    "    Cov = scipy.stats.invwishart.rvs(Sn, IW_R, 1)\n",
    "    return beta, Cov"
   ]
  },
  {
   "cell_type": "code",
   "execution_count": 12,
   "metadata": {},
   "outputs": [],
   "source": [
    "##アルゴリズムの設定\n",
    "R = 2000\n",
    "keep = 2\n",
    "burnin = int(100/keep)\n",
    "iter = 0\n",
    "disp = 10"
   ]
  },
  {
   "cell_type": "code",
   "execution_count": 13,
   "metadata": {},
   "outputs": [],
   "source": [
    "##データの設定\n",
    "#切断領域を定義\n",
    "rho = 10.0\n",
    "a = np.array((1-y3)*(-rho) + y3*0)\n",
    "b = np.array(y3*rho + (1-y3)*0)\n",
    "flag =  y3 - (1-y3)\n",
    "\n",
    "#データソースを1つに統合\n",
    "hhpt = np.array([hhpt1, hhpt1, hhpt2])\n",
    "pt = np.hstack((pt1[:, np.newaxis], pt1[:, np.newaxis], pt2[:, np.newaxis]))\n",
    "d_list = [d_list1, d_list1, d_list2]\n",
    "d_weight = pt / np.sum(pt, axis=1)[:, np.newaxis]"
   ]
  },
  {
   "cell_type": "code",
   "execution_count": 14,
   "metadata": {},
   "outputs": [],
   "source": [
    "##事前分布の設定\n",
    "#階層モデルの事前分布\n",
    "alpha1 = np.array([0.0])\n",
    "alpha21 = np.repeat(0.0, k1)\n",
    "alpha22 = np.repeat(0.0, k2)\n",
    "alpha23 = np.repeat(0.0, k3)\n",
    "V1 = 0.1 * np.diag(np.repeat(1.0, k1))\n",
    "V2 = 0.1 * np.diag(np.repeat(1.0, k2))\n",
    "V3 = 0.1 * np.diag(np.repeat(1.0, k3))\n",
    "nu = 1\n",
    "s01 = 0.1\n",
    "s01 = 0.1\n",
    "\n",
    "#モデルパラメータの事前分布\n",
    "tau = 100 \n",
    "s02 = 1.0\n",
    "v02 = 1.0"
   ]
  },
  {
   "cell_type": "code",
   "execution_count": 15,
   "metadata": {},
   "outputs": [],
   "source": [
    "##パラメータの真値\n",
    "#階層モデルのパラメータの真値\n",
    "tau_u = taut_u.copy()\n",
    "Cov_u = Covt_u.copy()\n",
    "Cov_v = Covt_v.copy()\n",
    "Cov_e = Covt_e.copy()\n",
    "inv_Cov_u = np.linalg.inv(Cov_u)\n",
    "inv_Cov_v = np.linalg.inv(Cov_v)\n",
    "inv_Cov_e = np.linalg.inv(Cov_e)\n",
    "\n",
    "#モデルパラメータの真値\n",
    "Sigma = Sigmat.copy()\n",
    "beta = betat.copy()\n",
    "beta_u11 = betat_u11.copy()\n",
    "beta_u12 = betat_u12.copy()\n",
    "beta_u2 = betat_u2.copy()\n",
    "theta_u = thetat_u.copy()\n",
    "theta_v = thetat_v.copy()\n",
    "theta_e = thetat_e.copy()\n",
    "omega11 = omegat11.copy()\n",
    "omega12 = omegat12.copy()\n",
    "omega2 = omegat2.copy()"
   ]
  },
  {
   "cell_type": "code",
   "execution_count": 16,
   "metadata": {},
   "outputs": [],
   "source": [
    "##モデルの期待値を計算\n",
    "#パラメータを拡張\n",
    "beta_user11 = beta_u11[d_id1]\n",
    "beta_user12 = beta_u12[d_id1]\n",
    "beta_user2 = beta_u2[d_id2]\n",
    "theta_element11 = theta_e[element_long1, ]; theta_user11 = theta_u[d_long1, ]\n",
    "theta_element12 = theta_e[element_long2, ]; theta_user12 = theta_u[d_long2, ]\n",
    "theta_element2 = theta_e[element_id2, ]; theta_user2 = theta_u[d_id2, ]\n",
    "\n",
    "#タッカー分解の期待値\n",
    "uv_long11 = np.repeat(0.0, N1)\n",
    "uv_long12 = np.repeat(0.0, N2)\n",
    "uv2 = np.repeat(0.0, hhpt2)\n",
    "for j in range(k1):\n",
    "    uv_long11 += np.dot(np.dot(theta_v, omega11[:, :, j])[item_long1, ] * theta_element11 * theta_user11[:, j][:, np.newaxis], k_vec3)\n",
    "    uv_long12 += np.dot(np.dot(theta_v, omega12[:, :, j])[item_long2, ] * theta_element12 * theta_user12[:, j][:, np.newaxis], k_vec3)\n",
    "    uv2 += np.dot(np.dot(theta_v, omega2[:, :, j])[item_id2, ] * theta_element2 * theta_user2[:, j][:, np.newaxis], k_vec3)\n",
    "uv11 = np.array(np.dot(sparse.csr_matrix(uv_long11), Zi1).todense()).reshape(-1)\n",
    "uv12 = np.array(np.dot(sparse.csr_matrix(uv_long12), Zi2).todense()).reshape(-1)\n",
    "\n",
    "#期待値を計算\n",
    "mu1 = beta[0] + beta_u11[d_id1] + uv11\n",
    "mu2 = beta[1] + beta_u12[d_id1] + uv12\n",
    "mu3 = beta[2] + beta_u2[d_id2] + uv2 "
   ]
  },
  {
   "cell_type": "code",
   "execution_count": 17,
   "metadata": {},
   "outputs": [],
   "source": [
    "##パラメータの格納用配列\n",
    "#階層モデルのパラメータの格納用配列\n",
    "TAU_U = np.zeros((int(R/keep), s))\n",
    "COV_U = np.zeros((k1, k1, int(R/keep)))\n",
    "COV_V = np.zeros((k2, k2, int(R/keep)))\n",
    "COV_E = np.zeros((k3, k3, int(R/keep)))\n",
    "\n",
    "#モデルパラメータの格納用配列\n",
    "SIGMA = np.zeros((int(R/keep), s))\n",
    "BETA = np.zeros((int(R/keep), s))\n",
    "BETA_U11 = np.zeros((int(R/keep), hh))\n",
    "BETA_U12 = np.zeros((int(R/keep), hh))\n",
    "BETA_U2 = np.zeros((int(R/keep), hh))\n",
    "THETA_U = np.zeros((hh, k1, int(R/keep)))\n",
    "THETA_V = np.zeros((item, k2, int(R/keep)))\n",
    "THETA_E = np.zeros((element, k3, int(R/keep)))\n",
    "OMEGA11 = np.zeros((k2, k3, k1, int(R/keep)))\n",
    "OMEGA12 = np.zeros((k2, k3, k1, int(R/keep)))\n",
    "OMEGA2 = np.zeros((k2, k3, k1, int(R/keep)))"
   ]
  },
  {
   "cell_type": "code",
   "execution_count": 35,
   "metadata": {},
   "outputs": [],
   "source": [
    "####ギブスサンプリングでパラメタータをサンプリング####\n",
    "\n",
    "##モデルの期待値計算と潜在効用の生成\n",
    "#タッカー分解の期待値\n",
    "AR11 = np.zeros((k1, N1)); AR12 = np.zeros((k1, N2)); AR2 = np.zeros((hhpt2, k1))\n",
    "uv_long11 = np.repeat(0.0, N1); uv_long12 = np.repeat(0.0, N2); uv2 = np.repeat(0.0, hhpt2)\n",
    "for j in range(k1):\n",
    "    ar11 = np.dot(theta_v, omega11[:, :, j])[item_long1, ] * theta_element11\n",
    "    ar12 = np.dot(theta_v, omega12[:, :, j])[item_long2, ] * theta_element12\n",
    "    ar2 = np.dot(theta_v, omega2[:, :, j])[item_id2, ] * theta_element2\n",
    "    uv_long11 += np.dot(ar11 * theta_user11[:, j][:, np.newaxis], k_vec3)\n",
    "    uv_long12 += np.dot(ar12 * theta_user12[:, j][:, np.newaxis], k_vec3)\n",
    "    uv2 += np.dot(ar2 * theta_user2[:, j][:, np.newaxis], k_vec3)\n",
    "    AR11[j, ] = np.dot(ar11, k_vec3)\n",
    "    AR12[j, ] = np.dot(ar12, k_vec3)\n",
    "    AR2[:, j] = np.dot(ar2, k_vec3)\n",
    "    \n",
    "#レコード単位で和を取る\n",
    "uv11 = np.array(np.dot(sparse.csr_matrix(uv_long11), Zi1).todense()).reshape(-1)\n",
    "uv12 = np.array(np.dot(sparse.csr_matrix(uv_long12), Zi2).todense()).reshape(-1)\n",
    "\n",
    "#期待値を計算\n",
    "mu1 = beta[0] + beta_user11 + uv11\n",
    "mu2 = beta[1] + beta_user12 + uv12\n",
    "mu3 = beta[2] + beta_user2 + uv2 \n",
    "mu = [mu1, mu2, mu3]\n",
    "\n",
    "#切断正規分布から潜在効用を生成\n",
    "U = rtnorm(mu3, Sigma[2], a, b, hhpt2)\n",
    "y = [y1, y2, U]"
   ]
  },
  {
   "cell_type": "code",
   "execution_count": 29,
   "metadata": {},
   "outputs": [],
   "source": [
    "##モデルの期待値パラメータをサンプリング\n",
    "#モデル誤差を定義\n",
    "Sigma_sq = np.power(Sigma, 2)\n",
    "er_y1 = y1 - beta_user11 - uv11\n",
    "er_y2 = y2 - beta_user12 - uv12\n",
    "er_y3 = U - beta_user2 - uv2\n",
    "er_y = [er_y1, er_y2, er_y3]\n",
    "\n",
    "#正規分布から期待値をサンプリング\n",
    "weights = np.power(tau, 2) / (Sigma_sq/hhpt + np.power(tau, 2))\n",
    "mu_par = weights * np.array([np.mean(er_y[j]) for j in range(s)])\n",
    "beta = np.random.normal(mu_par, weights*Sigma_sq/hhpt, s)"
   ]
  },
  {
   "cell_type": "code",
   "execution_count": 30,
   "metadata": {},
   "outputs": [],
   "source": [
    "##ランダム効果のパラメータをサンプリング\n",
    "#モデル誤差を定義\n",
    "er_y1 = y1 - beta[0] - uv11\n",
    "er_y2 = y2 - beta[1] - uv12\n",
    "er_y3 = y3 - beta[2] - uv2\n",
    "er_y = [er_y1, er_y2, er_y3]\n",
    "\n",
    "#正規分布からランダム効果をサンプリング\n",
    "for i in range(hh):\n",
    "    weights = tau_u / (Sigma_sq/pt[i, ] + tau_u)\n",
    "    mu_par = weights * np.array([np.mean(er_y[j][d_list[j][i]]) for j in range(s)])\n",
    "    beta_u = np.random.normal(mu_par, weights*Sigma_sq/pt[i, ], s)\n",
    "    beta_u11[i] = beta_u[0]\n",
    "    beta_u12[i] = beta_u[1]\n",
    "    beta_u2[i] = beta_u[2]\n",
    "    \n",
    "#パラメータを更新\n",
    "beta_user11 = beta_u11[d_id1]\n",
    "beta_user12 = beta_u12[d_id1]\n",
    "beta_user2 = beta_u2[d_id2]"
   ]
  },
  {
   "cell_type": "code",
   "execution_count": 31,
   "metadata": {},
   "outputs": [],
   "source": [
    "##ユーザーの特徴行列をサンプリング\n",
    "#モデル誤差と入力変数を定義\n",
    "X1 = np.array(np.dot(sparse.coo_matrix(AR11), Zi1).T.todense())\n",
    "X2 = np.array(np.dot(sparse.coo_matrix(AR12), Zi2).T.todense())\n",
    "er_y1 = y1 - beta[0] - beta_user11\n",
    "er_y2 = y2 - beta[1] - beta_user12\n",
    "er_y3 = y3 - beta[2] - beta_user2\n",
    "\n",
    "#多変量正規分布から事後分布をサンプリング\n",
    "for i in range(hh):\n",
    "    index1 = d_list1[i]; index2 = d_list2[i]\n",
    "    x = np.vstack((X1[index1, ], X2[index1, ], AR2[index2, ]))\n",
    "    er_y = np.append(np.append(er_y1[index1], er_y2[index1]), er_y3[index2])\n",
    "    xy = np.dot(x.T, er_y)\n",
    "    xxv = np.dot(x.T, x) + inv_Cov_u\n",
    "    inv_xxv = np.linalg.inv(xxv)\n",
    "    theta_par = np.dot(inv_xxv, xy + np.dot(inv_Cov_u, alpha21))\n",
    "    theta_u[i, ] = np.random.multivariate_normal(theta_par, np.sum(Sigma_sq*d_weight[i, ])*inv_xxv, 1)\n",
    "    \n",
    "#パラメータを更新\n",
    "theta_user11 = theta_u[d_long1, ]\n",
    "theta_user12 = theta_u[d_long2, ]\n",
    "theta_user2 = theta_u[d_id2, ]"
   ]
  },
  {
   "cell_type": "code",
   "execution_count": 61,
   "metadata": {},
   "outputs": [],
   "source": [
    "##アイテムの特徴行列をサンプリング\n",
    "#タッカー分解の期待値\n",
    "theta_item11 = theta_v[item_long1, ]; theta_item12 = theta_v[item_long2, ]; theta_item2 = theta_v[item_id2, ]\n",
    "AR11 = np.zeros((N1, k2)); AR12 = np.zeros((N2, k2)); AR2 = np.zeros((hhpt2, k2))\n",
    "uv_long11 = np.repeat(0.0, N1); uv_long12 = np.repeat(0.0, N2); uv2 = np.repeat(0.0, hhpt2)\n",
    "for j in range(k1):\n",
    "    ar11 = np.dot(theta_e, omega11[:, :, j].T)[element_long1, ] * theta_user11[:, j][:, np.newaxis]\n",
    "    ar12 = np.dot(theta_e, omega12[:, :, j].T)[element_long2, ] * theta_user12[:, j][:, np.newaxis]\n",
    "    ar2 = np.dot(theta_e, omega2[:, :, j].T)[element_id2, ] * theta_user2[:, j][:, np.newaxis]\n",
    "    uv_long11 += np.dot(ar11 * theta_item11, k_vec2)\n",
    "    uv_long12 += np.dot(ar12 * theta_item12, k_vec2)\n",
    "    uv2 += np.dot(ar2 * theta_item2, k_vec2)\n",
    "    AR11 += ar11; AR12 += ar12; AR2 += ar2"
   ]
  },
  {
   "cell_type": "code",
   "execution_count": 62,
   "metadata": {},
   "outputs": [
    {
     "data": {
      "text/plain": [
       "array([-0.32799043,  0.9833797 ,  0.2966996 , ...,  0.20990175,\n",
       "       -0.9121072 ,  0.19437327])"
      ]
     },
     "execution_count": 62,
     "metadata": {},
     "output_type": "execute_result"
    }
   ],
   "source": [
    "uv_long11"
   ]
  },
  {
   "cell_type": "code",
   "execution_count": 63,
   "metadata": {},
   "outputs": [
    {
     "data": {
      "text/plain": [
       "array([-0.32799043,  0.9833797 ,  0.2966996 , ...,  0.20990175,\n",
       "       -0.9121072 ,  0.19437327])"
      ]
     },
     "execution_count": 63,
     "metadata": {},
     "output_type": "execute_result"
    }
   ],
   "source": [
    "u1"
   ]
  },
  {
   "cell_type": "code",
   "execution_count": null,
   "metadata": {},
   "outputs": [],
   "source": [
    "for j in range(k3):\n",
    "    X += np.dot(theta_v, omega[:, :, j].T)[item_id, ] * theta_vec3[:, j][:, np.newaxis]"
   ]
  },
  {
   "cell_type": "code",
   "execution_count": null,
   "metadata": {},
   "outputs": [],
   "source": [
    "#タッカー分解の期待値\n",
    "AR11 = np.zeros((k1, N1)); AR12 = np.zeros((k1, N2)); AR2 = np.zeros((hhpt2, k1))\n",
    "uv_long11 = np.repeat(0.0, N1); uv_long12 = np.repeat(0.0, N2); uv2 = np.repeat(0.0, hhpt2)\n",
    "for j in range(k1):\n",
    "    ar11 = np.dot(theta_v, omega11[:, :, j])[item_long1, ] * theta_element11\n",
    "    ar12 = np.dot(theta_v, omega12[:, :, j])[item_long2, ] * theta_element12\n",
    "    ar2 = np.dot(theta_v, omega2[:, :, j])[item_id2, ] * theta_element2\n",
    "    uv_long11 += np.dot(ar11 * theta_user11[:, j][:, np.newaxis], k_vec3)\n",
    "    uv_long12 += np.dot(ar12 * theta_user12[:, j][:, np.newaxis], k_vec3)\n",
    "    uv2 += np.dot(ar2 * theta_user2[:, j][:, np.newaxis], k_vec3)\n",
    "    AR11[j, ] = np.dot(ar11, k_vec3)\n",
    "    AR12[j, ] = np.dot(ar12, k_vec3)\n",
    "    AR2[:, j] = np.dot(ar2, k_vec3)"
   ]
  },
  {
   "cell_type": "code",
   "execution_count": 57,
   "metadata": {},
   "outputs": [],
   "source": [
    "u1 = uv_long11.copy()\n",
    "u2 = uv_long12.copy()\n",
    "u3 = uv2.copy()"
   ]
  },
  {
   "cell_type": "code",
   "execution_count": null,
   "metadata": {},
   "outputs": [],
   "source": []
  }
 ],
 "metadata": {
  "kernelspec": {
   "display_name": "Python 3",
   "language": "python",
   "name": "python3"
  },
  "language_info": {
   "codemirror_mode": {
    "name": "ipython",
    "version": 3
   },
   "file_extension": ".py",
   "mimetype": "text/x-python",
   "name": "python",
   "nbconvert_exporter": "python",
   "pygments_lexer": "ipython3",
   "version": "3.6.5"
  }
 },
 "nbformat": 4,
 "nbformat_minor": 2
}
