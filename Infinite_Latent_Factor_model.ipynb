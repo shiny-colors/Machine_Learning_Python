{
 "cells": [
  {
   "cell_type": "code",
   "execution_count": 1,
   "metadata": {},
   "outputs": [],
   "source": [
    "#####無限次元潜在特徴モデル####\n",
    "# ライブラリの読み込み\n",
    "import numpy as np\n",
    "import pandas as pd\n",
    "import matplotlib.pyplot  as plt\n",
    "import numpy.matlib\n",
    "import scipy.linalg\n",
    "import itertools\n",
    "import scipy\n",
    "from scipy import stats\n",
    "from scipy import special\n",
    "from scipy import sparse\n",
    "from pandas.tools.plotting import scatter_matrix\n",
    "from numpy.random import *\n",
    "\n",
    "#np.random.seed(98537)"
   ]
  },
  {
   "cell_type": "code",
   "execution_count": 2,
   "metadata": {},
   "outputs": [],
   "source": [
    "##多項分布の乱数を生成する関数\n",
    "def rmnom(pr, n, k, no, pattern):\n",
    "    if pattern==1:\n",
    "        z_id = np.argmax((np.cumsum(pr, axis=1) >= np.random.uniform(0, 1, n)[:, np.newaxis]), axis=1)\n",
    "        Z = sparse.coo_matrix((np.repeat(1, n), (no, np.array(z_id))), shape=(n, k))   #スパース行列の設定\n",
    "        return z_id, Z\n",
    "    z_id = np.argmax((np.cumsum(pr, axis=1) >= np.random.uniform(0, 1, n)[:, np.newaxis]), axis=1)\n",
    "    return z_id"
   ]
  },
  {
   "cell_type": "code",
   "execution_count": 3,
   "metadata": {},
   "outputs": [],
   "source": [
    "####データの生成####\n",
    "##データの設定\n",
    "k = 10 \n",
    "hh = 5000\n",
    "item = 3000\n",
    "Lambda = np.random.gamma(30.0, 1/0.25, hh)\n",
    "pt = np.random.poisson(Lambda, hh)\n",
    "hhpt = np.sum(pt)   #総サンプル数\n",
    "k_vec = np.repeat(1, k)"
   ]
  },
  {
   "cell_type": "code",
   "execution_count": 4,
   "metadata": {},
   "outputs": [],
   "source": [
    "##IDとインデックスを設定\n",
    "#IDの設定\n",
    "d_id = np.repeat(range(hh), pt)\n",
    "pt_id = np.array(list(itertools.chain(*[np.array(range(pt[i]), dtype=\"int\") for i in range(hh)])))\n",
    "    \n",
    "#インデックスの設定\n",
    "d_list = [i for i in range(hh)]\n",
    "for i in range(hh):\n",
    "    d_list[i] = np.array(np.where(d_id==i)[0], dtype=\"int\")"
   ]
  },
  {
   "cell_type": "code",
   "execution_count": 5,
   "metadata": {},
   "outputs": [
    {
     "name": "stdout",
     "output_type": "stream",
     "text": [
      "0\n",
      "1000\n",
      "2000\n",
      "3000\n",
      "4000\n"
     ]
    }
   ],
   "source": [
    "##アイテムの割当を生成\n",
    "#セグメント割当を生成\n",
    "topic = 25\n",
    "phi_topic = np.random.dirichlet(np.repeat(0.25, item), topic)\n",
    "theta_topic = np.random.dirichlet(np.repeat(0.3, topic), hh)\n",
    "z = np.array(rmnom(theta_topic[d_id, ], hhpt, topic, np.arange(hhpt), 0), dtype=\"int\")\n",
    "\n",
    "#多項分布からアイテムを生成\n",
    "item_id = np.zeros(hhpt, dtype='int')\n",
    "for i in range(hh):\n",
    "    if i%1000==0:\n",
    "        print(i)\n",
    "    item_id[d_list[i]] = rmnom(phi_topic[z[d_list[i]], ], pt[i], item, np.arange(pt[i]), 0)\n",
    "    \n",
    "#アイテムインデックスを作成\n",
    "index = np.array(range(hhpt))\n",
    "item_list = [j for j in range(item)]\n",
    "item_n = np.repeat(0, item)\n",
    "for j in range(item):\n",
    "    item_list[j] = np.array(np.where(item_id==j)[0], dtype=\"int\")\n",
    "    item_n[j] = item_list[j].shape[0]"
   ]
  },
  {
   "cell_type": "code",
   "execution_count": 6,
   "metadata": {
    "scrolled": true
   },
   "outputs": [
    {
     "name": "stdout",
     "output_type": "stream",
     "text": [
      "1\n",
      "2\n",
      "3\n",
      "4\n",
      "5\n",
      "6\n",
      "7\n",
      "8\n",
      "9\n",
      "10\n",
      "11\n",
      "12\n",
      "13\n",
      "14\n",
      "15\n",
      "16\n",
      "17\n",
      "18\n",
      "19\n",
      "20\n",
      "21\n",
      "22\n",
      "23\n",
      "24\n",
      "25\n",
      "26\n",
      "27\n",
      "28\n",
      "29\n",
      "30\n",
      "31\n",
      "32\n",
      "33\n",
      "34\n",
      "35\n",
      "36\n",
      "37\n",
      "38\n",
      "39\n",
      "40\n",
      "41\n",
      "42\n",
      "43\n",
      "44\n",
      "45\n",
      "46\n",
      "47\n",
      "48\n",
      "49\n",
      "50\n",
      "51\n",
      "52\n",
      "53\n",
      "54\n"
     ]
    }
   ],
   "source": [
    "####応答変数を生成####\n",
    "rp = 0\n",
    "while True:\n",
    "    rp = rp + 1\n",
    "    print(rp)\n",
    "    \n",
    "    ##モデルパラメータの生成\n",
    "    #事前分布の設定\n",
    "    alpha1 = np.array([0.0])\n",
    "    alpha2 = np.repeat(0.0, k)\n",
    "    tau_u = np.array([0.5])\n",
    "    tau_v = np.array([0.5])\n",
    "    Cov_u = np.diag(np.repeat(0.5, k))\n",
    "    pi = np.random.beta(15.0, 22.5, k)\n",
    "    taut_u = tau_u.copy(); taut_v = tau_v.copy()\n",
    "    Covt_u = Cov_u.copy(); pit = pi.copy()\n",
    "\n",
    "    #モデルパラメータの生成\n",
    "    Sigma = np.array(0.5)\n",
    "    beta = np.array(5.5, dtype=\"int\")\n",
    "    beta_u = np.random.normal(alpha1, tau_u, hh)\n",
    "    beta_v = np.random.normal(alpha1, tau_v, item)\n",
    "    theta_u = np.random.multivariate_normal(alpha2, Cov_u, hh)\n",
    "    Z = np.zeros((item, k), dtype=\"int\")\n",
    "    for j in range(k):\n",
    "        Z[:, j] = np.random.binomial(1, pi[j], item)\n",
    "    betat = beta.copy(); betat_u = beta_u.copy(); betat_v = beta_v.copy()\n",
    "    thetat_u = theta_u.copy()\n",
    "\n",
    "    ##正規分布から応答変数を生成\n",
    "    #モデルの期待値\n",
    "    uv = np.dot(theta_u[d_id, ] * Z[item_id, ], k_vec)\n",
    "    mu = beta + beta_u[d_id] + beta_v[item_id] + uv\n",
    "\n",
    "    #データを生成\n",
    "    U = np.random.normal(mu, Sigma, hhpt)\n",
    "\n",
    "    #収束条件\n",
    "    if (np.mean(U) < 6.0) & (np.mean(U) > 5.0) & (np.std(U) > 1.75) & (np.std(U) < 2.25):\n",
    "        break"
   ]
  },
  {
   "cell_type": "code",
   "execution_count": 7,
   "metadata": {},
   "outputs": [
    {
     "data": {
      "image/png": "[encoded data removed]",
      "text/plain": [
       "<Figure size 864x432 with 5 Axes>"
      ]
     },
     "metadata": {},
     "output_type": "display_data"
    }
   ],
   "source": [
    "#応答変数の変換\n",
    "y = np.array(U, dtype=\"int\")\n",
    "y[U > 10] = 10; y[U < 0] = 0\n",
    "\n",
    "#生成したデータを可視化\n",
    "dt = [U, y, beta_u, beta_v, uv]\n",
    "fig_range = np.append(np.array([np.min(U), 0, np.min(beta_u), np.min(beta_v), np.min(uv)]), \n",
    "                      np.array([np.max(U), 10, np.max(beta_u), np.max(beta_v), np.max(uv)])).reshape(2, len(dt))\n",
    "colorlist = [\"r\", \"g\", \"b\", \"c\", \"m\", \"y\", \"k\", \"w\"]\n",
    "legend = [\"潜在効用の分布\", \"観測変数の分布\", \"ユーザー変量効果\", \"アイテム変量効果\", \"uvの分布\"]\n",
    "fig = plt.figure(figsize=(12.0, 6.0))\n",
    "for j in range(len(dt)):\n",
    "    ax = fig.add_subplot(2, 3, j+1)\n",
    "    ax.hist(dt[j],  bins=25, range=(fig_range[0, j], fig_range[1, j]), color=colorlist[j])\n",
    "    plt.title(legend[j], fontsize=12.5)\n",
    "fig.tight_layout()\n",
    "plt.show()"
   ]
  },
  {
   "cell_type": "code",
   "execution_count": 8,
   "metadata": {},
   "outputs": [],
   "source": [
    "####マルコフ連鎖モンテカルロ法でInfinite Latent Factor modelを推定####\n",
    "##アルゴリズムの設定\n",
    "k = 3\n",
    "max_k = 15\n",
    "R = 2000\n",
    "keep = 2\n",
    "burnin = int(500/keep)\n",
    "iter = 0\n",
    "disp = 10\n",
    "target_iter = 50"
   ]
  },
  {
   "cell_type": "code",
   "execution_count": 9,
   "metadata": {},
   "outputs": [],
   "source": [
    "##事前分布の設定\n",
    "#IBPの集中度パラメータ\n",
    "alpha = 1.0\n",
    "\n",
    "#階層モデルのパラメータの事前分布\n",
    "alpha1 = np.array([0.0])\n",
    "alpha2 = np.repeat(0.0, k)\n",
    "nu = 1.0\n",
    "V = 0.1 \n",
    "\n",
    "#モデルパラメータの事前分布\n",
    "tau = 100\n",
    "s0 = 1.0\n",
    "v0 = 1.0"
   ]
  },
  {
   "cell_type": "code",
   "execution_count": 10,
   "metadata": {},
   "outputs": [],
   "source": [
    "##パラメータの初期値\n",
    "#階層モデルの初期値\n",
    "tau_u = np.array([0.25])\n",
    "tau_v = np.array([0.25])\n",
    "Cov_u = np.diag(np.repeat(0.1, k))\n",
    "pi = np.repeat(0.25, k)\n",
    "\n",
    "#モデルパラメータの初期値\n",
    "beta = np.mean(y)\n",
    "beta_u = np.random.normal(alpha1, tau_u, hh)\n",
    "beta_v = np.random.normal(alpha1, tau_v, item)\n",
    "theta_u = np.random.multivariate_normal(alpha2, Cov_u, hh)\n",
    "Zi = np.zeros((item, k), dtype=\"int\")\n",
    "for j in range(k):\n",
    "    Zi[:, j] = np.random.binomial(1, pi[j], item)\n",
    "    \n",
    "#モデルの期待値\n",
    "uv = np.dot(theta_u[d_id, ] * Zi[item_id, ], np.repeat(1, k))\n",
    "mu = beta + beta_u[d_id] + beta_v[item_id] + uv"
   ]
  },
  {
   "cell_type": "code",
   "execution_count": 12,
   "metadata": {},
   "outputs": [],
   "source": [
    "####ギブスサンプリングでパラメータをサンプリング####\n",
    "\n",
    "##期待値パラメータをサンプリング\n",
    "#モデル誤差を定義\n",
    "beta_user = beta_u[d_id]; beta_item = beta_v[item_id]\n",
    "uv = np.dot(theta_u[d_id, ] * Zi[item_id, ], np.repeat(1, k))\n",
    "er_y = y - beta_user - beta_item - uv\n",
    "\n",
    "#正規分布から事後分布をサンプリング\n",
    "weights = tau / (Sigma/hhpt + tau)\n",
    "mu_par = weights * np.mean(er_y)\n",
    "beta = np.random.normal(mu_par, np.sqrt(weights*Sigma/hhpt), 1)\n",
    "\n",
    "\n",
    "##ユーザー変量効果をサンプリング\n",
    "#モデル誤差を定義\n",
    "er_y = y - beta - beta_item - uv\n",
    "\n",
    "#ユーザーごとに事後分布をサンプリング\n",
    "for i in range(hh):\n",
    "    weights = tau_u / (Sigma/pt[i] + tau_u)\n",
    "    mu_par = weights * np.mean(er_y[d_list[i]])\n",
    "    beta_u[i] = np.random.normal(mu_par, np.sqrt(weights*tau_u/pt[i]))\n",
    "beta_user = beta_u[d_id]\n",
    "    \n",
    "\n",
    "##アイテム変量効果をサンプリング\n",
    "#モデル誤差を定義\n",
    "er_y = y - beta - beta_user - uv\n",
    "\n",
    "#アイテムごとに事後分布をサンプリング\n",
    "for j in range(item):\n",
    "    weights = tau_v / (Sigma/item_n[j] + tau_v)\n",
    "    mu_par = weights * np.mean(er_y[item_list[j]])\n",
    "    beta_v[j] = np.random.normal(mu_par, np.sqrt(weights*tau_v/item_n[j]))\n",
    "beta_item = beta_v[item_id]"
   ]
  },
  {
   "cell_type": "code",
   "execution_count": null,
   "metadata": {},
   "outputs": [],
   "source": [
    "##アイテム潜在特徴ベクトルをサンプリング\n",
    "#"
   ]
  },
  {
   "cell_type": "code",
   "execution_count": null,
   "metadata": {},
   "outputs": [],
   "source": []
  },
  {
   "cell_type": "code",
   "execution_count": null,
   "metadata": {},
   "outputs": [],
   "source": []
  }
 ],
 "metadata": {
  "kernelspec": {
   "display_name": "Python 3",
   "language": "python",
   "name": "python3"
  },
  "language_info": {
   "codemirror_mode": {
    "name": "ipython",
    "version": 3
   },
   "file_extension": ".py",
   "mimetype": "text/x-python",
   "name": "python",
   "nbconvert_exporter": "python",
   "pygments_lexer": "ipython3",
   "version": "3.6.5"
  }
 },
 "nbformat": 4,
 "nbformat_minor": 2
}
