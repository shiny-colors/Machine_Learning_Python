{
 "cells": [
  {
   "cell_type": "code",
   "execution_count": 1,
   "metadata": {},
   "outputs": [],
   "source": [
    "#####Nested Bayesian Tucker Decomposition#####\n",
    "import numpy as np\n",
    "import pandas as pd\n",
    "import matplotlib.pyplot  as plt\n",
    "import numpy.matlib\n",
    "import scipy.linalg\n",
    "import itertools\n",
    "import seaborn as sns\n",
    "import gc\n",
    "from scipy import sparse\n",
    "from scipy.stats import norm\n",
    "from pandas.tools.plotting import scatter_matrix\n",
    "from numpy.random import *\n",
    "from scipy import optimize\n",
    "\n",
    "#np.random.seed(98537)"
   ]
  },
  {
   "cell_type": "code",
   "execution_count": 2,
   "metadata": {},
   "outputs": [],
   "source": [
    "##多項分布の乱数を生成する関数\n",
    "def rmnom(pr, n, k, no, pattern):\n",
    "    z_id = np.argmax((np.cumsum(pr, axis=1) >= np.random.uniform(0, 1, n)[:, np.newaxis]), axis=1)\n",
    "    return z_id\n",
    "    if pattern==1:\n",
    "        Z = sparse.coo_matrix((np.repeat(1, n), (no, np.array(z_id))), shape=(n, k))   #スパース行列の設定\n",
    "        return z_id, Z"
   ]
  },
  {
   "cell_type": "code",
   "execution_count": 3,
   "metadata": {},
   "outputs": [],
   "source": [
    "####データの発生####\n",
    "##データの設定\n",
    "type_n = 2\n",
    "graph = 2\n",
    "k1 = 12\n",
    "k2 = 10\n",
    "company = 5000\n",
    "item = 3000\n",
    "element = 250\n",
    "Lambda1 = np.random.gamma(20.0, 1/0.2, company)\n",
    "Lambda2 = np.random.gamma(25.0, 1/0.2, company)\n",
    "pt1 = np.random.poisson(Lambda1, company)\n",
    "pt2 = np.random.poisson(Lambda2, company)\n",
    "N1 = np.sum(pt1); N2 = np.sum(pt2)\n",
    "k_vec1 = np.array(np.repeat(1, k1), dtype=\"float32\")\n",
    "k_vec2 = np.array(np.repeat(1, k2), dtype=\"float32\")"
   ]
  },
  {
   "cell_type": "code",
   "execution_count": 4,
   "metadata": {},
   "outputs": [],
   "source": [
    "##IDとインデックスを作成\n",
    "#IDの作成\n",
    "company_id1 = np.repeat(np.arange(company), pt1)\n",
    "company_id2 = np.repeat(np.arange(company), pt2)\n",
    "pt_id1 = np.array(list(itertools.chain(*[np.array(range(pt1[i]), dtype=\"int\") for i in range(company)])))\n",
    "pt_id2 = np.array(list(itertools.chain(*[np.array(range(pt2[i]), dtype=\"int\") for i in range(company)])))\n",
    "\n",
    "#インデックスの設定\n",
    "company_list1 = [i for i in range(company)]\n",
    "company_list2 = [i for i in range(company)]\n",
    "for i in range(company):\n",
    "    company_list1[i] = np.array(np.where(company_id1==i)[0], dtype=\"int\")\n",
    "    company_list2[i] = np.array(np.where(company_id2==i)[0], dtype=\"int\")"
   ]
  },
  {
   "cell_type": "code",
   "execution_count": 5,
   "metadata": {},
   "outputs": [],
   "source": [
    "##多項分布の乱数を生成する関数\n",
    "def rmnom(pr, n, k, no, pattern):\n",
    "    z_id = np.argmax((np.cumsum(pr, axis=1) >= np.random.uniform(0, 1, n)[:, np.newaxis]), axis=1)\n",
    "    return z_id\n",
    "    if pattern==1:\n",
    "        Z = sparse.coo_matrix((np.repeat(1, n), (no, np.array(z_id))), shape=(n, k))   #スパース行列の設定\n",
    "        return z_id, Z"
   ]
  },
  {
   "cell_type": "code",
   "execution_count": 6,
   "metadata": {},
   "outputs": [],
   "source": [
    "##itemとelementの割当を生成\n",
    "#トピック割当を生成\n",
    "topic = 25\n",
    "theta_topic = np.random.dirichlet(np.repeat(0.3, topic), company)\n",
    "phi_item = np.random.dirichlet(np.repeat(0.25, item), topic)\n",
    "phi_element = np.random.dirichlet(np.repeat(0.25, element), topic)\n",
    "z1 = np.array(rmnom(theta_topic[company_id1, ], N1, topic, np.arange(N1), 0), dtype=\"int16\")\n",
    "z21 = np.array(rmnom(theta_topic[company_id2, ], N2, topic, np.arange(N2), 0), dtype=\"int16\")\n",
    "z22 = np.array(rmnom(theta_topic[company_id2, ], N2, topic, np.arange(N2), 0), dtype=\"int16\")\n",
    "\n",
    "#多項分布からitemとelementを生成\n",
    "item_id1 = np.zeros(N1, dtype=\"int16\"); item_id21 = np.zeros(N2, dtype=\"int16\"); item_id22 = np.zeros(N2, dtype=\"int16\")\n",
    "element_id1 = np.zeros(N1, dtype=\"int16\"); element_id21 = np.zeros(N2, dtype=\"int16\"); element_id22 = np.zeros(N2, dtype=\"int16\")\n",
    "for i in range(company):\n",
    "    index1 = company_list1[i]; index2 = company_list2[i]\n",
    "    item_id1[index1] = np.array(rmnom(phi_item[z1[index1, ], ], pt1[i], item, np.arange(pt1[i]), 0), dtype=\"int16\")\n",
    "    element_id1[index1] = np.array(rmnom(phi_element[z1[index1, ], ], pt1[i], element, np.arange(pt1[i]), 0), dtype=\"int16\")\n",
    "    item_id21[index2] = np.array(rmnom(phi_item[z21[index2, ], ], pt2[i], item, np.arange(pt2[i]), 0), dtype=\"int16\")\n",
    "    item_id22[index2] = np.array(rmnom(phi_item[z22[index2, ], ], pt2[i], item, np.arange(pt2[i]), 0), dtype=\"int16\")\n",
    "    element_id21[index2] = np.array(rmnom(phi_element[z21[index2, ], ], pt2[i], element, np.arange(pt2[i]), 0), dtype=\"int16\")\n",
    "    element_id22[index2] = np.array(rmnom(phi_element[z22[index2, ], ], pt2[i], element, np.arange(pt2[i]), 0), dtype=\"int16\")\n",
    "    \n",
    "#itemとelementのインデックス\n",
    "item_list1 = [i for i in range(item)]; item_list21 = [i for i in range(item)]; item_list22 = [i for i in range(item)]\n",
    "item_n1 = np.repeat(0, item); item_n21 = np.repeat(0, item); item_n22 = np.repeat(0, item)\n",
    "element_list1 = [i for i in range(element)]; element_list21 = [i for i in range(element)]; element_list22 = [i for i in range(element)]\n",
    "element_n1 = np.repeat(0, element); element_n21 = np.repeat(0, element); element_n22 = np.repeat(0, element)\n",
    "for i in range(item):\n",
    "    item_list1[i] = np.array(np.where(item_id1==i)[0], dtype=\"int\")\n",
    "    item_list21[i] = np.array(np.where(item_id21==i)[0], dtype=\"int\")\n",
    "    item_list22[i] = np.array(np.where(item_id22==i)[0], dtype=\"int\")\n",
    "    item_n1[i] = item_list1[i].shape[0]\n",
    "    item_n21[i] = item_list21[i].shape[0]\n",
    "    item_n22[i] = item_list22[i].shape[0]\n",
    "for i in range(element):\n",
    "    element_list1[i] = np.array(np.where(element_id1==i)[0], dtype=\"int\")\n",
    "    element_list21[i] = np.array(np.where(element_id21==i)[0], dtype=\"int\")\n",
    "    element_list22[i] = np.array(np.where(element_id22==i)[0], dtype=\"int\")\n",
    "    element_n1[i] = element_list1[i].shape[0]\n",
    "    element_n21[i] = element_list21[i].shape[0]\n",
    "    element_n22[i] = element_list22[i].shape[0]"
   ]
  },
  {
   "cell_type": "code",
   "execution_count": 7,
   "metadata": {
    "scrolled": true
   },
   "outputs": [
    {
     "name": "stdout",
     "output_type": "stream",
     "text": [
      "1\n",
      "2\n",
      "3\n",
      "4\n",
      "5\n",
      "6\n",
      "7\n",
      "8\n",
      "9\n",
      "10\n",
      "11\n",
      "12\n",
      "13\n",
      "14\n",
      "15\n",
      "16\n",
      "17\n",
      "18\n",
      "19\n",
      "20\n",
      "21\n",
      "22\n",
      "23\n",
      "24\n",
      "25\n",
      "26\n",
      "27\n",
      "28\n",
      "29\n",
      "30\n",
      "31\n",
      "32\n",
      "33\n",
      "34\n",
      "35\n",
      "36\n",
      "37\n",
      "38\n",
      "39\n",
      "40\n",
      "41\n",
      "42\n",
      "43\n",
      "44\n",
      "45\n",
      "46\n",
      "47\n",
      "48\n",
      "49\n",
      "50\n",
      "51\n",
      "52\n"
     ]
    }
   ],
   "source": [
    "####応答変数を生成####\n",
    "per_min = 200; per_max = 200\n",
    "rp = 0\n",
    "while True:\n",
    "    rp = rp + 1\n",
    "    print(rp)\n",
    "    \n",
    "    ##パラメータを生成\n",
    "    #階層モデルの事前分布\n",
    "    alpha1 = np.repeat(0.0, k1)\n",
    "    alpha2 = np.repeat(0.0, k2)\n",
    "    Cov_v = np.diag(np.repeat(0.5, k1))\n",
    "    Cov_i = np.diag(np.repeat(0.4, k2))\n",
    "    Cov_e = np.diag(np.repeat(0.4, k2))\n",
    "    Covt_v = Cov_v.copy(); Covt_i = Cov_i.copy(); Covt_e = Cov_e.copy()\n",
    "    \n",
    "    #モデルパラメータを生成\n",
    "    Sigma = np.array([1.0])\n",
    "    beta = np.array([-0.75, -0.75])\n",
    "    theta_v = np.random.multivariate_normal(alpha1, Cov_v, company)\n",
    "    theta_i = np.random.multivariate_normal(alpha2, Cov_i, item)\n",
    "    theta_e = np.random.multivariate_normal(alpha2, Cov_e, element)\n",
    "    omega1 = np.random.normal(0, 0.5, k1*k2).reshape(k1, k2)\n",
    "    omega2 = np.random.normal(0, 0.5, k1*k2*k2).reshape(k1, k2, k2)\n",
    "    betat = beta.copy()\n",
    "    thetat_v = theta_v.copy(); thetat_i = theta_i.copy(); thetat_e = theta_e.copy()\n",
    "    omegat1 = omega1.copy(); omegat2 = omega2.copy()\n",
    "\n",
    "    #正規分布から応答変数を生成\n",
    "    #タッカー分解の期待値\n",
    "    joint_theta1 = theta_i[item_id21, ] * theta_e[element_id21, ]\n",
    "    joint_theta2 = theta_i[item_id22, ] * theta_e[element_id22, ]\n",
    "    uv1 = np.dot(np.dot(theta_v, omega1)[company_id1, ] * theta_i[item_id1, ] * theta_e[element_id1, ], k_vec2)\n",
    "    uv2 = np.zeros((N2, k2))\n",
    "    for j in range(k2):\n",
    "        uv2 += np.dot(theta_v, omega2[:, :, j])[company_id2, ]\n",
    "    uv2 = np.dot(uv2 * joint_theta1 * joint_theta2, k_vec2)\n",
    "    mu1 = beta[0] + uv1; mu2 = beta[1] + uv2\n",
    "\n",
    "    #潜在効用から二値変数を生成\n",
    "    U1 = np.random.normal(mu1, Sigma, N1); UT1 = U1.copy()\n",
    "    U2 = np.random.normal(mu2, Sigma, N2); UT2 = U2.copy()\n",
    "    y1 = (U1 >= 0)*1 + (U1 < 0)*0  ; y2 = (U2 >= 0)*1 + (U2 < 0)*0\n",
    "    Prob1 = norm.cdf(mu1, 0, Sigma); Prob2 = norm.cdf(mu2, 0, Sigma)\n",
    "    Prob1[Prob1==1.0] = 0.9999999999; Prob1[Prob1==0] = np.power(10.0, -100)\n",
    "    Prob2[Prob2==1.0] = 0.9999999999; Prob2[Prob2==0] = np.power(10.0, -100)\n",
    "\n",
    "    #break条件\n",
    "    if ((np.mean(y1) > 0.2) & (np.mean(y1) < 0.4) & (np.mean(y2) > 0.2) & (np.mean(y2) < 0.4) &\n",
    "        (np.sum(U1 <= -7.5) < N1/per_min) & (np.sum(U1 > 7.5) < N1/per_max) & \n",
    "        (np.sum(U2 <= -7.5) < N2/per_min) & (np.sum(U2 > 7.5) < N2/per_max)):\n",
    "            break"
   ]
  },
  {
   "cell_type": "code",
   "execution_count": 8,
   "metadata": {},
   "outputs": [
    {
     "data": {
      "image/png": "[encoded data removed]",
      "text/plain": [
       "<Figure size 864x432 with 6 Axes>"
      ]
     },
     "metadata": {},
     "output_type": "display_data"
    }
   ],
   "source": [
    "#潜在変数ごとのヒストグラム\n",
    "dt = [U1, U2, Prob1, Prob2, uv1, uv2]\n",
    "fig_range = np.append(np.array([np.min(U1), np.min(U2), 0, 0, np.min(uv1), np.min(uv2)]), \n",
    "                      np.array([np.max(U1), np.max(U2), 1.0, 1.0, np.max(uv1), np.max(uv2)])).reshape(2, len(dt))\n",
    "colorlist = [\"r\", \"g\", \"b\", \"c\", \"m\", \"y\", \"k\", \"w\"]\n",
    "legend = [\"潜在効用の分布1\", \"潜在変数の分布2\", \"応答確率の分布1\", \"応答変数の分布2\", \"uvの分布1\", \"uvの分布2\"]\n",
    "fig = plt.figure(figsize=(12.0, 6.0))\n",
    "for j in range(len(dt)):\n",
    "    ax = fig.add_subplot(2, 3, j+1)\n",
    "    ax.hist(dt[j],  bins=25, range=(fig_range[0, j], fig_range[1, j]), color=colorlist[j])\n",
    "    plt.title(legend[j], fontsize=12.5)\n",
    "fig.tight_layout()\n",
    "plt.show()"
   ]
  },
  {
   "cell_type": "code",
   "execution_count": 9,
   "metadata": {},
   "outputs": [],
   "source": [
    "####テストデータを生成####\n",
    "##データの設定\n",
    "division = 2\n",
    "pt01 = np.random.poisson(Lambda1 / division, company)\n",
    "pt02 = np.random.poisson(Lambda2 / division, company)\n",
    "pt01[pt01 < 5] = 5; pt02[pt02 < 5] = 5\n",
    "N01 = np.sum(pt01)\n",
    "N02 = np.sum(pt02)"
   ]
  },
  {
   "cell_type": "code",
   "execution_count": 10,
   "metadata": {},
   "outputs": [],
   "source": [
    "##IDとインデックスを作成\n",
    "#IDの作成\n",
    "company_id01 = np.repeat(np.arange(company), pt01)\n",
    "company_id02 = np.repeat(np.arange(company), pt02)\n",
    "pt_id01 = np.array(list(itertools.chain(*[np.array(range(pt01[i]), dtype=\"int\") for i in range(company)])))\n",
    "pt_id02 = np.array(list(itertools.chain(*[np.array(range(pt02[i]), dtype=\"int\") for i in range(company)])))\n",
    "\n",
    "#インデックスの設定\n",
    "company_list01 = [i for i in range(company)]\n",
    "company_list02 = [i for i in range(company)]\n",
    "for i in range(company):\n",
    "    company_list01[i] = np.array(np.where(company_id01==i)[0], dtype=\"int\")\n",
    "    company_list02[i] = np.array(np.where(company_id02==i)[0], dtype=\"int\")"
   ]
  },
  {
   "cell_type": "code",
   "execution_count": 11,
   "metadata": {},
   "outputs": [],
   "source": [
    "##itemとelementの割当を生成\n",
    "#トピック割当を生成\n",
    "z1 = np.array(rmnom(theta_topic[company_id01, ], N01, topic, np.arange(N01), 0), dtype=\"int16\")\n",
    "z21 = np.array(rmnom(theta_topic[company_id02, ], N02, topic, np.arange(N02), 0), dtype=\"int16\")\n",
    "z22 = np.array(rmnom(theta_topic[company_id02, ], N02, topic, np.arange(N02), 0), dtype=\"int16\")\n",
    "\n",
    "#多項分布からitemとelementを生成\n",
    "item_id01 = np.zeros(N01, dtype=\"int16\"); item_id021 = np.zeros(N02, dtype=\"int16\"); item_id022 = np.zeros(N02, dtype=\"int16\")\n",
    "element_id01 = np.zeros(N01, dtype=\"int16\"); element_id021 = np.zeros(N02, dtype=\"int16\"); element_id022 = np.zeros(N02, dtype=\"int16\")\n",
    "for i in range(company):\n",
    "    index1 = company_list01[i]; index2 = company_list02[i]\n",
    "    item_id01[index1] = np.array(rmnom(phi_item[z1[index1, ], ], pt01[i], item, np.arange(pt01[i]), 0), dtype=\"int16\")\n",
    "    element_id01[index1] = np.array(rmnom(phi_element[z1[index1, ], ], pt01[i], element, np.arange(pt01[i]), 0), dtype=\"int16\")\n",
    "    item_id021[index2] = np.array(rmnom(phi_item[z21[index2, ], ], pt02[i], item, np.arange(pt02[i]), 0), dtype=\"int16\")\n",
    "    item_id022[index2] = np.array(rmnom(phi_item[z22[index2, ], ], pt02[i], item, np.arange(pt02[i]), 0), dtype=\"int16\")\n",
    "    element_id021[index2] = np.array(rmnom(phi_element[z21[index2, ], ], pt02[i], element, np.arange(pt02[i]), 0), dtype=\"int16\")\n",
    "    element_id022[index2] = np.array(rmnom(phi_element[z22[index2, ], ], pt02[i], element, np.arange(pt02[i]), 0), dtype=\"int16\")\n",
    "    \n",
    "#itemとelementのインデックス\n",
    "item_list01 = [i for i in range(item)]; item_list021 = [i for i in range(item)]; item_list022 = [i for i in range(item)]\n",
    "item_n01 = np.repeat(0, item); item_n021 = np.repeat(0, item); item_n022 = np.repeat(0, item)\n",
    "element_list01 = [i for i in range(element)]; element_list021 = [i for i in range(element)]; element_list022 = [i for i in range(element)]\n",
    "element_n01 = np.repeat(0, element); element_n021 = np.repeat(0, element); element_n022 = np.repeat(0, element)\n",
    "for i in range(item):\n",
    "    item_list01[i] = np.array(np.where(item_id01==i)[0], dtype=\"int\")\n",
    "    item_list021[i] = np.array(np.where(item_id021==i)[0], dtype=\"int\")\n",
    "    item_list022[i] = np.array(np.where(item_id022==i)[0], dtype=\"int\")\n",
    "    item_n01[i] = item_list01[i].shape[0]\n",
    "    item_n021[i] = item_list021[i].shape[0]\n",
    "    item_n022[i] = item_list022[i].shape[0]\n",
    "for i in range(element):\n",
    "    element_list01[i] = np.array(np.where(element_id01==i)[0], dtype=\"int\")\n",
    "    element_list021[i] = np.array(np.where(element_id021==i)[0], dtype=\"int\")\n",
    "    element_list022[i] = np.array(np.where(element_id022==i)[0], dtype=\"int\")\n",
    "    element_n01[i] = element_list01[i].shape[0]\n",
    "    element_n021[i] = element_list021[i].shape[0]\n",
    "    element_n022[i] = element_list022[i].shape[0]"
   ]
  },
  {
   "cell_type": "code",
   "execution_count": 12,
   "metadata": {},
   "outputs": [],
   "source": [
    "##応答変数を生成\n",
    "#タッカー分解の期待値\n",
    "joint_theta1 = theta_i[item_id021, ] * theta_e[element_id021, ]\n",
    "joint_theta2 = theta_i[item_id022, ] * theta_e[element_id022, ]\n",
    "uv1 = np.dot(np.dot(theta_v, omega1)[company_id01, ] * theta_i[item_id01, ] * theta_e[element_id01, ], k_vec2)\n",
    "uv2 = np.zeros((N02, k2))\n",
    "for j in range(k2):\n",
    "    uv2 += np.dot(theta_v, omega2[:, :, j])[company_id02, ]\n",
    "uv2 = np.dot(uv2 * joint_theta1 * joint_theta2, k_vec2)\n",
    "mu1 = beta[0] + uv1; mu2 = beta[1] + uv2\n",
    "\n",
    "#潜在効用から二値変数を生成\n",
    "U01 = np.random.normal(mu1, Sigma, N01); UT01 = U01.copy()\n",
    "U02 = np.random.normal(mu2, Sigma, N02); UT02 = U02.copy()\n",
    "y01 = (U01 >= 0)*1 + (U01 < 0)*0  ; y2 = (U02 >= 0)*1 + (U02 < 0)*0"
   ]
  },
  {
   "cell_type": "code",
   "execution_count": 13,
   "metadata": {},
   "outputs": [],
   "source": [
    "####Nested Bayesian Tucker Decompositionを推定####\n",
    "##切断正規分布の乱数を発生させる関数\n",
    "def rtnorm(mu, sigma, a, b, n):\n",
    "    FA = norm.cdf(a, mu, sigma)\n",
    "    FB = norm.cdf(b, mu, sigma)\n",
    "    return norm.ppf(np.random.uniform(0, 1, n)*(FB-FA)+FA, mu, sigma)"
   ]
  },
  {
   "cell_type": "code",
   "execution_count": 15,
   "metadata": {},
   "outputs": [],
   "source": [
    "##アルゴリズムの設定\n",
    "k = 10\n",
    "R = 2000\n",
    "keep = 2\n",
    "burnin = int(500/keep)\n",
    "iter = 0\n",
    "disp = 10"
   ]
  },
  {
   "cell_type": "code",
   "execution_count": 16,
   "metadata": {},
   "outputs": [],
   "source": [
    "##事前分布の設定\n",
    "#階層モデルの事前分布\n",
    "alpha1 = np.repeat(0.0, k1)\n",
    "alpha2 = np.repeat(0.0, k2)\n",
    "V1 = 0.1 * np.diag(np.ones(k1))\n",
    "V2 = 0.1 * np.diag(np.ones(k2))\n",
    "nu = 1\n",
    "s01 = 0.1\n",
    "s01 = 0.1\n",
    "\n",
    "#モデルパラメータの事前分布\n",
    "tau = 100 \n",
    "s02 = 1.0\n",
    "v02 = 1.0"
   ]
  },
  {
   "cell_type": "code",
   "execution_count": null,
   "metadata": {},
   "outputs": [],
   "source": [
    "##itemとelementのインデックスを作成\n",
    "#インデックスの格納用配列\n",
    "item_list21 = [i for i in range(item)]\n",
    "item_list22 = [i for i in range(item)]\n",
    "item_list23 = [i for i in range(item)]\n",
    "element_list21 = [i for i in range(element)]\n",
    "element_list22 = [i for i in range(element)]\n",
    "element_list23 = [i for i in range(element)]\n",
    "\n",
    "#インデックスを作成\n",
    "for i in range(item):\n",
    "    flag = item_id21==item_id22\n",
    "    item_list21[i] = np.array(np.where((flag==False) & (item_id21==i))[0], dtype=\"int\")\n",
    "    item_list22[i] = np.array(np.where((flag==False) & (item_id22==i))[0], dtype=\"int\")\n",
    "    item_list23[i] = np.where((flag==True) & (item_id21==i))[0]\n",
    "for i in range(element):\n",
    "    flag = element_id21==element_id22\n",
    "    element_list21[i] = np.array(np.where((flag==False) & (element_id21==i))[0], dtype=\"int\")\n",
    "    element_list22[i] = np.array(np.where((flag==False) & (element_id22==i))[0], dtype=\"int\")\n",
    "    element_list23[i] = np.where((flag==True) & (element_id21==i))[0]"
   ]
  },
  {
   "cell_type": "code",
   "execution_count": 17,
   "metadata": {},
   "outputs": [],
   "source": [
    "##パラメータの真値\n",
    "#階層モデルの分散の真値\n",
    "Cov_v = np.array(Covt_v.copy(), dtype=\"float32\")\n",
    "Cov_i = np.array(Covt_i.copy(), dtype=\"float32\")\n",
    "Cov_e = np.array(Covt_e.copy(), dtype=\"float32\")\n",
    "\n",
    "#モデルパラメータの真値\n",
    "Sigma = np.array([1.0], dtype=\"float32\")\n",
    "beta = np.array(betat, dtype=\"float32\")\n",
    "theta_v = np.array(thetat_v, dtype=\"float32\")\n",
    "theta_i = np.array(thetat_i, dtype=\"float32\")\n",
    "theta_e = np.array(thetat_e, dtype=\"float32\")\n",
    "omega1 = np.array(omegat1, dtype=\"float32\")\n",
    "omega2 = np.array(omegat2, dtype=\"float32\")\n",
    "\n",
    "#タッカー分解の期待値\n",
    "joint_theta1 = theta_i[item_id21, ] * theta_e[element_id21, ]\n",
    "joint_theta2 = theta_i[item_id22, ] * theta_e[element_id22, ]\n",
    "uv1 = np.dot(np.dot(theta_v, omega1)[company_id1, ] * theta_i[item_id1, ] * theta_e[element_id1, ], k_vec2)\n",
    "uv2 = np.zeros((N2, k2))\n",
    "for j in range(k2):\n",
    "    uv2 += np.dot(theta_v, omega2[:, :, j])[company_id2, ]\n",
    "uv2 = np.dot(uv2 * joint_theta1 * joint_theta2, k_vec2)\n",
    "mu1 = beta[0] + uv1; mu2 = beta[1] + uv2"
   ]
  },
  {
   "cell_type": "code",
   "execution_count": 51,
   "metadata": {},
   "outputs": [],
   "source": [
    "##データの設定\n",
    "#切断領域を定義\n",
    "rho = 10.0\n",
    "a1 = np.array((1-y1)*(-rho) + y1*0, dtype=\"float32\")\n",
    "b1 = np.array(y1*rho + (1-y1)*0, dtype=\"float32\")\n",
    "a2 = np.array((1-y2)*(-rho) + y2*0, dtype=\"float32\")\n",
    "b2 = np.array(y2*rho + (1-y2)*0, dtype=\"float32\")\n",
    "\n",
    "#特徴行列の割当インデックス\n",
    "allocation_u = np.repeat(np.arange(k1), k2)\n",
    "allocation_v = np.tile(np.arange(k2), k1)\n",
    "allocation_omega = np.array([np.delete(np.arange(k2), j).tolist() for j in range(k2)])"
   ]
  },
  {
   "cell_type": "code",
   "execution_count": 52,
   "metadata": {},
   "outputs": [
    {
     "data": {
      "text/plain": [
       "array([[1, 2, 3, 4, 5, 6, 7, 8, 9],\n",
       "       [0, 2, 3, 4, 5, 6, 7, 8, 9],\n",
       "       [0, 1, 3, 4, 5, 6, 7, 8, 9],\n",
       "       [0, 1, 2, 4, 5, 6, 7, 8, 9],\n",
       "       [0, 1, 2, 3, 5, 6, 7, 8, 9],\n",
       "       [0, 1, 2, 3, 4, 6, 7, 8, 9],\n",
       "       [0, 1, 2, 3, 4, 5, 7, 8, 9],\n",
       "       [0, 1, 2, 3, 4, 5, 6, 8, 9],\n",
       "       [0, 1, 2, 3, 4, 5, 6, 7, 9],\n",
       "       [0, 1, 2, 3, 4, 5, 6, 7, 8]])"
      ]
     },
     "execution_count": 52,
     "metadata": {},
     "output_type": "execute_result"
    }
   ],
   "source": []
  },
  {
   "cell_type": "code",
   "execution_count": 43,
   "metadata": {},
   "outputs": [],
   "source": []
  },
  {
   "cell_type": "code",
   "execution_count": 48,
   "metadata": {},
   "outputs": [
    {
     "data": {
      "text/plain": [
       "array([0, 0, 0, ..., 0, 0, 0], dtype=int16)"
      ]
     },
     "execution_count": 48,
     "metadata": {},
     "output_type": "execute_result"
    }
   ],
   "source": []
  },
  {
   "cell_type": "code",
   "execution_count": 41,
   "metadata": {},
   "outputs": [
    {
     "data": {
      "text/plain": [
       "array([ 52340, 166564, 249787, 252310, 280759, 330934, 354436, 367772],\n",
       "      dtype=int64)"
      ]
     },
     "execution_count": 41,
     "metadata": {},
     "output_type": "execute_result"
    }
   ],
   "source": [
    "index3"
   ]
  },
  {
   "cell_type": "code",
   "execution_count": null,
   "metadata": {},
   "outputs": [],
   "source": []
  }
 ],
 "metadata": {
  "kernelspec": {
   "display_name": "Python 3",
   "language": "python",
   "name": "python3"
  },
  "language_info": {
   "codemirror_mode": {
    "name": "ipython",
    "version": 3
   },
   "file_extension": ".py",
   "mimetype": "text/x-python",
   "name": "python",
   "nbconvert_exporter": "python",
   "pygments_lexer": "ipython3",
   "version": "3.6.5"
  }
 },
 "nbformat": 4,
 "nbformat_minor": 2
}
