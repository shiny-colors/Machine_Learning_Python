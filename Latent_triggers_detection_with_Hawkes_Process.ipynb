{
 "cells": [
  {
   "cell_type": "code",
   "execution_count": 1,
   "metadata": {},
   "outputs": [],
   "source": [
    "#####Modelling Reciprocating Relationships with Hawkes Processes#####\n",
    "import numpy as np\n",
    "import pandas as pd\n",
    "import matplotlib.pyplot  as plt\n",
    "import numpy.matlib\n",
    "import scipy.linalg\n",
    "import itertools\n",
    "import seaborn as sns\n",
    "from scipy import sparse\n",
    "from scipy.stats import norm\n",
    "from pandas.tools.plotting import scatter_matrix\n",
    "from numpy.random import *\n",
    "from scipy import optimize\n",
    "\n",
    "#np.random.seed(98537)"
   ]
  },
  {
   "cell_type": "code",
   "execution_count": 2,
   "metadata": {},
   "outputs": [],
   "source": [
    "##多項分布の乱数を生成する関数\n",
    "def rmnom(pr, n, k, no, pattern):\n",
    "    z_id = np.argmax((np.cumsum(pr, axis=1) >= np.random.uniform(0, 1, n)[:, np.newaxis]), axis=1)\n",
    "    return z_id\n",
    "    if pattern==1:\n",
    "        Z = sparse.coo_matrix((np.repeat(1, n), (no, np.array(z_id))), shape=(n, k))   #スパース行列の設定\n",
    "        return z_id, Z"
   ]
  },
  {
   "cell_type": "code",
   "execution_count": 3,
   "metadata": {},
   "outputs": [],
   "source": [
    "####データの発生####\n",
    "##データの設定\n",
    "k = 10\n",
    "k_vec = np.repeat(1, k)\n",
    "hh = 5000\n",
    "item = 3000\n",
    "Lambda = np.random.gamma(30.0, 1/0.2, hh)\n",
    "pt = np.random.poisson(Lambda, hh)\n",
    "hhpt = np.sum(pt)"
   ]
  },
  {
   "cell_type": "code",
   "execution_count": 4,
   "metadata": {},
   "outputs": [],
   "source": [
    "##IDとインデックスを設定\n",
    "#IDを設定\n",
    "d_id = np.repeat(range(hh), pt)\n",
    "pt_id = np.array(list(itertools.chain(*[np.array(range(pt[i]), dtype=\"int\") for i in range(hh)])))\n",
    "\n",
    "#インデックスを設定\n",
    "d_list = [i for i in range(hh)]\n",
    "d_vec = [i for i in range(hh)]\n",
    "pt_list = [j for j in range(np.max(pt))]\n",
    "pt_n = np.repeat(0, np.max(pt))\n",
    "for i in range(hh):\n",
    "    d_list[i] = np.array(np.where(d_id==i)[0], dtype=\"int\")\n",
    "    d_vec[i] = np.repeat(1, pt[i])\n",
    "for j in range(np.max(pt)):\n",
    "    pt_list[j] = np.array(np.where(pt_id==j)[0], dtype=\"int\")\n",
    "    pt_n[j] = pt_list[j].shape[0]\n",
    "max_index = np.array([np.max(d_list[i]) for i in range(hh)])"
   ]
  },
  {
   "cell_type": "code",
   "execution_count": 18,
   "metadata": {},
   "outputs": [
    {
     "name": "stdout",
     "output_type": "stream",
     "text": [
      "0\n",
      "1000\n",
      "2000\n",
      "3000\n",
      "4000\n"
     ]
    }
   ],
   "source": [
    "##アイテムの割当を生成\n",
    "#セグメント割当を生成\n",
    "topic = 25\n",
    "phi = np.random.dirichlet(np.repeat(0.5, item), topic)\n",
    "theta = np.random.dirichlet(np.repeat(2.5, topic), hh)\n",
    "z = np.dot(np.array([np.random.multinomial(1, theta[i, :], 1) for i in range(hh)]).reshape(hh, topic), range(topic))\n",
    "\n",
    "#多項分布からアイテムを生成\n",
    "item_id1 = np.zeros(hhpt, dtype='int')\n",
    "for i in range(hh):\n",
    "    if i%1000==0:\n",
    "        print(i)\n",
    "    item_id1[d_list[i]] = np.dot(np.random.multinomial(1, phi[z[i], :], pt[i]), range(item))\n",
    "    \n",
    "#インデックスの設定\n",
    "item_list1 = [j for j in range(item)]\n",
    "item_vec1 = [j for j in range(item)]\n",
    "item_n1 = np.repeat(0, item)\n",
    "for j in range(item):\n",
    "    item_list1[j] = np.array(np.where(item_id1==j)[0], dtype=\"int\")\n",
    "    item_vec1[j] = np.repeat(1, item_list1[j].shape[0])\n",
    "    item_n1[j] = len(item_list1[j])"
   ]
  },
  {
   "cell_type": "code",
   "execution_count": 241,
   "metadata": {},
   "outputs": [],
   "source": [
    "##アイテム購買履歴を定義\n",
    "#データの設定\n",
    "get = 20\n",
    "item_id2 = np.array(np.full((hhpt, get), item), dtype=\"int16\")\n",
    "\n",
    "#アイテムごとに購買履歴を格納\n",
    "for i in range(hh):\n",
    "    x = d_list[i]\n",
    "    for j in range(x.shape[0]):\n",
    "        index = np.arange(j-get, j)[::-1]; index = index[index >= 0]\n",
    "        item_id2[x[j], np.arange(index.shape[0])] = item_id1[x[index]]\n",
    "Z = ((np.arange(get) + 1)[::-1] / get) * np.array(item_id2!=item, dtype=\"int\")\n",
    "\n",
    "#インデックスを作成\n",
    "index_history = [j for j in range(get)]\n",
    "item_list21 = [i for i in range(item)]\n",
    "item_list22 = [i for i in range(item)]\n",
    "d_list2 = [i for i in range(item)]\n",
    "for j in range(get):\n",
    "    index_history[j] = np.array(np.where(item_id2[:, j]!=item)[0], dtype=\"int\")\n",
    "for i in range(item):\n",
    "    temp_list1 = [j for j in range(get)]\n",
    "    temp_list2 = [j for j in range(get)]\n",
    "    for j in range(get):\n",
    "        temp_list1[j] = np.array(np.where(item_id2[:, j]==i)[0], dtype=\"int\")\n",
    "        temp_list2[j] = d_id[temp_list1[j]]\n",
    "    item_list21[i] = temp_list1\n",
    "    item_list22[i] = np.array(np.unique(np.where(item_id2==i)[0]), dtype=\"int\")\n",
    "    d_list2[i] = temp_list2"
   ]
  },
  {
   "cell_type": "code",
   "execution_count": 20,
   "metadata": {
    "scrolled": true
   },
   "outputs": [
    {
     "name": "stdout",
     "output_type": "stream",
     "text": [
      "[1, 448.6]\n",
      "[2, 599.6]\n",
      "[3, 499.3]\n",
      "[4, 408.7]\n",
      "[5, 884.3]\n",
      "[6, 431.8]\n",
      "[7, 613.9]\n",
      "[8, 532.1]\n",
      "[9, 522.8]\n",
      "[10, 454.3]\n",
      "[11, 589.1]\n",
      "[12, 585.4]\n",
      "[13, 483.2]\n",
      "[14, 733.6]\n",
      "[15, 402.4]\n",
      "[16, 481.2]\n",
      "[17, 556.0]\n",
      "[18, 441.5]\n",
      "[19, 483.4]\n",
      "[20, 527.3]\n",
      "[21, 536.0]\n",
      "[22, 524.3]\n",
      "[23, 652.5]\n",
      "[24, 736.9]\n",
      "[25, 518.0]\n",
      "[26, 530.6]\n",
      "[27, 830.3]\n",
      "[28, 495.8]\n",
      "[29, 892.2]\n",
      "[30, 704.5]\n",
      "[31, 403.6]\n",
      "[32, 572.7]\n",
      "[33, 558.9]\n",
      "[34, 722.7]\n",
      "[35, 454.0]\n",
      "[36, 451.6]\n",
      "[37, 957.0]\n",
      "[38, 605.9]\n",
      "[39, 553.7]\n",
      "[40, 918.3]\n",
      "[41, 418.5]\n",
      "[42, 500.6]\n",
      "[43, 521.5]\n",
      "[44, 677.6]\n",
      "[45, 497.6]\n",
      "[46, 825.0]\n",
      "[47, 409.6]\n",
      "[48, 456.8]\n",
      "[49, 562.5]\n",
      "[50, 424.5]\n",
      "[51, 492.7]\n",
      "[52, 494.1]\n",
      "[53, 563.5]\n",
      "[54, 795.5]\n",
      "[55, 405.1]\n",
      "[56, 574.1]\n",
      "[57, 838.9]\n",
      "[58, 381.4]\n"
     ]
    }
   ],
   "source": [
    "##妥当なパラメータが生成するまで反復\n",
    "rp = 0\n",
    "while True:\n",
    "    rp = rp + 1\n",
    "    \n",
    "    ##モデルパラメータの生成\n",
    "    #事前分布の設定\n",
    "    alpha11 = 0.3; beta11 = 0.5\n",
    "    alpha12 = 0.3; beta12 = 0.5\n",
    "    alpha21 = 0.1; beta21 = 0.75\n",
    "    alpha22 = 0.1; beta22 = 0.75\n",
    "    tau = 0.25\n",
    "\n",
    "    #モデルパラメータを生成\n",
    "    theta_u1 = np.random.gamma(alpha11, 1/beta11, k*hh).reshape(hh, k)\n",
    "    theta_v1 = np.random.gamma(alpha12, 1/beta12, k*item).reshape(item, k)\n",
    "    theta_u2 = np.random.gamma(alpha21, 1/beta21, k*hh).reshape(hh, k)\n",
    "    theta_v2 = np.random.gamma(alpha22, 1/beta22, k*item).reshape(item, k)\n",
    "    gamma = np.random.normal(0, tau, hh)\n",
    "    thetat_u1 = theta_u1.copy(); thetat_v1 = theta_v1.copy()\n",
    "    thetat_u2 = theta_u2.copy(); thetat_v2 = theta_v2.copy()\n",
    "    gammat = gamma.copy()\n",
    "    \n",
    "    ##応答変数を生成\n",
    "    #モデルの期待値    \n",
    "    uv1 = np.dot(theta_u1[d_id, ] * theta_v1[item_id1, ], k_vec)\n",
    "    gamma_vec = gamma[d_id]; theta_user2 = theta_u2[d_id, ]\n",
    "    uv2 = np.repeat(0.0, hhpt)\n",
    "    for j in range(get):\n",
    "        index = index_history[j]\n",
    "        uv2[index] += np.dot(theta_user2[index, ] * theta_v2[item_id2[index, j], ], k_vec) * np.exp(gamma_vec[index] * Z[index, j])\n",
    "    mu = uv1 + uv2\n",
    "\n",
    "    #指数分布から応答変数を生成\n",
    "    y = np.random.exponential(mu, hhpt)\n",
    "    y_vec = y[:, np.newaxis]\n",
    "    print([rp, np.round(np.max(y), 1)])\n",
    "    if np.max(y) < 400:\n",
    "        break"
   ]
  },
  {
   "cell_type": "code",
   "execution_count": 21,
   "metadata": {},
   "outputs": [],
   "source": [
    "####マルコフ連鎖モンテカルロ法でパラメータを推定####\n",
    "##切断指数分布の乱数を生成する関数\n",
    "def rtexp(gamma, a, b):\n",
    "    #切断指数分布の乱数を生成\n",
    "    FA = scipy.stats.expon.cdf(a, scale=gamma)\n",
    "    FB = scipy.stats.expon.cdf(b, scale=gamma)\n",
    "    par = scipy.stats.expon.ppf(np.random.uniform(0, 1, a.shape[0])*(FB-FA)+FA, scale=gamma)\n",
    "    return par"
   ]
  },
  {
   "cell_type": "code",
   "execution_count": 22,
   "metadata": {},
   "outputs": [],
   "source": [
    "##アルゴリズムの設定\n",
    "R = 2000\n",
    "keep = 4\n",
    "burnin = int(500/keep)\n",
    "iter = 0\n",
    "disp = 10\n",
    "e1 = 0.001\n",
    "e2 = 0.0025\n",
    "L = 3"
   ]
  },
  {
   "cell_type": "code",
   "execution_count": 74,
   "metadata": {},
   "outputs": [],
   "source": [
    "##データの設定\n",
    "#インデックスの作成\n",
    "item_get = [j for j in range(get)]\n",
    "z_get = [j for j in range(get)]\n",
    "for j in range(get):\n",
    "    index = index_history[j]\n",
    "    item_get[j] = item_id2[index, j]\n",
    "    z_get[j] = Z[index, j]"
   ]
  },
  {
   "cell_type": "code",
   "execution_count": 75,
   "metadata": {},
   "outputs": [],
   "source": [
    "##事前分布の設定\n",
    "alpha = 1.0\n",
    "beta = 1.0\n",
    "s0 = 1.0; v0 = 1.0"
   ]
  },
  {
   "cell_type": "code",
   "execution_count": 433,
   "metadata": {},
   "outputs": [],
   "source": [
    "##パラメータの真値\n",
    "#ガンマ分布のパラメータ\n",
    "alpha11 = 0.3; beta11 = 0.5\n",
    "alpha12 = 0.3; beta12 = 0.5\n",
    "alpha21 = 0.1; beta21 = 0.75\n",
    "alpha22 = 0.1; beta22 = 0.75\n",
    "tau = 0.25\n",
    "    \n",
    "#モデルパラメータの生成\n",
    "theta_u1 = thetat_u1.copy()\n",
    "theta_v1 = thetat_v1.copy()\n",
    "theta_u2 = thetat_u2.copy()\n",
    "theta_v2 = thetat_v2.copy()\n",
    "gamma = gammat.copy()\n",
    "\n",
    "#モデルの期待値\n",
    "uv1 = np.dot(theta_u1[d_id, ] * theta_v1[item_id1, ], k_vec)\n",
    "gamma_vec = gamma[d_id]; theta_user2 = theta_u2[d_id, ]\n",
    "uv2 = np.repeat(0.0, hhpt)\n",
    "for j in range(get):\n",
    "    index = index_history[j]\n",
    "    uv2[index] += np.dot(theta_user2[index, ] * theta_v2[item_id2[index, j], ], k_vec) * np.exp(gamma_vec[index] * Z[index, j])\n",
    "mu = uv1 + uv2"
   ]
  },
  {
   "cell_type": "code",
   "execution_count": null,
   "metadata": {},
   "outputs": [],
   "source": [
    "##パラメータの初期値\n",
    "#ガンマ分布のパラメータ\n",
    "alpha11 = 1.0; beta11 = 1.5\n",
    "alpha12 = 1.0; beta12 = 1.5\n",
    "alpha21 = 0.25; beta21 = 1.0\n",
    "alpha22 = 0.25; beta22 = 1.0\n",
    "tau = 0.2\n",
    "\n",
    "#モデルパラメータの初期値\n",
    "theta_u1 = np.random.gamma(alpha11, 1/beta11, k*hh).reshape(hh, k)\n",
    "theta_v1 = np.random.gamma(alpha12, 1/beta12, k*item).reshape(item, k)\n",
    "theta_u2 = np.random.gamma(alpha21, 1/beta21, k*hh).reshape(hh, k)\n",
    "theta_v2 = np.random.gamma(alpha22, 1/beta22, k*item).reshape(item, k)\n",
    "gamma = np.random.normal(0, tau, hh)\n",
    "\n",
    "#モデルの期待値\n",
    "uv1 = np.dot(theta_u1[d_id, ] * theta_v1[item_id1, ], k_vec)\n",
    "gamma_vec = gamma[d_id]; theta_user2 = theta_u2[d_id, ]\n",
    "uv2 = np.repeat(0.0, hhpt)\n",
    "for j in range(get):\n",
    "    index = index_history[j]\n",
    "    uv2[index] += np.dot(theta_user2[index, ] * theta_v2[item_id2[index, j], ], k_vec) * np.exp(gamma_vec[index] * Z[index, j])\n",
    "mu = uv1 + uv2"
   ]
  },
  {
   "cell_type": "code",
   "execution_count": null,
   "metadata": {},
   "outputs": [],
   "source": [
    "####ギブスサンプリングでパラメータをサンプリング####\n",
    "\n",
    "##ユーザー特徴行列をサンプリング\n",
    "#補助変数を更新\n",
    "theta_user1 = theta_u1[d_id, ]\n",
    "theta_item1 = theta_v1[item_id1, ]\n",
    "uv_dt = theta_user1 * theta_item1\n",
    "Lambda = uv_dt / mu[:, np.newaxis]\n",
    "\n",
    "#ガンマ分布のパラメータ\n",
    "lambda_y = Lambda * y_vec\n",
    "W11 = np.zeros((hh, k)); W12 = np.zeros((hh, k))\n",
    "for i in range(hh):\n",
    "    index = d_list[i]\n",
    "    W11[i, ] = np.dot(lambda_y[index, ].T, d_vec[i])\n",
    "    W12[i, ] = np.dot(theta_item1[index, ].T, d_vec[i])\n",
    "W11 = W11 + alpha; W12 = W12 + beta\n",
    "\n",
    "#パラメータをサンプリング\n",
    "theta_u1 = np.random.gamma(W11.reshape(-1), 1/W12.reshape(-1), hh*k).reshape(hh, k)\n",
    "theta_user1 = theta_u1[d_id, ]\n",
    "uv1 = np.dot(theta_user1 * theta_item1, k_vec)"
   ]
  },
  {
   "cell_type": "code",
   "execution_count": 42,
   "metadata": {},
   "outputs": [],
   "source": [
    "##アイテム特徴行列をサンプリング\n",
    "#補助変数を更新\n",
    "mu = uv1 + uv2\n",
    "uv_dt = theta_user1 * theta_item1\n",
    "Lambda = uv_dt / mu[:, np.newaxis]\n",
    "\n",
    "#ガンマ分布のパラメータ\n",
    "lambda_y = Lambda * y_vec\n",
    "H11 = np.zeros((item, k)); H12 = np.zeros((item, k))\n",
    "for i in range(item):\n",
    "    index = item_list1[i]\n",
    "    H11[i, ] = np.dot(lambda_y[index, ].T, item_vec1[i])\n",
    "    H12[i, ] = np.dot(theta_user1[index, ].T, item_vec1[i])\n",
    "H11 = H11 + alpha; H12 = H12 + beta\n",
    "\n",
    "#パラメータをサンプリング\n",
    "theta_v1 = np.random.gamma(H11.reshape(-1), 1/H12.reshape(-1), item*k).reshape(item, k)\n",
    "theta_item1 = theta_v1[item_id1, ]\n",
    "uv1 = np.dot(theta_user1 * theta_item1, k_vec)"
   ]
  },
  {
   "cell_type": "code",
   "execution_count": 434,
   "metadata": {},
   "outputs": [],
   "source": [
    "##トリガーのユーザー特徴行列をサンプリング\n",
    "#補助変数を更新\n",
    "mu = uv1 + uv2\n",
    "theta_user2 = theta_u2[d_id, ]\n",
    "theta_dt = np.zeros((hhpt, k))\n",
    "uv_dt = np.zeros((hhpt, k))\n",
    "gamma_dt = np.zeros((hhpt, get))\n",
    "for j in range(get):\n",
    "    index = index_history[j]\n",
    "    theta_target = theta_user2[index, ]\n",
    "    gamma_dt[index, j] = np.exp(gamma_vec[index] * z_get[j])\n",
    "    uv_target = (theta_target * theta_v2[item_get[j], ]) * gamma_dt[index, j][:, np.newaxis]\n",
    "    theta_dt[index, ] += uv_target / theta_target  \n",
    "    uv_dt[index, ] += uv_target\n",
    "Lambda = uv_dt / mu[:, np.newaxis]\n",
    "\n",
    "#ガンマ分布のパラメータ\n",
    "lambda_y = Lambda * y_vec\n",
    "W21 = np.zeros((hh, k)); W22 = np.zeros((hh, k))\n",
    "for i in range(hh):\n",
    "    index = d_list[i]\n",
    "    W21[i, ] = np.dot(lambda_y[index, ].T, d_vec[i])\n",
    "    W22[i, ] = np.dot(theta_dt[index, ].T, d_vec[i])\n",
    "W21 = W21 + alpha; W22 = W22 + beta\n",
    "\n",
    "#パラメータをサンプリング\n",
    "theta_u2 = np.random.gamma(W21.reshape(-1), 1/W22.reshape(-1), hh*k).reshape(hh, k)\n",
    "theta_user2 = theta_u2[d_id, ]\n",
    "\n",
    "#期待値を更新\n",
    "uv2 = np.repeat(0.0, hhpt)\n",
    "for j in range(get):\n",
    "    index = index_history[j]\n",
    "    uv2[index] += np.dot(theta_user2[index, ] * theta_v2[item_get[j], ], k_vec) * np.exp(gamma_vec[index] * z_get[j])"
   ]
  },
  {
   "cell_type": "code",
   "execution_count": 435,
   "metadata": {},
   "outputs": [],
   "source": [
    "##トリガーのアイテム特徴行列をサンプリング\n",
    "#パラメータの格納用配列\n",
    "theta_dt = np.zeros((hhpt, k))\n",
    "uv_dt = np.zeros((hhpt, k))\n",
    "H21 = np.zeros((item, k))\n",
    "H22 = np.zeros((item, k))\n",
    "\n",
    "##アイテムごとの事後分布のパラメータ\n",
    "for i in range(item):\n",
    "    #補助変数を更新\n",
    "    for j in range(get):\n",
    "        index = item_list21[i][j]\n",
    "        theta_target = theta_user2[index, ]\n",
    "        uv_target = (theta_target * theta_v2[i, ]) * gamma_dt[index, j][:, np.newaxis]\n",
    "        theta_dt[index, ] += uv_target / theta_v2[i, ] \n",
    "        uv_dt[index, ] += uv_target\n",
    "    index = item_list22[i]\n",
    "    Lambda = uv_dt[index, ] / mu[index, np.newaxis]\n",
    "\n",
    "    #ガンマ分布のパラメータ　\n",
    "    lambda_y = Lambda * y_vec[index]\n",
    "    H21[i, ] = np.sum(lambda_y, axis=0)\n",
    "    H22[i, ] = np.sum(theta_dt[index, ], axis=0)\n",
    "    theta_dt[index, ] = 0; uv_dt[index, ] = 0\n",
    "H21 = H21 + alpha; H22 = H22 + beta\n",
    "\n",
    "#パラメータをサンプリング\n",
    "par = np.random.gamma(H21.reshape(-1), 1/H22.reshape(-1), item*k).reshape(item, k)"
   ]
  },
  {
   "cell_type": "code",
   "execution_count": 436,
   "metadata": {},
   "outputs": [],
   "source": []
  },
  {
   "cell_type": "code",
   "execution_count": 439,
   "metadata": {
    "scrolled": true
   },
   "outputs": [
    {
     "name": "stdout",
     "output_type": "stream",
     "text": [
      "[0.038 0.001 0.003 0.003 0.001 0.    0.002 0.002 0.399 0.002]\n",
      "[0.036 0.001 0.    0.    0.    0.    0.    0.    0.406 0.   ]\n"
     ]
    }
   ],
   "source": [
    "i = 15\n",
    "print(np.round(par[i, ], 3))\n",
    "print(np.round(thetat_v2[i, ], 3))"
   ]
  },
  {
   "cell_type": "code",
   "execution_count": 432,
   "metadata": {},
   "outputs": [
    {
     "data": {
      "text/plain": [
       "0.0"
      ]
     },
     "execution_count": 432,
     "metadata": {},
     "output_type": "execute_result"
    }
   ],
   "source": [
    "np.sum(uv_dt)"
   ]
  },
  {
   "cell_type": "code",
   "execution_count": 406,
   "metadata": {},
   "outputs": [
    {
     "data": {
      "text/plain": [
       "0"
      ]
     },
     "execution_count": 406,
     "metadata": {},
     "output_type": "execute_result"
    }
   ],
   "source": [
    "theta_dt0"
   ]
  },
  {
   "cell_type": "code",
   "execution_count": 383,
   "metadata": {},
   "outputs": [],
   "source": [
    "b = np.arange(hhpt)"
   ]
  },
  {
   "cell_type": "code",
   "execution_count": null,
   "metadata": {},
   "outputs": [],
   "source": []
  }
 ],
 "metadata": {
  "kernelspec": {
   "display_name": "Python 3",
   "language": "python",
   "name": "python3"
  },
  "language_info": {
   "codemirror_mode": {
    "name": "ipython",
    "version": 3
   },
   "file_extension": ".py",
   "mimetype": "text/x-python",
   "name": "python",
   "nbconvert_exporter": "python",
   "pygments_lexer": "ipython3",
   "version": "3.6.5"
  }
 },
 "nbformat": 4,
 "nbformat_minor": 2
}
