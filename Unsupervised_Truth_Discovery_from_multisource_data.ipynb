{
 "cells": [
  {
   "cell_type": "code",
   "execution_count": 54,
   "metadata": {},
   "outputs": [],
   "source": [
    "#####Unsupervised Truth Discovery from Heterogeneous data source#####\n",
    "import numpy as np\n",
    "import pandas as pd\n",
    "import matplotlib.pyplot  as plt\n",
    "import numpy.matlib\n",
    "import scipy.linalg\n",
    "import itertools\n",
    "from scipy import sparse\n",
    "from scipy.stats import norm\n",
    "from pandas.tools.plotting import scatter_matrix\n",
    "from numpy.random import *\n",
    "from scipy import optimize\n",
    "\n",
    "#np.random.seed(98537)"
   ]
  },
  {
   "cell_type": "code",
   "execution_count": 55,
   "metadata": {},
   "outputs": [],
   "source": [
    "##多項分布の乱数を生成する関数\n",
    "def rmnom(pr, n, k, pattern):\n",
    "    if pattern==1:\n",
    "        z_id = np.array(np.argmax(np.cumsum(pr, axis=1) >= np.random.uniform(0, 1, n)[:, np.newaxis], axis=1), dtype=\"int\")\n",
    "        Z = np.diag(np.repeat(1, k))[z_id, ]\n",
    "        return z_id, Z\n",
    "    z_id = np.array(np.argmax((np.cumsum(pr, axis=1) >= np.random.uniform(0, 1, n)[:, np.newaxis]), axis=1), dtype=\"int\")\n",
    "    return z_id"
   ]
  },
  {
   "cell_type": "code",
   "execution_count": 56,
   "metadata": {},
   "outputs": [],
   "source": [
    "####データの生成####\n",
    "##データの設定\n",
    "M = 200\n",
    "S = 3\n",
    "hh = np.random.poisson(500, S)\n",
    "n = np.sum(hh)\n",
    "s_id = np.repeat(np.arange(S), hh)\n",
    "pt = np.random.poisson(17.5, n)\n",
    "pt[pt < 5] = 5 \n",
    "hhpt = np.array([np.sum(pt[s_id==j]) for j in range(S)])\n",
    "N = np.sum(hhpt)"
   ]
  },
  {
   "cell_type": "code",
   "execution_count": 57,
   "metadata": {},
   "outputs": [],
   "source": [
    "##IDとインデックスの作成\n",
    "#IDを作成\n",
    "d_id = np.repeat(np.arange(n), pt)\n",
    "pt_id = np.array(list(itertools.chain(*[np.array(range(pt[i]), dtype=\"int\") for i in range(n)])))\n",
    "\n",
    "#インデックスを作成\n",
    "d_list = [i for i in range(n)]\n",
    "s_list = [j for j in range(S)]\n",
    "for i in range(n):\n",
    "    d_list[i] = np.array(np.where(d_id==i)[0], dtype=\"int\")\n",
    "for j in range(S):\n",
    "    s_list[j] = np.array(np.where(s_id==j)[0], dtype=\"int\")"
   ]
  },
  {
   "cell_type": "code",
   "execution_count": 58,
   "metadata": {},
   "outputs": [],
   "source": [
    "##Side-Effectの割当を生成\n",
    "#トピック割当を生成\n",
    "topic = 25\n",
    "phi0 = np.random.dirichlet(np.repeat(0.5, M), topic)\n",
    "theta0 = np.random.dirichlet(np.repeat(0.5, topic), n)\n",
    "z = rmnom(theta0[d_id, ], N, topic, 0)\n",
    "\n",
    "#多項分布からSide-Effectを生成\n",
    "effect_id = np.repeat(0, N)\n",
    "for i in range(n):\n",
    "    effect_id[d_list[i]] = rmnom(phi0[z[d_list[i]], ], pt[i], M, 0)\n",
    "    \n",
    "#インデックスの作成\n",
    "effect_list = [i for i in range(M)]\n",
    "effect_n = np.repeat(0, M)\n",
    "for i in range(M):\n",
    "    effect_list[i] = np.array(np.where(effect_id==i)[0], dtype=\"int\")\n",
    "    effect_n[i] = effect_list[i].shape[0]"
   ]
  },
  {
   "cell_type": "code",
   "execution_count": 62,
   "metadata": {},
   "outputs": [
    {
     "data": {
      "text/plain": [
       "(array([ 2., 15., 21., 41., 41., 35., 25., 12.,  7.,  1.]),\n",
       " array([0.16312138, 0.21402273, 0.26492409, 0.31582545, 0.3667268 ,\n",
       "        0.41762816, 0.46852952, 0.51943087, 0.57033223, 0.62123359,\n",
       "        0.67213494]),\n",
       " <a list of 10 Patch objects>)"
      ]
     },
     "execution_count": 62,
     "metadata": {},
     "output_type": "execute_result"
    },
    {
     "data": {
      "image/png": "[encoded data removed]",
      "text/plain": [
       "<Figure size 432x288 with 1 Axes>"
      ]
     },
     "metadata": {},
     "output_type": "display_data"
    }
   ],
   "source": [
    "####応答変数を生成####\n",
    "\n",
    "##パラメータの生成\n",
    "gamma1 = 2.5; gamma0 = 25.0\n",
    "eta1 = 15.0; eta0 = 10.0\n"
   ]
  },
  {
   "cell_type": "code",
   "execution_count": null,
   "metadata": {},
   "outputs": [],
   "source": []
  }
 ],
 "metadata": {
  "kernelspec": {
   "display_name": "Python 3",
   "language": "python",
   "name": "python3"
  },
  "language_info": {
   "codemirror_mode": {
    "name": "ipython",
    "version": 3
   },
   "file_extension": ".py",
   "mimetype": "text/x-python",
   "name": "python",
   "nbconvert_exporter": "python",
   "pygments_lexer": "ipython3",
   "version": "3.6.5"
  }
 },
 "nbformat": 4,
 "nbformat_minor": 2
}
