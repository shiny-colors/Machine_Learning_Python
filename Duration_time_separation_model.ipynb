{
 "cells": [
  {
   "cell_type": "code",
   "execution_count": 162,
   "metadata": {},
   "outputs": [],
   "source": [
    "####Duration time separation model####\n",
    "import numpy as np\n",
    "import pandas as pd\n",
    "import matplotlib.pyplot  as plt\n",
    "import numpy.matlib\n",
    "import scipy.linalg\n",
    "import itertools\n",
    "from scipy import sparse\n",
    "from scipy.stats import norm\n",
    "from pandas.tools.plotting import scatter_matrix\n",
    "from numpy.random import *\n",
    "from scipy import optimize\n",
    "\n",
    "#np.random.seed(98537)"
   ]
  },
  {
   "cell_type": "code",
   "execution_count": 163,
   "metadata": {},
   "outputs": [],
   "source": [
    "####データの生成####\n",
    "##データの設定\n",
    "s = 2\n",
    "hh = 10000"
   ]
  },
  {
   "cell_type": "code",
   "execution_count": 164,
   "metadata": {},
   "outputs": [],
   "source": [
    "##応答変数の生成\n",
    "#セグメント割当の生成\n",
    "pi = np.array([0.6])\n",
    "z = np.random.binomial(1, pi, hh)\n",
    "index_z1 = np.array(np.where(z==1)[0], dtype=\"int\")\n",
    "index_z2 = np.array(np.where(z==0)[0], dtype=\"int\")\n",
    "hh1 = index_z1.shape[0]\n",
    "hh2 = index_z2.shape[0]\n",
    "\n",
    "#パラメータの生成\n",
    "Sigma = np.array([1.25])\n",
    "mu = np.array([3.0])\n",
    "theta = np.array([0.5])"
   ]
  },
  {
   "cell_type": "code",
   "execution_count": 165,
   "metadata": {},
   "outputs": [],
   "source": [
    "#応答変数の生成\n",
    "y = np.repeat(0.0, hh)\n",
    "y[index_z1] = np.random.normal(mu, Sigma, hh1)\n",
    "y[index_z2] = np.random.exponential(theta, hh2)\n",
    "y[y < 0] = 0.0"
   ]
  },
  {
   "cell_type": "code",
   "execution_count": 166,
   "metadata": {},
   "outputs": [
    {
     "data": {
      "text/plain": [
       "(array([1909., 1042.,  680.,  447.,  471.,  451.,  521.,  545.,  670.,\n",
       "         662.,  587.,  536.,  452.,  318.,  280.,  170.,  117.,   63.,\n",
       "          36.,   21.,   15.,    3.,    2.,    0.,    2.]),\n",
       " array([0.        , 0.32019016, 0.64038033, 0.96057049, 1.28076066,\n",
       "        1.60095082, 1.92114098, 2.24133115, 2.56152131, 2.88171148,\n",
       "        3.20190164, 3.52209181, 3.84228197, 4.16247213, 4.4826623 ,\n",
       "        4.80285246, 5.12304263, 5.44323279, 5.76342295, 6.08361312,\n",
       "        6.40380328, 6.72399345, 7.04418361, 7.36437378, 7.68456394,\n",
       "        8.0047541 ]),\n",
       " <a list of 25 Patch objects>)"
      ]
     },
     "execution_count": 166,
     "metadata": {},
     "output_type": "execute_result"
    },
    {
     "data": {
      "image/png": "[encoded data removed]",
      "text/plain": [
       "<Figure size 972x288 with 2 Axes>"
      ]
     },
     "metadata": {},
     "output_type": "display_data"
    }
   ],
   "source": [
    "#応答変数の可視化\n",
    "fig = plt.figure(figsize=(13.5, 4.0))\n",
    "ax1 = fig.add_subplot(1, 2, 1); ax2 = fig.add_subplot(1, 2, 2)\n",
    "ax1.hist(y[index_z1], bins=25, range=[0.0, np.max(y)])\n",
    "ax1.hist(y[index_z2], bins=25, range=[0.0, np.max(y)])\n",
    "ax2.hist(y, bins=25, range=[0.0, np.max(y)])"
   ]
  },
  {
   "cell_type": "code",
   "execution_count": 167,
   "metadata": {},
   "outputs": [],
   "source": [
    "####EMアルゴリズムでパラメータを推定####\n",
    "##観測データの尤度と潜在変数zを計算する関数\n",
    "def ollz(mu, Sigma, theta, pi, y):\n",
    "    #モデルごとの尤度を定義\n",
    "    Lho1 = scipy.stats.norm.pdf(y, mu, Sigma)\n",
    "    Lho2 = scipy.stats.expon.pdf(y, scale=1/theta)\n",
    "\n",
    "    #観測データの対数尤度\n",
    "    Lho = np.hstack((pi*Lho1[:, np.newaxis], (1-pi)*Lho2[:, np.newaxis]))\n",
    "    LLobz = np.sum(np.log(np.sum(Lho, axis=1)))\n",
    "\n",
    "    #潜在変数zの定義\n",
    "    z = Lho / np.sum(Lho, axis=1)[:, np.newaxis]\n",
    "    return LLobz, z"
   ]
  },
  {
   "cell_type": "code",
   "execution_count": 168,
   "metadata": {},
   "outputs": [],
   "source": [
    "##EMアルゴリズムの設定\n",
    "iters = 0\n",
    "rp = 200   #最大繰り返し数\n",
    "LL = -1000000000   #対数尤度の初期値\n",
    "dl = 100   #EMアルゴリズムの対数尤度の差の初期値\n",
    "tol = 0.1\n",
    "maxit = 20   #準ニュートン法のステップ数"
   ]
  },
  {
   "cell_type": "code",
   "execution_count": 169,
   "metadata": {},
   "outputs": [],
   "source": [
    "##EMアルゴリズムの初期値\n",
    "#混合率と潜在変数の初期値\n",
    "pi = np.array([1/s])\n",
    "zpt = np.repeat(pi, hh)\n",
    "\n",
    "#パラメータの初期値\n",
    "Sigma = np.random.uniform(1.0, 2.0, 1)\n",
    "mu = np.random.uniform(1.5, 3.0, 1)\n",
    "theta = np.random.uniform(0.25, 0.5, 1)"
   ]
  },
  {
   "cell_type": "code",
   "execution_count": 170,
   "metadata": {},
   "outputs": [],
   "source": [
    "#観測データの対数尤度と潜在変数\n",
    "oll = ollz(mu, Sigma, theta, pi, y)\n",
    "zpt = oll[1]\n",
    "LL1 = oll[0]"
   ]
  },
  {
   "cell_type": "code",
   "execution_count": 171,
   "metadata": {},
   "outputs": [
    {
     "name": "stdout",
     "output_type": "stream",
     "text": [
      "-18181.143060619215\n",
      "-16890.847490500964\n",
      "-16712.585953618403\n",
      "-16720.60961874586\n",
      "-16763.805300568543\n",
      "-16783.53057201472\n",
      "-16777.476286450255\n",
      "-16757.26595940681\n",
      "-16732.47809249753\n",
      "-16708.563324086055\n",
      "-16687.95506374296\n",
      "-16671.323804269334\n",
      "-16658.459956484247\n",
      "-16648.799169383055\n",
      "-16641.698920756193\n",
      "-16636.566015577944\n",
      "-16632.903460065438\n",
      "-16630.317578575814\n",
      "-16628.507764090693\n",
      "-16627.25036037295\n",
      "-16626.382166718766\n",
      "-16625.78588406971\n",
      "-16625.378219031627\n",
      "-16625.10060726473\n",
      "-16624.9122078886\n",
      "-16624.784735109406\n",
      "-16624.698712492594\n"
     ]
    }
   ],
   "source": [
    "##EMアルゴリズムでパラメータを推定\n",
    "while abs(dl) >= tol:\n",
    "    \n",
    "    #Mステップで完全データモデルの最尤推定\n",
    "    m = np.sum(zpt, axis=0)\n",
    "    u = zpt * y[:, np.newaxis]\n",
    "    mu = np.array([np.sum(u[:, 0]) / np.sum(m[0])])\n",
    "    Sigma = np.sqrt(np.sum(np.power(zpt[:, 0]*(y - mu), 2)) / m[0])\n",
    "    theta = np.mean(u[:, 1])\n",
    "\n",
    "    #混合率を更新\n",
    "    pi = m[0] / hh\n",
    "\n",
    "    #Eステップで観測データの対数尤度と潜在変数zを更新\n",
    "    oll = ollz(mu, Sigma, theta, pi, y)\n",
    "    zpt = oll[1]\n",
    "    LL = oll[0]\n",
    "\n",
    "    #EMアルゴリズムのパラメータを更新\n",
    "    iters = iters + 1\n",
    "    dl = LL - LL1\n",
    "    LL1 = LL\n",
    "    print(LL)"
   ]
  },
  {
   "cell_type": "code",
   "execution_count": null,
   "metadata": {},
   "outputs": [],
   "source": []
  }
 ],
 "metadata": {
  "kernelspec": {
   "display_name": "Python 3",
   "language": "python",
   "name": "python3"
  },
  "language_info": {
   "codemirror_mode": {
    "name": "ipython",
    "version": 3
   },
   "file_extension": ".py",
   "mimetype": "text/x-python",
   "name": "python",
   "nbconvert_exporter": "python",
   "pygments_lexer": "ipython3",
   "version": "3.6.5"
  }
 },
 "nbformat": 4,
 "nbformat_minor": 2
}
