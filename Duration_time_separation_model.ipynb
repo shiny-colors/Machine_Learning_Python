{
 "cells": [
  {
   "cell_type": "code",
   "execution_count": 1,
   "metadata": {},
   "outputs": [],
   "source": [
    "####Duration time separation model####\n",
    "import numpy as np\n",
    "import pandas as pd\n",
    "import matplotlib.pyplot  as plt\n",
    "import numpy.matlib\n",
    "import scipy.linalg\n",
    "import itertools\n",
    "import math\n",
    "from scipy import sparse\n",
    "from scipy.stats import norm\n",
    "from pandas.tools.plotting import scatter_matrix\n",
    "from numpy.random import *\n",
    "from scipy import optimize\n",
    "\n",
    "#np.random.seed(98537)"
   ]
  },
  {
   "cell_type": "code",
   "execution_count": 2,
   "metadata": {},
   "outputs": [],
   "source": [
    "####指数-正規混合モデルの推定####\n",
    "##データの設定\n",
    "s = 2\n",
    "hh = 10000"
   ]
  },
  {
   "cell_type": "code",
   "execution_count": 3,
   "metadata": {},
   "outputs": [],
   "source": [
    "##パラメータの生成\n",
    "#セグメント割当の生成\n",
    "pi = np.array([0.6])\n",
    "z = np.random.binomial(1, pi, hh)\n",
    "index_z1 = np.array(np.where(z==1)[0], dtype=\"int\")\n",
    "index_z2 = np.array(np.where(z==0)[0], dtype=\"int\")\n",
    "hh1 = index_z1.shape[0]\n",
    "hh2 = index_z2.shape[0]\n",
    "\n",
    "#モデルパラメータの生成\n",
    "Sigma = np.array([1.25])\n",
    "mu = np.array([3.0])\n",
    "theta = np.array([0.5])"
   ]
  },
  {
   "cell_type": "code",
   "execution_count": 4,
   "metadata": {},
   "outputs": [],
   "source": [
    "#応答変数の生成\n",
    "y = np.repeat(0.0, hh)\n",
    "y[index_z1] = np.random.normal(mu, Sigma, hh1)\n",
    "y[index_z2] = np.random.exponential(theta, hh2)\n",
    "y[y < 0] = 0.0"
   ]
  },
  {
   "cell_type": "code",
   "execution_count": 5,
   "metadata": {},
   "outputs": [
    {
     "data": {
      "text/plain": [
       "(array([1862., 1070.,  649.,  502.,  419.,  439.,  478.,  523.,  525.,\n",
       "         562.,  557.,  574.,  451.,  379.,  327.,  242.,  187.,   95.,\n",
       "          79.,   33.,   24.,   14.,    5.,    2.,    2.]),\n",
       " array([0.        , 0.30150334, 0.60300667, 0.90451001, 1.20601334,\n",
       "        1.50751668, 1.80902002, 2.11052335, 2.41202669, 2.71353002,\n",
       "        3.01503336, 3.3165367 , 3.61804003, 3.91954337, 4.22104671,\n",
       "        4.52255004, 4.82405338, 5.12555671, 5.42706005, 5.72856339,\n",
       "        6.03006672, 6.33157006, 6.63307339, 6.93457673, 7.23608007,\n",
       "        7.5375834 ]),\n",
       " <a list of 25 Patch objects>)"
      ]
     },
     "execution_count": 5,
     "metadata": {},
     "output_type": "execute_result"
    },
    {
     "data": {
      "image/png": "[encoded data removed]",
      "text/plain": [
       "<Figure size 972x288 with 2 Axes>"
      ]
     },
     "metadata": {},
     "output_type": "display_data"
    }
   ],
   "source": [
    "#応答変数の可視化\n",
    "fig = plt.figure(figsize=(13.5, 4.0))\n",
    "ax1 = fig.add_subplot(1, 2, 1); ax2 = fig.add_subplot(1, 2, 2)\n",
    "ax1.hist(y[index_z1], bins=25, range=[0.0, np.max(y)])\n",
    "ax1.hist(y[index_z2], bins=25, range=[0.0, np.max(y)])\n",
    "ax2.hist(y, bins=25, range=[0.0, np.max(y)])"
   ]
  },
  {
   "cell_type": "code",
   "execution_count": null,
   "metadata": {},
   "outputs": [],
   "source": [
    "####EMアルゴリズムでパラメータを推定####\n",
    "##観測データの尤度と潜在変数zを計算する関数\n",
    "def ollz(mu, Sigma, theta, pi, y):\n",
    "    #モデルごとの尤度を定義\n",
    "    Lho1 = scipy.stats.norm.pdf(y, mu, Sigma)\n",
    "    Lho2 = scipy.stats.expon.pdf(y, scale=1/theta)\n",
    "\n",
    "    #観測データの対数尤度\n",
    "    Lho = np.hstack((pi*Lho1[:, np.newaxis], (1-pi)*Lho2[:, np.newaxis]))\n",
    "    LLobz = np.sum(np.log(np.sum(Lho, axis=1)))\n",
    "\n",
    "    #潜在変数zの定義\n",
    "    z = Lho / np.sum(Lho, axis=1)[:, np.newaxis]\n",
    "    return LLobz, z"
   ]
  },
  {
   "cell_type": "code",
   "execution_count": null,
   "metadata": {},
   "outputs": [],
   "source": [
    "##EMアルゴリズムの設定\n",
    "iters = 0\n",
    "rp = 200   #最大繰り返し数\n",
    "LL = -1000000000   #対数尤度の初期値\n",
    "dl = 100   #EMアルゴリズムの対数尤度の差の初期値\n",
    "tol = 0.1\n",
    "maxit = 20   #準ニュートン法のステップ数"
   ]
  },
  {
   "cell_type": "code",
   "execution_count": null,
   "metadata": {},
   "outputs": [],
   "source": [
    "##EMアルゴリズムの初期値\n",
    "#混合率と潜在変数の初期値\n",
    "pi = np.array([1/s])\n",
    "zpt = np.repeat(pi, hh)\n",
    "\n",
    "#パラメータの初期値\n",
    "Sigma = np.random.uniform(1.0, 2.0, 1)\n",
    "mu = np.random.uniform(1.5, 3.0, 1)\n",
    "theta = np.random.uniform(0.25, 0.5, 1)"
   ]
  },
  {
   "cell_type": "code",
   "execution_count": null,
   "metadata": {},
   "outputs": [],
   "source": [
    "#観測データの対数尤度と潜在変数\n",
    "oll = ollz(mu, Sigma, theta, pi, y)\n",
    "zpt = oll[1]\n",
    "LL1 = oll[0]"
   ]
  },
  {
   "cell_type": "code",
   "execution_count": null,
   "metadata": {},
   "outputs": [],
   "source": [
    "##EMアルゴリズムでパラメータを推定\n",
    "while abs(dl) >= tol:\n",
    "    \n",
    "    #Mステップで完全データモデルの最尤推定\n",
    "    m = np.sum(zpt, axis=0)\n",
    "    u = zpt * y[:, np.newaxis]\n",
    "    mu = np.array([np.sum(u[:, 0]) / np.sum(m[0])])\n",
    "    Sigma = np.sqrt(np.sum(np.power(zpt[:, 0]*(y - mu), 2)) / m[0])\n",
    "    theta = np.mean(u[:, 1])\n",
    "\n",
    "    #混合率を更新\n",
    "    pi = m[0] / hh\n",
    "\n",
    "    #Eステップで観測データの対数尤度と潜在変数zを更新\n",
    "    oll = ollz(mu, Sigma, theta, pi, y)\n",
    "    zpt = oll[1]\n",
    "    LL = oll[0]\n",
    "\n",
    "    #EMアルゴリズムのパラメータを更新\n",
    "    iters = iters + 1\n",
    "    dl = LL - LL1\n",
    "    LL1 = LL\n",
    "    print(LL)"
   ]
  },
  {
   "cell_type": "code",
   "execution_count": null,
   "metadata": {},
   "outputs": [],
   "source": [
    "####ガンマ-ガンマ混合モデルの推定####\n",
    "##データの設定\n",
    "s = 2\n",
    "hh = 100000\n",
    "\n",
    "##パラメータの生成\n",
    "#セグメント割当の生成\n",
    "pi = np.array([0.6])\n",
    "z = np.random.binomial(1, pi, hh)\n",
    "index_z1 = np.array(np.where(z==1)[0], dtype=\"int\")\n",
    "index_z2 = np.array(np.where(z==0)[0], dtype=\"int\")\n",
    "hh1 = index_z1.shape[0]\n",
    "hh2 = index_z2.shape[0]\n",
    "\n",
    "#モデルパラメータの生成\n",
    "kappa = np.array([4.0, 1.0])\n",
    "theta = np.array([1.0, 2.0])"
   ]
  },
  {
   "cell_type": "code",
   "execution_count": null,
   "metadata": {},
   "outputs": [],
   "source": [
    "#応答変数の生成\n",
    "y = np.repeat(0.0, hh)\n",
    "y[index_z1] = np.random.gamma(kappa[0], 1/theta[0], hh1)\n",
    "y[index_z2] = np.random.gamma(kappa[1], 1/theta[1], hh2)"
   ]
  },
  {
   "cell_type": "code",
   "execution_count": null,
   "metadata": {},
   "outputs": [],
   "source": [
    "#応答変数の可視化\n",
    "fig = plt.figure(figsize=(13.5, 4.0))\n",
    "ax1 = fig.add_subplot(1, 2, 1); ax2 = fig.add_subplot(1, 2, 2)\n",
    "ax1.hist(y[index_z1], bins=25, range=[0.0, np.max(y)])\n",
    "ax1.hist(y[index_z2], bins=25, range=[0.0, np.max(y)])\n",
    "ax2.hist(y, bins=25, range=[0.0, np.max(y)])"
   ]
  },
  {
   "cell_type": "code",
   "execution_count": null,
   "metadata": {},
   "outputs": [],
   "source": [
    "####EMアルゴリズムでパラメータを推定####\n",
    "##パラメータを推定するための関数\n",
    "#観測データの尤度と潜在変数zを計算する関数\n",
    "def ollz(kappa, theta, pi, y):\n",
    "    #モデルごとの尤度を定義\n",
    "    Lho1 = scipy.stats.gamma.pdf(y, kappa[0], scale=1/theta[0])\n",
    "    Lho2 = scipy.stats.gamma.pdf(y, kappa[1], scale=1/theta[1])\n",
    "    \n",
    "    #観測データの対数尤度\n",
    "    Lho = np.hstack((pi*Lho1[:, np.newaxis], (1-pi)*Lho2[:, np.newaxis]))\n",
    "    LLobz = np.sum(np.log(np.sum(Lho, axis=1)))\n",
    "\n",
    "    #潜在変数zの定義\n",
    "    z = Lho / np.sum(Lho, axis=1)[:, np.newaxis]\n",
    "    return LLobz, z\n",
    "\n",
    "#完全データの対数尤度関数\n",
    "def cll(theta, z, y):\n",
    "    #パラメータの定義\n",
    "    alpha = np.exp(theta[:s])\n",
    "    beta = np.exp(theta[s:])\n",
    "\n",
    "    #重み付き対数尤度の和\n",
    "    y_vec = y[:, np.newaxis]\n",
    "    LL = np.sum(z * (alpha*np.log(beta) - scipy.special.loggamma(alpha) + (alpha-1)*np.log(y_vec) - beta*y_vec))\n",
    "    return -LL \n",
    "\n",
    "#完全データの対数微分関数\n",
    "def dll(theta, z, y):\n",
    "    #パラメータの定義\n",
    "    alpha = np.exp(theta[:s])\n",
    "    beta = np.exp(theta[s:])\n",
    "\n",
    "    #勾配ベクトル\n",
    "    y_vec = y[:, np.newaxis]\n",
    "    sc1 = np.sum(z * (np.log(beta) - scipy.special.digamma(alpha) + np.log(y_vec)), axis=0)\n",
    "    sc2 = np.sum(z * (alpha*(1/beta) - y_vec), axis=0)\n",
    "    return -np.append(sc1, sc2)"
   ]
  },
  {
   "cell_type": "code",
   "execution_count": null,
   "metadata": {},
   "outputs": [],
   "source": [
    "##EMアルゴリズムの設定\n",
    "iters = 0\n",
    "rp = 200   #最大繰り返し数\n",
    "LL = -1000000000   #対数尤度の初期値\n",
    "dl = 100   #EMアルゴリズムの対数尤度の差の初期値\n",
    "tol = 0.1\n",
    "maxit = 20   #準ニュートン法のステップ数"
   ]
  },
  {
   "cell_type": "code",
   "execution_count": null,
   "metadata": {},
   "outputs": [],
   "source": [
    "##EMアルゴリズムの初期値\n",
    "#混合率と潜在変数の初期値\n",
    "pi = np.array([1/s])\n",
    "zpt = np.repeat(pi, hh)\n",
    "\n",
    "#パラメータの初期値\n",
    "kappa = np.random.uniform(0.5, 3.0, s)\n",
    "theta = np.random.uniform(0.5, 2.0, s)"
   ]
  },
  {
   "cell_type": "code",
   "execution_count": null,
   "metadata": {},
   "outputs": [],
   "source": [
    "#観測データの対数尤度と潜在変数\n",
    "oll = ollz(kappa, theta, pi, y)\n",
    "zpt = oll[1]\n",
    "LL1 = oll[0]"
   ]
  },
  {
   "cell_type": "code",
   "execution_count": null,
   "metadata": {
    "scrolled": true
   },
   "outputs": [],
   "source": [
    "##EMアルゴリズムでパラメータを推定\n",
    "while abs(dl) >= tol:\n",
    "    \n",
    "    #Mステップで完全データ対数尤度を最大化\n",
    "    m = np.sum(zpt, axis=0)\n",
    "    res = optimize.minimize(cll, np.log(np.append(kappa, theta)), jac=dll, method=\"BFGS\", args=(zpt, y), options={\"disp\": False})\n",
    "    kappa = np.exp(res.x[:s])\n",
    "    theta = np.exp(res.x[s:])\n",
    "\n",
    "    #混合率を更新\n",
    "    pi = m[0] / hh\n",
    "\n",
    "    #Eステップで観測データの対数尤度と潜在変数zを更新\n",
    "    oll = ollz(kappa, theta, pi, y)\n",
    "    zpt = oll[1]\n",
    "    LL = oll[0]\n",
    "\n",
    "    #EMアルゴリズムのパラメータを更新\n",
    "    iters = iters + 1\n",
    "    dl = LL - LL1\n",
    "    LL1 = LL\n",
    "    print(LL)"
   ]
  },
  {
   "cell_type": "code",
   "execution_count": null,
   "metadata": {},
   "outputs": [],
   "source": []
  },
  {
   "cell_type": "code",
   "execution_count": null,
   "metadata": {},
   "outputs": [],
   "source": []
  }
 ],
 "metadata": {
  "kernelspec": {
   "display_name": "Python 3",
   "language": "python",
   "name": "python3"
  },
  "language_info": {
   "codemirror_mode": {
    "name": "ipython",
    "version": 3
   },
   "file_extension": ".py",
   "mimetype": "text/x-python",
   "name": "python",
   "nbconvert_exporter": "python",
   "pygments_lexer": "ipython3",
   "version": "3.6.5"
  }
 },
 "nbformat": 4,
 "nbformat_minor": 2
}
