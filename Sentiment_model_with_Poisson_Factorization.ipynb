{
 "cells": [
  {
   "cell_type": "code",
   "execution_count": 125,
   "metadata": {},
   "outputs": [],
   "source": [
    "##センチメントアルゴリズムの実装\n",
    "import numpy as np\n",
    "import pandas as pd\n",
    "import matplotlib.pyplot  as plt\n",
    "import numpy.matlib\n",
    "import scipy.linalg\n",
    "import itertools\n",
    "import calendar\n",
    "from scipy import sparse\n",
    "from scipy.stats import norm\n",
    "from pandas.tools.plotting import scatter_matrix\n",
    "from numpy.random import *\n",
    "from scipy import optimize"
   ]
  },
  {
   "cell_type": "code",
   "execution_count": 126,
   "metadata": {},
   "outputs": [],
   "source": [
    "##ニュースデータの生成\n",
    "#データの設定\n",
    "k = 10   \n",
    "year_count = 10\n",
    "month = np.tile(np.arange(12), year_count) + 1\n",
    "year = np.repeat(np.arange(year_count), 12) + 2010\n",
    "n = len(year)   #経済指標発表数\n",
    "m = np.repeat(0, n)  \n",
    "for i in range(n):\n",
    "    m[i] = calendar.monthrange(year[i], month[i])[1]\n",
    "d = np.sum(m)   #日付数\n",
    "month_id = np.repeat(np.arange(n), m)\n",
    "day_id = np.array(list(itertools.chain(*[np.array(range(m[i]), dtype=\"int\") for i in range(n)])))\n",
    "days = day_id.shape[0]   #日付数\n",
    "v1 = 50; v2 = 50   #ニュースパターン数\n",
    "N1 = days*v1; N2 = days*v2\n",
    "k_vec = np.repeat(1.0, k)"
   ]
  },
  {
   "cell_type": "code",
   "execution_count": 127,
   "metadata": {},
   "outputs": [],
   "source": [
    "#idを設定\n",
    "d_id1 = np.repeat(np.arange(days), v1)\n",
    "d_id2 = np.repeat(np.arange(days), v2)\n",
    "news_id1 = np.tile(np.arange(v1), days)\n",
    "news_id2 = np.tile(np.arange(v2), days)"
   ]
  },
  {
   "cell_type": "code",
   "execution_count": 131,
   "metadata": {},
   "outputs": [],
   "source": [
    "##応答変数を生成\n",
    "#モデルパラメータの生成\n",
    "beta_u1 = np.random.gamma(0.2, 1/1.0, days)\n",
    "beta_u2 = np.random.gamma(0.2, 1/1.0, days)\n",
    "beta_v1 = np.random.gamma(0.3, 1/1.0, v1)\n",
    "beta_v2 = np.random.gamma(0.3, 1/1.0, v2)\n",
    "theta_u = np.random.gamma(0.25, 1/0.75, days*k).reshape(days, k)\n",
    "theta_v1 = np.random.gamma(0.2, 1/0.75, v1*k).reshape(v1, k)\n",
    "theta_v2 = np.random.gamma(0.2, 1/0.75, v2*k).reshape(v2, k)\n",
    "betat_u1 = beta_u1.copy(); betat_u2 = beta_u2.copy(); betat_v1 = beta_v1.copy(); betat_v2 = beta_v2.copy()\n",
    "thetat_u = theta_u.copy(); thetat_v1 = theta_v1.copy(); thetat_v2 = theta_v2.copy()\n",
    "\n",
    "#ポアソン分布からニュース頻度を生成\n",
    "uv1 = np.dot(theta_u[d_id1, ] * theta_v1[news_id1, ], k_vec)\n",
    "uv2 = np.dot(theta_u[d_id1, ] * theta_v2[news_id2, ], k_vec)\n",
    "mu1 = beta_u1[d_id1] + beta_v1[news_id1] + uv1\n",
    "mu2 = beta_u2[d_id2] + beta_v2[news_id2] + uv2\n",
    "y1 = np.random.poisson(mu1, N1)\n",
    "y2 = np.random.poisson(mu2, N2)"
   ]
  },
  {
   "cell_type": "code",
   "execution_count": 119,
   "metadata": {},
   "outputs": [
    {
     "data": {
      "image/png": "[encoded data removed]",
      "text/plain": [
       "<Figure size 900x432 with 6 Axes>"
      ]
     },
     "metadata": {},
     "output_type": "display_data"
    }
   ],
   "source": [
    "#生成したデータのヒストグラム\n",
    "dt = [beta_u1, beta_v1, uv1, uv2, y1, y2]\n",
    "fig_range = np.append(np.array([np.min(np.append(beta_u1, beta_u2)), np.min(np.append(beta_v1, beta_v2)), \n",
    "                                np.min(uv1), np.min(uv2), 0.0, 0.0]), \n",
    "                      np.array([np.max(np.append(beta_u1, beta_u2)), np.max(np.append(beta_v1, beta_v2)), \n",
    "                                np.max(uv1), np.max(uv2), np.max(y1), np.max(y2)])).reshape(2, len(dt))\n",
    "colorlist = [\"r\", \"g\", \"b\", \"c\", \"m\", \"y\", \"k\", \"w\"]\n",
    "legend = [\"日付ランダム効果の分布\", \"ニュースランダム効果の分布\", \"uv1の分布\", \"uv2の分布\", \"ポジティブニュース頻度\", \"ネガティブニュース頻度\"]\n",
    "fig = plt.figure(figsize=(12.5, 6.0))\n",
    "for j in range(len(dt)):\n",
    "    ax = fig.add_subplot(2, 3, j+1)\n",
    "    ax.hist(dt[j],  bins=25, range=(fig_range[0, j], fig_range[1, j]), color=colorlist[j])\n",
    "    plt.title(legend[j], fontsize=12.5)\n",
    "fig.tight_layout()\n",
    "plt.show()"
   ]
  },
  {
   "cell_type": "code",
   "execution_count": 101,
   "metadata": {},
   "outputs": [],
   "source": [
    "####センチメントモデルのパラメータをサンプリング####\n",
    "##アルゴリズムの設定\n",
    "R = 2000\n",
    "keep = 2\n",
    "burnin = int(500/keep)\n",
    "iter = 0\n",
    "disp = 10"
   ]
  },
  {
   "cell_type": "code",
   "execution_count": 102,
   "metadata": {},
   "outputs": [],
   "source": [
    "##日付およびニュースインデックスを定義\n",
    "#日付インデックスを定義\n",
    "days_list1 = [i for i in range(days)]\n",
    "days_list2 = [i for i in range(days)]\n",
    "for i in range(days):\n",
    "    days_list1[i] = np.array(np.where(d_id1==i)[0], dtype=\"int\")\n",
    "    days_list2[i] = np.array(np.where(d_id2==i)[0], dtype=\"int\")\n",
    "\n",
    "#ニュースインデックスを定義\n",
    "news_list1 = [i for i in range(v1)]\n",
    "news_list2 = [i for i in range(v2)]\n",
    "for i in range(v1):\n",
    "    news_list1[i] = np.array(np.where(news_id1==i)[0], dtype=\"int\")\n",
    "for i in range(v2):\n",
    "    news_list2[i] = np.array(np.where(news_id2==i)[0], dtype=\"int\")"
   ]
  },
  {
   "cell_type": "code",
   "execution_count": 103,
   "metadata": {},
   "outputs": [],
   "source": [
    "#事前分布の設定\n",
    "alpha1 = 0.1; beta1 = 0.1\n",
    "alpha2 = 0.1; beta2 = 0.1\n",
    "alpha3 = 0.1; beta3 = 0.1"
   ]
  },
  {
   "cell_type": "code",
   "execution_count": 104,
   "metadata": {},
   "outputs": [],
   "source": [
    "#パラメータの真値\n",
    "beta_u1 = betat_u1.copy()\n",
    "beta_u2 = betat_u2.copy()\n",
    "beta_v1 = betat_v1.copy()\n",
    "beta_v2 = betat_v2.copy()\n",
    "theta_u = thetat_u.copy()\n",
    "theta_v1 = thetat_v1.copy()\n",
    "theta_v2 = thetat_v2.copy()"
   ]
  },
  {
   "cell_type": "code",
   "execution_count": 86,
   "metadata": {},
   "outputs": [],
   "source": [
    "#パラメータの初期値\n",
    "intercept = np.repeat(1.0, )\n",
    "beta_u1 = np.random.gamma(0.2, 1/1.0, days)\n",
    "beta_u2 = np.random.gamma(0.2, 1/1.0, days)\n",
    "beta_v1 = np.random.gamma(0.2, 1/1.0, v1)\n",
    "beta_v2 = np.random.gamma(0.2, 1/1.0, v2)\n",
    "theta_u = np.random.gamma(0.25, 1/1.0, days*k).reshape(days, k)\n",
    "theta_v1 = np.random.gamma(0.2, 1/1.0, v1*k).reshape(v1, k)\n",
    "theta_v2 = np.random.gamma(0.2, 1/1.0, v2*k).reshape(v2, k)"
   ]
  },
  {
   "cell_type": "code",
   "execution_count": 105,
   "metadata": {},
   "outputs": [],
   "source": [
    "#期待値の初期値\n",
    "beta_day1 = beta_u1[d_id1]; beta_day2 = beta_u2[d_id2]\n",
    "beta_news1 = beta_v1[news_id1]; beta_news2 = beta_v2[news_id2]\n",
    "uv1 = np.dot(theta_u[d_id1, ] * theta_v1[news_id1, ], k_vec)\n",
    "uv2 = np.dot(theta_u[d_id1, ] * theta_v2[news_id2, ], k_vec)\n",
    "mu1 = beta_u1[d_id1] + beta_v1[news_id1] + uv1\n",
    "mu2 = beta_u2[d_id2] + beta_v2[news_id2] + uv2"
   ]
  },
  {
   "cell_type": "code",
   "execution_count": 106,
   "metadata": {},
   "outputs": [],
   "source": [
    "#サンプリング結果の格納用配列\n",
    "BETA_U1 = np.zeros((int(R/keep), days))\n",
    "BETA_U2 = np.zeros((int(R/keep), days))\n",
    "BETA_V1 = np.zeros((int(R/keep), v1))\n",
    "BETA_V2 = np.zeros((int(R/keep), v2))\n",
    "THETA_U = np.zeros((days, k, int(R/keep)))\n",
    "THETA_V1 = np.zeros((v1, k, int(R/keep)))\n",
    "THETA_V2 = np.zeros((v2, k, int(R/keep)))"
   ]
  },
  {
   "cell_type": "code",
   "execution_count": 115,
   "metadata": {},
   "outputs": [],
   "source": [
    "####ギブスサンプリングでパラメータをサンプリング####\n",
    "\n",
    "#日付パラメータをサンプリング\n",
    "#補助変数lambdaを更新\n",
    "lambda_deploy1 = theta_u[d_id1, ] * theta_v1[news_id1, ]\n",
    "lambda_deploy2 = theta_u[d_id1, ] * theta_v2[news_id2, ]\n",
    "Lambda1 = np.hstack((beta_day1[:, np.newaxis], lambda_deploy1)) / mu1[:, np.newaxis]\n",
    "Lambda2 = np.hstack((beta_day2[:, np.newaxis], lambda_deploy2)) / mu2[:, np.newaxis]\n",
    "\n",
    "#事後分布のパラメータ\n",
    "lambda_y1 = Lambda1 * y1[:, np.newaxis]\n",
    "lambda_y2 = Lambda2 * y2[:, np.newaxis]\n"
   ]
  },
  {
   "cell_type": "code",
   "execution_count": 95,
   "metadata": {},
   "outputs": [
    {
     "data": {
      "text/plain": [
       "array([1.51443937, 1.51443937, 1.51443937, ..., 0.08556369, 0.08556369,\n",
       "       0.08556369])"
      ]
     },
     "execution_count": 95,
     "metadata": {},
     "output_type": "execute_result"
    }
   ],
   "source": [
    "##ガンマ分布よりユーザー特徴行列Wをサンプリング\n",
    "#補助変数lambdaを更新\n",
    "Lambda = mu / mu_vec.reshape(N, 1)\n",
    "\n",
    "#ユーザーごとのガンマ分布のパラメータ\n",
    "lambda_y = Lambda * x_new.reshape(N, 1)\n",
    "lambda_h = np.dot(H, omega.T)[item_id, ]\n",
    "W1 = np.zeros((hh, k1)); W2 = np.zeros((hh, k1))\n",
    "for i in range(hh):\n",
    "    W1[i, ] = np.sum(lambda_y[user_index[i], ], axis=0)\n",
    "    W2[i, ] = np.sum(lambda_h[user_index[i], ], axis=0)\n",
    "W1 = W1 + alpha1; W2 = W2 + beta1"
   ]
  },
  {
   "cell_type": "code",
   "execution_count": null,
   "metadata": {},
   "outputs": [],
   "source": []
  },
  {
   "cell_type": "code",
   "execution_count": null,
   "metadata": {},
   "outputs": [],
   "source": []
  }
 ],
 "metadata": {
  "kernelspec": {
   "display_name": "Python 3",
   "language": "python",
   "name": "python3"
  },
  "language_info": {
   "codemirror_mode": {
    "name": "ipython",
    "version": 3
   },
   "file_extension": ".py",
   "mimetype": "text/x-python",
   "name": "python",
   "nbconvert_exporter": "python",
   "pygments_lexer": "ipython3",
   "version": "3.6.5"
  }
 },
 "nbformat": 4,
 "nbformat_minor": 2
}
