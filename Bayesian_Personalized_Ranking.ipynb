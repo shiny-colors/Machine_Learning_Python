{
 "cells": [
  {
   "cell_type": "code",
   "execution_count": 8,
   "metadata": {},
   "outputs": [],
   "source": [
    "#####Bayesian Personalized Ranking#####\n",
    "import numpy as np\n",
    "import pandas as pd\n",
    "import matplotlib.pyplot  as plt\n",
    "import numpy.matlib\n",
    "import scipy.linalg\n",
    "import itertools\n",
    "from scipy import sparse\n",
    "from scipy.stats import norm\n",
    "from pandas.tools.plotting import scatter_matrix\n",
    "from numpy.random import *\n",
    "from scipy import optimize"
   ]
  },
  {
   "cell_type": "code",
   "execution_count": 9,
   "metadata": {},
   "outputs": [],
   "source": [
    "##多項分布の乱数を生成する関数\n",
    "def rmnom(pr, n, k, no, pattern):\n",
    "    if pattern==1:\n",
    "        z_id = np.argmax((np.cumsum(pr, axis=1) >= np.random.uniform(0, 1, n)[:, np.newaxis]), axis=1)\n",
    "        Z = sparse.coo_matrix((np.repeat(1, n), (no, np.array(z_id))), shape=(n, k))   #スパース行列の設定\n",
    "        return z_id, Z\n",
    "    z_id = np.argmax((np.cumsum(pr, axis=1) >= np.random.uniform(0, 1, n)[:, np.newaxis]), axis=1)\n",
    "    return z_id"
   ]
  },
  {
   "cell_type": "code",
   "execution_count": 10,
   "metadata": {},
   "outputs": [],
   "source": [
    "####データの生成####\n",
    "##データの設定\n",
    "k = 10\n",
    "f = 150\n",
    "hh = 4000\n",
    "item = 2500\n",
    "Lambda = np.random.gamma(30, 1/0.3, hh)\n",
    "pt = np.random.poisson(Lambda, hh)\n",
    "hhpt = np.sum(pt)\n",
    "k_vec = np.repeat(1.0, k)"
   ]
  },
  {
   "cell_type": "code",
   "execution_count": 11,
   "metadata": {},
   "outputs": [],
   "source": [
    "##IDとインデックスの設定\n",
    "#IDの設定\n",
    "no = np.arange(hhpt)\n",
    "d_id = np.repeat(np.arange(hh), pt)\n",
    "pt_id = np.array(list(itertools.chain(*[np.array(range(pt[i]), dtype=\"int\") for i in range(hh)])))\n",
    "\n",
    "#インデックスの設定\n",
    "d_list = [i for i in range(hh)]\n",
    "for i in range(hh):\n",
    "    d_list[i] = np.array(np.where(d_id==i)[0], dtype=\"int\") "
   ]
  },
  {
   "cell_type": "code",
   "execution_count": 12,
   "metadata": {},
   "outputs": [
    {
     "name": "stdout",
     "output_type": "stream",
     "text": [
      "0\n",
      "1000\n",
      "2000\n",
      "3000\n"
     ]
    }
   ],
   "source": [
    "##アイテム集合を生成\n",
    "#トピック割当を生成\n",
    "topic = 50\n",
    "Gamma = np.random.gamma(5.5, 1/0.7, topic)\n",
    "phi_topic = np.random.dirichlet(np.repeat(0.1, item), topic)\n",
    "theta_topic = np.random.dirichlet(np.repeat(0.3, topic), hh)\n",
    "\n",
    "#多項分布からアイテム集合を生成\n",
    "max_item = 25\n",
    "set_list = [i for i in range(hhpt)]\n",
    "set_dt = np.array(np.full((hhpt, max_item), item), dtype=\"int16\")\n",
    "item_no = np.arange(item)\n",
    "m = np.repeat(0, hhpt)\n",
    "for i in range(hh):\n",
    "    if i%1000==0:\n",
    "        print(i)\n",
    "    target_no = no[d_list[i]]\n",
    "    z = np.dot(np.random.multinomial(1, theta_topic[i, ], pt[i]), np.arange(topic))\n",
    "    m_vec = np.random.poisson(Gamma[z], pt[i])\n",
    "    m_vec[m_vec < 2] = 2; m_vec[m_vec > max_item] = max_item\n",
    "    m[d_list[i]] = m_vec\n",
    "    for j in range(pt[i]):\n",
    "        while True:\n",
    "            sets = np.random.multinomial(1, phi_topic[z[j], ], m_vec[j])\n",
    "            if np.max(np.sum(sets, axis=0))==1:\n",
    "                sets_id = np.dot(sets, item_no)\n",
    "                set_list[target_no[j]] = sets_id\n",
    "                set_dt[target_no[j], np.arange(m_vec[j])] = sets_id\n",
    "                break\n",
    "                \n",
    "#リストの変換\n",
    "sets_id = np.array(list(itertools.chain(*[set_list[i] for i in range(hhpt)])))\n",
    "no_long = np.repeat(np.arange(hhpt), m)\n",
    "d_long = np.repeat(d_id, m)\n",
    "N = d_long.shape[0]\n",
    "No = np.arange(N)"
   ]
  },
  {
   "cell_type": "code",
   "execution_count": 13,
   "metadata": {},
   "outputs": [],
   "source": [
    "#インデックスを定義\n",
    "no_list = [i for i in range(hhpt)]\n",
    "d_list = [i for i in range(hh)]\n",
    "for i in range(hhpt):\n",
    "    if i==0:\n",
    "        no_list[i] = np.arange(m[i])\n",
    "    else:\n",
    "        no_list[i] = np.max(no_list[i-1]) + np.arange(m[i]) + 1\n",
    "for i in range(hh):\n",
    "    d_list[i] = np.array(np.where(d_long==i)[0], dtype=\"int\")"
   ]
  },
  {
   "cell_type": "code",
   "execution_count": 14,
   "metadata": {},
   "outputs": [],
   "source": [
    "##応答変数を生成\n",
    "#高次元特徴行列を生成\n",
    "F = np.array(np.abs(np.random.normal(0, 0.3, item*f).reshape(f, item)), dtype=\"float32\")\n",
    "\n",
    "#モデルパラメータを生成\n",
    "Sigma = np.array([1.0])\n",
    "beta_u = np.random.normal(0, 0.5, hh)\n",
    "beta_v = np.random.normal(0, 0.75, item)\n",
    "theta_u = np.random.normal(0, 0.6, k*hh).reshape(hh, k)\n",
    "theta_v = np.random.normal(0, 0.75, k*item).reshape(item, k)\n",
    "omega = np.random.normal(0, 0.25, f*k).reshape(k, f)\n",
    "betat_u = beta_u.copy(); betat_v = beta_v.copy()\n",
    "thetat_u = theta_u.copy(); thetat_v = theta_v.copy(); omegat = omega.copy()\n",
    "\n",
    "#効用関数の期待値を定義\n",
    "uv1 = np.dot(theta_u[d_long, ] * theta_v[sets_id, ], k_vec)\n",
    "uv2 = np.dot(theta_u[d_long, ] * np.dot(omega, F[:, sets_id]).T, k_vec)\n",
    "mu = beta_u[d_long] + beta_v[sets_id] + uv1 + uv2\n",
    "\n",
    "#選択アイテムを生成\n",
    "U = mu + np.random.normal(0, Sigma, N)\n",
    "item_id = np.repeat(0, hhpt)\n",
    "target_index = np.repeat(0, hhpt)\n",
    "for i in range(hhpt):\n",
    "    index1 = no_list[i]; index2 = np.argmax(U[index1])\n",
    "    item_id[i] = sets_id[index1][index2]\n",
    "    target_index[i] = No[index1][index2]\n",
    "item_long = np.repeat(item_id, m)\n",
    "\n",
    "#選択集合から選択されたアイテムを除外\n",
    "get_index = np.array(np.where(item_long!=sets_id)[0], dtype=\"int\")\n",
    "n = m - 1 \n",
    "no_long = np.repeat(np.arange(hhpt), n)\n",
    "d_long = d_long[get_index]\n",
    "item_long = item_long[get_index]\n",
    "sets_id = sets_id[get_index]\n",
    "N = get_index.shape[0]\n",
    "No = np.arange(N)\n",
    "\n",
    "#新しい高次元特徴行列を定義\n",
    "F1 = F[:, item_long]\n",
    "F2 = F[:, sets_id]"
   ]
  },
  {
   "cell_type": "code",
   "execution_count": 15,
   "metadata": {},
   "outputs": [],
   "source": [
    "##新しいインデックスを定義\n",
    "#ユーザーインデックスを定義\n",
    "no_list = [i for i in range(hhpt)]\n",
    "d_list = [i for i in range(hh)]\n",
    "for i in range(hhpt):\n",
    "    if i==0:\n",
    "        no_list[i] = np.arange(n[i])\n",
    "    else:\n",
    "        no_list[i] = np.max(no_list[i-1]) + np.arange(n[i]) + 1\n",
    "for i in range(hh):\n",
    "    d_list[i] = np.array(np.where(d_long==i)[0], dtype=\"int\")\n",
    "    \n",
    "#アイテムインデックスを定義\n",
    "item_list1 = [i for i in range(item)]; item_list2 = [i for i in range(item)]\n",
    "item_n1 = np.repeat(0, item); item_n2 = np.repeat(0, item)\n",
    "for i in range(item):\n",
    "    item_list1[i] = np.array(np.where(item_long==i)[0], dtype=\"int\")\n",
    "    item_list2[i] = np.array(np.where(sets_id==i)[0], dtype=\"int\")\n",
    "    item_n1[i] = item_list1[i].shape[0]\n",
    "    item_n2[i] = item_list2[i].shape[0]"
   ]
  },
  {
   "cell_type": "code",
   "execution_count": 16,
   "metadata": {},
   "outputs": [],
   "source": [
    "####Bayesian Personalized Rankingを推定####\n",
    "##パラメータ推定のための関数を定義\n",
    "#対数事後分布の和を定義\n",
    "def log_posterior(mu, beta_u, beta_v, theta_u, theta_v, omega, tau_u, tau_v, inv_Cov_u, inv_Cov_v, inv_Cov_g, k_vec):\n",
    "    #ロジットモデルの対数尤度\n",
    "    logit_exp = np.exp(mu)\n",
    "    LLho = np.sum(np.log(logit_exp / (1 + logit_exp)))\n",
    "\n",
    "    #モデルパラメータの対数事前分布\n",
    "    Prior_u1 = np.sum(-0.5 * (np.power(beta_u, 2) / tau_u))\n",
    "    Prior_v1 = np.sum(-0.5 * (np.power(beta_v, 2) / tau_v))\n",
    "    Prior_u2 = np.sum(-0.5 * np.dot(np.dot(theta_u, inv_Cov_u) * theta_u, k_vec))\n",
    "    Prior_v2 = np.sum(-0.5 * np.dot(np.dot(theta_v, inv_Cov_v) * theta_v, k_vec))\n",
    "    Prior_g = np.sum(-0.5 * np.dot(np.dot(omega.T, inv_Cov_g) * (omega.T), k_vec))\n",
    "    Prior = Prior_u1 + Prior_v1 + Prior_u2 + Prior_v2 + Prior_g\n",
    "\n",
    "    #対数事後分布の和\n",
    "    Posterior = LLho + Prior\n",
    "    return Posterior"
   ]
  },
  {
   "cell_type": "code",
   "execution_count": null,
   "metadata": {},
   "outputs": [],
   "source": []
  },
  {
   "cell_type": "code",
   "execution_count": 13,
   "metadata": {},
   "outputs": [],
   "source": [
    "##アルゴリズムの設定\n",
    "#確率的勾配法のパラメータを設定\n"
   ]
  },
  {
   "cell_type": "code",
   "execution_count": 14,
   "metadata": {},
   "outputs": [],
   "source": [
    "#正則化パラメータを定義\n",
    "tau_u = np.array([0.5])\n",
    "tau_v = np.array([0.5])\n",
    "Cov_u = np.diag(np.repeat(0.3, k))\n",
    "Cov_v = np.diag(np.repeat(0.3, k))\n",
    "Cov_g = np.diag(np.repeat(0.3, k))\n",
    "inv_Cov_u = np.linalg.inv(Cov_u)\n",
    "inv_Cov_v = np.linalg.inv(Cov_v)\n",
    "inv_Cov_g = np.linalg.inv(Cov_g)"
   ]
  },
  {
   "cell_type": "code",
   "execution_count": 20,
   "metadata": {},
   "outputs": [],
   "source": [
    "#モデルパラメータの初期値\n",
    "beta_u = np.random.normal(0, 0.25, hh)\n",
    "beta_v = np.random.normal(0, 0.25, item)\n",
    "theta_u = np.random.normal(0, 0.25, k*hh).reshape(hh, k)\n",
    "theta_v = np.random.normal(0, 0.25, k*item).reshape(item, k)\n",
    "omega = np.random.normal(0, 0.2, f*k).reshape(k, f)"
   ]
  },
  {
   "cell_type": "code",
   "execution_count": 16,
   "metadata": {},
   "outputs": [],
   "source": [
    "#モデルパラメータの真値\n",
    "beta_u = betat_u.copy()\n",
    "beta_v = betat_v.copy()\n",
    "omega = omegat.copy()\n",
    "theta_u = thetat_u.copy()\n",
    "theta_v = thetat_v.copy()"
   ]
  },
  {
   "cell_type": "code",
   "execution_count": 21,
   "metadata": {},
   "outputs": [],
   "source": [
    "#モデルの期待値を定義\n",
    "beta_long = beta_u[d_long]; theta_long = theta_u[d_long, ]\n",
    "uv11 = np.dot(theta_long * theta_v[item_long, ], k_vec)\n",
    "uv12 = np.dot(theta_long * theta_v[sets_id, ], k_vec)\n",
    "uv21 = np.dot(theta_long * np.dot(omega, F1).T, k_vec)\n",
    "uv22 = np.dot(theta_long * np.dot(omega, F2).T, k_vec)\n",
    "mu1 = beta_long + beta_v[item_long] + uv11 + uv21\n",
    "mu2 = beta_long + beta_v[sets_id] + uv12 + uv22\n",
    "mu = mu1 - mu2"
   ]
  },
  {
   "cell_type": "code",
   "execution_count": 22,
   "metadata": {},
   "outputs": [
    {
     "data": {
      "text/plain": [
       "-1907050.4660187056"
      ]
     },
     "execution_count": 22,
     "metadata": {},
     "output_type": "execute_result"
    }
   ],
   "source": [
    "##ユーザーパラメータを更新\n"
   ]
  },
  {
   "cell_type": "code",
   "execution_count": null,
   "metadata": {},
   "outputs": [],
   "source": [
    "-563157.4814029746"
   ]
  },
  {
   "cell_type": "code",
   "execution_count": null,
   "metadata": {},
   "outputs": [],
   "source": [
    "plt.hist(np.log(logit_exp / (1 + logit_exp)))"
   ]
  },
  {
   "cell_type": "code",
   "execution_count": null,
   "metadata": {},
   "outputs": [],
   "source": [
    "#対数事後分布の和を計算する関数\n",
    "def Posterior(y, mu, theta, alpha_mu, inv_Cov, index, n, k, pattern1, pattern2):\n",
    "    #ロジットモデルの対数尤度\n",
    "    logit_exp = np.exp(mu)   #ロジットの期待値の指数\n",
    "    Prob = logit_exp / (1 + logit_exp)\n",
    "    LLho = y*np.log(Prob) + (1-y)*np.log(1-Prob)\n",
    "\n",
    "    #多変量正規分布の対数事前分布\n",
    "    er = theta - alpha_mu   #パラメータの誤差\n",
    "    if pattern1==1:\n",
    "        LLi_mvn = -1/2 * np.dot(np.dot(er, inv_Cov) * er, np.repeat(1, k))\n",
    "    else:\n",
    "        LLi_mvn = -1/2 * er * inv_Cov * er \n",
    "\n",
    "    #対数事後分布の和\n",
    "    if pattern2==1:\n",
    "        LL = np.repeat(0.0, n)\n",
    "        for i in range(n):\n",
    "            LL[i] = np.sum(LLho[index[i], ]) + LLi_mvn[i]\n",
    "    else:\n",
    "        LL = np.sum(LLho) + LLi_mvn\n",
    "    return LL, LLho"
   ]
  }
 ],
 "metadata": {
  "kernelspec": {
   "display_name": "Python 3",
   "language": "python",
   "name": "python3"
  },
  "language_info": {
   "codemirror_mode": {
    "name": "ipython",
    "version": 3
   },
   "file_extension": ".py",
   "mimetype": "text/x-python",
   "name": "python",
   "nbconvert_exporter": "python",
   "pygments_lexer": "ipython3",
   "version": "3.6.5"
  }
 },
 "nbformat": 4,
 "nbformat_minor": 2
}
