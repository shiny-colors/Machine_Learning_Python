{
 "cells": [
  {
   "cell_type": "code",
   "execution_count": 15,
   "metadata": {},
   "outputs": [],
   "source": [
    "#####Gaussian Process Spatio Temporal point model#####\n",
    "import numpy as np\n",
    "import pandas as pd\n",
    "import matplotlib.pyplot as plt\n",
    "import numpy.matlib\n",
    "import scipy.linalg\n",
    "import itertools\n",
    "import calendar\n",
    "from datetime import datetime\n",
    "from datetime import timedelta\n",
    "from scipy import sparse\n",
    "from scipy.stats import norm\n",
    "from numpy.random import *\n",
    "from scipy import optimize"
   ]
  },
  {
   "cell_type": "code",
   "execution_count": 16,
   "metadata": {},
   "outputs": [],
   "source": [
    "##乱数を生成する関数を設定\n",
    "#多項分布の乱数を生成する関数\n",
    "def rmnom(pr, n, k, pattern):\n",
    "    if pattern==1:\n",
    "        z_id = np.array(np.argmax(np.cumsum(pr, axis=1) >= np.random.uniform(0, 1, n)[:, np.newaxis], axis=1), dtype=\"int\")\n",
    "        Z = np.diag(np.repeat(1, k))[z_id, ]\n",
    "        return z_id, Z\n",
    "    z_id = np.array(np.argmax((np.cumsum(pr, axis=1) >= np.random.uniform(0, 1, n)[:, np.newaxis]), axis=1), dtype=\"int\")\n",
    "    return z_id\n",
    "\n",
    "#多変量正規分布の乱数を生成する関数\n",
    "def rmvnorm(mu, Cov, hh, k):\n",
    "    s = mu + np.random.normal(0, 1, hh*k).reshape(hh, k)\n",
    "    P = np.linalg.cholesky(Cov)\n",
    "    y = np.dot(P, s.T).T\n",
    "    return y\n",
    "\n",
    "#任意の相関行列を作る関数\n",
    "def CorM(col, lower, upper, eigen_lower, eigen_upper, pattern):\n",
    "    #相関行列の初期値を定義する\n",
    "    if pattern==1:\n",
    "        Prob = np.abs(lower) / (np.abs(lower) + np.abs(upper))\n",
    "        z = np.random.binomial(1, Prob, col*col); z[z==0] = -1\n",
    "        cov_vec = np.random.beta(1.0, 3.0, col*col) * z   #相関係数の乱数ベクトルを作成\n",
    "    else:\n",
    "        cov_vec = np.random.uniform(lower, upper, col*col)   #相関係数の乱数ベクトルを作成\n",
    "    rho = np.tril(cov_vec.reshape(col, col), k=-1)   #乱数ベクトルを下三角行列化\n",
    "    Sigma = (rho + rho.T) + np.diag(np.repeat(1, col))   #対角成分を1にする\n",
    "    \n",
    "    #相関行列を正定値行列に変更\n",
    "    #固有値分解を実行\n",
    "    eigen = np.linalg.eigh(Sigma)\n",
    "    eigen_val = eigen[0] \n",
    "    eigen_vec = eigen[1]\n",
    "    \n",
    "    #固有値が負の数値を正にする\n",
    "    for i in range(col):\n",
    "        if eigen_val[i] < 0:\n",
    "            eigen_val[i] = np.random.uniform(eigen_lower, eigen_upper, 1)\n",
    "            \n",
    "    #新しい相関行列の定義と対角成分を1にする\n",
    "    Sigma = np.dot(np.dot(eigen_vec, np.diag(eigen_val)), eigen_vec.T)\n",
    "    normalization_factor = np.dot(np.power(np.diag(Sigma), 0.5)[:, np.newaxis], np.power(np.diag(Sigma), 0.5)[np.newaxis, :])\n",
    "    Cor = Sigma / normalization_factor\n",
    "    return Cor\n",
    "\n",
    "#相関行列から分散共分散行列に変換する関数\n",
    "def covmatrix(Cor, sigma_lower, sigma_upper):\n",
    "    sigma = (sigma_upper - sigma_lower) * rand(np.diag(Cor).shape[0]) + sigma_lower\n",
    "    sigma_factor = np.dot(sigma[:, np.newaxis], sigma[np.newaxis, :])\n",
    "    Cov = Cor * sigma_factor\n",
    "    return Cov\n",
    "\n",
    "#分散共分散行列から相関行列に変換する関数\n",
    "def cov2cor(Cov):\n",
    "    D = np.diag(np.power(np.diag(Cov), -1/2))\n",
    "    corr = np.dot(np.dot(D, Cov), D)\n",
    "    return corr"
   ]
  },
  {
   "cell_type": "code",
   "execution_count": 46,
   "metadata": {},
   "outputs": [],
   "source": [
    "####データの生成####\n",
    "##データの設定\n",
    "weeks = 7\n",
    "k = 10\n",
    "place = 3000\n",
    "category = 150\n",
    "max_m = 5\n",
    "m = np.random.poisson(1.5, place)\n",
    "m[m==0] = 1; m[m > max_m] = max_m \n",
    "Lambda = np.random.gamma(75, 1/0.5, place)\n",
    "pt = np.random.poisson(Lambda, place)\n",
    "N = np.sum(pt)"
   ]
  },
  {
   "cell_type": "code",
   "execution_count": 47,
   "metadata": {},
   "outputs": [],
   "source": [
    "##idとインデックスを作成\n",
    "#idの作成\n",
    "d_id = np.repeat(np.arange(place), pt)\n",
    "pt_id = np.array(list(itertools.chain(*[np.array(range(pt[i]), dtype=\"int\") for i in range(place)])))\n",
    "\n",
    "#インデックスの設定\n",
    "d_list = [i for i in range(place)]\n",
    "for i in range(place):\n",
    "    d_list[i] = np.array(np.where(d_id==i)[0], dtype=\"int\")"
   ]
  },
  {
   "cell_type": "code",
   "execution_count": 48,
   "metadata": {},
   "outputs": [],
   "source": [
    "##カテゴリー割当を定義\n",
    "#トピックを生成\n",
    "s = 30\n",
    "prob = np.random.dirichlet(np.repeat(0.75, s), 1).reshape(-1)\n",
    "phi = np.random.dirichlet(np.repeat(0.5, category), s)\n",
    "z = np.dot(np.random.multinomial(1, prob, N), np.arange(s))\n",
    "\n",
    "#多項分布からカテゴリーを生成\n",
    "category_id = np.full((place, max_m), category)\n",
    "for i in range(place):\n",
    "    while True:\n",
    "        generate = np.random.multinomial(m[i], phi[z[i], ], 1)\n",
    "        if np.max(generate)==1:\n",
    "            new_generate = generate * np.arange(category)\n",
    "            category_id[i, np.arange(m[i])] = new_generate[generate > 0]\n",
    "            break"
   ]
  },
  {
   "cell_type": "code",
   "execution_count": 52,
   "metadata": {},
   "outputs": [],
   "source": []
  },
  {
   "cell_type": "code",
   "execution_count": 54,
   "metadata": {},
   "outputs": [
    {
     "data": {
      "text/plain": [
       "array([[ 97, 140, 150, 150, 150],\n",
       "       [111, 150, 150, 150, 150],\n",
       "       [108, 110, 135, 150, 150],\n",
       "       ...,\n",
       "       [ 69, 150, 150, 150, 150],\n",
       "       [ 13, 150, 150, 150, 150],\n",
       "       [ 30, 123, 150, 150, 150]])"
      ]
     },
     "execution_count": 54,
     "metadata": {},
     "output_type": "execute_result"
    }
   ],
   "source": [
    "category_id"
   ]
  },
  {
   "cell_type": "code",
   "execution_count": 41,
   "metadata": {},
   "outputs": [
    {
     "data": {
      "text/plain": [
       "array([[150, 150, 150, 150, 150],\n",
       "       [150, 150, 150, 150, 150],\n",
       "       [150, 150, 150, 150, 150],\n",
       "       ...,\n",
       "       [150, 150, 150, 150, 150],\n",
       "       [150, 150, 150, 150, 150],\n",
       "       [150, 150, 150, 150, 150]])"
      ]
     },
     "execution_count": 41,
     "metadata": {},
     "output_type": "execute_result"
    }
   ],
   "source": [
    "category_id"
   ]
  }
 ],
 "metadata": {
  "kernelspec": {
   "display_name": "Python 3",
   "language": "python",
   "name": "python3"
  },
  "language_info": {
   "codemirror_mode": {
    "name": "ipython",
    "version": 3
   },
   "file_extension": ".py",
   "mimetype": "text/x-python",
   "name": "python",
   "nbconvert_exporter": "python",
   "pygments_lexer": "ipython3",
   "version": "3.7.3"
  }
 },
 "nbformat": 4,
 "nbformat_minor": 2
}
