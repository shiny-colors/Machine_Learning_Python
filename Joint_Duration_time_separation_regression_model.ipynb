{
 "cells": [
  {
   "cell_type": "code",
   "execution_count": 2,
   "metadata": {},
   "outputs": [],
   "source": [
    "####Joint Duration time separation regression model####\n",
    "import numpy as np\n",
    "import pandas as pd\n",
    "import matplotlib.pyplot  as plt\n",
    "import numpy.matlib\n",
    "import scipy.linalg\n",
    "import itertools\n",
    "import math\n",
    "from scipy import sparse\n",
    "from scipy.stats import norm\n",
    "from pandas.tools.plotting import scatter_matrix\n",
    "from numpy.random import *\n",
    "from scipy import optimize\n",
    "\n",
    "#np.random.seed(98537)"
   ]
  },
  {
   "cell_type": "code",
   "execution_count": 3,
   "metadata": {},
   "outputs": [],
   "source": [
    "##任意の相関行列(分散共分散行列)を作成する関数\n",
    "#任意の相関行列を作る関数\n",
    "def CorM(col, lower, upper, eigen_lower, eigen_upper):\n",
    "    #相関行列の初期値を定義する\n",
    "    cov_vec = np.random.uniform(lower, upper, col*col)   #相関係数の乱数ベクトルを作成\n",
    "    rho = np.tril(cov_vec.reshape(col, col), k=-1)   #乱数ベクトルを下三角行列化\n",
    "    Sigma = (rho + rho.T) + np.diag(np.repeat(1, col))   #対角成分を1にする\n",
    "    \n",
    "    #相関行列を正定値行列に変更\n",
    "    #固有値分解を実行\n",
    "    eigen = np.linalg.eigh(Sigma)\n",
    "    eigen_val = eigen[0] \n",
    "    eigen_vec = eigen[1]\n",
    "    \n",
    "    #固有値が負の数値を正にする\n",
    "    for i in range(col):\n",
    "        if eigen_val[i] < 0:\n",
    "            eigen_val[i] = np.random.uniform(eigen_lower, eigen_upper, 1)\n",
    "            \n",
    "    #新しい相関行列の定義と対角成分を1にする\n",
    "    Sigma = np.dot(np.dot(eigen_vec, np.diag(eigen_val)), eigen_vec.T)\n",
    "    normalization_factor = np.dot(np.power(np.diag(Sigma), 0.5)[:, np.newaxis], np.power(np.diag(Sigma), 0.5)[np.newaxis, :])\n",
    "    Cor = Sigma / normalization_factor\n",
    "    return Cor\n",
    "\n",
    "#相関行列から分散共分散行列に変換する関数\n",
    "def covmatrix(Cor, sigma_lower, sigma_upper):\n",
    "    sigma = (sigma_upper - sigma_lower) * rand(np.diag(Cor).shape[0]) + sigma_lower\n",
    "    sigma_factor = np.dot(sigma[:, np.newaxis], sigma[np.newaxis, :])\n",
    "    Cov = Cor * sigma_factor\n",
    "    return Cov\n",
    "\n",
    "#分散共分散行列から相関行列に変換する関数\n",
    "def cov2cor(Cov):\n",
    "    D = np.diag(np.power(np.diag(Cov), -1/2))\n",
    "    corr = np.dot(np.dot(D, Cov), D)\n",
    "    return corr"
   ]
  },
  {
   "cell_type": "code",
   "execution_count": null,
   "metadata": {},
   "outputs": [],
   "source": []
  },
  {
   "cell_type": "code",
   "execution_count": null,
   "metadata": {},
   "outputs": [],
   "source": []
  },
  {
   "cell_type": "code",
   "execution_count": null,
   "metadata": {},
   "outputs": [],
   "source": []
  }
 ],
 "metadata": {
  "kernelspec": {
   "display_name": "Python 3",
   "language": "python",
   "name": "python3"
  },
  "language_info": {
   "codemirror_mode": {
    "name": "ipython",
    "version": 3
   },
   "file_extension": ".py",
   "mimetype": "text/x-python",
   "name": "python",
   "nbconvert_exporter": "python",
   "pygments_lexer": "ipython3",
   "version": "3.6.5"
  }
 },
 "nbformat": 4,
 "nbformat_minor": 2
}
