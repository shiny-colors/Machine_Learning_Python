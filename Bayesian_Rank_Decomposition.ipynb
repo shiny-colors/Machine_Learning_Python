{
 "cells": [
  {
   "cell_type": "code",
   "execution_count": 3,
   "metadata": {},
   "outputs": [],
   "source": [
    "#####Bayesian Rank Decomposition#####\n",
    "import numpy as np\n",
    "import pandas as pd\n",
    "import matplotlib.pyplot  as plt\n",
    "import numpy.matlib\n",
    "import scipy.linalg\n",
    "import itertools\n",
    "import seaborn as sns\n",
    "from scipy import sparse\n",
    "from scipy.stats import norm\n",
    "from pandas.tools.plotting import scatter_matrix\n",
    "from numpy.random import *\n",
    "from scipy import optimize\n",
    "\n",
    "#np.random.seed(98537)"
   ]
  },
  {
   "cell_type": "code",
   "execution_count": 10,
   "metadata": {},
   "outputs": [],
   "source": [
    "##多項分布の乱数を生成する関数\n",
    "def rmnom(pr, n, k, no, pattern):\n",
    "    z_id = np.argmax((np.cumsum(pr, axis=1) >= np.random.uniform(0, 1, n)[:, np.newaxis]), axis=1)\n",
    "    if pattern==1:\n",
    "        Z = sparse.coo_matrix((np.repeat(1, n), (no, np.array(z_id))), shape=(n, k))   #スパース行列の設定\n",
    "        return z_id, Z\n",
    "    return z_id"
   ]
  },
  {
   "cell_type": "code",
   "execution_count": 29,
   "metadata": {},
   "outputs": [],
   "source": [
    "####データの発生####\n",
    "##データの設定\n",
    "k = 10\n",
    "select = 10\n",
    "hh = 5000\n",
    "member = 250\n",
    "Lambda = np.random.gamma(30, 1/0.3, hh)\n",
    "pt = np.random.poisson(Lambda, hh); pt[pt > member] = member\n",
    "hhpt = np.sum(pt)"
   ]
  },
  {
   "cell_type": "code",
   "execution_count": 33,
   "metadata": {},
   "outputs": [],
   "source": [
    "##idとインデックスの設定\n",
    "#idの設定\n",
    "user_id = np.repeat(np.arange(hh), np.repeat(member, hh))\n",
    "member_id = np.tile(np.arange(member), hh)\n",
    "\n",
    "#インデックスの設定\n",
    "user_list = [i for i in range(hh)]\n",
    "member_list = [j for j in range(member)]\n",
    "for i in range(hh):\n",
    "    user_list[i] = np.array(np.where(user_id==i)[0], dtype=\"int\")\n",
    "for j in range(member):\n",
    "    member_list[j] = np.array(np.where(member_id==j)[0], dtype=\"int\")"
   ]
  },
  {
   "cell_type": "code",
   "execution_count": 60,
   "metadata": {},
   "outputs": [],
   "source": [
    "##応答変数を生成\n",
    "#ユーザーの説明変数を生成\n",
    "k1 = 4; k2 = 3; k3 = 4\n",
    "u1 = np.array(np.random.random(hh*k1)).reshape((hh, k1))\n",
    "u2 = np.zeros((hh, k2))\n",
    "for j in range(k2):\n",
    "    prob = np.random.uniform(0.25, 0.55, 1)\n",
    "    u2[:, j] = np.random.binomial(1, prob, hh)\n",
    "u3 = np.random.multinomial(1, np.random.dirichlet(np.repeat(3.0, k3), 1).reshape(k3), hh)\n",
    "u3 = np.delete(u3, np.argmin(np.sum(u3, axis=0)), axis=1)   #冗長な変数の削除\n",
    "u = np.concatenate((np.repeat(1, hh)[:, np.newaxis], u1, u2, u3), axis=1)\n",
    "column = u.shape[1]\n",
    "\n",
    "#階層モデルのパラメータ\n",
    "alpha_u = np.random.normal(0, 0.4, column*k).reshape(column, k)\n",
    "alpha_v = np.repeat(0.0, k)\n",
    "Cov_u = np.diag(np.repeat(0.2, k))\n",
    "Cov_v = np.diag(np.repeat(0.6, k))\n",
    "alphat = alpha.copy(); Covt = Cov.copy()\n",
    "\n",
    "#モデルパラメータを生成\n",
    "beta = np.random.normal(0.5, 1.25, member-1)\n",
    "theta_u = np.dot(u, alpha) + np.random.multivariate_normal(np.repeat(0, k), Cov, hh)\n",
    "theta_v = np.random.multivariate_normal(alpha_v, Cov_v, member)\n",
    "betat = beta.copy(); thetat_u = theta_u.copy(); thetat_v = theta_v.copy()\n",
    "\n",
    "#全パターンの潜在効用と応答確率を定義\n",
    "logit = np.append(beta, 0) + np.dot(theta_u, theta_v.T)\n",
    "logit_exp = np.exp(logit)\n",
    "Prob = logit_exp / np.sum(logit_exp, axis=1)[:, np.newaxis]"
   ]
  },
  {
   "cell_type": "code",
   "execution_count": 61,
   "metadata": {},
   "outputs": [],
   "source": [
    "\n"
   ]
  },
  {
   "cell_type": "code",
   "execution_count": 62,
   "metadata": {},
   "outputs": [
    {
     "data": {
      "text/plain": [
       "(array([ 560., 1502., 1218.,  782.,  466.,  247.,  129.,   61.,   28.,\n",
       "           7.]),\n",
       " array([0.06205539, 0.14731896, 0.23258254, 0.31784611, 0.40310968,\n",
       "        0.48837325, 0.57363682, 0.6589004 , 0.74416397, 0.82942754,\n",
       "        0.91469111]),\n",
       " <a list of 10 Patch objects>)"
      ]
     },
     "execution_count": 62,
     "metadata": {},
     "output_type": "execute_result"
    },
    {
     "data": {
      "image/png": "[encoded data removed]",
      "text/plain": [
       "<Figure size 432x288 with 1 Axes>"
      ]
     },
     "metadata": {},
     "output_type": "display_data"
    }
   ],
   "source": []
  },
  {
   "cell_type": "code",
   "execution_count": null,
   "metadata": {},
   "outputs": [],
   "source": []
  }
 ],
 "metadata": {
  "kernelspec": {
   "display_name": "Python 3",
   "language": "python",
   "name": "python3"
  },
  "language_info": {
   "codemirror_mode": {
    "name": "ipython",
    "version": 3
   },
   "file_extension": ".py",
   "mimetype": "text/x-python",
   "name": "python",
   "nbconvert_exporter": "python",
   "pygments_lexer": "ipython3",
   "version": "3.6.5"
  }
 },
 "nbformat": 4,
 "nbformat_minor": 2
}
