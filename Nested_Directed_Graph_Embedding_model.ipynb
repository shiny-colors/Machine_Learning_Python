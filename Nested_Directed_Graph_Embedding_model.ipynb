{
 "cells": [
  {
   "cell_type": "code",
   "execution_count": 6,
   "metadata": {},
   "outputs": [],
   "source": [
    "#####Nested Directed Graph Embedding model#####\n",
    "import numpy as np\n",
    "import pandas as pd\n",
    "import matplotlib.pyplot  as plt\n",
    "import numpy.matlib\n",
    "import scipy.linalg\n",
    "import itertools\n",
    "from scipy import sparse\n",
    "from scipy.stats import norm\n",
    "from pandas.tools.plotting import scatter_matrix\n",
    "from numpy.random import *\n",
    "from scipy import optimize\n",
    "\n",
    "#np.random.seed(98537)"
   ]
  },
  {
   "cell_type": "code",
   "execution_count": 7,
   "metadata": {},
   "outputs": [],
   "source": [
    "##多項分布の乱数を生成する関数\n",
    "def rmnom(pr, n, k, no, pattern):\n",
    "    z_id = np.argmax((np.cumsum(pr, axis=1) >= np.random.uniform(0, 1, n)[:, np.newaxis]), axis=1)\n",
    "    return z_id\n",
    "    if pattern==1:\n",
    "        Z = sparse.coo_matrix((np.repeat(1, n), (no, np.array(z_id))), shape=(n, k))   #スパース行列の設定\n",
    "        return z_id, Z"
   ]
  },
  {
   "cell_type": "code",
   "execution_count": 9,
   "metadata": {},
   "outputs": [],
   "source": [
    "####データの生成####\n",
    "##データの設定\n",
    "k1 = 10\n",
    "k2 = 10\n",
    "factor1 = 5000\n",
    "factor2 = 3000\n",
    "Lambda = np.random.gamma(20.0, 1/0.2, factor1)\n",
    "pt = np.random.poisson(Lambda, factor1)\n",
    "N = np.sum(pt)"
   ]
  },
  {
   "cell_type": "code",
   "execution_count": 10,
   "metadata": {},
   "outputs": [],
   "source": [
    "##IDとインデックスの作成\n",
    "#IDの作成\n",
    "d_id1 = np.repeat(np.arange(factor1), pt)\n",
    "pt_id = np.array(list(itertools.chain(*[np.array(range(pt1[i]), dtype=\"int\") for i in range(factor1)])))\n",
    "\n",
    "#インデックスの作成\n",
    "d_list1 = [i for i in range(factor1)]\n",
    "for i in range(factor1):\n",
    "    d_list1[i] = np.array(np.where(d_id1==i)[0], dtype=\"int\")"
   ]
  },
  {
   "cell_type": "code",
   "execution_count": 11,
   "metadata": {},
   "outputs": [
    {
     "name": "stdout",
     "output_type": "stream",
     "text": [
      "0\n",
      "1000\n",
      "2000\n",
      "3000\n",
      "4000\n"
     ]
    }
   ],
   "source": [
    "##factorの割当を生成\n",
    "#トピック割当を生成\n",
    "topic = 25\n",
    "phi = np.random.dirichlet(np.repeat(0.5, factor2), topic)\n",
    "theta = np.random.dirichlet(np.repeat(0.5, topic), factor1)\n",
    "z = np.dot(np.array([np.random.multinomial(1, theta[i, :], 1) for i in range(factor1)]).reshape(factor1, topic), range(topic))\n",
    "\n",
    "#多項分布からアイテムを生成\n",
    "d_id2 = np.zeros(N, dtype='int')\n",
    "for i in range(factor1):\n",
    "    if i%1000==0:\n",
    "        print(i)\n",
    "    d_id2[d_list1[i]] = np.dot(np.random.multinomial(1, phi[z[i], :], pt[i]), range(factor2))\n",
    "    \n",
    "#インデックスの作成\n",
    "d_list2 = [i for i in range(factor2)]\n",
    "pt2 = np.repeat(0, factor2)\n",
    "for i in range(factor2):\n",
    "    d_list2[i] = np.array(np.where(d_id2==i)[0], dtype=\"int\")\n",
    "    pt2[i] = d_list2[i].shape[0]"
   ]
  },
  {
   "cell_type": "code",
   "execution_count": 12,
   "metadata": {
    "scrolled": true
   },
   "outputs": [
    {
     "name": "stdout",
     "output_type": "stream",
     "text": [
      "1\n",
      "2\n",
      "3\n",
      "4\n",
      "5\n",
      "6\n",
      "7\n"
     ]
    }
   ],
   "source": [
    "####応答変数の生成####\n",
    "per_min = 100; per_max = 100\n",
    "rp = 0\n",
    "while True:\n",
    "    rp = rp + 1\n",
    "    print(rp)\n",
    "    \n",
    "    ##パラメータの生成\n",
    "    #階層モデルの事前分布のパラメータ\n",
    "    alpha1 = np.repeat(0.0, k1)\n",
    "    alpha21 = np.repeat(1.0, k2)\n",
    "    alpha22 = np.repeat(0.0, k2)\n",
    "    Cov_v1 = np.diag(np.repeat(0.3, k1))\n",
    "    Cov_v2 = np.diag(np.repeat(0.3, k1))\n",
    "    tau1 = np.array([0.5])\n",
    "    tau2 = np.array([0.5])\n",
    "    Covt_v1 = Cov_v1.copy(); Covt_v2 = Cov_v2.copy()\n",
    "    taut1 = tau1.copy(); taut2 = tau2.copy()\n",
    "    \n",
    "    #モデルパラメータを生成\n",
    "    beta = np.array([-1.0])\n",
    "    theta_v11 = np.random.multivariate_normal(alpha1, Cov_v1, factor1)\n",
    "    theta_v12 = np.random.multivariate_normal(alpha1, Cov_v1, factor1)\n",
    "    theta_v21 = np.random.multivariate_normal(alpha21, Cov_v2, factor2)\n",
    "    theta_v22 = np.random.multivariate_normal(alpha22, Cov_v2, factor2)\n",
    "    omega1 = np.random.normal(0, tau1, k1*k2).reshape(k1, k2)\n",
    "    omega2 = np.random.normal(0, tau2, k1*k2).reshape(k1, k2)\n",
    "    Sigma = np.array([1.0])\n",
    "    betat = beta.copy()\n",
    "    thetat_v11 = theta_v11.copy(); thetat_v12 = theta_v12.copy()\n",
    "    thetat_v21 = theta_v21.copy(); thetat_v22 = theta_v22.copy()\n",
    "    omegat1 = omega1.copy(); omegat2 = omega2.copy()\n",
    "\n",
    "    ##正規分布から潜在変数を生成\n",
    "    #モデルの期待値\n",
    "    nested_uv = np.dot(theta_v11, omega1)[d_id1, ] * theta_v21[d_id2, ]\n",
    "    uv1 = np.sum(np.dot(nested_uv, omega2) * theta_v12[d_id1, ], axis=1)\n",
    "    uv2 = np.sum(np.dot(nested_uv, omega2) * theta_v22[d_id2, ], axis=1)\n",
    "    mu1 = beta + uv1; mu2 = beta + uv2\n",
    "\n",
    "    #潜在変数の生成と二値変数への変換\n",
    "    U1 = np.random.normal(mu1, Sigma, N)\n",
    "    U2 = np.random.normal(mu2, Sigma, N)\n",
    "    y1 = (U1 >= 0)*1 + (U1 < 0)*0; y2 = (U2 >= 0)*1 + (U2 < 0)*0\n",
    "    Prob1 = norm.cdf(mu1, 0, Sigma); Prob2 = norm.cdf(mu2, 0, Sigma)\n",
    "\n",
    "    #break条件\n",
    "    if ((np.mean(y1) > 0.2) & (np.mean(y1) < 0.4) & (np.mean(y2) > 0.2) & (np.mean(y2) < 0.4) &\n",
    "        (np.sum(U1 <= -7.5) < N/per_min) & (np.sum(U1 > 7.5) < N/per_max) & \n",
    "        (np.sum(U2 <= -7.5) < N/per_min) & (np.sum(U2 > 7.5) < N/per_max)):\n",
    "            break"
   ]
  },
  {
   "cell_type": "code",
   "execution_count": 13,
   "metadata": {},
   "outputs": [],
   "source": [
    "#応答変数をリストに格納\n",
    "mu = [mu1, mu2]\n",
    "U = [U1, U2]\n",
    "y = [y1, y2]\n",
    "Prob = [Prob1, Prob2]"
   ]
  },
  {
   "cell_type": "code",
   "execution_count": 14,
   "metadata": {},
   "outputs": [
    {
     "data": {
      "image/png": "[encoded data removed]",
      "text/plain": [
       "<Figure size 864x432 with 6 Axes>"
      ]
     },
     "metadata": {},
     "output_type": "display_data"
    }
   ],
   "source": [
    "#潜在変数ごとのヒストグラム\n",
    "dt = [U1, U2, Prob1, Prob2, uv1, uv2]\n",
    "fig_range = np.append(np.array([np.min(U1), np.min(U2), 0, 0, np.min(uv1), np.min(uv2)]), \n",
    "                      np.array([np.max(U1), np.max(U2), 1.0, 1.0, np.max(uv1), np.max(uv2)])).reshape(2, len(dt))\n",
    "colorlist = [\"r\", \"g\", \"b\", \"c\", \"m\", \"y\", \"k\", \"w\"]\n",
    "legend = [\"潜在効用の分布1\", \"潜在変数の分布2\", \"応答確率の分布1\", \"応答変数の分布2\", \"uvの分布1\", \"uvの分布2\"]\n",
    "fig = plt.figure(figsize=(12.0, 6.0))\n",
    "for j in range(len(dt)):\n",
    "    ax = fig.add_subplot(2, 3, j+1)\n",
    "    ax.hist(dt[j],  bins=25, range=(fig_range[0, j], fig_range[1, j]), color=colorlist[j])\n",
    "    plt.title(legend[j], fontsize=12.5)\n",
    "fig.tight_layout()\n",
    "plt.show()"
   ]
  },
  {
   "cell_type": "code",
   "execution_count": 15,
   "metadata": {},
   "outputs": [],
   "source": [
    "####Nested Directed Graph Embedding modelを推定####\n",
    "##切断正規分布の乱数を発生させる関数\n",
    "def rtnorm(mu, sigma, a, b, n):\n",
    "    FA = norm.cdf(a, mu, sigma)\n",
    "    FB = norm.cdf(b, mu, sigma)\n",
    "    return norm.ppf(np.random.uniform(0, 1, n)*(FB-FA)+FA, mu, sigma)"
   ]
  },
  {
   "cell_type": "code",
   "execution_count": 16,
   "metadata": {},
   "outputs": [],
   "source": [
    "##アルゴリズムの設定\n",
    "k = 10\n",
    "R = 2000\n",
    "keep = 2\n",
    "burnin = int(500/keep)\n",
    "iter = 0\n",
    "disp = 10\n",
    "target_iter = 50"
   ]
  },
  {
   "cell_type": "code",
   "execution_count": 17,
   "metadata": {},
   "outputs": [],
   "source": [
    "##データの設定\n",
    "#切断領域を定義\n",
    "type_n = 2\n",
    "rho = 100.0\n",
    "y = np.append(y1, y2)\n",
    "a1 = np.array((1-y1)*(-rho) + y1*0)\n",
    "b1 = np.array(y1*rho + (1-y1)*0)\n",
    "a2 = np.array((1-y2)*(-rho) + y2*0)\n",
    "b2 = np.array(y2*rho + (1-y2)*0)\n",
    "\n",
    "#特徴行列の割当インデックス\n",
    "allocation1 = np.repeat(np.arange(k2), k2)\n",
    "allocation2 = np.tile(np.arange(k2), k2)\n",
    "allocation_u = np.repeat(np.arange(k1), k2)\n",
    "allocation_v = np.tile(np.arange(k2), k1)"
   ]
  },
  {
   "cell_type": "code",
   "execution_count": 18,
   "metadata": {},
   "outputs": [],
   "source": [
    "##事前分布の設定\n",
    "#階層モデルの事前分布\n",
    "alpha1 = np.repeat(0.0, k1)\n",
    "alpha21 = np.repeat(1.0, k2)\n",
    "alpha22 = np.repeat(0.0, k2)\n",
    "V1 = 0.1 * np.diag(np.ones(k1))\n",
    "V2 = 0.1 * np.diag(np.ones(k2))\n",
    "nu = 1.0\n",
    "\n",
    "#モデルパラメータの事前分布\n",
    "tau = 100 \n",
    "s02 = 1.0\n",
    "v02 = 1.0"
   ]
  },
  {
   "cell_type": "code",
   "execution_count": 19,
   "metadata": {},
   "outputs": [],
   "source": [
    "##パラメータの真値\n",
    "#階層モデルのパラメータの真値\n",
    "Cov_v11 = Covt_v1.copy(); inv_Cov_v11 = np.linalg.inv(Cov_v11)\n",
    "Cov_v12 = Covt_v1.copy(); inv_Cov_v12 = np.linalg.inv(Cov_v12)\n",
    "Cov_v21 = Covt_v2.copy(); inv_Cov_v21 = np.linalg.inv(Cov_v21)\n",
    "Cov_v22 = Covt_v1.copy(); inv_Cov_v22 = np.linalg.inv(Cov_v22)\n",
    "tau1 = taut1.copy()\n",
    "tau2 = taut2.copy()\n",
    "\n",
    "#モデルパラメータの真値\n",
    "Sigma = np.array([1.0])\n",
    "beta = betat.copy()\n",
    "theta_v11 = thetat_v11.copy()\n",
    "theta_v12 = thetat_v12.copy()\n",
    "theta_v21 = thetat_v21.copy()\n",
    "theta_v22 = thetat_v22.copy()\n",
    "omega1 = omegat1.copy()\n",
    "omega2 = omegat2.copy()\n",
    "\n",
    "#モデルの期待値\n",
    "nested_uv = np.dot(theta_v11, omega1)[d_id1, ] * theta_v21[d_id2, ]\n",
    "uv1 = np.sum(np.dot(nested_uv, omega2) * theta_v12[d_id1, ], axis=1)\n",
    "uv2 = np.sum(np.dot(nested_uv, omega2) * theta_v22[d_id2, ], axis=1)\n",
    "mu1 = beta + uv1; mu2 = beta + uv2"
   ]
  },
  {
   "cell_type": "code",
   "execution_count": 20,
   "metadata": {},
   "outputs": [],
   "source": [
    "##パラメータの格納用配列\n",
    "#階層モデルの格納用配列\n",
    "COV_V11 = np.zeros((k1, k1, int(R/keep)))\n",
    "COV_V12 = np.zeros((k1, k1, int(R/keep)))\n",
    "COV_V21 = np.zeros((k2, k2, int(R/keep)))\n",
    "COV_V22 = np.zeros((k2, k2, int(R/keep)))\n",
    "\n",
    "#モデルパラメータの格納用配列\n",
    "BETA = np.repeat(0.0, int(R/keep))\n",
    "THETA_V11 = np.zeros((factor1, k1, int(R/keep)))\n",
    "THETA_V12 = np.zeros((factor1, k1, int(R/keep)))\n",
    "THETA_V21 = np.zeros((factor2, k1, int(R/keep)))\n",
    "THETA_V22 = np.zeros((factor2, k1, int(R/keep)))\n",
    "OMEGA1 = np.zeros((k1, k2, int(R/keep)))\n",
    "OMEGA2 = np.zeros((k1, k2, int(R/keep)))"
   ]
  },
  {
   "cell_type": "code",
   "execution_count": 21,
   "metadata": {},
   "outputs": [],
   "source": [
    "####ギブスサンプリングでパラメータをサンプリング####\n",
    "##切断正規分布から潜在効用を生成\n",
    "#モデルの期待値\n",
    "nested_uv = np.dot(theta_v11, omega1)[d_id1, ] * theta_v21[d_id2, ]\n",
    "uv1 = np.sum(np.dot(nested_uv, omega2) * theta_v12[d_id1, ], axis=1)\n",
    "uv2 = np.sum(np.dot(nested_uv, omega2) * theta_v22[d_id2, ], axis=1)\n",
    "mu1 = beta + uv1; mu2 = beta + uv2\n",
    "uv = np.append(uv1, uv2); mu = np.append(mu1, mu2)\n",
    "\n",
    "#潜在変数を生成\n",
    "U1 = np.array(rtnorm(mu1, Sigma, a1, b1, N))\n",
    "U2 = np.array(rtnorm(mu2, Sigma, a2, b2, N))\n",
    "U = np.append(U1, U2)"
   ]
  },
  {
   "cell_type": "code",
   "execution_count": 22,
   "metadata": {},
   "outputs": [],
   "source": [
    "##モデルパラメータのサンプリング\n",
    "#モデル誤差を定義\n",
    "er_y = U - uv\n",
    "\n",
    "#正規分布から事後分布をサンプリング\n",
    "weights = tau / (Sigma/(2*N) + tau)\n",
    "mu_par = weights * np.mean(er_y)\n",
    "beta = np.random.normal(mu_par, weights*Sigma/(2*N), 1)"
   ]
  },
  {
   "cell_type": "code",
   "execution_count": null,
   "metadata": {},
   "outputs": [],
   "source": []
  }
 ],
 "metadata": {
  "kernelspec": {
   "display_name": "Python 3",
   "language": "python",
   "name": "python3"
  },
  "language_info": {
   "codemirror_mode": {
    "name": "ipython",
    "version": 3
   },
   "file_extension": ".py",
   "mimetype": "text/x-python",
   "name": "python",
   "nbconvert_exporter": "python",
   "pygments_lexer": "ipython3",
   "version": "3.6.5"
  }
 },
 "nbformat": 4,
 "nbformat_minor": 2
}
