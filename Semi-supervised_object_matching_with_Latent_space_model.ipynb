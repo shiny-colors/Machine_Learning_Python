{
 "cells": [
  {
   "cell_type": "code",
   "execution_count": 1,
   "metadata": {},
   "outputs": [
    {
     "data": {
      "text/plain": [
       "<torch._C.Generator at 0x1d3128f6d70>"
      ]
     },
     "execution_count": 1,
     "metadata": {},
     "output_type": "execute_result"
    }
   ],
   "source": [
    "# ライブラリの読み込み\n",
    "import numpy as np\n",
    "import pandas as pd\n",
    "import matplotlib.pyplot  as plt\n",
    "import numpy.matlib\n",
    "import scipy.linalg\n",
    "import itertools\n",
    "import seaborn as sns\n",
    "import torch\n",
    "import torch.nn as nn\n",
    "import torch.optim as optimizers\n",
    "from scipy.stats import norm\n",
    "from numpy.random import *\n",
    "from scipy import optimize\n",
    "\n",
    "np.random.seed(9837)\n",
    "torch.manual_seed(9837)"
   ]
  },
  {
   "cell_type": "code",
   "execution_count": null,
   "metadata": {},
   "outputs": [],
   "source": [
    "# 多項分布の乱数を生成する関数\n",
    "def rmnom(pr, n, k, pattern):\n",
    "    if pattern==1:\n",
    "        z_id = np.array(np.argmax(np.cumsum(pr, axis=1) >= np.random.uniform(0, 1, n)[:, np.newaxis], axis=1), dtype=\"int\")\n",
    "        Z = np.diag(np.repeat(1, k))[z_id, ]\n",
    "        return z_id, Z\n",
    "    z_id = np.array(np.argmax((np.cumsum(pr, axis=1) >= np.random.uniform(0, 1, n)[:, np.newaxis]), axis=1), dtype=\"int\")\n",
    "    return z_id\n",
    "\n",
    "# 切断ポアソン分布を生成する関数\n",
    "def rtpois(mu, a, b, n, flag=0):\n",
    "    FA = scipy.stats.poisson.cdf(a, mu)\n",
    "    FB = scipy.stats.poisson.cdf(b, mu)\n",
    "    x = np.array(scipy.stats.poisson.ppf(np.random.uniform(0, 1, n)*(FB-FA)+FA, mu), dtype=\"int\")\n",
    "    if flag==1:\n",
    "        x = torch.Tensor(x)\n",
    "    return x\n",
    "\n",
    "# 切断ポアソン分布を高速で生成する関数\n",
    "def rtpois_lw(mu, a, b, N, flag=0):\n",
    "    x = np.random.poisson(mu, N)\n",
    "    index = np.where(x==0)[0]\n",
    "    x[index] = rtpois(mu[index], a, b, index.shape[0], 0)\n",
    "    if flag==1:\n",
    "        x = torch.Tensor(x)\n",
    "    return x\n",
    "\n",
    "# ガンマ分布を生成する関数\n",
    "def Gamma(w1, w2, flag=0):\n",
    "    x = np.random.gamma(w1, w2)\n",
    "    if flag==1:\n",
    "        x = torch.Tensor(x)\n",
    "    return x"
   ]
  },
  {
   "cell_type": "markdown",
   "metadata": {},
   "source": [
    "# 学習データの生成"
   ]
  },
  {
   "cell_type": "code",
   "execution_count": null,
   "metadata": {},
   "outputs": [],
   "source": [
    "# データの生成\n",
    "# データの定義\n",
    "modes = 3   #モード数\n",
    "k = 15\n",
    "d1 = 1500; d2 = 1500\n",
    "segment1 = 800; segment2 = 400; segment3 = 400 \n",
    "word1 = 1500; word2 = 750; word3 = 750\n",
    "d = d1 + d2\n",
    "segment = segment1 + segment2 + segment3 \n",
    "word = word1 + word2 + word3\n",
    "\n",
    "word = 3000\n",
    "\n",
    "Lambda = np.random.gamma(50.0, 1/0.2, hh)\n",
    "pt = np.random.poisson(Lambda, hh)   #モードあたりのレコード数\n",
    "N = np.sum(pt)\n",
    "k_vec = [np.repeat(1, k1), np.repeat(1, k2), np.repeat(1, k3)]"
   ]
  }
 ],
 "metadata": {
  "kernelspec": {
   "display_name": "Python 3",
   "language": "python",
   "name": "python3"
  },
  "language_info": {
   "codemirror_mode": {
    "name": "ipython",
    "version": 3
   },
   "file_extension": ".py",
   "mimetype": "text/x-python",
   "name": "python",
   "nbconvert_exporter": "python",
   "pygments_lexer": "ipython3",
   "version": "3.7.3"
  }
 },
 "nbformat": 4,
 "nbformat_minor": 2
}
